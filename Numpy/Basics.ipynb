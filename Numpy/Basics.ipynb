{
 "cells": [
  {
   "cell_type": "markdown",
   "id": "fb2034c869adcb81",
   "metadata": {
    "id": "3c1808b540e5b7e8"
   },
   "source": [
    "# Numpy Basics"
   ]
  },
  {
   "cell_type": "markdown",
   "id": "a545b90a6462cf51",
   "metadata": {
    "id": "58c8c9e0ce41c3d4"
   },
   "source": [
    "## Installing Numpy"
   ]
  },
  {
   "cell_type": "code",
   "execution_count": 1,
   "id": "a2ca57511256a7cd",
   "metadata": {
    "colab": {
     "base_uri": "https://localhost:8080/"
    },
    "execution": {
     "iopub.execute_input": "2024-05-25T17:46:30.304452Z",
     "iopub.status.busy": "2024-05-25T17:46:30.304068Z",
     "iopub.status.idle": "2024-05-25T17:46:46.938267Z",
     "shell.execute_reply": "2024-05-25T17:46:46.936593Z",
     "shell.execute_reply.started": "2024-05-25T17:46:30.304422Z"
    },
    "id": "99dbe96ff15727d7",
    "outputId": "b57317e9-c49c-40ad-84f4-99a74a45c68c",
    "ExecuteTime": {
     "end_time": "2024-06-04T04:36:10.692316Z",
     "start_time": "2024-06-04T04:36:09.592626Z"
    }
   },
   "outputs": [
    {
     "name": "stdout",
     "output_type": "stream",
     "text": [
      "Requirement already satisfied: numpy in /opt/homebrew/anaconda3/envs/datalab/lib/python3.12/site-packages (1.26.4)\r\n"
     ]
    }
   ],
   "source": [
    "# using pip3\n",
    "! pip3 install numpy"
   ]
  },
  {
   "cell_type": "markdown",
   "id": "a8924c3d39a6ce62",
   "metadata": {
    "id": "7e65130d95bc097c"
   },
   "source": [
    "## Importing Numpy"
   ]
  },
  {
   "cell_type": "code",
   "execution_count": 2,
   "id": "dc7f8bd8301bfaee",
   "metadata": {
    "colab": {
     "base_uri": "https://localhost:8080/",
     "height": 36
    },
    "execution": {
     "iopub.execute_input": "2024-05-25T17:46:46.944560Z",
     "iopub.status.busy": "2024-05-25T17:46:46.943092Z",
     "iopub.status.idle": "2024-05-25T17:46:46.956399Z",
     "shell.execute_reply": "2024-05-25T17:46:46.954567Z",
     "shell.execute_reply.started": "2024-05-25T17:46:46.944514Z"
    },
    "id": "42be5a988a5c991c",
    "outputId": "a8caedf6-d575-4130-b395-6038803d8bc7",
    "ExecuteTime": {
     "end_time": "2024-06-04T04:36:10.872044Z",
     "start_time": "2024-06-04T04:36:10.696966Z"
    }
   },
   "outputs": [
    {
     "data": {
      "text/plain": "'1.26.4'"
     },
     "execution_count": 2,
     "metadata": {},
     "output_type": "execute_result"
    }
   ],
   "source": [
    "import numpy as np\n",
    "np.__version__"
   ]
  },
  {
   "cell_type": "markdown",
   "id": "80360a4cbdc397c",
   "metadata": {
    "id": "a61683c2d2b16f0a"
   },
   "source": [
    "## Numpy Array Restrictions\n",
    "\n",
    "- All elements of the array must be of the same type of data.\n",
    "- Once created, the total size of the array can’t change.\n",
    "- The shape must be “rectangular”, not “jagged”; e.g., each row of a two-dimensional array must have the same number of columns."
   ]
  },
  {
   "cell_type": "markdown",
   "id": "c8c1c4235810737c",
   "metadata": {
    "id": "24d3a7102bee6777"
   },
   "source": [
    "## Creating Numpy Arrays"
   ]
  },
  {
   "cell_type": "code",
   "execution_count": 3,
   "id": "4ee139f7360314bc",
   "metadata": {
    "colab": {
     "base_uri": "https://localhost:8080/"
    },
    "execution": {
     "iopub.execute_input": "2024-05-25T17:46:46.959109Z",
     "iopub.status.busy": "2024-05-25T17:46:46.958490Z",
     "iopub.status.idle": "2024-05-25T17:46:46.975951Z",
     "shell.execute_reply": "2024-05-25T17:46:46.974935Z",
     "shell.execute_reply.started": "2024-05-25T17:46:46.959060Z"
    },
    "id": "474c1b92d038d801",
    "outputId": "f604c885-3746-45a9-a414-fb343657c3d4",
    "ExecuteTime": {
     "end_time": "2024-06-04T04:36:10.876204Z",
     "start_time": "2024-06-04T04:36:10.872599Z"
    }
   },
   "outputs": [
    {
     "name": "stdout",
     "output_type": "stream",
     "text": [
      "[1 2 3]\n",
      "[[1 2 3]\n",
      " [4 5 6]]\n",
      "[[[ 1  2  3]\n",
      "  [ 4  5  6]]\n",
      "\n",
      " [[ 7  8  9]\n",
      "  [10 11 12]]]\n"
     ]
    }
   ],
   "source": [
    "# 1D Array\n",
    "a = np.array([1, 2, 3])\n",
    "print(a)\n",
    "# 2D Array\n",
    "b = np.array([[1, 2, 3], [4, 5, 6]])\n",
    "print(b)\n",
    "# 3D Array\n",
    "c = np.array([[[1, 2, 3], [4, 5, 6]], [[7, 8, 9], [10, 11, 12]]])\n",
    "print(c)"
   ]
  },
  {
   "cell_type": "markdown",
   "id": "b2d3a72eefd20f14",
   "metadata": {
    "id": "e6649fff38f0c0ac"
   },
   "source": [
    "### Creating Numpy Arrays with specific data types"
   ]
  },
  {
   "cell_type": "code",
   "execution_count": 4,
   "id": "cfccd0686309be8e",
   "metadata": {
    "colab": {
     "base_uri": "https://localhost:8080/"
    },
    "execution": {
     "iopub.execute_input": "2024-05-25T17:46:46.978677Z",
     "iopub.status.busy": "2024-05-25T17:46:46.977292Z",
     "iopub.status.idle": "2024-05-25T17:46:46.995273Z",
     "shell.execute_reply": "2024-05-25T17:46:46.994098Z",
     "shell.execute_reply.started": "2024-05-25T17:46:46.978619Z"
    },
    "id": "2b6da689acb7c65e",
    "outputId": "f1cf3045-b03f-4625-fcd5-369a72f788a1",
    "ExecuteTime": {
     "end_time": "2024-06-04T04:36:10.880352Z",
     "start_time": "2024-06-04T04:36:10.877808Z"
    }
   },
   "outputs": [
    {
     "name": "stdout",
     "output_type": "stream",
     "text": [
      "int64\n",
      "float64\n"
     ]
    }
   ],
   "source": [
    "a = np.array([1, 2, 3])\n",
    "b = np.array([3.0, 4.0, 5.0])\n",
    "print(a.dtype)\n",
    "print(b.dtype)"
   ]
  },
  {
   "cell_type": "code",
   "execution_count": 5,
   "id": "37b999c12f2efee9",
   "metadata": {
    "colab": {
     "base_uri": "https://localhost:8080/"
    },
    "execution": {
     "iopub.execute_input": "2024-05-25T17:46:46.999358Z",
     "iopub.status.busy": "2024-05-25T17:46:46.998035Z",
     "iopub.status.idle": "2024-05-25T17:46:47.017650Z",
     "shell.execute_reply": "2024-05-25T17:46:47.015973Z",
     "shell.execute_reply.started": "2024-05-25T17:46:46.999300Z"
    },
    "id": "7510d0896bddf9e5",
    "outputId": "0541dba7-4906-46f8-c525-f044c6a7e3e6",
    "ExecuteTime": {
     "end_time": "2024-06-04T04:36:10.882513Z",
     "start_time": "2024-06-04T04:36:10.880998Z"
    }
   },
   "outputs": [
    {
     "name": "stdout",
     "output_type": "stream",
     "text": [
      "[1 2 3]\n",
      "int16\n"
     ]
    }
   ],
   "source": [
    "a = np.array([1, 2, 3], dtype='int16')\n",
    "print(a)\n",
    "print(a.dtype)"
   ]
  },
  {
   "cell_type": "code",
   "execution_count": 6,
   "id": "e5785e21d57b635d",
   "metadata": {
    "colab": {
     "base_uri": "https://localhost:8080/"
    },
    "execution": {
     "iopub.execute_input": "2024-05-25T17:46:47.019771Z",
     "iopub.status.busy": "2024-05-25T17:46:47.019386Z",
     "iopub.status.idle": "2024-05-25T17:46:47.035591Z",
     "shell.execute_reply": "2024-05-25T17:46:47.034506Z",
     "shell.execute_reply.started": "2024-05-25T17:46:47.019739Z"
    },
    "id": "9ea14189e3e4dadf",
    "outputId": "1c3bd677-9a81-4e6c-9f92-a1cf2f42fb18",
    "ExecuteTime": {
     "end_time": "2024-06-04T04:36:10.885368Z",
     "start_time": "2024-06-04T04:36:10.883261Z"
    }
   },
   "outputs": [
    {
     "name": "stdout",
     "output_type": "stream",
     "text": [
      "[1. 2. 3.]\n",
      "float32\n"
     ]
    }
   ],
   "source": [
    "a = np.array([1, 2, 3], dtype='float32')\n",
    "print(a)\n",
    "print(a.dtype)"
   ]
  },
  {
   "cell_type": "markdown",
   "id": "50ce4ff7e3d1287a",
   "metadata": {
    "id": "3e571b57804bdac5"
   },
   "source": [
    "### Using `np.zeros()`\n",
    "create an array filled with zeros."
   ]
  },
  {
   "cell_type": "code",
   "execution_count": 7,
   "id": "88ff126e101cd67c",
   "metadata": {
    "colab": {
     "base_uri": "https://localhost:8080/"
    },
    "execution": {
     "iopub.execute_input": "2024-05-25T17:46:47.038331Z",
     "iopub.status.busy": "2024-05-25T17:46:47.037673Z",
     "iopub.status.idle": "2024-05-25T17:46:47.052672Z",
     "shell.execute_reply": "2024-05-25T17:46:47.051522Z",
     "shell.execute_reply.started": "2024-05-25T17:46:47.038299Z"
    },
    "id": "242d464c42035cdf",
    "outputId": "c3375113-6b57-4252-dbf2-5e3730e64181",
    "ExecuteTime": {
     "end_time": "2024-06-04T04:36:10.887564Z",
     "start_time": "2024-06-04T04:36:10.885887Z"
    }
   },
   "outputs": [
    {
     "name": "stdout",
     "output_type": "stream",
     "text": [
      "[0. 0. 0. 0. 0. 0. 0. 0. 0. 0.]\n"
     ]
    }
   ],
   "source": [
    "a = np.zeros(10)\n",
    "print(a)"
   ]
  },
  {
   "cell_type": "code",
   "execution_count": 8,
   "id": "47f0fe65f8f865ed",
   "metadata": {
    "colab": {
     "base_uri": "https://localhost:8080/"
    },
    "execution": {
     "iopub.execute_input": "2024-05-25T17:46:47.054431Z",
     "iopub.status.busy": "2024-05-25T17:46:47.054090Z",
     "iopub.status.idle": "2024-05-25T17:46:47.070680Z",
     "shell.execute_reply": "2024-05-25T17:46:47.069363Z",
     "shell.execute_reply.started": "2024-05-25T17:46:47.054403Z"
    },
    "id": "b2c6637d6c8d46b4",
    "outputId": "e981ebf7-bfbf-4650-f046-68698dcf6fef",
    "ExecuteTime": {
     "end_time": "2024-06-04T04:36:10.889547Z",
     "start_time": "2024-06-04T04:36:10.888023Z"
    }
   },
   "outputs": [
    {
     "name": "stdout",
     "output_type": "stream",
     "text": [
      "[[0. 0. 0.]\n",
      " [0. 0. 0.]\n",
      " [0. 0. 0.]]\n"
     ]
    }
   ],
   "source": [
    "s = (3, 3)\n",
    "b = np.zeros(s)\n",
    "print(b)"
   ]
  },
  {
   "cell_type": "markdown",
   "id": "eae2b0cf46fb1e66",
   "metadata": {
    "id": "10e74f6aa6823c04"
   },
   "source": [
    "### Using `np.ones()`\n",
    "create an array filled with ones."
   ]
  },
  {
   "cell_type": "code",
   "execution_count": 9,
   "id": "8e06b27dc3291848",
   "metadata": {
    "colab": {
     "base_uri": "https://localhost:8080/"
    },
    "execution": {
     "iopub.execute_input": "2024-05-25T17:46:47.073419Z",
     "iopub.status.busy": "2024-05-25T17:46:47.072652Z",
     "iopub.status.idle": "2024-05-25T17:46:47.088738Z",
     "shell.execute_reply": "2024-05-25T17:46:47.087003Z",
     "shell.execute_reply.started": "2024-05-25T17:46:47.073383Z"
    },
    "id": "409b1b8e4110592c",
    "outputId": "25840df5-22e6-4fce-f626-679491ca693d",
    "ExecuteTime": {
     "end_time": "2024-06-04T04:36:10.892375Z",
     "start_time": "2024-06-04T04:36:10.890291Z"
    }
   },
   "outputs": [
    {
     "name": "stdout",
     "output_type": "stream",
     "text": [
      "[1. 1. 1. 1. 1.]\n",
      "[1 1 1]\n"
     ]
    }
   ],
   "source": [
    "a = np.ones(5)\n",
    "print(a)\n",
    "b = np.ones(3, dtype='int64')\n",
    "print(b)"
   ]
  },
  {
   "cell_type": "code",
   "execution_count": 10,
   "id": "62e02cc1b13ba9c7",
   "metadata": {
    "colab": {
     "base_uri": "https://localhost:8080/"
    },
    "execution": {
     "iopub.execute_input": "2024-05-25T17:46:47.090687Z",
     "iopub.status.busy": "2024-05-25T17:46:47.090161Z",
     "iopub.status.idle": "2024-05-25T17:46:47.106334Z",
     "shell.execute_reply": "2024-05-25T17:46:47.104539Z",
     "shell.execute_reply.started": "2024-05-25T17:46:47.090654Z"
    },
    "id": "a007b0461ea4197",
    "outputId": "c230daa0-036e-4bad-847a-4706a9dc45f1",
    "ExecuteTime": {
     "end_time": "2024-06-04T04:36:10.896691Z",
     "start_time": "2024-06-04T04:36:10.894856Z"
    }
   },
   "outputs": [
    {
     "name": "stdout",
     "output_type": "stream",
     "text": [
      "[[1. 1. 1. 1. 1.]\n",
      " [1. 1. 1. 1. 1.]\n",
      " [1. 1. 1. 1. 1.]\n",
      " [1. 1. 1. 1. 1.]\n",
      " [1. 1. 1. 1. 1.]]\n"
     ]
    }
   ],
   "source": [
    "a = np.ones((5, 5))\n",
    "print(a)"
   ]
  },
  {
   "cell_type": "code",
   "execution_count": 11,
   "id": "1bd8d0af352fa436",
   "metadata": {
    "colab": {
     "base_uri": "https://localhost:8080/"
    },
    "execution": {
     "iopub.execute_input": "2024-05-25T17:46:47.109349Z",
     "iopub.status.busy": "2024-05-25T17:46:47.108267Z",
     "iopub.status.idle": "2024-05-25T17:46:47.124567Z",
     "shell.execute_reply": "2024-05-25T17:46:47.122983Z",
     "shell.execute_reply.started": "2024-05-25T17:46:47.109312Z"
    },
    "id": "ccca6b71ddba0b1b",
    "outputId": "2dbdcccf-ba50-4290-eb93-3f459dbd194d",
    "ExecuteTime": {
     "end_time": "2024-06-04T04:36:10.899223Z",
     "start_time": "2024-06-04T04:36:10.897411Z"
    }
   },
   "outputs": [
    {
     "name": "stdout",
     "output_type": "stream",
     "text": [
      "[[5. 5. 5.]\n",
      " [5. 5. 5.]\n",
      " [5. 5. 5.]]\n"
     ]
    }
   ],
   "source": [
    "a = np.ones((3, 3)) * 5\n",
    "print(a)"
   ]
  },
  {
   "cell_type": "markdown",
   "id": "bf45523f55228af9",
   "metadata": {
    "id": "d0d2b472cb02135f"
   },
   "source": [
    "### Using `np.empty()`\n",
    "\n",
    "create an array of a specified shape without initializing its elements. Unlike `np.zeros()` which initializes all elements to zeros, `np.empty()` does not initialize the elements at all. Instead, it allocates the memory needed for the array but does not set the values of the elements. The values of the array will be whatever happens to already exist at that memory location."
   ]
  },
  {
   "cell_type": "code",
   "execution_count": 12,
   "id": "5733f04069bac903",
   "metadata": {
    "colab": {
     "base_uri": "https://localhost:8080/"
    },
    "execution": {
     "iopub.execute_input": "2024-05-25T17:46:47.127412Z",
     "iopub.status.busy": "2024-05-25T17:46:47.126394Z",
     "iopub.status.idle": "2024-05-25T17:46:47.141628Z",
     "shell.execute_reply": "2024-05-25T17:46:47.140407Z",
     "shell.execute_reply.started": "2024-05-25T17:46:47.127374Z"
    },
    "id": "e094e43456a8e361",
    "outputId": "5521b8e3-2d12-4236-9156-435b46519dc5",
    "ExecuteTime": {
     "end_time": "2024-06-04T04:36:10.901149Z",
     "start_time": "2024-06-04T04:36:10.899697Z"
    }
   },
   "outputs": [
    {
     "name": "stdout",
     "output_type": "stream",
     "text": [
      "[1. 1. 1. 1. 1.]\n"
     ]
    }
   ],
   "source": [
    "a = np.empty(5)\n",
    "print(a)"
   ]
  },
  {
   "cell_type": "code",
   "execution_count": 13,
   "id": "73648bea997b461b",
   "metadata": {
    "colab": {
     "base_uri": "https://localhost:8080/"
    },
    "execution": {
     "iopub.execute_input": "2024-05-25T17:46:47.143737Z",
     "iopub.status.busy": "2024-05-25T17:46:47.143281Z",
     "iopub.status.idle": "2024-05-25T17:46:47.162076Z",
     "shell.execute_reply": "2024-05-25T17:46:47.160989Z",
     "shell.execute_reply.started": "2024-05-25T17:46:47.143694Z"
    },
    "id": "8aeface79b7196a7",
    "outputId": "c55f9f90-08a1-407a-c40c-e22e446e2104",
    "ExecuteTime": {
     "end_time": "2024-06-04T04:36:10.903107Z",
     "start_time": "2024-06-04T04:36:10.901676Z"
    }
   },
   "outputs": [
    {
     "name": "stdout",
     "output_type": "stream",
     "text": [
      "[[0. 0. 0. 0.]\n",
      " [0. 0. 0. 0.]\n",
      " [0. 0. 0. 0.]\n",
      " [0. 0. 0. 0.]]\n"
     ]
    }
   ],
   "source": [
    "b = np.empty((4, 4))\n",
    "print(b)"
   ]
  },
  {
   "cell_type": "markdown",
   "id": "5062d8967b7c2e21",
   "metadata": {
    "id": "5b3b2f832419a420"
   },
   "source": [
    "### Using `np.arange()`\n",
    "create arrays with regularly spaced values within a specified interval. It is similar to Python's built-in `range()` function but returns an array instead of a list."
   ]
  },
  {
   "cell_type": "code",
   "execution_count": 14,
   "id": "a17d9f69a1baa62b",
   "metadata": {
    "colab": {
     "base_uri": "https://localhost:8080/"
    },
    "execution": {
     "iopub.execute_input": "2024-05-25T17:46:47.168506Z",
     "iopub.status.busy": "2024-05-25T17:46:47.167865Z",
     "iopub.status.idle": "2024-05-25T17:46:47.179235Z",
     "shell.execute_reply": "2024-05-25T17:46:47.177974Z",
     "shell.execute_reply.started": "2024-05-25T17:46:47.168471Z"
    },
    "id": "cdd9e10b7415a27",
    "outputId": "aa84de9e-4264-4f67-e884-f2b042392680",
    "ExecuteTime": {
     "end_time": "2024-06-04T04:36:10.905131Z",
     "start_time": "2024-06-04T04:36:10.903544Z"
    }
   },
   "outputs": [
    {
     "name": "stdout",
     "output_type": "stream",
     "text": [
      "[0 1 2 3 4 5 6 7 8 9]\n"
     ]
    }
   ],
   "source": [
    "a = np.arange(10)\n",
    "print(a)"
   ]
  },
  {
   "cell_type": "code",
   "execution_count": 15,
   "id": "23766bcde7a623f8",
   "metadata": {
    "colab": {
     "base_uri": "https://localhost:8080/"
    },
    "execution": {
     "iopub.execute_input": "2024-05-25T17:46:47.181776Z",
     "iopub.status.busy": "2024-05-25T17:46:47.181060Z",
     "iopub.status.idle": "2024-05-25T17:46:47.193816Z",
     "shell.execute_reply": "2024-05-25T17:46:47.192728Z",
     "shell.execute_reply.started": "2024-05-25T17:46:47.181717Z"
    },
    "id": "d5fcce96c4f2c2f4",
    "outputId": "21806b91-c6fe-4675-e36e-96e48ac0b49f",
    "ExecuteTime": {
     "end_time": "2024-06-04T04:36:10.906973Z",
     "start_time": "2024-06-04T04:36:10.905614Z"
    }
   },
   "outputs": [
    {
     "name": "stdout",
     "output_type": "stream",
     "text": [
      "[10 11 12 13 14 15 16 17 18 19]\n"
     ]
    }
   ],
   "source": [
    "b = np.arange(10, 20)\n",
    "print(b)"
   ]
  },
  {
   "cell_type": "code",
   "execution_count": 16,
   "id": "1ab9b14bea8ce63c",
   "metadata": {
    "colab": {
     "base_uri": "https://localhost:8080/"
    },
    "execution": {
     "iopub.execute_input": "2024-05-25T17:46:47.197526Z",
     "iopub.status.busy": "2024-05-25T17:46:47.195867Z",
     "iopub.status.idle": "2024-05-25T17:46:47.210543Z",
     "shell.execute_reply": "2024-05-25T17:46:47.209110Z",
     "shell.execute_reply.started": "2024-05-25T17:46:47.197483Z"
    },
    "id": "5efea78e1e435037",
    "outputId": "5dd145ca-157e-4f21-e937-b6d10a3c74d7",
    "ExecuteTime": {
     "end_time": "2024-06-04T04:36:10.908830Z",
     "start_time": "2024-06-04T04:36:10.907483Z"
    }
   },
   "outputs": [
    {
     "name": "stdout",
     "output_type": "stream",
     "text": [
      "[30 32 34 36 38 40 42 44 46 48 50 52 54 56 58]\n"
     ]
    }
   ],
   "source": [
    "c = np.arange(30, 60, 2)\n",
    "print(c)"
   ]
  },
  {
   "cell_type": "markdown",
   "id": "78cebbdb7fe67678",
   "metadata": {
    "id": "81eb0925e7c07f6b"
   },
   "source": [
    "### Using `np.linspace()`\n",
    "create arrays with evenly spaced numbers over a specified interval. Unlike `np.arange()`, which generates values with a specified step size, `np.linspace()` generates values that are evenly spaced between the specified start and stop values, inclusive by default."
   ]
  },
  {
   "cell_type": "code",
   "execution_count": 17,
   "id": "5fe934ed89b990f7",
   "metadata": {
    "colab": {
     "base_uri": "https://localhost:8080/"
    },
    "execution": {
     "iopub.execute_input": "2024-05-25T17:46:47.212777Z",
     "iopub.status.busy": "2024-05-25T17:46:47.211785Z",
     "iopub.status.idle": "2024-05-25T17:46:47.229838Z",
     "shell.execute_reply": "2024-05-25T17:46:47.228582Z",
     "shell.execute_reply.started": "2024-05-25T17:46:47.212742Z"
    },
    "id": "f5d2e4954c11fff2",
    "outputId": "68dcc6de-d83d-44d3-a5ce-ac22da360f07",
    "ExecuteTime": {
     "end_time": "2024-06-04T04:36:10.911176Z",
     "start_time": "2024-06-04T04:36:10.909286Z"
    }
   },
   "outputs": [
    {
     "name": "stdout",
     "output_type": "stream",
     "text": [
      "[10.         10.20408163 10.40816327 10.6122449  10.81632653 11.02040816\n",
      " 11.2244898  11.42857143 11.63265306 11.83673469 12.04081633 12.24489796\n",
      " 12.44897959 12.65306122 12.85714286 13.06122449 13.26530612 13.46938776\n",
      " 13.67346939 13.87755102 14.08163265 14.28571429 14.48979592 14.69387755\n",
      " 14.89795918 15.10204082 15.30612245 15.51020408 15.71428571 15.91836735\n",
      " 16.12244898 16.32653061 16.53061224 16.73469388 16.93877551 17.14285714\n",
      " 17.34693878 17.55102041 17.75510204 17.95918367 18.16326531 18.36734694\n",
      " 18.57142857 18.7755102  18.97959184 19.18367347 19.3877551  19.59183673\n",
      " 19.79591837 20.        ]\n"
     ]
    }
   ],
   "source": [
    "a = np.linspace(10, 20)\n",
    "print(a)"
   ]
  },
  {
   "cell_type": "code",
   "execution_count": 18,
   "id": "c3e01dd99fed8aa2",
   "metadata": {
    "colab": {
     "base_uri": "https://localhost:8080/"
    },
    "execution": {
     "iopub.execute_input": "2024-05-25T17:46:47.232545Z",
     "iopub.status.busy": "2024-05-25T17:46:47.232025Z",
     "iopub.status.idle": "2024-05-25T17:46:47.246752Z",
     "shell.execute_reply": "2024-05-25T17:46:47.245168Z",
     "shell.execute_reply.started": "2024-05-25T17:46:47.232504Z"
    },
    "id": "e202bcc888c8ab3c",
    "outputId": "5243fd9a-8a65-4aba-d535-a127428255d8",
    "ExecuteTime": {
     "end_time": "2024-06-04T04:36:10.913261Z",
     "start_time": "2024-06-04T04:36:10.911672Z"
    }
   },
   "outputs": [
    {
     "name": "stdout",
     "output_type": "stream",
     "text": [
      "[  0.          11.11111111  22.22222222  33.33333333  44.44444444\n",
      "  55.55555556  66.66666667  77.77777778  88.88888889 100.        ]\n"
     ]
    }
   ],
   "source": [
    "b = np.linspace(0, 100, num=10) # default num = 50\n",
    "print(b)"
   ]
  },
  {
   "cell_type": "code",
   "execution_count": 19,
   "id": "8784b19255ec6ba5",
   "metadata": {
    "colab": {
     "base_uri": "https://localhost:8080/"
    },
    "execution": {
     "iopub.execute_input": "2024-05-25T17:46:47.249076Z",
     "iopub.status.busy": "2024-05-25T17:46:47.248602Z",
     "iopub.status.idle": "2024-05-25T17:46:47.260676Z",
     "shell.execute_reply": "2024-05-25T17:46:47.259529Z",
     "shell.execute_reply.started": "2024-05-25T17:46:47.249035Z"
    },
    "id": "c3a0f95a88e566eb",
    "outputId": "afa6c59e-61e6-40b0-94d8-160a92d01911",
    "ExecuteTime": {
     "end_time": "2024-06-04T04:36:10.915707Z",
     "start_time": "2024-06-04T04:36:10.913717Z"
    }
   },
   "outputs": [
    {
     "name": "stdout",
     "output_type": "stream",
     "text": [
      "[10.  12.5 15.  17.5 20. ]\n"
     ]
    }
   ],
   "source": [
    "c = np.linspace(10, 20, 5)\n",
    "print(c)"
   ]
  },
  {
   "cell_type": "markdown",
   "id": "ec4cca3462eb604f",
   "metadata": {
    "id": "9vqHc1m4_9Gc"
   },
   "source": [
    "### using `np.eye()`\n",
    "\n",
    "create a 2-D array with ones on the diagonal and zeros elsewhere.\n",
    "Similar to `np.identity()`."
   ]
  },
  {
   "cell_type": "code",
   "execution_count": 20,
   "id": "c73121f286908cad",
   "metadata": {
    "colab": {
     "base_uri": "https://localhost:8080/"
    },
    "execution": {
     "iopub.execute_input": "2024-05-25T17:46:47.262938Z",
     "iopub.status.busy": "2024-05-25T17:46:47.261918Z",
     "iopub.status.idle": "2024-05-25T17:46:47.275356Z",
     "shell.execute_reply": "2024-05-25T17:46:47.274167Z",
     "shell.execute_reply.started": "2024-05-25T17:46:47.262896Z"
    },
    "id": "kAiL8kyGAoHi",
    "outputId": "a0928d8d-54ba-46ce-d492-5de683e4d044",
    "ExecuteTime": {
     "end_time": "2024-06-04T04:36:10.918827Z",
     "start_time": "2024-06-04T04:36:10.916563Z"
    }
   },
   "outputs": [
    {
     "data": {
      "text/plain": "array([[1., 0., 0.],\n       [0., 1., 0.],\n       [0., 0., 1.]])"
     },
     "execution_count": 20,
     "metadata": {},
     "output_type": "execute_result"
    }
   ],
   "source": [
    "a = np.eye(3)\n",
    "a"
   ]
  },
  {
   "cell_type": "code",
   "execution_count": 21,
   "id": "473f19a24ae2366c",
   "metadata": {
    "colab": {
     "base_uri": "https://localhost:8080/"
    },
    "execution": {
     "iopub.execute_input": "2024-05-25T17:46:47.277975Z",
     "iopub.status.busy": "2024-05-25T17:46:47.276996Z",
     "iopub.status.idle": "2024-05-25T17:46:47.291363Z",
     "shell.execute_reply": "2024-05-25T17:46:47.289942Z",
     "shell.execute_reply.started": "2024-05-25T17:46:47.277940Z"
    },
    "id": "OJzbaPiJAvqV",
    "outputId": "582c3691-868c-4d58-8e3b-e276ca7cbb30",
    "ExecuteTime": {
     "end_time": "2024-06-04T04:36:10.922627Z",
     "start_time": "2024-06-04T04:36:10.919595Z"
    }
   },
   "outputs": [
    {
     "name": "stdout",
     "output_type": "stream",
     "text": [
      "[[0. 1. 0.]\n",
      " [0. 0. 1.]\n",
      " [0. 0. 0.]]\n",
      "[[0. 0. 0.]\n",
      " [1. 0. 0.]\n",
      " [0. 1. 0.]]\n"
     ]
    }
   ],
   "source": [
    "# parameters: (rows in output, cols in output, index of the diagonal: 0 default)\n",
    "b = np.eye(3, 3, 1)\n",
    "print(b)\n",
    "c = np.eye(3, 3, -1)\n",
    "print(c)"
   ]
  },
  {
   "cell_type": "markdown",
   "id": "a51f65affd33e6a4",
   "metadata": {
    "id": "631c2e89dbe7d445"
   },
   "source": [
    "## Array attributes"
   ]
  },
  {
   "cell_type": "code",
   "execution_count": 22,
   "id": "21f6a2e34ce72843",
   "metadata": {
    "colab": {
     "base_uri": "https://localhost:8080/"
    },
    "execution": {
     "iopub.execute_input": "2024-05-25T17:46:47.292928Z",
     "iopub.status.busy": "2024-05-25T17:46:47.292542Z",
     "iopub.status.idle": "2024-05-25T17:46:47.305002Z",
     "shell.execute_reply": "2024-05-25T17:46:47.303503Z",
     "shell.execute_reply.started": "2024-05-25T17:46:47.292886Z"
    },
    "id": "305948b98c22422c",
    "outputId": "7d25b3a9-1c9a-4bcf-c50e-8cd1601ce565",
    "ExecuteTime": {
     "end_time": "2024-06-04T04:36:10.926740Z",
     "start_time": "2024-06-04T04:36:10.923771Z"
    }
   },
   "outputs": [
    {
     "name": "stdout",
     "output_type": "stream",
     "text": [
      "a=\n",
      "[1 2 3 4 5]\n",
      "b=\n",
      "[[ 1  2  3  4  5]\n",
      " [ 6  7  8  9 10]]\n",
      "c=\n",
      "[[[ 1  2  3]\n",
      "  [ 4  5  6]]\n",
      "\n",
      " [[ 7  8  9]\n",
      "  [10 11 12]]]\n"
     ]
    }
   ],
   "source": [
    "# 1D Array\n",
    "a = np.array([1, 2, 3, 4, 5])\n",
    "# 2D Array\n",
    "b = np.array([[1, 2, 3, 4, 5], [6, 7, 8, 9, 10]])\n",
    "# 3D Array\n",
    "c = np.array([[[1, 2, 3], [4, 5, 6]], [[7, 8, 9], [10, 11, 12]]])\n",
    "\n",
    "print('a=', a, 'b=', b, 'c=', c, sep='\\n')"
   ]
  },
  {
   "cell_type": "markdown",
   "id": "76ec8a575ebb5b0b",
   "metadata": {
    "id": "94dfcb05f6a437db"
   },
   "source": [
    "### `ndim`\n",
    "Attribute contains the number of dimensions of an array."
   ]
  },
  {
   "cell_type": "code",
   "execution_count": 23,
   "id": "95052f56d22f5182",
   "metadata": {
    "colab": {
     "base_uri": "https://localhost:8080/"
    },
    "execution": {
     "iopub.execute_input": "2024-05-25T17:46:47.306962Z",
     "iopub.status.busy": "2024-05-25T17:46:47.306521Z",
     "iopub.status.idle": "2024-05-25T17:46:47.319512Z",
     "shell.execute_reply": "2024-05-25T17:46:47.318032Z",
     "shell.execute_reply.started": "2024-05-25T17:46:47.306931Z"
    },
    "id": "a025e0a67c6e2174",
    "outputId": "72120d25-5398-4c93-8a25-2fbb767eacf3",
    "ExecuteTime": {
     "end_time": "2024-06-04T04:36:10.929727Z",
     "start_time": "2024-06-04T04:36:10.927551Z"
    }
   },
   "outputs": [
    {
     "name": "stdout",
     "output_type": "stream",
     "text": [
      "1\n",
      "2\n",
      "3\n"
     ]
    }
   ],
   "source": [
    "print(a.ndim)\n",
    "print(b.ndim)\n",
    "print(c.ndim)"
   ]
  },
  {
   "cell_type": "markdown",
   "id": "63b5dd16a9fd9080",
   "metadata": {
    "id": "10287e65a88bb879"
   },
   "source": [
    "### `shape`\n",
    "- Specify the number of elements along each dimension.\n",
    "- a tuple of non-negative integers"
   ]
  },
  {
   "cell_type": "code",
   "execution_count": 24,
   "id": "24c2f4db78570157",
   "metadata": {
    "colab": {
     "base_uri": "https://localhost:8080/"
    },
    "execution": {
     "iopub.execute_input": "2024-05-25T17:46:47.321576Z",
     "iopub.status.busy": "2024-05-25T17:46:47.321136Z",
     "iopub.status.idle": "2024-05-25T17:46:47.334113Z",
     "shell.execute_reply": "2024-05-25T17:46:47.332934Z",
     "shell.execute_reply.started": "2024-05-25T17:46:47.321536Z"
    },
    "id": "fbd5056175244d94",
    "outputId": "efb81499-d294-423a-a1bd-f6a125b27723",
    "ExecuteTime": {
     "end_time": "2024-06-04T04:36:10.933659Z",
     "start_time": "2024-06-04T04:36:10.931861Z"
    }
   },
   "outputs": [
    {
     "name": "stdout",
     "output_type": "stream",
     "text": [
      "shape of a= (5,)\n",
      "shape of b= (2, 5)\n",
      "shape of c= (2, 2, 3)\n"
     ]
    }
   ],
   "source": [
    "print('shape of a=', a.shape)\n",
    "print('shape of b=', b.shape)\n",
    "print('shape of c=', c.shape)"
   ]
  },
  {
   "cell_type": "code",
   "execution_count": 25,
   "id": "bded3e8aef6b4dc9",
   "metadata": {
    "colab": {
     "base_uri": "https://localhost:8080/"
    },
    "execution": {
     "iopub.execute_input": "2024-05-25T17:46:47.335995Z",
     "iopub.status.busy": "2024-05-25T17:46:47.335475Z",
     "iopub.status.idle": "2024-05-25T17:46:47.351919Z",
     "shell.execute_reply": "2024-05-25T17:46:47.350646Z",
     "shell.execute_reply.started": "2024-05-25T17:46:47.335953Z"
    },
    "id": "66ab641689980996",
    "outputId": "0045bfa6-1ca1-48da-a7f1-d6825430a1ed",
    "ExecuteTime": {
     "end_time": "2024-06-04T04:36:10.936449Z",
     "start_time": "2024-06-04T04:36:10.934617Z"
    }
   },
   "outputs": [
    {
     "name": "stdout",
     "output_type": "stream",
     "text": [
      "len of a.shape: 1 dim of a: 1\n",
      "len of b.shape: 2 dim of b: 2\n",
      "len of c.shape: 3 dim of c: 3\n"
     ]
    }
   ],
   "source": [
    "# len(ndarray.shape) == ndarray.dim -> True\n",
    "print('len of a.shape:', len(a.shape), 'dim of a:', a.ndim)\n",
    "print('len of b.shape:', len(b.shape), 'dim of b:', b.ndim)\n",
    "print('len of c.shape:', len(c.shape), 'dim of c:', c.ndim)"
   ]
  },
  {
   "cell_type": "markdown",
   "id": "62c14f7724faf073",
   "metadata": {
    "id": "fab711c547a4ce33"
   },
   "source": [
    "### `size`\n",
    "Contains total number of elements in array."
   ]
  },
  {
   "cell_type": "code",
   "execution_count": 26,
   "id": "a0f49be2faa9eb1d",
   "metadata": {
    "colab": {
     "base_uri": "https://localhost:8080/"
    },
    "execution": {
     "iopub.execute_input": "2024-05-25T17:46:47.353838Z",
     "iopub.status.busy": "2024-05-25T17:46:47.353362Z",
     "iopub.status.idle": "2024-05-25T17:46:47.365807Z",
     "shell.execute_reply": "2024-05-25T17:46:47.364887Z",
     "shell.execute_reply.started": "2024-05-25T17:46:47.353780Z"
    },
    "id": "ca169029dc546959",
    "outputId": "93bd44b8-6388-4660-eaac-864a52930e54",
    "ExecuteTime": {
     "end_time": "2024-06-04T04:36:10.939185Z",
     "start_time": "2024-06-04T04:36:10.937462Z"
    }
   },
   "outputs": [
    {
     "name": "stdout",
     "output_type": "stream",
     "text": [
      "total elements in a= 5\n",
      "total elements in b= 10\n",
      "total elements in c= 12\n"
     ]
    }
   ],
   "source": [
    "print('total elements in a=', a.size)\n",
    "print('total elements in b=', b.size)\n",
    "print('total elements in c=', c.size)"
   ]
  },
  {
   "cell_type": "markdown",
   "id": "feaf4d0d27e9ed9c",
   "metadata": {
    "id": "90315eee4465ba4b"
   },
   "source": [
    "**product of elements in `ndarray.shape` is equals to `ndarray.size` or total elements**\n",
    "`ndarray.shape` returns a tuple or a sequence of numbers"
   ]
  },
  {
   "cell_type": "code",
   "execution_count": 27,
   "id": "cbfc5df8cf8837a1",
   "metadata": {
    "colab": {
     "base_uri": "https://localhost:8080/"
    },
    "execution": {
     "iopub.execute_input": "2024-05-25T17:46:47.367653Z",
     "iopub.status.busy": "2024-05-25T17:46:47.367261Z",
     "iopub.status.idle": "2024-05-25T17:46:47.380490Z",
     "shell.execute_reply": "2024-05-25T17:46:47.379589Z",
     "shell.execute_reply.started": "2024-05-25T17:46:47.367624Z"
    },
    "id": "3e8f21687ddd6410",
    "outputId": "6199c0fb-3d0b-4b8a-df21-04a2b2b706db",
    "ExecuteTime": {
     "end_time": "2024-06-04T04:36:10.943148Z",
     "start_time": "2024-06-04T04:36:10.939881Z"
    }
   },
   "outputs": [
    {
     "name": "stdout",
     "output_type": "stream",
     "text": [
      "True\n",
      "True\n",
      "True\n"
     ]
    }
   ],
   "source": [
    "# numpy.prod() -> takes an array or a sequence of numbers as input and returns the product of all the elements in it.\n",
    "# math.prod() can be used too to get the product.\n",
    "\n",
    "import math\n",
    "\n",
    "# prod_a_shape = np.prod(a.shape)\n",
    "# prod_b_shape = np.prod(b.shape)\n",
    "# prod_c_shape = np.prod(c.shape)\n",
    "\n",
    "prod_a_shape = math.prod(a.shape)\n",
    "prod_b_shape = math.prod(b.shape)\n",
    "prod_c_shape = math.prod(c.shape)\n",
    "\n",
    "print(a.size == prod_a_shape)\n",
    "print(b.size == prod_b_shape)\n",
    "print(c.size == prod_c_shape)\n",
    "\n",
    "# array -> Shape -> Multiplication -> total element returned by ndarray.size\n",
    "# a -> (5,) -> 5 -> 5\n",
    "# b -> (2, 5) -> 2*5 -> 10\n",
    "# c -> (2, 2, 3) -> 2*2*3 -> 12"
   ]
  },
  {
   "cell_type": "markdown",
   "id": "a75e5fae9f74093d",
   "metadata": {
    "id": "2123c4e6e8accfa9"
   },
   "source": [
    "### `dtype`\n",
    "Contains the data type of the array."
   ]
  },
  {
   "cell_type": "code",
   "execution_count": 28,
   "id": "26e01105f934684b",
   "metadata": {
    "colab": {
     "base_uri": "https://localhost:8080/"
    },
    "execution": {
     "iopub.execute_input": "2024-05-25T17:46:47.382206Z",
     "iopub.status.busy": "2024-05-25T17:46:47.381874Z",
     "iopub.status.idle": "2024-05-25T17:46:47.404270Z",
     "shell.execute_reply": "2024-05-25T17:46:47.403054Z",
     "shell.execute_reply.started": "2024-05-25T17:46:47.382178Z"
    },
    "id": "3961574e01da4fb1",
    "outputId": "b1053e13-a8fe-4b8d-b3d8-ba4ccfc94ed4",
    "ExecuteTime": {
     "end_time": "2024-06-04T04:36:10.970784Z",
     "start_time": "2024-06-04T04:36:10.966671Z"
    }
   },
   "outputs": [
    {
     "name": "stdout",
     "output_type": "stream",
     "text": [
      "[10 11 12 13 14 15 16 17 18 19 20] int64\n",
      "[10.   12.75 15.5  18.25 21.  ] float64\n",
      "['numpy' 'is' 'fun'] <class 'numpy.ndarray'> <U5\n"
     ]
    }
   ],
   "source": [
    "a = np.arange(10, 21)\n",
    "print(a, a.dtype)\n",
    "\n",
    "b = np.linspace(10, 21, 5)\n",
    "print(b, b.dtype)\n",
    "\n",
    "text = ['numpy', 'is', 'fun']\n",
    "c = np.array(text)\n",
    "print(c, type(c), c.dtype)"
   ]
  },
  {
   "cell_type": "markdown",
   "id": "dba56b33df2df4a8",
   "metadata": {
    "id": "h1z0YXUE85dK"
   },
   "source": [
    "## Array Manipulation"
   ]
  },
  {
   "cell_type": "markdown",
   "id": "973511683aa55f28",
   "metadata": {
    "id": "llbVr70KGjri"
   },
   "source": [
    "### Sorting\n",
    "using `np.sort()`"
   ]
  },
  {
   "cell_type": "code",
   "execution_count": 29,
   "id": "92310764c8e74ce4",
   "metadata": {
    "colab": {
     "base_uri": "https://localhost:8080/"
    },
    "execution": {
     "iopub.execute_input": "2024-05-25T17:46:47.406373Z",
     "iopub.status.busy": "2024-05-25T17:46:47.405858Z",
     "iopub.status.idle": "2024-05-25T17:46:47.420453Z",
     "shell.execute_reply": "2024-05-25T17:46:47.418947Z",
     "shell.execute_reply.started": "2024-05-25T17:46:47.406339Z"
    },
    "id": "sixX8JbX98Lt",
    "outputId": "be143695-a67d-4e65-98f2-850dfff2f48c",
    "ExecuteTime": {
     "end_time": "2024-06-04T04:36:10.979259Z",
     "start_time": "2024-06-04T04:36:10.973074Z"
    }
   },
   "outputs": [
    {
     "name": "stdout",
     "output_type": "stream",
     "text": [
      "[15.48966293 65.2986112  85.19151234 84.54598672 58.74663433]\n"
     ]
    },
    {
     "data": {
      "text/plain": "array([15.48966293, 58.74663433, 65.2986112 , 84.54598672, 85.19151234])"
     },
     "execution_count": 29,
     "metadata": {},
     "output_type": "execute_result"
    }
   ],
   "source": [
    "a = np.random.uniform(0, 100, 5)\n",
    "print(a)\n",
    "np.sort(a)"
   ]
  },
  {
   "cell_type": "code",
   "execution_count": 30,
   "id": "c1266e1ebcdbed0c",
   "metadata": {
    "colab": {
     "base_uri": "https://localhost:8080/"
    },
    "execution": {
     "iopub.execute_input": "2024-05-25T17:46:47.423079Z",
     "iopub.status.busy": "2024-05-25T17:46:47.422595Z",
     "iopub.status.idle": "2024-05-25T17:46:47.438228Z",
     "shell.execute_reply": "2024-05-25T17:46:47.436842Z",
     "shell.execute_reply.started": "2024-05-25T17:46:47.423040Z"
    },
    "id": "sskSO6W4DfMr",
    "outputId": "570b3bb2-cf46-480d-a0cf-7ee2c65d0b99",
    "ExecuteTime": {
     "end_time": "2024-06-04T04:36:10.986658Z",
     "start_time": "2024-06-04T04:36:10.981237Z"
    }
   },
   "outputs": [
    {
     "data": {
      "text/plain": "array([85.19151234, 84.54598672, 65.2986112 , 58.74663433, 15.48966293])"
     },
     "execution_count": 30,
     "metadata": {},
     "output_type": "execute_result"
    }
   ],
   "source": [
    "# Reverse the sorted array\n",
    "np.flip(np.sort(a))"
   ]
  },
  {
   "cell_type": "markdown",
   "id": "8ed894931457e52b",
   "metadata": {
    "id": "BixP6T_0G7Co"
   },
   "source": [
    "### Adding\n",
    "using `np.concatenate()`"
   ]
  },
  {
   "cell_type": "code",
   "execution_count": 31,
   "id": "baf5b1a29cefd86a",
   "metadata": {
    "colab": {
     "base_uri": "https://localhost:8080/"
    },
    "execution": {
     "iopub.execute_input": "2024-05-25T17:46:47.441212Z",
     "iopub.status.busy": "2024-05-25T17:46:47.440710Z",
     "iopub.status.idle": "2024-05-25T17:46:47.454933Z",
     "shell.execute_reply": "2024-05-25T17:46:47.453671Z",
     "shell.execute_reply.started": "2024-05-25T17:46:47.441172Z"
    },
    "id": "sFLIFfwaE6fb",
    "outputId": "7e7d09bc-eb51-4433-8f04-66370c0d05c5",
    "ExecuteTime": {
     "end_time": "2024-06-04T04:36:10.994080Z",
     "start_time": "2024-06-04T04:36:10.988194Z"
    }
   },
   "outputs": [
    {
     "data": {
      "text/plain": "array([ 0,  1,  2,  3,  4,  5,  6,  7,  8,  9, 10, 11, 12, 13, 14, 15, 16,\n       17, 18, 19, 20])"
     },
     "execution_count": 31,
     "metadata": {},
     "output_type": "execute_result"
    }
   ],
   "source": [
    "a = np.arange(10)\n",
    "b = np.arange(10, 21)\n",
    "c = np.concatenate((a, b))\n",
    "c"
   ]
  },
  {
   "cell_type": "code",
   "execution_count": 32,
   "id": "34477ea4ba344a39",
   "metadata": {
    "colab": {
     "base_uri": "https://localhost:8080/"
    },
    "execution": {
     "iopub.execute_input": "2024-05-25T17:46:47.457629Z",
     "iopub.status.busy": "2024-05-25T17:46:47.456430Z",
     "iopub.status.idle": "2024-05-25T17:46:47.472119Z",
     "shell.execute_reply": "2024-05-25T17:46:47.470514Z",
     "shell.execute_reply.started": "2024-05-25T17:46:47.457594Z"
    },
    "id": "2YxhOWrqKVQT",
    "outputId": "70ae9be5-e258-4eba-d620-a7782adb62ac",
    "ExecuteTime": {
     "end_time": "2024-06-04T04:36:11.002048Z",
     "start_time": "2024-06-04T04:36:10.995679Z"
    }
   },
   "outputs": [
    {
     "data": {
      "text/plain": "array([[ 1,  2,  3,  7,  8,  9],\n       [ 4,  5,  6, 10, 11, 12]])"
     },
     "execution_count": 32,
     "metadata": {},
     "output_type": "execute_result"
    }
   ],
   "source": [
    "a = np.array([[1, 2, 3], [4, 5, 6]])\n",
    "b = np.array([[7, 8, 9], [10, 11, 12]])\n",
    "c = np.concatenate((a, b), axis=1)\n",
    "c"
   ]
  },
  {
   "cell_type": "markdown",
   "id": "8b1ca83b6911d949",
   "metadata": {
    "id": "RasmytdhLpmd"
   },
   "source": [
    "### Removing"
   ]
  },
  {
   "cell_type": "markdown",
   "id": "4d37edf3910de327",
   "metadata": {
    "id": "nTqK3oI7Nq-a"
   },
   "source": [
    "**Removing Elements by Index**"
   ]
  },
  {
   "cell_type": "code",
   "execution_count": 33,
   "id": "48146ed7e8f7dc29",
   "metadata": {
    "colab": {
     "base_uri": "https://localhost:8080/"
    },
    "execution": {
     "iopub.execute_input": "2024-05-25T17:46:47.474886Z",
     "iopub.status.busy": "2024-05-25T17:46:47.474324Z",
     "iopub.status.idle": "2024-05-25T17:46:47.489679Z",
     "shell.execute_reply": "2024-05-25T17:46:47.488428Z",
     "shell.execute_reply.started": "2024-05-25T17:46:47.474817Z"
    },
    "id": "22rphuz-LuG1",
    "outputId": "91d4001c-591a-430e-d3de-66270e9bae47",
    "ExecuteTime": {
     "end_time": "2024-06-04T04:36:11.007535Z",
     "start_time": "2024-06-04T04:36:11.004091Z"
    }
   },
   "outputs": [
    {
     "name": "stdout",
     "output_type": "stream",
     "text": [
      "[0 1 2 3 4]\n",
      "[0 1 3 4]\n",
      "[0 3]\n"
     ]
    }
   ],
   "source": [
    "a = np.arange(5)\n",
    "print(a)\n",
    "a = np.delete(a, 2)\n",
    "print(a)\n",
    "\n",
    "indices = [1, 3]\n",
    "a = np.delete(a, indices)\n",
    "print(a)"
   ]
  },
  {
   "cell_type": "markdown",
   "id": "6814f31949894a1d",
   "metadata": {
    "id": "02izJUJRNJSS"
   },
   "source": [
    "**Removing Elements that Match a Condition**"
   ]
  },
  {
   "cell_type": "code",
   "execution_count": 34,
   "id": "625e19bd3cc1e106",
   "metadata": {
    "colab": {
     "base_uri": "https://localhost:8080/"
    },
    "execution": {
     "iopub.execute_input": "2024-05-25T17:46:47.492179Z",
     "iopub.status.busy": "2024-05-25T17:46:47.491497Z",
     "iopub.status.idle": "2024-05-25T17:46:47.507383Z",
     "shell.execute_reply": "2024-05-25T17:46:47.506029Z",
     "shell.execute_reply.started": "2024-05-25T17:46:47.492137Z"
    },
    "id": "YCJc9dWDM3cY",
    "outputId": "d70abdd2-b526-4616-a161-2eac4e1df517",
    "ExecuteTime": {
     "end_time": "2024-06-04T04:36:11.011176Z",
     "start_time": "2024-06-04T04:36:11.008181Z"
    }
   },
   "outputs": [
    {
     "name": "stdout",
     "output_type": "stream",
     "text": [
      "[ 0  2  4  6  8 10 12 14 16 18 20 22 24 26 28 30 32 34 36 38 40]\n",
      "[20 22 24 26 28 30 32 34 36 38 40]\n",
      "[20 22 24 26 28 32 34 36 38 40]\n"
     ]
    }
   ],
   "source": [
    "a = np.arange(0, 41, 2)\n",
    "print(a)\n",
    "\n",
    "a = a[a >= 20]\n",
    "print(a)\n",
    "\n",
    "a = a[a != 30]\n",
    "print(a)"
   ]
  },
  {
   "cell_type": "markdown",
   "id": "d615091288bffa9b",
   "metadata": {
    "id": "wV-4WmgFPjHM"
   },
   "source": [
    "**Removing Elements Using List Comprehension**"
   ]
  },
  {
   "cell_type": "code",
   "execution_count": 35,
   "id": "bcb762d8181f3115",
   "metadata": {
    "colab": {
     "base_uri": "https://localhost:8080/"
    },
    "execution": {
     "iopub.execute_input": "2024-05-25T17:46:47.509839Z",
     "iopub.status.busy": "2024-05-25T17:46:47.508675Z",
     "iopub.status.idle": "2024-05-25T17:46:47.519374Z",
     "shell.execute_reply": "2024-05-25T17:46:47.518280Z",
     "shell.execute_reply.started": "2024-05-25T17:46:47.509774Z"
    },
    "id": "wnR6xfEnOun3",
    "outputId": "80d04b60-96dc-4307-ce37-6d9fcb8e13e9",
    "ExecuteTime": {
     "end_time": "2024-06-04T04:36:11.014927Z",
     "start_time": "2024-06-04T04:36:11.012012Z"
    }
   },
   "outputs": [
    {
     "name": "stdout",
     "output_type": "stream",
     "text": [
      "[20 22 24 26 28 30 32 34 36 38 40 42 44 46 48 50 52 54 56 58 60]\n",
      "[42 44 46 48 50 52 54 56 58 60]\n"
     ]
    }
   ],
   "source": [
    "a = np.arange(20, 61, 2)\n",
    "print(a)\n",
    "a = np.array([x for x in a if not x <= 40])\n",
    "print(a)"
   ]
  },
  {
   "cell_type": "markdown",
   "id": "55721685f7ce5d28",
   "metadata": {},
   "source": [
    "## Reshaping Array\n",
    "\n",
    "using `ndarray.reshape()`. Gives a new shape to an array without changing the data. "
   ]
  },
  {
   "cell_type": "code",
   "execution_count": 36,
   "id": "8824626551eb625c",
   "metadata": {
    "execution": {
     "iopub.execute_input": "2024-05-25T17:46:47.521167Z",
     "iopub.status.busy": "2024-05-25T17:46:47.520772Z",
     "iopub.status.idle": "2024-05-25T17:46:47.532279Z",
     "shell.execute_reply": "2024-05-25T17:46:47.530990Z",
     "shell.execute_reply.started": "2024-05-25T17:46:47.521135Z"
    },
    "ExecuteTime": {
     "end_time": "2024-06-04T04:36:11.018927Z",
     "start_time": "2024-06-04T04:36:11.015737Z"
    }
   },
   "outputs": [
    {
     "name": "stdout",
     "output_type": "stream",
     "text": [
      "a= [0 1 2 3 4 5]\n",
      "shape: (6,)\n",
      "dim: 1\n"
     ]
    }
   ],
   "source": [
    "a = np.arange(6)\n",
    "print('a=', a)\n",
    "print('shape:', a.shape)\n",
    "print('dim:', a.ndim)"
   ]
  },
  {
   "cell_type": "code",
   "execution_count": 37,
   "id": "9894322b22e7fe77",
   "metadata": {
    "execution": {
     "iopub.execute_input": "2024-05-25T17:46:47.534988Z",
     "iopub.status.busy": "2024-05-25T17:46:47.534108Z",
     "iopub.status.idle": "2024-05-25T17:46:47.547440Z",
     "shell.execute_reply": "2024-05-25T17:46:47.545901Z",
     "shell.execute_reply.started": "2024-05-25T17:46:47.534945Z"
    },
    "ExecuteTime": {
     "end_time": "2024-06-04T04:36:11.022439Z",
     "start_time": "2024-06-04T04:36:11.019688Z"
    }
   },
   "outputs": [
    {
     "name": "stdout",
     "output_type": "stream",
     "text": [
      "a=\n",
      " [[0 1 2]\n",
      " [3 4 5]]\n",
      "shape: (2, 3)\n",
      "dim: 2\n"
     ]
    }
   ],
   "source": [
    "a = a.reshape(2, 3)\n",
    "print('a=\\n', a)\n",
    "print('shape:', a.shape)\n",
    "print('dim:', a.ndim)"
   ]
  },
  {
   "cell_type": "markdown",
   "id": "e37a091e8202c702",
   "metadata": {},
   "source": [
    "## Changing dimensions/Adding axis"
   ]
  },
  {
   "cell_type": "markdown",
   "id": "efb4a731673a1034",
   "metadata": {},
   "source": [
    "### using `np.newaxis`\n",
    "Increases the dimensions of array by one dimension."
   ]
  },
  {
   "cell_type": "code",
   "execution_count": 38,
   "id": "1f37dc86e9bffc64",
   "metadata": {
    "execution": {
     "iopub.execute_input": "2024-05-25T17:46:47.549802Z",
     "iopub.status.busy": "2024-05-25T17:46:47.548951Z",
     "iopub.status.idle": "2024-05-25T17:46:47.562765Z",
     "shell.execute_reply": "2024-05-25T17:46:47.561566Z",
     "shell.execute_reply.started": "2024-05-25T17:46:47.549758Z"
    },
    "ExecuteTime": {
     "end_time": "2024-06-04T04:36:11.025840Z",
     "start_time": "2024-06-04T04:36:11.022996Z"
    }
   },
   "outputs": [
    {
     "name": "stdout",
     "output_type": "stream",
     "text": [
      "[[0 1]\n",
      " [2 3]\n",
      " [4 5]]\n",
      "(3, 2)\n",
      "2\n"
     ]
    }
   ],
   "source": [
    "a = np.arange(6).reshape(3, 2)\n",
    "print(a)\n",
    "print(a.shape)\n",
    "print(a.ndim)"
   ]
  },
  {
   "cell_type": "code",
   "execution_count": 39,
   "id": "54f2105000fd5fff",
   "metadata": {
    "execution": {
     "iopub.execute_input": "2024-05-25T17:46:47.568918Z",
     "iopub.status.busy": "2024-05-25T17:46:47.567421Z",
     "iopub.status.idle": "2024-05-25T17:46:47.581603Z",
     "shell.execute_reply": "2024-05-25T17:46:47.579918Z",
     "shell.execute_reply.started": "2024-05-25T17:46:47.568867Z"
    },
    "ExecuteTime": {
     "end_time": "2024-06-04T04:36:11.029247Z",
     "start_time": "2024-06-04T04:36:11.026853Z"
    }
   },
   "outputs": [
    {
     "name": "stdout",
     "output_type": "stream",
     "text": [
      "[[[0 1]]\n",
      "\n",
      " [[2 3]]\n",
      "\n",
      " [[4 5]]]\n",
      "(3, 1, 2)\n",
      "3\n"
     ]
    }
   ],
   "source": [
    "# a2 = a[np.newaxis, :]\n",
    "b = a[:, np.newaxis]\n",
    "print(b)\n",
    "print(b.shape)\n",
    "print(b.ndim)"
   ]
  },
  {
   "cell_type": "markdown",
   "id": "23e98027e8a8c3b",
   "metadata": {},
   "source": [
    "### using `np.expand_dims`\n",
    "Expands an array by inserting a new axis at a specified position"
   ]
  },
  {
   "cell_type": "code",
   "execution_count": 40,
   "id": "a686d90b915b9875",
   "metadata": {
    "execution": {
     "iopub.execute_input": "2024-05-25T17:46:47.584732Z",
     "iopub.status.busy": "2024-05-25T17:46:47.583587Z",
     "iopub.status.idle": "2024-05-25T17:46:47.597734Z",
     "shell.execute_reply": "2024-05-25T17:46:47.596593Z",
     "shell.execute_reply.started": "2024-05-25T17:46:47.584683Z"
    },
    "ExecuteTime": {
     "end_time": "2024-06-04T04:36:11.033580Z",
     "start_time": "2024-06-04T04:36:11.030195Z"
    }
   },
   "outputs": [
    {
     "data": {
      "text/plain": "array([[0, 1, 2],\n       [3, 4, 5],\n       [6, 7, 8]])"
     },
     "execution_count": 40,
     "metadata": {},
     "output_type": "execute_result"
    }
   ],
   "source": [
    "a = np.arange(9).reshape(3, 3)\n",
    "a"
   ]
  },
  {
   "cell_type": "code",
   "execution_count": 41,
   "id": "cb95f4285b33cfd9",
   "metadata": {
    "execution": {
     "iopub.execute_input": "2024-05-25T17:46:47.606341Z",
     "iopub.status.busy": "2024-05-25T17:46:47.605714Z",
     "iopub.status.idle": "2024-05-25T17:46:47.612589Z",
     "shell.execute_reply": "2024-05-25T17:46:47.611386Z",
     "shell.execute_reply.started": "2024-05-25T17:46:47.606309Z"
    },
    "ExecuteTime": {
     "end_time": "2024-06-04T04:36:11.037456Z",
     "start_time": "2024-06-04T04:36:11.034671Z"
    }
   },
   "outputs": [
    {
     "name": "stdout",
     "output_type": "stream",
     "text": [
      "[[[0]\n",
      "  [1]\n",
      "  [2]]\n",
      "\n",
      " [[3]\n",
      "  [4]\n",
      "  [5]]\n",
      "\n",
      " [[6]\n",
      "  [7]\n",
      "  [8]]]\n",
      "(3, 3, 1)\n"
     ]
    }
   ],
   "source": [
    "b = np.expand_dims(a, axis=2)\n",
    "print(b)\n",
    "print(b.shape)"
   ]
  },
  {
   "cell_type": "markdown",
   "id": "56d58fb7670d5414",
   "metadata": {},
   "source": [
    "## Indexing\n",
    "NumPy arrays can be indexed in the same ways as Python lists."
   ]
  },
  {
   "cell_type": "code",
   "execution_count": 42,
   "id": "16a666da296768be",
   "metadata": {
    "ExecuteTime": {
     "end_time": "2024-06-04T04:36:11.043202Z",
     "start_time": "2024-06-04T04:36:11.039647Z"
    }
   },
   "outputs": [
    {
     "data": {
      "text/plain": "array([10, 13, 16, 19, 22, 25, 28, 31, 34, 37])"
     },
     "execution_count": 42,
     "metadata": {},
     "output_type": "execute_result"
    }
   ],
   "source": [
    "arr = np.arange(10, 40, 3)\n",
    "arr"
   ]
  },
  {
   "cell_type": "code",
   "outputs": [
    {
     "data": {
      "text/plain": "(10, 19, 37)"
     },
     "execution_count": 43,
     "metadata": {},
     "output_type": "execute_result"
    }
   ],
   "source": [
    "arr[0], arr[3], arr[9]"
   ],
   "metadata": {
    "collapsed": false,
    "ExecuteTime": {
     "end_time": "2024-06-04T04:36:11.049214Z",
     "start_time": "2024-06-04T04:36:11.043852Z"
    }
   },
   "id": "6e3b7575433a2aef",
   "execution_count": 43
  },
  {
   "cell_type": "code",
   "outputs": [
    {
     "data": {
      "text/plain": "(array([[59, 66, 40],\n        [17, 34, 58],\n        [ 9, 17, 66]]),\n 2,\n (3, 3))"
     },
     "execution_count": 44,
     "metadata": {},
     "output_type": "execute_result"
    }
   ],
   "source": [
    "arr = np.random.randint(0, 100, (3, 3))\n",
    "arr, arr.ndim, arr.shape"
   ],
   "metadata": {
    "collapsed": false,
    "ExecuteTime": {
     "end_time": "2024-06-04T04:36:11.054207Z",
     "start_time": "2024-06-04T04:36:11.049945Z"
    }
   },
   "id": "346b8491182ac0bd",
   "execution_count": 44
  },
  {
   "cell_type": "code",
   "outputs": [
    {
     "data": {
      "text/plain": "(40, [1, 1], [2, 2])"
     },
     "execution_count": 45,
     "metadata": {},
     "output_type": "execute_result"
    }
   ],
   "source": [
    "arr[0][2], [1, 1], [2, 2]"
   ],
   "metadata": {
    "collapsed": false,
    "ExecuteTime": {
     "end_time": "2024-06-04T04:36:11.058135Z",
     "start_time": "2024-06-04T04:36:11.054683Z"
    }
   },
   "id": "137cf70239da0701",
   "execution_count": 45
  },
  {
   "cell_type": "markdown",
   "source": [
    "## Slicing\n",
    "Slicing allows to extract a portion of a Numpy array.\n",
    "`array[start:stop:step]`"
   ],
   "metadata": {
    "collapsed": false
   },
   "id": "203bc2eb6436527"
  },
  {
   "cell_type": "code",
   "outputs": [
    {
     "data": {
      "text/plain": "array([30, 37, 40, 10, 93, 67, 16, 85, 67, 24])"
     },
     "execution_count": 46,
     "metadata": {},
     "output_type": "execute_result"
    }
   ],
   "source": [
    "arr = np.random.randint(0, 100, 10)\n",
    "arr"
   ],
   "metadata": {
    "collapsed": false,
    "ExecuteTime": {
     "end_time": "2024-06-04T04:36:11.062020Z",
     "start_time": "2024-06-04T04:36:11.058765Z"
    }
   },
   "id": "33acbfd4f78b8a38",
   "execution_count": 46
  },
  {
   "cell_type": "code",
   "outputs": [
    {
     "data": {
      "text/plain": "(array([67, 16, 85, 67, 24]),\n array([30, 37, 40, 10, 93]),\n array([93, 67, 16, 85]),\n array([30, 37, 40, 10, 93, 67, 16, 85, 67]),\n array([30, 40, 93, 16, 67]),\n array([24, 67, 85, 16, 67, 93, 10, 40, 37, 30]),\n array([40, 93, 16]))"
     },
     "execution_count": 47,
     "metadata": {},
     "output_type": "execute_result"
    }
   ],
   "source": [
    "arr[5:], arr[:5], arr[4:8], arr[:-1], arr[::2], arr[::-1], arr[2:7:2]"
   ],
   "metadata": {
    "collapsed": false,
    "ExecuteTime": {
     "end_time": "2024-06-04T04:36:11.070898Z",
     "start_time": "2024-06-04T04:36:11.063191Z"
    }
   },
   "id": "f5b77743fb0cf47b",
   "execution_count": 47
  },
  {
   "cell_type": "code",
   "outputs": [
    {
     "data": {
      "text/plain": "array([[ 3, 59, 53],\n       [75, 25, 56],\n       [56, 82, 35]])"
     },
     "execution_count": 48,
     "metadata": {},
     "output_type": "execute_result"
    }
   ],
   "source": [
    "# 2 dimensional array\n",
    "arr = np.random.randint(0, 100, (3, 3))\n",
    "arr"
   ],
   "metadata": {
    "collapsed": false,
    "ExecuteTime": {
     "end_time": "2024-06-04T04:36:11.076512Z",
     "start_time": "2024-06-04T04:36:11.072282Z"
    }
   },
   "id": "eb8d575bc85addd6",
   "execution_count": 48
  },
  {
   "cell_type": "code",
   "outputs": [
    {
     "data": {
      "text/plain": "(array([[59, 53],\n        [25, 56],\n        [82, 35]]),\n array([[ 3],\n        [75],\n        [56]]),\n array([[ 3, 53],\n        [56, 35]]))"
     },
     "execution_count": 49,
     "metadata": {},
     "output_type": "execute_result"
    }
   ],
   "source": [
    "arr[0:, 1:], arr[:, :1],arr[::2, ::2], "
   ],
   "metadata": {
    "collapsed": false,
    "ExecuteTime": {
     "end_time": "2024-06-04T04:36:11.082454Z",
     "start_time": "2024-06-04T04:36:11.078173Z"
    }
   },
   "id": "d8ca86911f0e4e2e",
   "execution_count": 49
  },
  {
   "cell_type": "markdown",
   "id": "690033c531e605ad",
   "metadata": {
    "collapsed": false
   },
   "source": [
    "## Basic array operations"
   ]
  },
  {
   "cell_type": "markdown",
   "id": "8c7be241b46d8afa",
   "metadata": {
    "collapsed": false
   },
   "source": [
    "### Addition"
   ]
  },
  {
   "cell_type": "code",
   "execution_count": 50,
   "id": "2d4b4ac586d2cc2b",
   "metadata": {
    "collapsed": false,
    "ExecuteTime": {
     "end_time": "2024-06-04T04:36:11.087762Z",
     "start_time": "2024-06-04T04:36:11.083614Z"
    }
   },
   "outputs": [
    {
     "data": {
      "text/plain": "array([[57.92822684,  2.28712737, 53.43706201],\n       [29.2485526 , 81.68049825,  6.85943772],\n       [57.76736357,  5.48484034, 93.34655636]])"
     },
     "execution_count": 50,
     "metadata": {},
     "output_type": "execute_result"
    }
   ],
   "source": [
    "a = np.random.uniform(0, 100, (3, 3))\n",
    "a"
   ]
  },
  {
   "cell_type": "code",
   "execution_count": 51,
   "id": "4824a4f000adcd4d",
   "metadata": {
    "collapsed": false,
    "ExecuteTime": {
     "end_time": "2024-06-04T04:36:11.093575Z",
     "start_time": "2024-06-04T04:36:11.089365Z"
    }
   },
   "outputs": [
    {
     "data": {
      "text/plain": "array([[58.92822684,  3.28712737, 54.43706201],\n       [30.2485526 , 82.68049825,  7.85943772],\n       [58.76736357,  6.48484034, 94.34655636]])"
     },
     "execution_count": 51,
     "metadata": {},
     "output_type": "execute_result"
    }
   ],
   "source": [
    "a + 1"
   ]
  },
  {
   "cell_type": "code",
   "execution_count": 52,
   "id": "eed9887aecf20882",
   "metadata": {
    "collapsed": false,
    "ExecuteTime": {
     "end_time": "2024-06-04T04:36:11.097889Z",
     "start_time": "2024-06-04T04:36:11.094822Z"
    }
   },
   "outputs": [
    {
     "data": {
      "text/plain": "array([[43.24523852, 75.96317136,  9.92443007],\n       [ 5.7147279 , 87.84391098, 56.13560707],\n       [21.3074432 , 24.55784376, 74.62676129]])"
     },
     "execution_count": 52,
     "metadata": {},
     "output_type": "execute_result"
    }
   ],
   "source": [
    "b = np.random.uniform(0, 100, (3, 3))\n",
    "b"
   ]
  },
  {
   "cell_type": "code",
   "execution_count": 53,
   "id": "10ed9c8fdd47004a",
   "metadata": {
    "collapsed": false,
    "ExecuteTime": {
     "end_time": "2024-06-04T04:36:11.103779Z",
     "start_time": "2024-06-04T04:36:11.099410Z"
    }
   },
   "outputs": [
    {
     "data": {
      "text/plain": "array([[101.17346536,  78.25029873,  63.36149208],\n       [ 34.96328051, 169.52440923,  62.99504479],\n       [ 79.07480677,  30.0426841 , 167.97331765]])"
     },
     "execution_count": 53,
     "metadata": {},
     "output_type": "execute_result"
    }
   ],
   "source": [
    "a + b"
   ]
  }
 ],
 "metadata": {
  "colab": {
   "include_colab_link": true,
   "provenance": [],
   "toc_visible": true
  },
  "kaggle": {
   "accelerator": "none",
   "dataSources": [],
   "dockerImageVersionId": 30698,
   "isGpuEnabled": false,
   "isInternetEnabled": true,
   "language": "python",
   "sourceType": "notebook"
  },
  "kernelspec": {
   "display_name": "Python 3 (ipykernel)",
   "language": "python",
   "name": "python3"
  },
  "language_info": {
   "codemirror_mode": {
    "name": "ipython",
    "version": 3
   },
   "file_extension": ".py",
   "mimetype": "text/x-python",
   "name": "python",
   "nbconvert_exporter": "python",
   "pygments_lexer": "ipython3",
   "version": "3.11.7"
  }
 },
 "nbformat": 4,
 "nbformat_minor": 5
}

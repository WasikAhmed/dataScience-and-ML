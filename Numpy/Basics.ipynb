{
 "cells": [
  {
   "cell_type": "markdown",
   "source": [
    "# Numpy Basics"
   ],
   "metadata": {
    "collapsed": false
   },
   "id": "3c1808b540e5b7e8"
  },
  {
   "cell_type": "markdown",
   "source": [
    "## Installing Numpy"
   ],
   "metadata": {
    "collapsed": false
   },
   "id": "58c8c9e0ce41c3d4"
  },
  {
   "cell_type": "code",
   "outputs": [
    {
     "name": "stdout",
     "output_type": "stream",
     "text": [
      "Requirement already satisfied: numpy in /opt/homebrew/anaconda3/envs/datalab/lib/python3.12/site-packages (1.26.4)\r\n"
     ]
    }
   ],
   "source": [
    "# using pip3\n",
    "! pip3 install numpy"
   ],
   "metadata": {
    "collapsed": false,
    "ExecuteTime": {
     "end_time": "2024-05-11T17:58:07.376981Z",
     "start_time": "2024-05-11T17:58:06.211940Z"
    }
   },
   "id": "99dbe96ff15727d7",
   "execution_count": 1
  },
  {
   "cell_type": "markdown",
   "source": [
    "## Importing Numpy"
   ],
   "metadata": {
    "collapsed": false
   },
   "id": "7e65130d95bc097c"
  },
  {
   "cell_type": "code",
   "outputs": [
    {
     "name": "stdout",
     "output_type": "stream",
     "text": [
      "<module 'numpy' from '/opt/homebrew/anaconda3/lib/python3.11/site-packages/numpy/__init__.py'>\n"
     ]
    }
   ],
   "source": [
    "import numpy as np\n",
    "print(np)"
   ],
   "metadata": {
    "collapsed": false,
    "ExecuteTime": {
     "end_time": "2024-05-11T17:58:07.479898Z",
     "start_time": "2024-05-11T17:58:07.378628Z"
    }
   },
   "id": "42be5a988a5c991c",
   "execution_count": 2
  },
  {
   "cell_type": "markdown",
   "source": [],
   "metadata": {
    "collapsed": false
   },
   "id": "a6efa0bd3b397c54"
  },
  {
   "cell_type": "markdown",
   "source": [
    "## Numpy Array Restrictions\n",
    "\n",
    "- All elements of the array must be of the same type of data.\n",
    "- Once created, the total size of the array can’t change.\n",
    "- The shape must be “rectangular”, not “jagged”; e.g., each row of a two-dimensional array must have the same number of columns."
   ],
   "metadata": {
    "collapsed": false
   },
   "id": "a61683c2d2b16f0a"
  },
  {
   "cell_type": "markdown",
   "source": [
    "## Creating Numpy Arrays"
   ],
   "metadata": {
    "collapsed": false
   },
   "id": "24d3a7102bee6777"
  },
  {
   "cell_type": "code",
   "outputs": [
    {
     "name": "stdout",
     "output_type": "stream",
     "text": [
      "[1 2 3]\n",
      "[[1 2 3]\n",
      " [4 5 6]]\n",
      "[[[ 1  2  3]\n",
      "  [ 4  5  6]]\n",
      "\n",
      " [[ 7  8  9]\n",
      "  [10 11 12]]]\n"
     ]
    }
   ],
   "source": [
    "# 1D Array\n",
    "a = np.array([1, 2, 3])\n",
    "print(a)\n",
    "# 2D Array\n",
    "b = np.array([[1, 2, 3], [4, 5, 6]])\n",
    "print(b)\n",
    "# 3D Array\n",
    "c = np.array([[[1, 2, 3], [4, 5, 6]], [[7, 8, 9], [10, 11, 12]]])\n",
    "print(c)"
   ],
   "metadata": {
    "collapsed": false,
    "ExecuteTime": {
     "end_time": "2024-05-11T17:58:07.504134Z",
     "start_time": "2024-05-11T17:58:07.496044Z"
    }
   },
   "id": "474c1b92d038d801",
   "execution_count": 3
  },
  {
   "cell_type": "markdown",
   "source": [
    "### Creating Numpy Arrays with specific data types"
   ],
   "metadata": {
    "collapsed": false
   },
   "id": "e6649fff38f0c0ac"
  },
  {
   "cell_type": "code",
   "outputs": [
    {
     "name": "stdout",
     "output_type": "stream",
     "text": [
      "int64\n",
      "float64\n"
     ]
    }
   ],
   "source": [
    "a = np.array([1, 2, 3])\n",
    "b = np.array([3.0, 4.0, 5.0])\n",
    "print(a.dtype)\n",
    "print(b.dtype)"
   ],
   "metadata": {
    "collapsed": false,
    "ExecuteTime": {
     "end_time": "2024-05-11T17:58:07.511529Z",
     "start_time": "2024-05-11T17:58:07.507245Z"
    }
   },
   "id": "2b6da689acb7c65e",
   "execution_count": 4
  },
  {
   "cell_type": "code",
   "outputs": [
    {
     "name": "stdout",
     "output_type": "stream",
     "text": [
      "[1 2 3]\n",
      "int16\n"
     ]
    }
   ],
   "source": [
    "a = np.array([1, 2, 3], dtype='int16')\n",
    "print(a)\n",
    "print(a.dtype)"
   ],
   "metadata": {
    "collapsed": false,
    "ExecuteTime": {
     "end_time": "2024-05-11T17:58:07.517689Z",
     "start_time": "2024-05-11T17:58:07.513889Z"
    }
   },
   "id": "7510d0896bddf9e5",
   "execution_count": 5
  },
  {
   "cell_type": "code",
   "outputs": [
    {
     "name": "stdout",
     "output_type": "stream",
     "text": [
      "[1. 2. 3.]\n",
      "float32\n"
     ]
    }
   ],
   "source": [
    "a = np.array([1, 2, 3], dtype='float32')\n",
    "print(a)\n",
    "print(a.dtype)"
   ],
   "metadata": {
    "collapsed": false,
    "ExecuteTime": {
     "end_time": "2024-05-11T17:58:07.522818Z",
     "start_time": "2024-05-11T17:58:07.519220Z"
    }
   },
   "id": "9ea14189e3e4dadf",
   "execution_count": 6
  },
  {
   "cell_type": "markdown",
   "source": [
    "### Using `np.zeros()`\n",
    "create an array filled with zeros."
   ],
   "metadata": {
    "collapsed": false
   },
   "id": "3e571b57804bdac5"
  },
  {
   "cell_type": "code",
   "outputs": [
    {
     "name": "stdout",
     "output_type": "stream",
     "text": [
      "[0. 0. 0. 0. 0. 0. 0. 0. 0. 0.]\n"
     ]
    }
   ],
   "source": [
    "a = np.zeros(10)\n",
    "print(a)"
   ],
   "metadata": {
    "collapsed": false,
    "ExecuteTime": {
     "end_time": "2024-05-11T17:58:07.527067Z",
     "start_time": "2024-05-11T17:58:07.524228Z"
    }
   },
   "id": "242d464c42035cdf",
   "execution_count": 7
  },
  {
   "cell_type": "code",
   "outputs": [
    {
     "name": "stdout",
     "output_type": "stream",
     "text": [
      "[[0. 0. 0.]\n",
      " [0. 0. 0.]\n",
      " [0. 0. 0.]]\n"
     ]
    }
   ],
   "source": [
    "s = (3, 3)\n",
    "b = np.zeros(s)\n",
    "print(b)"
   ],
   "metadata": {
    "collapsed": false,
    "ExecuteTime": {
     "end_time": "2024-05-11T17:58:07.531831Z",
     "start_time": "2024-05-11T17:58:07.528775Z"
    }
   },
   "id": "b2c6637d6c8d46b4",
   "execution_count": 8
  },
  {
   "cell_type": "markdown",
   "source": [
    "### Using `np.ones()`\n",
    "create an array filled with ones."
   ],
   "metadata": {
    "collapsed": false
   },
   "id": "10e74f6aa6823c04"
  },
  {
   "cell_type": "code",
   "outputs": [
    {
     "name": "stdout",
     "output_type": "stream",
     "text": [
      "[1. 1. 1. 1. 1.]\n",
      "[1 1 1]\n"
     ]
    }
   ],
   "source": [
    "a = np.ones(5)\n",
    "print(a)\n",
    "b = np.ones(3, dtype='int64')\n",
    "print(b)"
   ],
   "metadata": {
    "collapsed": false,
    "ExecuteTime": {
     "end_time": "2024-05-11T17:58:07.538217Z",
     "start_time": "2024-05-11T17:58:07.534143Z"
    }
   },
   "id": "409b1b8e4110592c",
   "execution_count": 9
  },
  {
   "cell_type": "code",
   "outputs": [
    {
     "name": "stdout",
     "output_type": "stream",
     "text": [
      "[[1. 1. 1. 1. 1.]\n",
      " [1. 1. 1. 1. 1.]\n",
      " [1. 1. 1. 1. 1.]\n",
      " [1. 1. 1. 1. 1.]\n",
      " [1. 1. 1. 1. 1.]]\n"
     ]
    }
   ],
   "source": [
    "a = np.ones((5, 5))\n",
    "print(a)"
   ],
   "metadata": {
    "collapsed": false,
    "ExecuteTime": {
     "end_time": "2024-05-11T17:58:07.545722Z",
     "start_time": "2024-05-11T17:58:07.542508Z"
    }
   },
   "id": "a007b0461ea4197",
   "execution_count": 10
  },
  {
   "cell_type": "code",
   "outputs": [
    {
     "name": "stdout",
     "output_type": "stream",
     "text": [
      "[[5. 5. 5.]\n",
      " [5. 5. 5.]\n",
      " [5. 5. 5.]]\n"
     ]
    }
   ],
   "source": [
    "a = np.ones((3, 3)) * 5\n",
    "print(a)"
   ],
   "metadata": {
    "collapsed": false,
    "ExecuteTime": {
     "end_time": "2024-05-11T17:58:07.551910Z",
     "start_time": "2024-05-11T17:58:07.547068Z"
    }
   },
   "id": "ccca6b71ddba0b1b",
   "execution_count": 11
  },
  {
   "cell_type": "markdown",
   "source": [
    "### Using `np.empty()`\n",
    "\n",
    "create an array of a specified shape without initializing its elements. Unlike `np.zeros()` which initializes all elements to zeros, `np.empty()` does not initialize the elements at all. Instead, it allocates the memory needed for the array but does not set the values of the elements. The values of the array will be whatever happens to already exist at that memory location."
   ],
   "metadata": {
    "collapsed": false
   },
   "id": "d0d2b472cb02135f"
  },
  {
   "cell_type": "code",
   "outputs": [
    {
     "name": "stdout",
     "output_type": "stream",
     "text": [
      "[1. 1. 1. 1. 1.]\n"
     ]
    }
   ],
   "source": [
    "a = np.empty(5)\n",
    "print(a)"
   ],
   "metadata": {
    "collapsed": false,
    "ExecuteTime": {
     "end_time": "2024-05-11T17:58:07.559190Z",
     "start_time": "2024-05-11T17:58:07.555337Z"
    }
   },
   "id": "e094e43456a8e361",
   "execution_count": 12
  },
  {
   "cell_type": "code",
   "outputs": [
    {
     "name": "stdout",
     "output_type": "stream",
     "text": [
      "[[0. 0. 0. 0.]\n",
      " [0. 0. 0. 0.]\n",
      " [0. 0. 0. 0.]\n",
      " [0. 0. 0. 0.]]\n"
     ]
    }
   ],
   "source": [
    "b = np.empty((4, 4))\n",
    "print(b)"
   ],
   "metadata": {
    "collapsed": false,
    "ExecuteTime": {
     "end_time": "2024-05-11T17:58:07.565174Z",
     "start_time": "2024-05-11T17:58:07.560955Z"
    }
   },
   "id": "8aeface79b7196a7",
   "execution_count": 13
  },
  {
   "cell_type": "markdown",
   "source": [
    "### Using `np.arange()`\n",
    "create arrays with regularly spaced values within a specified interval. It is similar to Python's built-in `range()` function but returns an array instead of a list."
   ],
   "metadata": {
    "collapsed": false
   },
   "id": "5b3b2f832419a420"
  },
  {
   "cell_type": "code",
   "outputs": [
    {
     "name": "stdout",
     "output_type": "stream",
     "text": [
      "[0 1 2 3 4 5 6 7 8 9]\n"
     ]
    }
   ],
   "source": [
    "a = np.arange(10)\n",
    "print(a)"
   ],
   "metadata": {
    "collapsed": false,
    "ExecuteTime": {
     "end_time": "2024-05-11T17:58:07.571198Z",
     "start_time": "2024-05-11T17:58:07.566937Z"
    }
   },
   "id": "cdd9e10b7415a27",
   "execution_count": 14
  },
  {
   "cell_type": "code",
   "outputs": [
    {
     "name": "stdout",
     "output_type": "stream",
     "text": [
      "[10 11 12 13 14 15 16 17 18 19]\n"
     ]
    }
   ],
   "source": [
    "b = np.arange(10, 20)\n",
    "print(b)"
   ],
   "metadata": {
    "collapsed": false,
    "ExecuteTime": {
     "end_time": "2024-05-11T17:58:07.576295Z",
     "start_time": "2024-05-11T17:58:07.572995Z"
    }
   },
   "id": "d5fcce96c4f2c2f4",
   "execution_count": 15
  },
  {
   "cell_type": "code",
   "outputs": [
    {
     "name": "stdout",
     "output_type": "stream",
     "text": [
      "[30 32 34 36 38 40 42 44 46 48 50 52 54 56 58]\n"
     ]
    }
   ],
   "source": [
    "c = np.arange(30, 60, 2)\n",
    "print(c)"
   ],
   "metadata": {
    "collapsed": false,
    "ExecuteTime": {
     "end_time": "2024-05-11T17:58:07.581538Z",
     "start_time": "2024-05-11T17:58:07.578031Z"
    }
   },
   "id": "5efea78e1e435037",
   "execution_count": 16
  },
  {
   "cell_type": "markdown",
   "source": [
    "### Using `np.linspace()`\n",
    "create arrays with evenly spaced numbers over a specified interval. Unlike `np.arange()`, which generates values with a specified step size, `np.linspace()` generates values that are evenly spaced between the specified start and stop values, inclusive by default."
   ],
   "metadata": {
    "collapsed": false
   },
   "id": "81eb0925e7c07f6b"
  },
  {
   "cell_type": "code",
   "outputs": [
    {
     "name": "stdout",
     "output_type": "stream",
     "text": [
      "[10.         10.20408163 10.40816327 10.6122449  10.81632653 11.02040816\n",
      " 11.2244898  11.42857143 11.63265306 11.83673469 12.04081633 12.24489796\n",
      " 12.44897959 12.65306122 12.85714286 13.06122449 13.26530612 13.46938776\n",
      " 13.67346939 13.87755102 14.08163265 14.28571429 14.48979592 14.69387755\n",
      " 14.89795918 15.10204082 15.30612245 15.51020408 15.71428571 15.91836735\n",
      " 16.12244898 16.32653061 16.53061224 16.73469388 16.93877551 17.14285714\n",
      " 17.34693878 17.55102041 17.75510204 17.95918367 18.16326531 18.36734694\n",
      " 18.57142857 18.7755102  18.97959184 19.18367347 19.3877551  19.59183673\n",
      " 19.79591837 20.        ]\n"
     ]
    }
   ],
   "source": [
    "a = np.linspace(10, 20)\n",
    "print(a)"
   ],
   "metadata": {
    "collapsed": false,
    "ExecuteTime": {
     "end_time": "2024-05-11T17:58:07.587701Z",
     "start_time": "2024-05-11T17:58:07.583791Z"
    }
   },
   "id": "f5d2e4954c11fff2",
   "execution_count": 17
  },
  {
   "cell_type": "code",
   "outputs": [
    {
     "name": "stdout",
     "output_type": "stream",
     "text": [
      "[  0.          11.11111111  22.22222222  33.33333333  44.44444444\n",
      "  55.55555556  66.66666667  77.77777778  88.88888889 100.        ]\n"
     ]
    }
   ],
   "source": [
    "b = np.linspace(0, 100, num=10) # default num = 50\n",
    "print(b)"
   ],
   "metadata": {
    "collapsed": false,
    "ExecuteTime": {
     "end_time": "2024-05-11T17:58:07.592831Z",
     "start_time": "2024-05-11T17:58:07.589119Z"
    }
   },
   "id": "e202bcc888c8ab3c",
   "execution_count": 18
  },
  {
   "cell_type": "code",
   "outputs": [
    {
     "name": "stdout",
     "output_type": "stream",
     "text": [
      "[10.  12.5 15.  17.5 20. ]\n"
     ]
    }
   ],
   "source": [
    "c = np.linspace(10, 20, 5)\n",
    "print(c)"
   ],
   "metadata": {
    "collapsed": false,
    "ExecuteTime": {
     "end_time": "2024-05-11T17:58:07.598386Z",
     "start_time": "2024-05-11T17:58:07.594579Z"
    }
   },
   "id": "c3a0f95a88e566eb",
   "execution_count": 19
  }
 ],
 "metadata": {
  "kernelspec": {
   "display_name": "Python 3",
   "language": "python",
   "name": "python3"
  },
  "language_info": {
   "codemirror_mode": {
    "name": "ipython",
    "version": 2
   },
   "file_extension": ".py",
   "mimetype": "text/x-python",
   "name": "python",
   "nbconvert_exporter": "python",
   "pygments_lexer": "ipython2",
   "version": "2.7.6"
  }
 },
 "nbformat": 4,
 "nbformat_minor": 5
}

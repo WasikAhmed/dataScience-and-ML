{
 "cells": [
  {
   "cell_type": "markdown",
   "source": [
    "# Numpy Basics"
   ],
   "metadata": {
    "collapsed": false
   },
   "id": "3c1808b540e5b7e8"
  },
  {
   "cell_type": "markdown",
   "source": [
    "## Installing Numpy"
   ],
   "metadata": {
    "collapsed": false
   },
   "id": "58c8c9e0ce41c3d4"
  },
  {
   "cell_type": "code",
   "outputs": [
    {
     "name": "stdout",
     "output_type": "stream",
     "text": [
      "Requirement already satisfied: numpy in /opt/homebrew/anaconda3/envs/datalab/lib/python3.12/site-packages (1.26.4)\r\n"
     ]
    }
   ],
   "source": [
    "# using pip3\n",
    "! pip3 install numpy"
   ],
   "metadata": {
    "collapsed": false,
    "ExecuteTime": {
     "end_time": "2024-05-20T17:20:42.064278Z",
     "start_time": "2024-05-20T17:20:40.954815Z"
    }
   },
   "id": "99dbe96ff15727d7",
   "execution_count": 1
  },
  {
   "cell_type": "markdown",
   "source": [
    "## Importing Numpy"
   ],
   "metadata": {
    "collapsed": false
   },
   "id": "7e65130d95bc097c"
  },
  {
   "cell_type": "code",
   "outputs": [
    {
     "name": "stdout",
     "output_type": "stream",
     "text": [
      "<module 'numpy' from '/opt/homebrew/anaconda3/lib/python3.11/site-packages/numpy/__init__.py'>\n"
     ]
    }
   ],
   "source": [
    "import numpy as np\n",
    "print(np)"
   ],
   "metadata": {
    "collapsed": false,
    "ExecuteTime": {
     "end_time": "2024-05-20T17:20:42.147972Z",
     "start_time": "2024-05-20T17:20:42.066032Z"
    }
   },
   "id": "42be5a988a5c991c",
   "execution_count": 2
  },
  {
   "cell_type": "markdown",
   "source": [],
   "metadata": {
    "collapsed": false
   },
   "id": "a6efa0bd3b397c54"
  },
  {
   "cell_type": "markdown",
   "source": [
    "## Numpy Array Restrictions\n",
    "\n",
    "- All elements of the array must be of the same type of data.\n",
    "- Once created, the total size of the array can’t change.\n",
    "- The shape must be “rectangular”, not “jagged”; e.g., each row of a two-dimensional array must have the same number of columns."
   ],
   "metadata": {
    "collapsed": false
   },
   "id": "a61683c2d2b16f0a"
  },
  {
   "cell_type": "markdown",
   "source": [
    "## Creating Numpy Arrays"
   ],
   "metadata": {
    "collapsed": false
   },
   "id": "24d3a7102bee6777"
  },
  {
   "cell_type": "code",
   "outputs": [
    {
     "name": "stdout",
     "output_type": "stream",
     "text": [
      "[1 2 3]\n",
      "[[1 2 3]\n",
      " [4 5 6]]\n",
      "[[[ 1  2  3]\n",
      "  [ 4  5  6]]\n",
      "\n",
      " [[ 7  8  9]\n",
      "  [10 11 12]]]\n"
     ]
    }
   ],
   "source": [
    "# 1D Array\n",
    "a = np.array([1, 2, 3])\n",
    "print(a)\n",
    "# 2D Array\n",
    "b = np.array([[1, 2, 3], [4, 5, 6]])\n",
    "print(b)\n",
    "# 3D Array\n",
    "c = np.array([[[1, 2, 3], [4, 5, 6]], [[7, 8, 9], [10, 11, 12]]])\n",
    "print(c)"
   ],
   "metadata": {
    "collapsed": false,
    "ExecuteTime": {
     "end_time": "2024-05-20T17:20:42.180699Z",
     "start_time": "2024-05-20T17:20:42.159324Z"
    }
   },
   "id": "474c1b92d038d801",
   "execution_count": 3
  },
  {
   "cell_type": "markdown",
   "source": [
    "### Creating Numpy Arrays with specific data types"
   ],
   "metadata": {
    "collapsed": false
   },
   "id": "e6649fff38f0c0ac"
  },
  {
   "cell_type": "code",
   "outputs": [
    {
     "name": "stdout",
     "output_type": "stream",
     "text": [
      "int64\n",
      "float64\n"
     ]
    }
   ],
   "source": [
    "a = np.array([1, 2, 3])\n",
    "b = np.array([3.0, 4.0, 5.0])\n",
    "print(a.dtype)\n",
    "print(b.dtype)"
   ],
   "metadata": {
    "collapsed": false,
    "ExecuteTime": {
     "end_time": "2024-05-20T17:20:42.211406Z",
     "start_time": "2024-05-20T17:20:42.206313Z"
    }
   },
   "id": "2b6da689acb7c65e",
   "execution_count": 4
  },
  {
   "cell_type": "code",
   "outputs": [
    {
     "name": "stdout",
     "output_type": "stream",
     "text": [
      "[1 2 3]\n",
      "int16\n"
     ]
    }
   ],
   "source": [
    "a = np.array([1, 2, 3], dtype='int16')\n",
    "print(a)\n",
    "print(a.dtype)"
   ],
   "metadata": {
    "collapsed": false,
    "ExecuteTime": {
     "end_time": "2024-05-20T17:20:42.219015Z",
     "start_time": "2024-05-20T17:20:42.215044Z"
    }
   },
   "id": "7510d0896bddf9e5",
   "execution_count": 5
  },
  {
   "cell_type": "code",
   "outputs": [
    {
     "name": "stdout",
     "output_type": "stream",
     "text": [
      "[1. 2. 3.]\n",
      "float32\n"
     ]
    }
   ],
   "source": [
    "a = np.array([1, 2, 3], dtype='float32')\n",
    "print(a)\n",
    "print(a.dtype)"
   ],
   "metadata": {
    "collapsed": false,
    "ExecuteTime": {
     "end_time": "2024-05-20T17:20:42.224670Z",
     "start_time": "2024-05-20T17:20:42.220960Z"
    }
   },
   "id": "9ea14189e3e4dadf",
   "execution_count": 6
  },
  {
   "cell_type": "markdown",
   "source": [
    "### Using `np.zeros()`\n",
    "create an array filled with zeros."
   ],
   "metadata": {
    "collapsed": false
   },
   "id": "3e571b57804bdac5"
  },
  {
   "cell_type": "code",
   "outputs": [
    {
     "name": "stdout",
     "output_type": "stream",
     "text": [
      "[0. 0. 0. 0. 0. 0. 0. 0. 0. 0.]\n"
     ]
    }
   ],
   "source": [
    "a = np.zeros(10)\n",
    "print(a)"
   ],
   "metadata": {
    "collapsed": false,
    "ExecuteTime": {
     "end_time": "2024-05-20T17:20:42.229747Z",
     "start_time": "2024-05-20T17:20:42.226337Z"
    }
   },
   "id": "242d464c42035cdf",
   "execution_count": 7
  },
  {
   "cell_type": "code",
   "outputs": [
    {
     "name": "stdout",
     "output_type": "stream",
     "text": [
      "[[0. 0. 0.]\n",
      " [0. 0. 0.]\n",
      " [0. 0. 0.]]\n"
     ]
    }
   ],
   "source": [
    "s = (3, 3)\n",
    "b = np.zeros(s)\n",
    "print(b)"
   ],
   "metadata": {
    "collapsed": false,
    "ExecuteTime": {
     "end_time": "2024-05-20T17:20:42.234850Z",
     "start_time": "2024-05-20T17:20:42.231041Z"
    }
   },
   "id": "b2c6637d6c8d46b4",
   "execution_count": 8
  },
  {
   "cell_type": "markdown",
   "source": [
    "### Using `np.ones()`\n",
    "create an array filled with ones."
   ],
   "metadata": {
    "collapsed": false
   },
   "id": "10e74f6aa6823c04"
  },
  {
   "cell_type": "code",
   "outputs": [
    {
     "name": "stdout",
     "output_type": "stream",
     "text": [
      "[1. 1. 1. 1. 1.]\n",
      "[1 1 1]\n"
     ]
    }
   ],
   "source": [
    "a = np.ones(5)\n",
    "print(a)\n",
    "b = np.ones(3, dtype='int64')\n",
    "print(b)"
   ],
   "metadata": {
    "collapsed": false,
    "ExecuteTime": {
     "end_time": "2024-05-20T17:20:42.240376Z",
     "start_time": "2024-05-20T17:20:42.236486Z"
    }
   },
   "id": "409b1b8e4110592c",
   "execution_count": 9
  },
  {
   "cell_type": "code",
   "outputs": [
    {
     "name": "stdout",
     "output_type": "stream",
     "text": [
      "[[1. 1. 1. 1. 1.]\n",
      " [1. 1. 1. 1. 1.]\n",
      " [1. 1. 1. 1. 1.]\n",
      " [1. 1. 1. 1. 1.]\n",
      " [1. 1. 1. 1. 1.]]\n"
     ]
    }
   ],
   "source": [
    "a = np.ones((5, 5))\n",
    "print(a)"
   ],
   "metadata": {
    "collapsed": false,
    "ExecuteTime": {
     "end_time": "2024-05-20T17:20:42.246361Z",
     "start_time": "2024-05-20T17:20:42.242282Z"
    }
   },
   "id": "a007b0461ea4197",
   "execution_count": 10
  },
  {
   "cell_type": "code",
   "outputs": [
    {
     "name": "stdout",
     "output_type": "stream",
     "text": [
      "[[5. 5. 5.]\n",
      " [5. 5. 5.]\n",
      " [5. 5. 5.]]\n"
     ]
    }
   ],
   "source": [
    "a = np.ones((3, 3)) * 5\n",
    "print(a)"
   ],
   "metadata": {
    "collapsed": false,
    "ExecuteTime": {
     "end_time": "2024-05-20T17:20:42.251338Z",
     "start_time": "2024-05-20T17:20:42.247661Z"
    }
   },
   "id": "ccca6b71ddba0b1b",
   "execution_count": 11
  },
  {
   "cell_type": "markdown",
   "source": [
    "### Using `np.empty()`\n",
    "\n",
    "create an array of a specified shape without initializing its elements. Unlike `np.zeros()` which initializes all elements to zeros, `np.empty()` does not initialize the elements at all. Instead, it allocates the memory needed for the array but does not set the values of the elements. The values of the array will be whatever happens to already exist at that memory location."
   ],
   "metadata": {
    "collapsed": false
   },
   "id": "d0d2b472cb02135f"
  },
  {
   "cell_type": "code",
   "outputs": [
    {
     "name": "stdout",
     "output_type": "stream",
     "text": [
      "[1. 1. 1. 1. 1.]\n"
     ]
    }
   ],
   "source": [
    "a = np.empty(5)\n",
    "print(a)"
   ],
   "metadata": {
    "collapsed": false,
    "ExecuteTime": {
     "end_time": "2024-05-20T17:20:42.256494Z",
     "start_time": "2024-05-20T17:20:42.253114Z"
    }
   },
   "id": "e094e43456a8e361",
   "execution_count": 12
  },
  {
   "cell_type": "code",
   "outputs": [
    {
     "name": "stdout",
     "output_type": "stream",
     "text": [
      "[[0. 0. 0. 0.]\n",
      " [0. 0. 0. 0.]\n",
      " [0. 0. 0. 0.]\n",
      " [0. 0. 0. 0.]]\n"
     ]
    }
   ],
   "source": [
    "b = np.empty((4, 4))\n",
    "print(b)"
   ],
   "metadata": {
    "collapsed": false,
    "ExecuteTime": {
     "end_time": "2024-05-20T17:20:42.262092Z",
     "start_time": "2024-05-20T17:20:42.258584Z"
    }
   },
   "id": "8aeface79b7196a7",
   "execution_count": 13
  },
  {
   "cell_type": "markdown",
   "source": [
    "### Using `np.arange()`\n",
    "create arrays with regularly spaced values within a specified interval. It is similar to Python's built-in `range()` function but returns an array instead of a list."
   ],
   "metadata": {
    "collapsed": false
   },
   "id": "5b3b2f832419a420"
  },
  {
   "cell_type": "code",
   "outputs": [
    {
     "name": "stdout",
     "output_type": "stream",
     "text": [
      "[0 1 2 3 4 5 6 7 8 9]\n"
     ]
    }
   ],
   "source": [
    "a = np.arange(10)\n",
    "print(a)"
   ],
   "metadata": {
    "collapsed": false,
    "ExecuteTime": {
     "end_time": "2024-05-20T17:20:42.269225Z",
     "start_time": "2024-05-20T17:20:42.266710Z"
    }
   },
   "id": "cdd9e10b7415a27",
   "execution_count": 14
  },
  {
   "cell_type": "code",
   "outputs": [
    {
     "name": "stdout",
     "output_type": "stream",
     "text": [
      "[10 11 12 13 14 15 16 17 18 19]\n"
     ]
    }
   ],
   "source": [
    "b = np.arange(10, 20)\n",
    "print(b)"
   ],
   "metadata": {
    "collapsed": false,
    "ExecuteTime": {
     "end_time": "2024-05-20T17:20:42.273663Z",
     "start_time": "2024-05-20T17:20:42.270634Z"
    }
   },
   "id": "d5fcce96c4f2c2f4",
   "execution_count": 15
  },
  {
   "cell_type": "code",
   "outputs": [
    {
     "name": "stdout",
     "output_type": "stream",
     "text": [
      "[30 32 34 36 38 40 42 44 46 48 50 52 54 56 58]\n"
     ]
    }
   ],
   "source": [
    "c = np.arange(30, 60, 2)\n",
    "print(c)"
   ],
   "metadata": {
    "collapsed": false,
    "ExecuteTime": {
     "end_time": "2024-05-20T17:20:42.279018Z",
     "start_time": "2024-05-20T17:20:42.275573Z"
    }
   },
   "id": "5efea78e1e435037",
   "execution_count": 16
  },
  {
   "cell_type": "markdown",
   "source": [
    "### Using `np.linspace()`\n",
    "create arrays with evenly spaced numbers over a specified interval. Unlike `np.arange()`, which generates values with a specified step size, `np.linspace()` generates values that are evenly spaced between the specified start and stop values, inclusive by default."
   ],
   "metadata": {
    "collapsed": false
   },
   "id": "81eb0925e7c07f6b"
  },
  {
   "cell_type": "code",
   "outputs": [
    {
     "name": "stdout",
     "output_type": "stream",
     "text": [
      "[10.         10.20408163 10.40816327 10.6122449  10.81632653 11.02040816\n",
      " 11.2244898  11.42857143 11.63265306 11.83673469 12.04081633 12.24489796\n",
      " 12.44897959 12.65306122 12.85714286 13.06122449 13.26530612 13.46938776\n",
      " 13.67346939 13.87755102 14.08163265 14.28571429 14.48979592 14.69387755\n",
      " 14.89795918 15.10204082 15.30612245 15.51020408 15.71428571 15.91836735\n",
      " 16.12244898 16.32653061 16.53061224 16.73469388 16.93877551 17.14285714\n",
      " 17.34693878 17.55102041 17.75510204 17.95918367 18.16326531 18.36734694\n",
      " 18.57142857 18.7755102  18.97959184 19.18367347 19.3877551  19.59183673\n",
      " 19.79591837 20.        ]\n"
     ]
    }
   ],
   "source": [
    "a = np.linspace(10, 20)\n",
    "print(a)"
   ],
   "metadata": {
    "collapsed": false,
    "ExecuteTime": {
     "end_time": "2024-05-20T17:20:42.285039Z",
     "start_time": "2024-05-20T17:20:42.280738Z"
    }
   },
   "id": "f5d2e4954c11fff2",
   "execution_count": 17
  },
  {
   "cell_type": "code",
   "outputs": [
    {
     "name": "stdout",
     "output_type": "stream",
     "text": [
      "[  0.          11.11111111  22.22222222  33.33333333  44.44444444\n",
      "  55.55555556  66.66666667  77.77777778  88.88888889 100.        ]\n"
     ]
    }
   ],
   "source": [
    "b = np.linspace(0, 100, num=10) # default num = 50\n",
    "print(b)"
   ],
   "metadata": {
    "collapsed": false,
    "ExecuteTime": {
     "end_time": "2024-05-20T17:20:42.289794Z",
     "start_time": "2024-05-20T17:20:42.286485Z"
    }
   },
   "id": "e202bcc888c8ab3c",
   "execution_count": 18
  },
  {
   "cell_type": "code",
   "outputs": [
    {
     "name": "stdout",
     "output_type": "stream",
     "text": [
      "[10.  12.5 15.  17.5 20. ]\n"
     ]
    }
   ],
   "source": [
    "c = np.linspace(10, 20, 5)\n",
    "print(c)"
   ],
   "metadata": {
    "collapsed": false,
    "ExecuteTime": {
     "end_time": "2024-05-20T17:20:42.294807Z",
     "start_time": "2024-05-20T17:20:42.291541Z"
    }
   },
   "id": "c3a0f95a88e566eb",
   "execution_count": 19
  },
  {
   "cell_type": "markdown",
   "source": [
    "## Array attributes"
   ],
   "metadata": {
    "collapsed": false
   },
   "id": "631c2e89dbe7d445"
  },
  {
   "cell_type": "code",
   "outputs": [
    {
     "name": "stdout",
     "output_type": "stream",
     "text": [
      "a=\n",
      "[1 2 3 4 5]\n",
      "b=\n",
      "[[ 1  2  3  4  5]\n",
      " [ 6  7  8  9 10]]\n",
      "c=\n",
      "[[[ 1  2  3]\n",
      "  [ 4  5  6]]\n",
      "\n",
      " [[ 7  8  9]\n",
      "  [10 11 12]]]\n"
     ]
    }
   ],
   "source": [
    "# 1D Array\n",
    "a = np.array([1, 2, 3, 4, 5])\n",
    "# 2D Array\n",
    "b = np.array([[1, 2, 3, 4, 5], [6, 7, 8, 9, 10]])\n",
    "# 3D Array\n",
    "c = np.array([[[1, 2, 3], [4, 5, 6]], [[7, 8, 9], [10, 11, 12]]])\n",
    "\n",
    "print('a=', a, 'b=', b, 'c=', c, sep='\\n')"
   ],
   "metadata": {
    "collapsed": false,
    "ExecuteTime": {
     "end_time": "2024-05-20T17:20:42.300085Z",
     "start_time": "2024-05-20T17:20:42.296328Z"
    }
   },
   "id": "305948b98c22422c",
   "execution_count": 20
  },
  {
   "cell_type": "markdown",
   "source": [
    "### `ndim`\n",
    "Attribute contains the number of dimensions of an array."
   ],
   "metadata": {
    "collapsed": false
   },
   "id": "94dfcb05f6a437db"
  },
  {
   "cell_type": "code",
   "outputs": [
    {
     "name": "stdout",
     "output_type": "stream",
     "text": [
      "1\n",
      "2\n",
      "3\n"
     ]
    }
   ],
   "source": [
    "print(a.ndim)\n",
    "print(b.ndim)\n",
    "print(c.ndim)"
   ],
   "metadata": {
    "collapsed": false,
    "ExecuteTime": {
     "end_time": "2024-05-20T17:20:42.304478Z",
     "start_time": "2024-05-20T17:20:42.301760Z"
    }
   },
   "id": "a025e0a67c6e2174",
   "execution_count": 21
  },
  {
   "cell_type": "markdown",
   "source": [
    "### `shape`\n",
    "- Specify the number of elements along each dimension.\n",
    "- a tuple of non-negative integers"
   ],
   "metadata": {
    "collapsed": false
   },
   "id": "10287e65a88bb879"
  },
  {
   "cell_type": "code",
   "outputs": [
    {
     "name": "stdout",
     "output_type": "stream",
     "text": [
      "shape of a= (5,)\n",
      "shape of b= (2, 5)\n",
      "shape of c= (2, 2, 3)\n"
     ]
    }
   ],
   "source": [
    "print('shape of a=', a.shape)\n",
    "print('shape of b=', b.shape)\n",
    "print('shape of c=', c.shape)"
   ],
   "metadata": {
    "collapsed": false,
    "ExecuteTime": {
     "end_time": "2024-05-20T17:20:42.309111Z",
     "start_time": "2024-05-20T17:20:42.305625Z"
    }
   },
   "id": "fbd5056175244d94",
   "execution_count": 22
  },
  {
   "cell_type": "code",
   "outputs": [
    {
     "name": "stdout",
     "output_type": "stream",
     "text": [
      "len of a.shape: 1 dim of a: 1\n",
      "len of b.shape: 2 dim of b: 2\n",
      "len of c.shape: 3 dim of c: 3\n"
     ]
    }
   ],
   "source": [
    "# len(ndarray.shape) == ndarray.dim -> True\n",
    "print('len of a.shape:', len(a.shape), 'dim of a:', a.ndim)\n",
    "print('len of b.shape:', len(b.shape), 'dim of b:', b.ndim)\n",
    "print('len of c.shape:', len(c.shape), 'dim of c:', c.ndim)"
   ],
   "metadata": {
    "collapsed": false,
    "ExecuteTime": {
     "end_time": "2024-05-20T17:20:42.314118Z",
     "start_time": "2024-05-20T17:20:42.310606Z"
    }
   },
   "id": "66ab641689980996",
   "execution_count": 23
  },
  {
   "cell_type": "markdown",
   "source": [
    "### `size`\n",
    "Contains total number of elements in array."
   ],
   "metadata": {
    "collapsed": false
   },
   "id": "fab711c547a4ce33"
  },
  {
   "cell_type": "code",
   "outputs": [
    {
     "name": "stdout",
     "output_type": "stream",
     "text": [
      "total elements in a= 5\n",
      "total elements in b= 10\n",
      "total elements in c= 12\n"
     ]
    }
   ],
   "source": [
    "print('total elements in a=', a.size)\n",
    "print('total elements in b=', b.size)\n",
    "print('total elements in c=', c.size)"
   ],
   "metadata": {
    "collapsed": false,
    "ExecuteTime": {
     "end_time": "2024-05-20T17:20:42.319753Z",
     "start_time": "2024-05-20T17:20:42.315760Z"
    }
   },
   "id": "ca169029dc546959",
   "execution_count": 24
  },
  {
   "cell_type": "markdown",
   "source": [
    "**product of elements in `ndarray.shape` is equals to `ndarray.size` or total elements**\n",
    "`ndarray.shape` returns a tuple or a sequence of numbers"
   ],
   "metadata": {
    "collapsed": false
   },
   "id": "90315eee4465ba4b"
  },
  {
   "cell_type": "code",
   "outputs": [
    {
     "name": "stdout",
     "output_type": "stream",
     "text": [
      "True\n",
      "True\n",
      "True\n"
     ]
    }
   ],
   "source": [
    "# numpy.prod() -> takes an array or a sequence of numbers as input and returns the product of all the elements in it.\n",
    "# math.prod() can be used too to get the product.\n",
    "\n",
    "import math\n",
    "\n",
    "# prod_a_shape = np.prod(a.shape) \n",
    "# prod_b_shape = np.prod(b.shape)\n",
    "# prod_c_shape = np.prod(c.shape)\n",
    "\n",
    "prod_a_shape = math.prod(a.shape)\n",
    "prod_b_shape = math.prod(b.shape)\n",
    "prod_c_shape = math.prod(c.shape)\n",
    "\n",
    "print(a.size == prod_a_shape)\n",
    "print(b.size == prod_b_shape)\n",
    "print(c.size == prod_c_shape)\n",
    "\n",
    "# array -> Shape -> Multiplication -> total element returned by ndarray.size\n",
    "# a -> (5,) -> 5 -> 5\n",
    "# b -> (2, 5) -> 2*5 -> 10\n",
    "# c -> (2, 2, 3) -> 2*2*3 -> 12 "
   ],
   "metadata": {
    "collapsed": false,
    "ExecuteTime": {
     "end_time": "2024-05-20T17:20:42.326832Z",
     "start_time": "2024-05-20T17:20:42.321666Z"
    }
   },
   "id": "3e8f21687ddd6410",
   "execution_count": 25
  },
  {
   "cell_type": "markdown",
   "source": [
    "### `dtype`\n",
    "Contains the data type of the array."
   ],
   "metadata": {
    "collapsed": false
   },
   "id": "2123c4e6e8accfa9"
  },
  {
   "cell_type": "code",
   "outputs": [
    {
     "name": "stdout",
     "output_type": "stream",
     "text": [
      "[10 11 12 13 14 15 16 17 18 19 20] int64\n",
      "[10.   12.75 15.5  18.25 21.  ] float64\n",
      "['numpy' 'is' 'fun'] <class 'numpy.ndarray'> <U5\n"
     ]
    }
   ],
   "source": [
    "a = np.arange(10, 21)\n",
    "print(a, a.dtype)\n",
    "\n",
    "b = np.linspace(10, 21, 5)\n",
    "print(b, b.dtype)\n",
    "\n",
    "text = ['numpy', 'is', 'fun']\n",
    "c = np.array(text)\n",
    "print(c, type(c), c.dtype)"
   ],
   "metadata": {
    "collapsed": false
   },
   "id": "3961574e01da4fb1",
   "execution_count": 26
  }
 ],
 "metadata": {
  "kernelspec": {
   "display_name": "Python 3",
   "language": "python",
   "name": "python3"
  },
  "language_info": {
   "codemirror_mode": {
    "name": "ipython",
    "version": 2
   },
   "file_extension": ".py",
   "mimetype": "text/x-python",
   "name": "python",
   "nbconvert_exporter": "python",
   "pygments_lexer": "ipython2",
   "version": "2.7.6"
  }
 },
 "nbformat": 4,
 "nbformat_minor": 5
}

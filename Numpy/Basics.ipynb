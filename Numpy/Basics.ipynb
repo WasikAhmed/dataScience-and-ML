{
  "cells": [
    {
      "cell_type": "markdown",
      "metadata": {
        "id": "view-in-github",
        "colab_type": "text"
      },
      "source": [
        "<a href=\"https://colab.research.google.com/github/WasikAhmed/dataScience-and-ML/blob/main/Numpy/Basics.ipynb\" target=\"_parent\"><img src=\"https://colab.research.google.com/assets/colab-badge.svg\" alt=\"Open In Colab\"/></a>"
      ]
    },
    {
      "cell_type": "markdown",
      "source": [
        "# Numpy Basics"
      ],
      "metadata": {
        "collapsed": false,
        "id": "3c1808b540e5b7e8"
      },
      "id": "3c1808b540e5b7e8"
    },
    {
      "cell_type": "markdown",
      "source": [
        "## Installing Numpy"
      ],
      "metadata": {
        "collapsed": false,
        "id": "58c8c9e0ce41c3d4"
      },
      "id": "58c8c9e0ce41c3d4"
    },
    {
      "cell_type": "code",
      "outputs": [
        {
          "output_type": "stream",
          "name": "stdout",
          "text": [
            "Requirement already satisfied: numpy in /usr/local/lib/python3.10/dist-packages (1.25.2)\n"
          ]
        }
      ],
      "source": [
        "# using pip3\n",
        "! pip3 install numpy"
      ],
      "metadata": {
        "ExecuteTime": {
          "end_time": "2024-05-20T17:20:42.064278Z",
          "start_time": "2024-05-20T17:20:40.954815Z"
        },
        "colab": {
          "base_uri": "https://localhost:8080/"
        },
        "id": "99dbe96ff15727d7",
        "outputId": "b57317e9-c49c-40ad-84f4-99a74a45c68c"
      },
      "id": "99dbe96ff15727d7",
      "execution_count": 1
    },
    {
      "cell_type": "markdown",
      "source": [
        "## Importing Numpy"
      ],
      "metadata": {
        "collapsed": false,
        "id": "7e65130d95bc097c"
      },
      "id": "7e65130d95bc097c"
    },
    {
      "cell_type": "code",
      "outputs": [
        {
          "output_type": "execute_result",
          "data": {
            "text/plain": [
              "'1.25.2'"
            ],
            "application/vnd.google.colaboratory.intrinsic+json": {
              "type": "string"
            }
          },
          "metadata": {},
          "execution_count": 2
        }
      ],
      "source": [
        "import numpy as np\n",
        "np.__version__"
      ],
      "metadata": {
        "ExecuteTime": {
          "end_time": "2024-05-20T17:20:42.147972Z",
          "start_time": "2024-05-20T17:20:42.066032Z"
        },
        "colab": {
          "base_uri": "https://localhost:8080/",
          "height": 36
        },
        "id": "42be5a988a5c991c",
        "outputId": "a8caedf6-d575-4130-b395-6038803d8bc7"
      },
      "id": "42be5a988a5c991c",
      "execution_count": 2
    },
    {
      "cell_type": "markdown",
      "source": [
        "## Numpy Array Restrictions\n",
        "\n",
        "- All elements of the array must be of the same type of data.\n",
        "- Once created, the total size of the array can’t change.\n",
        "- The shape must be “rectangular”, not “jagged”; e.g., each row of a two-dimensional array must have the same number of columns."
      ],
      "metadata": {
        "collapsed": false,
        "id": "a61683c2d2b16f0a"
      },
      "id": "a61683c2d2b16f0a"
    },
    {
      "cell_type": "markdown",
      "source": [
        "## Creating Numpy Arrays"
      ],
      "metadata": {
        "collapsed": false,
        "id": "24d3a7102bee6777"
      },
      "id": "24d3a7102bee6777"
    },
    {
      "cell_type": "code",
      "outputs": [
        {
          "output_type": "stream",
          "name": "stdout",
          "text": [
            "[1 2 3]\n",
            "[[1 2 3]\n",
            " [4 5 6]]\n",
            "[[[ 1  2  3]\n",
            "  [ 4  5  6]]\n",
            "\n",
            " [[ 7  8  9]\n",
            "  [10 11 12]]]\n"
          ]
        }
      ],
      "source": [
        "# 1D Array\n",
        "a = np.array([1, 2, 3])\n",
        "print(a)\n",
        "# 2D Array\n",
        "b = np.array([[1, 2, 3], [4, 5, 6]])\n",
        "print(b)\n",
        "# 3D Array\n",
        "c = np.array([[[1, 2, 3], [4, 5, 6]], [[7, 8, 9], [10, 11, 12]]])\n",
        "print(c)"
      ],
      "metadata": {
        "ExecuteTime": {
          "end_time": "2024-05-20T17:20:42.180699Z",
          "start_time": "2024-05-20T17:20:42.159324Z"
        },
        "colab": {
          "base_uri": "https://localhost:8080/"
        },
        "id": "474c1b92d038d801",
        "outputId": "f604c885-3746-45a9-a414-fb343657c3d4"
      },
      "id": "474c1b92d038d801",
      "execution_count": 3
    },
    {
      "cell_type": "markdown",
      "source": [
        "### Creating Numpy Arrays with specific data types"
      ],
      "metadata": {
        "collapsed": false,
        "id": "e6649fff38f0c0ac"
      },
      "id": "e6649fff38f0c0ac"
    },
    {
      "cell_type": "code",
      "outputs": [
        {
          "output_type": "stream",
          "name": "stdout",
          "text": [
            "int64\n",
            "float64\n"
          ]
        }
      ],
      "source": [
        "a = np.array([1, 2, 3])\n",
        "b = np.array([3.0, 4.0, 5.0])\n",
        "print(a.dtype)\n",
        "print(b.dtype)"
      ],
      "metadata": {
        "ExecuteTime": {
          "end_time": "2024-05-20T17:20:42.211406Z",
          "start_time": "2024-05-20T17:20:42.206313Z"
        },
        "colab": {
          "base_uri": "https://localhost:8080/"
        },
        "id": "2b6da689acb7c65e",
        "outputId": "f1cf3045-b03f-4625-fcd5-369a72f788a1"
      },
      "id": "2b6da689acb7c65e",
      "execution_count": 4
    },
    {
      "cell_type": "code",
      "outputs": [
        {
          "output_type": "stream",
          "name": "stdout",
          "text": [
            "[1 2 3]\n",
            "int16\n"
          ]
        }
      ],
      "source": [
        "a = np.array([1, 2, 3], dtype='int16')\n",
        "print(a)\n",
        "print(a.dtype)"
      ],
      "metadata": {
        "ExecuteTime": {
          "end_time": "2024-05-20T17:20:42.219015Z",
          "start_time": "2024-05-20T17:20:42.215044Z"
        },
        "colab": {
          "base_uri": "https://localhost:8080/"
        },
        "id": "7510d0896bddf9e5",
        "outputId": "0541dba7-4906-46f8-c525-f044c6a7e3e6"
      },
      "id": "7510d0896bddf9e5",
      "execution_count": 5
    },
    {
      "cell_type": "code",
      "outputs": [
        {
          "output_type": "stream",
          "name": "stdout",
          "text": [
            "[1. 2. 3.]\n",
            "float32\n"
          ]
        }
      ],
      "source": [
        "a = np.array([1, 2, 3], dtype='float32')\n",
        "print(a)\n",
        "print(a.dtype)"
      ],
      "metadata": {
        "ExecuteTime": {
          "end_time": "2024-05-20T17:20:42.224670Z",
          "start_time": "2024-05-20T17:20:42.220960Z"
        },
        "colab": {
          "base_uri": "https://localhost:8080/"
        },
        "id": "9ea14189e3e4dadf",
        "outputId": "1c3bd677-9a81-4e6c-9f92-a1cf2f42fb18"
      },
      "id": "9ea14189e3e4dadf",
      "execution_count": 6
    },
    {
      "cell_type": "markdown",
      "source": [
        "### Using `np.zeros()`\n",
        "create an array filled with zeros."
      ],
      "metadata": {
        "collapsed": false,
        "id": "3e571b57804bdac5"
      },
      "id": "3e571b57804bdac5"
    },
    {
      "cell_type": "code",
      "outputs": [
        {
          "output_type": "stream",
          "name": "stdout",
          "text": [
            "[0. 0. 0. 0. 0. 0. 0. 0. 0. 0.]\n"
          ]
        }
      ],
      "source": [
        "a = np.zeros(10)\n",
        "print(a)"
      ],
      "metadata": {
        "ExecuteTime": {
          "end_time": "2024-05-20T17:20:42.229747Z",
          "start_time": "2024-05-20T17:20:42.226337Z"
        },
        "colab": {
          "base_uri": "https://localhost:8080/"
        },
        "id": "242d464c42035cdf",
        "outputId": "c3375113-6b57-4252-dbf2-5e3730e64181"
      },
      "id": "242d464c42035cdf",
      "execution_count": 7
    },
    {
      "cell_type": "code",
      "outputs": [
        {
          "output_type": "stream",
          "name": "stdout",
          "text": [
            "[[0. 0. 0.]\n",
            " [0. 0. 0.]\n",
            " [0. 0. 0.]]\n"
          ]
        }
      ],
      "source": [
        "s = (3, 3)\n",
        "b = np.zeros(s)\n",
        "print(b)"
      ],
      "metadata": {
        "ExecuteTime": {
          "end_time": "2024-05-20T17:20:42.234850Z",
          "start_time": "2024-05-20T17:20:42.231041Z"
        },
        "colab": {
          "base_uri": "https://localhost:8080/"
        },
        "id": "b2c6637d6c8d46b4",
        "outputId": "e981ebf7-bfbf-4650-f046-68698dcf6fef"
      },
      "id": "b2c6637d6c8d46b4",
      "execution_count": 8
    },
    {
      "cell_type": "markdown",
      "source": [
        "### Using `np.ones()`\n",
        "create an array filled with ones."
      ],
      "metadata": {
        "collapsed": false,
        "id": "10e74f6aa6823c04"
      },
      "id": "10e74f6aa6823c04"
    },
    {
      "cell_type": "code",
      "outputs": [
        {
          "output_type": "stream",
          "name": "stdout",
          "text": [
            "[1. 1. 1. 1. 1.]\n",
            "[1 1 1]\n"
          ]
        }
      ],
      "source": [
        "a = np.ones(5)\n",
        "print(a)\n",
        "b = np.ones(3, dtype='int64')\n",
        "print(b)"
      ],
      "metadata": {
        "ExecuteTime": {
          "end_time": "2024-05-20T17:20:42.240376Z",
          "start_time": "2024-05-20T17:20:42.236486Z"
        },
        "colab": {
          "base_uri": "https://localhost:8080/"
        },
        "id": "409b1b8e4110592c",
        "outputId": "25840df5-22e6-4fce-f626-679491ca693d"
      },
      "id": "409b1b8e4110592c",
      "execution_count": 9
    },
    {
      "cell_type": "code",
      "outputs": [
        {
          "output_type": "stream",
          "name": "stdout",
          "text": [
            "[[1. 1. 1. 1. 1.]\n",
            " [1. 1. 1. 1. 1.]\n",
            " [1. 1. 1. 1. 1.]\n",
            " [1. 1. 1. 1. 1.]\n",
            " [1. 1. 1. 1. 1.]]\n"
          ]
        }
      ],
      "source": [
        "a = np.ones((5, 5))\n",
        "print(a)"
      ],
      "metadata": {
        "ExecuteTime": {
          "end_time": "2024-05-20T17:20:42.246361Z",
          "start_time": "2024-05-20T17:20:42.242282Z"
        },
        "colab": {
          "base_uri": "https://localhost:8080/"
        },
        "id": "a007b0461ea4197",
        "outputId": "c230daa0-036e-4bad-847a-4706a9dc45f1"
      },
      "id": "a007b0461ea4197",
      "execution_count": 10
    },
    {
      "cell_type": "code",
      "outputs": [
        {
          "output_type": "stream",
          "name": "stdout",
          "text": [
            "[[5. 5. 5.]\n",
            " [5. 5. 5.]\n",
            " [5. 5. 5.]]\n"
          ]
        }
      ],
      "source": [
        "a = np.ones((3, 3)) * 5\n",
        "print(a)"
      ],
      "metadata": {
        "ExecuteTime": {
          "end_time": "2024-05-20T17:20:42.251338Z",
          "start_time": "2024-05-20T17:20:42.247661Z"
        },
        "colab": {
          "base_uri": "https://localhost:8080/"
        },
        "id": "ccca6b71ddba0b1b",
        "outputId": "2dbdcccf-ba50-4290-eb93-3f459dbd194d"
      },
      "id": "ccca6b71ddba0b1b",
      "execution_count": 11
    },
    {
      "cell_type": "markdown",
      "source": [
        "### Using `np.empty()`\n",
        "\n",
        "create an array of a specified shape without initializing its elements. Unlike `np.zeros()` which initializes all elements to zeros, `np.empty()` does not initialize the elements at all. Instead, it allocates the memory needed for the array but does not set the values of the elements. The values of the array will be whatever happens to already exist at that memory location."
      ],
      "metadata": {
        "collapsed": false,
        "id": "d0d2b472cb02135f"
      },
      "id": "d0d2b472cb02135f"
    },
    {
      "cell_type": "code",
      "outputs": [
        {
          "output_type": "stream",
          "name": "stdout",
          "text": [
            "[1. 1. 1. 1. 1.]\n"
          ]
        }
      ],
      "source": [
        "a = np.empty(5)\n",
        "print(a)"
      ],
      "metadata": {
        "ExecuteTime": {
          "end_time": "2024-05-20T17:20:42.256494Z",
          "start_time": "2024-05-20T17:20:42.253114Z"
        },
        "colab": {
          "base_uri": "https://localhost:8080/"
        },
        "id": "e094e43456a8e361",
        "outputId": "5521b8e3-2d12-4236-9156-435b46519dc5"
      },
      "id": "e094e43456a8e361",
      "execution_count": 12
    },
    {
      "cell_type": "code",
      "outputs": [
        {
          "output_type": "stream",
          "name": "stdout",
          "text": [
            "[[5.00513867e-310 0.00000000e+000 1.99426740e+209 3.92393688e+252]\n",
            " [7.50055276e+247 2.27270197e-322 5.00604254e-310 4.00193173e-322]\n",
            " [5.00604254e-310 6.64075703e-310 0.00000000e+000 0.00000000e+000]\n",
            " [0.00000000e+000 0.00000000e+000 0.00000000e+000 0.00000000e+000]]\n"
          ]
        }
      ],
      "source": [
        "b = np.empty((4, 4))\n",
        "print(b)"
      ],
      "metadata": {
        "ExecuteTime": {
          "end_time": "2024-05-20T17:20:42.262092Z",
          "start_time": "2024-05-20T17:20:42.258584Z"
        },
        "colab": {
          "base_uri": "https://localhost:8080/"
        },
        "id": "8aeface79b7196a7",
        "outputId": "c55f9f90-08a1-407a-c40c-e22e446e2104"
      },
      "id": "8aeface79b7196a7",
      "execution_count": 13
    },
    {
      "cell_type": "markdown",
      "source": [
        "### Using `np.arange()`\n",
        "create arrays with regularly spaced values within a specified interval. It is similar to Python's built-in `range()` function but returns an array instead of a list."
      ],
      "metadata": {
        "collapsed": false,
        "id": "5b3b2f832419a420"
      },
      "id": "5b3b2f832419a420"
    },
    {
      "cell_type": "code",
      "outputs": [
        {
          "output_type": "stream",
          "name": "stdout",
          "text": [
            "[0 1 2 3 4 5 6 7 8 9]\n"
          ]
        }
      ],
      "source": [
        "a = np.arange(10)\n",
        "print(a)"
      ],
      "metadata": {
        "ExecuteTime": {
          "end_time": "2024-05-20T17:20:42.269225Z",
          "start_time": "2024-05-20T17:20:42.266710Z"
        },
        "colab": {
          "base_uri": "https://localhost:8080/"
        },
        "id": "cdd9e10b7415a27",
        "outputId": "aa84de9e-4264-4f67-e884-f2b042392680"
      },
      "id": "cdd9e10b7415a27",
      "execution_count": 14
    },
    {
      "cell_type": "code",
      "outputs": [
        {
          "output_type": "stream",
          "name": "stdout",
          "text": [
            "[10 11 12 13 14 15 16 17 18 19]\n"
          ]
        }
      ],
      "source": [
        "b = np.arange(10, 20)\n",
        "print(b)"
      ],
      "metadata": {
        "ExecuteTime": {
          "end_time": "2024-05-20T17:20:42.273663Z",
          "start_time": "2024-05-20T17:20:42.270634Z"
        },
        "colab": {
          "base_uri": "https://localhost:8080/"
        },
        "id": "d5fcce96c4f2c2f4",
        "outputId": "21806b91-c6fe-4675-e36e-96e48ac0b49f"
      },
      "id": "d5fcce96c4f2c2f4",
      "execution_count": 15
    },
    {
      "cell_type": "code",
      "outputs": [
        {
          "output_type": "stream",
          "name": "stdout",
          "text": [
            "[30 32 34 36 38 40 42 44 46 48 50 52 54 56 58]\n"
          ]
        }
      ],
      "source": [
        "c = np.arange(30, 60, 2)\n",
        "print(c)"
      ],
      "metadata": {
        "ExecuteTime": {
          "end_time": "2024-05-20T17:20:42.279018Z",
          "start_time": "2024-05-20T17:20:42.275573Z"
        },
        "colab": {
          "base_uri": "https://localhost:8080/"
        },
        "id": "5efea78e1e435037",
        "outputId": "5dd145ca-157e-4f21-e937-b6d10a3c74d7"
      },
      "id": "5efea78e1e435037",
      "execution_count": 16
    },
    {
      "cell_type": "markdown",
      "source": [
        "### Using `np.linspace()`\n",
        "create arrays with evenly spaced numbers over a specified interval. Unlike `np.arange()`, which generates values with a specified step size, `np.linspace()` generates values that are evenly spaced between the specified start and stop values, inclusive by default."
      ],
      "metadata": {
        "collapsed": false,
        "id": "81eb0925e7c07f6b"
      },
      "id": "81eb0925e7c07f6b"
    },
    {
      "cell_type": "code",
      "outputs": [
        {
          "output_type": "stream",
          "name": "stdout",
          "text": [
            "[10.         10.20408163 10.40816327 10.6122449  10.81632653 11.02040816\n",
            " 11.2244898  11.42857143 11.63265306 11.83673469 12.04081633 12.24489796\n",
            " 12.44897959 12.65306122 12.85714286 13.06122449 13.26530612 13.46938776\n",
            " 13.67346939 13.87755102 14.08163265 14.28571429 14.48979592 14.69387755\n",
            " 14.89795918 15.10204082 15.30612245 15.51020408 15.71428571 15.91836735\n",
            " 16.12244898 16.32653061 16.53061224 16.73469388 16.93877551 17.14285714\n",
            " 17.34693878 17.55102041 17.75510204 17.95918367 18.16326531 18.36734694\n",
            " 18.57142857 18.7755102  18.97959184 19.18367347 19.3877551  19.59183673\n",
            " 19.79591837 20.        ]\n"
          ]
        }
      ],
      "source": [
        "a = np.linspace(10, 20)\n",
        "print(a)"
      ],
      "metadata": {
        "ExecuteTime": {
          "end_time": "2024-05-20T17:20:42.285039Z",
          "start_time": "2024-05-20T17:20:42.280738Z"
        },
        "colab": {
          "base_uri": "https://localhost:8080/"
        },
        "id": "f5d2e4954c11fff2",
        "outputId": "68dcc6de-d83d-44d3-a5ce-ac22da360f07"
      },
      "id": "f5d2e4954c11fff2",
      "execution_count": 17
    },
    {
      "cell_type": "code",
      "outputs": [
        {
          "output_type": "stream",
          "name": "stdout",
          "text": [
            "[  0.          11.11111111  22.22222222  33.33333333  44.44444444\n",
            "  55.55555556  66.66666667  77.77777778  88.88888889 100.        ]\n"
          ]
        }
      ],
      "source": [
        "b = np.linspace(0, 100, num=10) # default num = 50\n",
        "print(b)"
      ],
      "metadata": {
        "ExecuteTime": {
          "end_time": "2024-05-20T17:20:42.289794Z",
          "start_time": "2024-05-20T17:20:42.286485Z"
        },
        "colab": {
          "base_uri": "https://localhost:8080/"
        },
        "id": "e202bcc888c8ab3c",
        "outputId": "5243fd9a-8a65-4aba-d535-a127428255d8"
      },
      "id": "e202bcc888c8ab3c",
      "execution_count": 18
    },
    {
      "cell_type": "code",
      "outputs": [
        {
          "output_type": "stream",
          "name": "stdout",
          "text": [
            "[10.  12.5 15.  17.5 20. ]\n"
          ]
        }
      ],
      "source": [
        "c = np.linspace(10, 20, 5)\n",
        "print(c)"
      ],
      "metadata": {
        "ExecuteTime": {
          "end_time": "2024-05-20T17:20:42.294807Z",
          "start_time": "2024-05-20T17:20:42.291541Z"
        },
        "colab": {
          "base_uri": "https://localhost:8080/"
        },
        "id": "c3a0f95a88e566eb",
        "outputId": "afa6c59e-61e6-40b0-94d8-160a92d01911"
      },
      "id": "c3a0f95a88e566eb",
      "execution_count": 19
    },
    {
      "cell_type": "markdown",
      "source": [
        "### using `np.eye()`\n",
        "\n",
        "create a 2-D array with ones on the diagonal and zeros elsewhere.\n",
        "Similar to `np.identity()`."
      ],
      "metadata": {
        "id": "9vqHc1m4_9Gc"
      },
      "id": "9vqHc1m4_9Gc"
    },
    {
      "cell_type": "code",
      "source": [
        "a = np.eye(3)\n",
        "a"
      ],
      "metadata": {
        "id": "kAiL8kyGAoHi",
        "outputId": "a0928d8d-54ba-46ce-d492-5de683e4d044",
        "colab": {
          "base_uri": "https://localhost:8080/"
        }
      },
      "id": "kAiL8kyGAoHi",
      "execution_count": 20,
      "outputs": [
        {
          "output_type": "execute_result",
          "data": {
            "text/plain": [
              "array([[1., 0., 0.],\n",
              "       [0., 1., 0.],\n",
              "       [0., 0., 1.]])"
            ]
          },
          "metadata": {},
          "execution_count": 20
        }
      ]
    },
    {
      "cell_type": "code",
      "source": [
        "# parameters: (rows in output, cols in output, index of the diagonal: 0 default)\n",
        "b = np.eye(3, 3, 1)\n",
        "print(b)\n",
        "c = np.eye(3, 3, -1)\n",
        "print(c)"
      ],
      "metadata": {
        "id": "OJzbaPiJAvqV",
        "outputId": "582c3691-868c-4d58-8e3b-e276ca7cbb30",
        "colab": {
          "base_uri": "https://localhost:8080/"
        }
      },
      "id": "OJzbaPiJAvqV",
      "execution_count": 21,
      "outputs": [
        {
          "output_type": "stream",
          "name": "stdout",
          "text": [
            "[[0. 1. 0.]\n",
            " [0. 0. 1.]\n",
            " [0. 0. 0.]]\n",
            "[[0. 0. 0.]\n",
            " [1. 0. 0.]\n",
            " [0. 1. 0.]]\n"
          ]
        }
      ]
    },
    {
      "cell_type": "markdown",
      "source": [
        "## Array attributes"
      ],
      "metadata": {
        "collapsed": false,
        "id": "631c2e89dbe7d445"
      },
      "id": "631c2e89dbe7d445"
    },
    {
      "cell_type": "code",
      "outputs": [
        {
          "output_type": "stream",
          "name": "stdout",
          "text": [
            "a=\n",
            "[1 2 3 4 5]\n",
            "b=\n",
            "[[ 1  2  3  4  5]\n",
            " [ 6  7  8  9 10]]\n",
            "c=\n",
            "[[[ 1  2  3]\n",
            "  [ 4  5  6]]\n",
            "\n",
            " [[ 7  8  9]\n",
            "  [10 11 12]]]\n"
          ]
        }
      ],
      "source": [
        "# 1D Array\n",
        "a = np.array([1, 2, 3, 4, 5])\n",
        "# 2D Array\n",
        "b = np.array([[1, 2, 3, 4, 5], [6, 7, 8, 9, 10]])\n",
        "# 3D Array\n",
        "c = np.array([[[1, 2, 3], [4, 5, 6]], [[7, 8, 9], [10, 11, 12]]])\n",
        "\n",
        "print('a=', a, 'b=', b, 'c=', c, sep='\\n')"
      ],
      "metadata": {
        "ExecuteTime": {
          "end_time": "2024-05-20T17:20:42.300085Z",
          "start_time": "2024-05-20T17:20:42.296328Z"
        },
        "colab": {
          "base_uri": "https://localhost:8080/"
        },
        "id": "305948b98c22422c",
        "outputId": "7d25b3a9-1c9a-4bcf-c50e-8cd1601ce565"
      },
      "id": "305948b98c22422c",
      "execution_count": 22
    },
    {
      "cell_type": "markdown",
      "source": [
        "### `ndim`\n",
        "Attribute contains the number of dimensions of an array."
      ],
      "metadata": {
        "collapsed": false,
        "id": "94dfcb05f6a437db"
      },
      "id": "94dfcb05f6a437db"
    },
    {
      "cell_type": "code",
      "outputs": [
        {
          "output_type": "stream",
          "name": "stdout",
          "text": [
            "1\n",
            "2\n",
            "3\n"
          ]
        }
      ],
      "source": [
        "print(a.ndim)\n",
        "print(b.ndim)\n",
        "print(c.ndim)"
      ],
      "metadata": {
        "ExecuteTime": {
          "end_time": "2024-05-20T17:20:42.304478Z",
          "start_time": "2024-05-20T17:20:42.301760Z"
        },
        "colab": {
          "base_uri": "https://localhost:8080/"
        },
        "id": "a025e0a67c6e2174",
        "outputId": "72120d25-5398-4c93-8a25-2fbb767eacf3"
      },
      "id": "a025e0a67c6e2174",
      "execution_count": 23
    },
    {
      "cell_type": "markdown",
      "source": [
        "### `shape`\n",
        "- Specify the number of elements along each dimension.\n",
        "- a tuple of non-negative integers"
      ],
      "metadata": {
        "collapsed": false,
        "id": "10287e65a88bb879"
      },
      "id": "10287e65a88bb879"
    },
    {
      "cell_type": "code",
      "outputs": [
        {
          "output_type": "stream",
          "name": "stdout",
          "text": [
            "shape of a= (5,)\n",
            "shape of b= (2, 5)\n",
            "shape of c= (2, 2, 3)\n"
          ]
        }
      ],
      "source": [
        "print('shape of a=', a.shape)\n",
        "print('shape of b=', b.shape)\n",
        "print('shape of c=', c.shape)"
      ],
      "metadata": {
        "ExecuteTime": {
          "end_time": "2024-05-20T17:20:42.309111Z",
          "start_time": "2024-05-20T17:20:42.305625Z"
        },
        "colab": {
          "base_uri": "https://localhost:8080/"
        },
        "id": "fbd5056175244d94",
        "outputId": "efb81499-d294-423a-a1bd-f6a125b27723"
      },
      "id": "fbd5056175244d94",
      "execution_count": 24
    },
    {
      "cell_type": "code",
      "outputs": [
        {
          "output_type": "stream",
          "name": "stdout",
          "text": [
            "len of a.shape: 1 dim of a: 1\n",
            "len of b.shape: 2 dim of b: 2\n",
            "len of c.shape: 3 dim of c: 3\n"
          ]
        }
      ],
      "source": [
        "# len(ndarray.shape) == ndarray.dim -> True\n",
        "print('len of a.shape:', len(a.shape), 'dim of a:', a.ndim)\n",
        "print('len of b.shape:', len(b.shape), 'dim of b:', b.ndim)\n",
        "print('len of c.shape:', len(c.shape), 'dim of c:', c.ndim)"
      ],
      "metadata": {
        "ExecuteTime": {
          "end_time": "2024-05-20T17:20:42.314118Z",
          "start_time": "2024-05-20T17:20:42.310606Z"
        },
        "colab": {
          "base_uri": "https://localhost:8080/"
        },
        "id": "66ab641689980996",
        "outputId": "0045bfa6-1ca1-48da-a7f1-d6825430a1ed"
      },
      "id": "66ab641689980996",
      "execution_count": 25
    },
    {
      "cell_type": "markdown",
      "source": [
        "### `size`\n",
        "Contains total number of elements in array."
      ],
      "metadata": {
        "collapsed": false,
        "id": "fab711c547a4ce33"
      },
      "id": "fab711c547a4ce33"
    },
    {
      "cell_type": "code",
      "outputs": [
        {
          "output_type": "stream",
          "name": "stdout",
          "text": [
            "total elements in a= 5\n",
            "total elements in b= 10\n",
            "total elements in c= 12\n"
          ]
        }
      ],
      "source": [
        "print('total elements in a=', a.size)\n",
        "print('total elements in b=', b.size)\n",
        "print('total elements in c=', c.size)"
      ],
      "metadata": {
        "ExecuteTime": {
          "end_time": "2024-05-20T17:20:42.319753Z",
          "start_time": "2024-05-20T17:20:42.315760Z"
        },
        "colab": {
          "base_uri": "https://localhost:8080/"
        },
        "id": "ca169029dc546959",
        "outputId": "93bd44b8-6388-4660-eaac-864a52930e54"
      },
      "id": "ca169029dc546959",
      "execution_count": 26
    },
    {
      "cell_type": "markdown",
      "source": [
        "**product of elements in `ndarray.shape` is equals to `ndarray.size` or total elements**\n",
        "`ndarray.shape` returns a tuple or a sequence of numbers"
      ],
      "metadata": {
        "collapsed": false,
        "id": "90315eee4465ba4b"
      },
      "id": "90315eee4465ba4b"
    },
    {
      "cell_type": "code",
      "outputs": [
        {
          "output_type": "stream",
          "name": "stdout",
          "text": [
            "True\n",
            "True\n",
            "True\n"
          ]
        }
      ],
      "source": [
        "# numpy.prod() -> takes an array or a sequence of numbers as input and returns the product of all the elements in it.\n",
        "# math.prod() can be used too to get the product.\n",
        "\n",
        "import math\n",
        "\n",
        "# prod_a_shape = np.prod(a.shape)\n",
        "# prod_b_shape = np.prod(b.shape)\n",
        "# prod_c_shape = np.prod(c.shape)\n",
        "\n",
        "prod_a_shape = math.prod(a.shape)\n",
        "prod_b_shape = math.prod(b.shape)\n",
        "prod_c_shape = math.prod(c.shape)\n",
        "\n",
        "print(a.size == prod_a_shape)\n",
        "print(b.size == prod_b_shape)\n",
        "print(c.size == prod_c_shape)\n",
        "\n",
        "# array -> Shape -> Multiplication -> total element returned by ndarray.size\n",
        "# a -> (5,) -> 5 -> 5\n",
        "# b -> (2, 5) -> 2*5 -> 10\n",
        "# c -> (2, 2, 3) -> 2*2*3 -> 12"
      ],
      "metadata": {
        "ExecuteTime": {
          "end_time": "2024-05-20T17:20:42.326832Z",
          "start_time": "2024-05-20T17:20:42.321666Z"
        },
        "colab": {
          "base_uri": "https://localhost:8080/"
        },
        "id": "3e8f21687ddd6410",
        "outputId": "6199c0fb-3d0b-4b8a-df21-04a2b2b706db"
      },
      "id": "3e8f21687ddd6410",
      "execution_count": 27
    },
    {
      "cell_type": "markdown",
      "source": [
        "### `dtype`\n",
        "Contains the data type of the array."
      ],
      "metadata": {
        "collapsed": false,
        "id": "2123c4e6e8accfa9"
      },
      "id": "2123c4e6e8accfa9"
    },
    {
      "cell_type": "code",
      "outputs": [
        {
          "output_type": "stream",
          "name": "stdout",
          "text": [
            "[10 11 12 13 14 15 16 17 18 19 20] int64\n",
            "[10.   12.75 15.5  18.25 21.  ] float64\n",
            "['numpy' 'is' 'fun'] <class 'numpy.ndarray'> <U5\n"
          ]
        }
      ],
      "source": [
        "a = np.arange(10, 21)\n",
        "print(a, a.dtype)\n",
        "\n",
        "b = np.linspace(10, 21, 5)\n",
        "print(b, b.dtype)\n",
        "\n",
        "text = ['numpy', 'is', 'fun']\n",
        "c = np.array(text)\n",
        "print(c, type(c), c.dtype)"
      ],
      "metadata": {
        "colab": {
          "base_uri": "https://localhost:8080/"
        },
        "id": "3961574e01da4fb1",
        "outputId": "b1053e13-a8fe-4b8d-b3d8-ba4ccfc94ed4"
      },
      "id": "3961574e01da4fb1",
      "execution_count": 28
    },
    {
      "cell_type": "markdown",
      "source": [
        "## Array Manipulation"
      ],
      "metadata": {
        "id": "h1z0YXUE85dK"
      },
      "id": "h1z0YXUE85dK"
    },
    {
      "cell_type": "markdown",
      "source": [
        "### Sorting\n",
        "using `np.sort()`"
      ],
      "metadata": {
        "id": "llbVr70KGjri"
      },
      "id": "llbVr70KGjri"
    },
    {
      "cell_type": "code",
      "source": [
        "a = np.random.uniform(0, 100, 5)\n",
        "print(a)\n",
        "np.sort(a)"
      ],
      "metadata": {
        "id": "sixX8JbX98Lt",
        "outputId": "be143695-a67d-4e65-98f2-850dfff2f48c",
        "colab": {
          "base_uri": "https://localhost:8080/"
        }
      },
      "id": "sixX8JbX98Lt",
      "execution_count": 29,
      "outputs": [
        {
          "output_type": "stream",
          "name": "stdout",
          "text": [
            "[52.76058594 66.60210488 51.0307721  63.23820631 10.64599454]\n"
          ]
        },
        {
          "output_type": "execute_result",
          "data": {
            "text/plain": [
              "array([10.64599454, 51.0307721 , 52.76058594, 63.23820631, 66.60210488])"
            ]
          },
          "metadata": {},
          "execution_count": 29
        }
      ]
    },
    {
      "cell_type": "code",
      "source": [
        "# Reverse the sorted array\n",
        "np.flip(np.sort(a))"
      ],
      "metadata": {
        "id": "sskSO6W4DfMr",
        "outputId": "570b3bb2-cf46-480d-a0cf-7ee2c65d0b99",
        "colab": {
          "base_uri": "https://localhost:8080/"
        }
      },
      "id": "sskSO6W4DfMr",
      "execution_count": 30,
      "outputs": [
        {
          "output_type": "execute_result",
          "data": {
            "text/plain": [
              "array([66.60210488, 63.23820631, 52.76058594, 51.0307721 , 10.64599454])"
            ]
          },
          "metadata": {},
          "execution_count": 30
        }
      ]
    },
    {
      "cell_type": "markdown",
      "source": [
        "### Adding\n",
        "using `np.concatenate()`"
      ],
      "metadata": {
        "id": "BixP6T_0G7Co"
      },
      "id": "BixP6T_0G7Co"
    },
    {
      "cell_type": "code",
      "source": [
        "a = np.arange(10)\n",
        "b = np.arange(10, 21)\n",
        "c = np.concatenate((a, b))\n",
        "c"
      ],
      "metadata": {
        "id": "sFLIFfwaE6fb",
        "outputId": "7e7d09bc-eb51-4433-8f04-66370c0d05c5",
        "colab": {
          "base_uri": "https://localhost:8080/"
        }
      },
      "id": "sFLIFfwaE6fb",
      "execution_count": 31,
      "outputs": [
        {
          "output_type": "execute_result",
          "data": {
            "text/plain": [
              "array([ 0,  1,  2,  3,  4,  5,  6,  7,  8,  9, 10, 11, 12, 13, 14, 15, 16,\n",
              "       17, 18, 19, 20])"
            ]
          },
          "metadata": {},
          "execution_count": 31
        }
      ]
    },
    {
      "cell_type": "code",
      "source": [
        "a = np.array([[1, 2, 3], [4, 5, 6]])\n",
        "b = np.array([[7, 8, 9], [10, 11, 12]])\n",
        "c = np.concatenate((a, b), axis=1)\n",
        "c"
      ],
      "metadata": {
        "id": "2YxhOWrqKVQT",
        "outputId": "70ae9be5-e258-4eba-d620-a7782adb62ac",
        "colab": {
          "base_uri": "https://localhost:8080/"
        }
      },
      "id": "2YxhOWrqKVQT",
      "execution_count": 32,
      "outputs": [
        {
          "output_type": "execute_result",
          "data": {
            "text/plain": [
              "array([[ 1,  2,  3,  7,  8,  9],\n",
              "       [ 4,  5,  6, 10, 11, 12]])"
            ]
          },
          "metadata": {},
          "execution_count": 32
        }
      ]
    },
    {
      "cell_type": "markdown",
      "source": [
        "### Removing"
      ],
      "metadata": {
        "id": "RasmytdhLpmd"
      },
      "id": "RasmytdhLpmd"
    },
    {
      "cell_type": "markdown",
      "source": [
        "**Removing Elements by Index**"
      ],
      "metadata": {
        "id": "nTqK3oI7Nq-a"
      },
      "id": "nTqK3oI7Nq-a"
    },
    {
      "cell_type": "code",
      "source": [
        "a = np.arange(5)\n",
        "print(a)\n",
        "a = np.delete(a, 2)\n",
        "print(a)\n",
        "\n",
        "indices = [1, 3]\n",
        "a = np.delete(a, indices)\n",
        "print(a)"
      ],
      "metadata": {
        "id": "22rphuz-LuG1",
        "outputId": "91d4001c-591a-430e-d3de-66270e9bae47",
        "colab": {
          "base_uri": "https://localhost:8080/"
        }
      },
      "id": "22rphuz-LuG1",
      "execution_count": 33,
      "outputs": [
        {
          "output_type": "stream",
          "name": "stdout",
          "text": [
            "[0 1 2 3 4]\n",
            "[0 1 3 4]\n",
            "[0 3]\n"
          ]
        }
      ]
    },
    {
      "cell_type": "markdown",
      "source": [
        "**Removing Elements that Match a Condition**"
      ],
      "metadata": {
        "id": "02izJUJRNJSS"
      },
      "id": "02izJUJRNJSS"
    },
    {
      "cell_type": "code",
      "source": [
        "a = np.arange(0, 41, 2)\n",
        "print(a)\n",
        "\n",
        "a = a[a >= 20]\n",
        "print(a)\n",
        "\n",
        "a = a[a != 30]\n",
        "print(a)"
      ],
      "metadata": {
        "id": "YCJc9dWDM3cY",
        "outputId": "d70abdd2-b526-4616-a161-2eac4e1df517",
        "colab": {
          "base_uri": "https://localhost:8080/"
        }
      },
      "id": "YCJc9dWDM3cY",
      "execution_count": 34,
      "outputs": [
        {
          "output_type": "stream",
          "name": "stdout",
          "text": [
            "[ 0  2  4  6  8 10 12 14 16 18 20 22 24 26 28 30 32 34 36 38 40]\n",
            "[20 22 24 26 28 30 32 34 36 38 40]\n",
            "[20 22 24 26 28 32 34 36 38 40]\n"
          ]
        }
      ]
    },
    {
      "cell_type": "markdown",
      "source": [
        "**Removing Elements Using List Comprehension**"
      ],
      "metadata": {
        "id": "wV-4WmgFPjHM"
      },
      "id": "wV-4WmgFPjHM"
    },
    {
      "cell_type": "code",
      "source": [
        "a = np.arange(20, 61, 2)\n",
        "print(a)\n",
        "a = np.array([x for x in a if not x <= 40])\n",
        "print(a)"
      ],
      "metadata": {
        "id": "wnR6xfEnOun3",
        "outputId": "80d04b60-96dc-4307-ce37-6d9fcb8e13e9",
        "colab": {
          "base_uri": "https://localhost:8080/"
        }
      },
      "id": "wnR6xfEnOun3",
      "execution_count": 35,
      "outputs": [
        {
          "output_type": "stream",
          "name": "stdout",
          "text": [
            "[20 22 24 26 28 30 32 34 36 38 40 42 44 46 48 50 52 54 56 58 60]\n",
            "[42 44 46 48 50 52 54 56 58 60]\n"
          ]
        }
      ]
    }
  ],
  "metadata": {
    "kernelspec": {
      "display_name": "Python 3",
      "language": "python",
      "name": "python3"
    },
    "language_info": {
      "codemirror_mode": {
        "name": "ipython",
        "version": 2
      },
      "file_extension": ".py",
      "mimetype": "text/x-python",
      "name": "python",
      "nbconvert_exporter": "python",
      "pygments_lexer": "ipython2",
      "version": "2.7.6"
    },
    "colab": {
      "provenance": [],
      "toc_visible": true,
      "include_colab_link": true
    }
  },
  "nbformat": 4,
  "nbformat_minor": 5
}
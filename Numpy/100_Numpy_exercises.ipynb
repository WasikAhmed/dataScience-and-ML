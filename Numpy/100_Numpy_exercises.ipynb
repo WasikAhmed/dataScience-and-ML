{
 "cells": [
  {
   "cell_type": "markdown",
   "id": "6293cc50",
   "metadata": {},
   "source": [
    "# 100 numpy exercises\n",
    "\n",
    "This is a collection of exercises that have been collected in the numpy mailing list, on stack overflow\n",
    "and in the numpy documentation. The goal of this collection is to offer a quick reference for both old\n",
    "and new users but also to provide a set of exercises for those who teach.\n",
    "\n",
    "\n",
    "If you find an error or think you've a better way to solve some of them, feel\n",
    "free to open an issue at <https://github.com/rougier/numpy-100>."
   ]
  },
  {
   "cell_type": "markdown",
   "source": [
    "#### 1. Import the numpy package under the name `np` (★☆☆)"
   ],
   "metadata": {
    "collapsed": false
   },
   "id": "2fdd2c6971604517"
  },
  {
   "cell_type": "code",
   "source": [
    "import numpy as np"
   ],
   "metadata": {
    "collapsed": false,
    "ExecuteTime": {
     "end_time": "2024-08-08T17:57:36.904506Z",
     "start_time": "2024-08-08T17:57:36.707747Z"
    }
   },
   "id": "b2f11eb9085e4572",
   "outputs": [],
   "execution_count": 1
  },
  {
   "cell_type": "markdown",
   "source": [
    "#### 2. Print the numpy version and the configuration (★☆☆)"
   ],
   "metadata": {
    "collapsed": false
   },
   "id": "db62407e68082d93"
  },
  {
   "cell_type": "code",
   "source": [
    "np.__version__"
   ],
   "metadata": {
    "collapsed": false,
    "ExecuteTime": {
     "end_time": "2024-08-08T17:57:39.484862Z",
     "start_time": "2024-08-08T17:57:39.475508Z"
    }
   },
   "id": "f712359a7c440f57",
   "outputs": [
    {
     "data": {
      "text/plain": [
       "'1.26.4'"
      ]
     },
     "execution_count": 2,
     "metadata": {},
     "output_type": "execute_result"
    }
   ],
   "execution_count": 2
  },
  {
   "cell_type": "markdown",
   "source": [
    "#### 3. Create a null vector of size 10 (★☆☆)"
   ],
   "metadata": {
    "collapsed": false
   },
   "id": "492938b71e794185"
  },
  {
   "cell_type": "code",
   "source": [
    "null_vector = np.zeros(10)\n",
    "null_vector, null_vector.size"
   ],
   "metadata": {
    "collapsed": false,
    "ExecuteTime": {
     "end_time": "2024-08-08T17:57:39.602998Z",
     "start_time": "2024-08-08T17:57:39.594474Z"
    }
   },
   "id": "481cb04151acd245",
   "outputs": [
    {
     "data": {
      "text/plain": [
       "(array([0., 0., 0., 0., 0., 0., 0., 0., 0., 0.]), 10)"
      ]
     },
     "execution_count": 3,
     "metadata": {},
     "output_type": "execute_result"
    }
   ],
   "execution_count": 3
  },
  {
   "cell_type": "markdown",
   "source": [
    "#### 4. How to find the memory size of any array (★☆☆)"
   ],
   "metadata": {
    "collapsed": false
   },
   "id": "fcccec692e8558df"
  },
  {
   "cell_type": "code",
   "source": [
    "a = np.array([1, 2, 3, 4, 5])\n",
    "a.size"
   ],
   "metadata": {
    "collapsed": false,
    "ExecuteTime": {
     "end_time": "2024-08-08T17:57:39.761768Z",
     "start_time": "2024-08-08T17:57:39.759609Z"
    }
   },
   "id": "edf5bfd89610b67e",
   "outputs": [
    {
     "data": {
      "text/plain": [
       "5"
      ]
     },
     "execution_count": 4,
     "metadata": {},
     "output_type": "execute_result"
    }
   ],
   "execution_count": 4
  },
  {
   "cell_type": "markdown",
   "source": [
    "#### 5. How to get the documentation of the numpy add function from the command line? (★☆☆)"
   ],
   "metadata": {
    "collapsed": false
   },
   "id": "f24fad35c5fef753"
  },
  {
   "cell_type": "code",
   "source": [
    "help(np.add)"
   ],
   "metadata": {
    "collapsed": false,
    "ExecuteTime": {
     "end_time": "2024-08-08T17:57:39.932204Z",
     "start_time": "2024-08-08T17:57:39.929571Z"
    }
   },
   "id": "46bb503d01269f16",
   "outputs": [
    {
     "name": "stdout",
     "output_type": "stream",
     "text": [
      "Help on ufunc:\n",
      "\n",
      "add = <ufunc 'add'>\n",
      "    add(x1, x2, /, out=None, *, where=True, casting='same_kind', order='K', dtype=None, subok=True[, signature, extobj])\n",
      "\n",
      "    Add arguments element-wise.\n",
      "\n",
      "    Parameters\n",
      "    ----------\n",
      "    x1, x2 : array_like\n",
      "        The arrays to be added.\n",
      "        If ``x1.shape != x2.shape``, they must be broadcastable to a common\n",
      "        shape (which becomes the shape of the output).\n",
      "    out : ndarray, None, or tuple of ndarray and None, optional\n",
      "        A location into which the result is stored. If provided, it must have\n",
      "        a shape that the inputs broadcast to. If not provided or None,\n",
      "        a freshly-allocated array is returned. A tuple (possible only as a\n",
      "        keyword argument) must have length equal to the number of outputs.\n",
      "    where : array_like, optional\n",
      "        This condition is broadcast over the input. At locations where the\n",
      "        condition is True, the `out` array will be set to the ufunc result.\n",
      "        Elsewhere, the `out` array will retain its original value.\n",
      "        Note that if an uninitialized `out` array is created via the default\n",
      "        ``out=None``, locations within it where the condition is False will\n",
      "        remain uninitialized.\n",
      "    **kwargs\n",
      "        For other keyword-only arguments, see the\n",
      "        :ref:`ufunc docs <ufuncs.kwargs>`.\n",
      "\n",
      "    Returns\n",
      "    -------\n",
      "    add : ndarray or scalar\n",
      "        The sum of `x1` and `x2`, element-wise.\n",
      "        This is a scalar if both `x1` and `x2` are scalars.\n",
      "\n",
      "    Notes\n",
      "    -----\n",
      "    Equivalent to `x1` + `x2` in terms of array broadcasting.\n",
      "\n",
      "    Examples\n",
      "    --------\n",
      "    >>> np.add(1.0, 4.0)\n",
      "    5.0\n",
      "    >>> x1 = np.arange(9.0).reshape((3, 3))\n",
      "    >>> x2 = np.arange(3.0)\n",
      "    >>> np.add(x1, x2)\n",
      "    array([[  0.,   2.,   4.],\n",
      "           [  3.,   5.,   7.],\n",
      "           [  6.,   8.,  10.]])\n",
      "\n",
      "    The ``+`` operator can be used as a shorthand for ``np.add`` on ndarrays.\n",
      "\n",
      "    >>> x1 = np.arange(9.0).reshape((3, 3))\n",
      "    >>> x2 = np.arange(3.0)\n",
      "    >>> x1 + x2\n",
      "    array([[ 0.,  2.,  4.],\n",
      "           [ 3.,  5.,  7.],\n",
      "           [ 6.,  8., 10.]])\n",
      "\n"
     ]
    }
   ],
   "execution_count": 5
  },
  {
   "cell_type": "markdown",
   "source": [
    "#### 6. Create a null vector of size 10 but the fifth value which is 1 (★☆☆)"
   ],
   "metadata": {
    "collapsed": false
   },
   "id": "8bbe90d455e97ddd"
  },
  {
   "cell_type": "code",
   "source": [
    "null_vector = np.zeros(10)\n",
    "null_vector[4] = 1\n",
    "null_vector"
   ],
   "metadata": {
    "collapsed": false,
    "ExecuteTime": {
     "end_time": "2024-08-08T17:57:39.999777Z",
     "start_time": "2024-08-08T17:57:39.997018Z"
    }
   },
   "id": "8c586bc68f504b18",
   "outputs": [
    {
     "data": {
      "text/plain": [
       "array([0., 0., 0., 0., 1., 0., 0., 0., 0., 0.])"
      ]
     },
     "execution_count": 6,
     "metadata": {},
     "output_type": "execute_result"
    }
   ],
   "execution_count": 6
  },
  {
   "cell_type": "markdown",
   "source": [
    "#### 7. Create a vector with values ranging from 10 to 49 (★☆☆)"
   ],
   "metadata": {
    "collapsed": false
   },
   "id": "8a4dd949378296b7"
  },
  {
   "cell_type": "code",
   "source": [
    "np.arange(10, 50)"
   ],
   "metadata": {
    "collapsed": false,
    "ExecuteTime": {
     "end_time": "2024-08-08T17:57:40.205806Z",
     "start_time": "2024-08-08T17:57:40.203376Z"
    }
   },
   "id": "2f8ebce8bd29904b",
   "outputs": [
    {
     "data": {
      "text/plain": [
       "array([10, 11, 12, 13, 14, 15, 16, 17, 18, 19, 20, 21, 22, 23, 24, 25, 26,\n",
       "       27, 28, 29, 30, 31, 32, 33, 34, 35, 36, 37, 38, 39, 40, 41, 42, 43,\n",
       "       44, 45, 46, 47, 48, 49])"
      ]
     },
     "execution_count": 7,
     "metadata": {},
     "output_type": "execute_result"
    }
   ],
   "execution_count": 7
  },
  {
   "cell_type": "markdown",
   "source": [
    "#### 8. Reverse a vector (first element becomes last) (★☆☆)"
   ],
   "metadata": {
    "collapsed": false
   },
   "id": "9638fa493179f0ee"
  },
  {
   "cell_type": "code",
   "source": [
    "v = np.array([10, 20, 30, 40, 50])\n",
    "v = v[::-1]\n",
    "v"
   ],
   "metadata": {
    "collapsed": false,
    "ExecuteTime": {
     "end_time": "2024-08-08T17:57:40.285402Z",
     "start_time": "2024-08-08T17:57:40.281924Z"
    }
   },
   "id": "bfb9504b8b5a7dc0",
   "outputs": [
    {
     "data": {
      "text/plain": [
       "array([50, 40, 30, 20, 10])"
      ]
     },
     "execution_count": 8,
     "metadata": {},
     "output_type": "execute_result"
    }
   ],
   "execution_count": 8
  },
  {
   "cell_type": "markdown",
   "source": [
    "#### 9. Create a 3x3 matrix with values ranging from 0 to 8 (★☆☆)"
   ],
   "metadata": {
    "collapsed": false
   },
   "id": "c513ffb7431f4b9d"
  },
  {
   "cell_type": "code",
   "source": "np.arange(0, 9).reshape(3, 3)",
   "metadata": {
    "collapsed": false,
    "ExecuteTime": {
     "end_time": "2024-08-08T17:57:40.513699Z",
     "start_time": "2024-08-08T17:57:40.507062Z"
    }
   },
   "id": "a0c740f8d938117b",
   "outputs": [
    {
     "data": {
      "text/plain": [
       "array([[0, 1, 2],\n",
       "       [3, 4, 5],\n",
       "       [6, 7, 8]])"
      ]
     },
     "execution_count": 9,
     "metadata": {},
     "output_type": "execute_result"
    }
   ],
   "execution_count": 9
  },
  {
   "cell_type": "markdown",
   "source": [
    "#### 10. Find indices of non-zero elements from [1,2,0,0,4,0] (★☆☆)"
   ],
   "metadata": {
    "collapsed": false
   },
   "id": "8d62310d11b827e7"
  },
  {
   "cell_type": "code",
   "source": [
    "a = np.array([1,2,0,0,4,0])\n",
    "non_zero_indices = a.nonzero()\n",
    "non_zero_indices"
   ],
   "metadata": {
    "collapsed": false,
    "ExecuteTime": {
     "end_time": "2024-08-08T17:57:40.616912Z",
     "start_time": "2024-08-08T17:57:40.611935Z"
    }
   },
   "id": "1beb24f969387f87",
   "outputs": [
    {
     "data": {
      "text/plain": [
       "(array([0, 1, 4]),)"
      ]
     },
     "execution_count": 10,
     "metadata": {},
     "output_type": "execute_result"
    }
   ],
   "execution_count": 10
  },
  {
   "cell_type": "markdown",
   "source": [
    "#### 11. Create a 3x3 identity matrix (★☆☆)"
   ],
   "metadata": {
    "collapsed": false
   },
   "id": "85e3da622f70ac05"
  },
  {
   "cell_type": "code",
   "source": "np.eye(3, 3)",
   "metadata": {
    "collapsed": false,
    "ExecuteTime": {
     "end_time": "2024-08-08T17:57:41.049154Z",
     "start_time": "2024-08-08T17:57:41.033324Z"
    }
   },
   "id": "8de0d19d94adf8dd",
   "outputs": [
    {
     "data": {
      "text/plain": [
       "array([[1., 0., 0.],\n",
       "       [0., 1., 0.],\n",
       "       [0., 0., 1.]])"
      ]
     },
     "execution_count": 11,
     "metadata": {},
     "output_type": "execute_result"
    }
   ],
   "execution_count": 11
  },
  {
   "cell_type": "markdown",
   "source": [
    "#### 12. Create a 3x3x3 array with random values (★☆☆)"
   ],
   "metadata": {
    "collapsed": false
   },
   "id": "c29ea87d5d782466"
  },
  {
   "cell_type": "code",
   "source": [
    "np.random.seed(42)\n",
    "a = np.random.rand(3, 3, 3)\n",
    "a, a.shape"
   ],
   "metadata": {
    "collapsed": false,
    "ExecuteTime": {
     "end_time": "2024-08-08T17:57:41.201748Z",
     "start_time": "2024-08-08T17:57:41.197265Z"
    }
   },
   "id": "4d2e05b451b77613",
   "outputs": [
    {
     "data": {
      "text/plain": [
       "(array([[[0.37454012, 0.95071431, 0.73199394],\n",
       "         [0.59865848, 0.15601864, 0.15599452],\n",
       "         [0.05808361, 0.86617615, 0.60111501]],\n",
       " \n",
       "        [[0.70807258, 0.02058449, 0.96990985],\n",
       "         [0.83244264, 0.21233911, 0.18182497],\n",
       "         [0.18340451, 0.30424224, 0.52475643]],\n",
       " \n",
       "        [[0.43194502, 0.29122914, 0.61185289],\n",
       "         [0.13949386, 0.29214465, 0.36636184],\n",
       "         [0.45606998, 0.78517596, 0.19967378]]]),\n",
       " (3, 3, 3))"
      ]
     },
     "execution_count": 12,
     "metadata": {},
     "output_type": "execute_result"
    }
   ],
   "execution_count": 12
  },
  {
   "cell_type": "markdown",
   "source": [
    "#### 13. Create a 10x10 array with random values and find the minimum and maximum values (★☆☆)"
   ],
   "metadata": {
    "collapsed": false
   },
   "id": "5de906d84d6a6304"
  },
  {
   "cell_type": "code",
   "source": "",
   "metadata": {
    "collapsed": false,
    "ExecuteTime": {
     "end_time": "2024-08-08T17:57:41.400111Z",
     "start_time": "2024-08-08T17:57:41.398789Z"
    }
   },
   "id": "67dbd283c953049c",
   "outputs": [],
   "execution_count": 12
  },
  {
   "cell_type": "markdown",
   "source": [
    "#### 14. Create a random vector of size 30 and find the mean value (★☆☆)"
   ],
   "metadata": {
    "collapsed": false
   },
   "id": "e9eea0ae6fb24d5a"
  },
  {
   "cell_type": "code",
   "source": [],
   "metadata": {
    "collapsed": false,
    "ExecuteTime": {
     "end_time": "2024-08-08T17:57:41.527791Z",
     "start_time": "2024-08-08T17:57:41.526526Z"
    }
   },
   "id": "edc66206f84a3e1f",
   "outputs": [],
   "execution_count": 12
  },
  {
   "cell_type": "markdown",
   "source": [
    "#### 15. Create a 2d array with 1 on the border and 0 inside (★☆☆)"
   ],
   "metadata": {
    "collapsed": false
   },
   "id": "c4be9e7334e0e38d"
  },
  {
   "cell_type": "code",
   "source": [],
   "metadata": {
    "collapsed": false,
    "ExecuteTime": {
     "end_time": "2024-08-08T17:57:41.622Z",
     "start_time": "2024-08-08T17:57:41.620798Z"
    }
   },
   "id": "47cfb35fe2ba69a6",
   "outputs": [],
   "execution_count": 12
  },
  {
   "cell_type": "markdown",
   "source": [
    "#### 16. How to add a border (filled with 0's) around an existing array? (★☆☆)"
   ],
   "metadata": {
    "collapsed": false
   },
   "id": "2b9056ae9cb6e33"
  },
  {
   "cell_type": "code",
   "source": [],
   "metadata": {
    "collapsed": false,
    "ExecuteTime": {
     "end_time": "2024-08-08T17:57:41.720530Z",
     "start_time": "2024-08-08T17:57:41.719254Z"
    }
   },
   "id": "d92b08f1331ca792",
   "outputs": [],
   "execution_count": 12
  },
  {
   "cell_type": "markdown",
   "source": [
    "#### 17. What is the result of the following expression? (★☆☆)\n",
    "```python\n",
    "0 * np.nan\n",
    "np.nan == np.nan\n",
    "np.inf > np.nan\n",
    "np.nan - np.nan\n",
    "np.nan in set([np.nan])\n",
    "0.3 == 3 * 0.1\n",
    "```"
   ],
   "metadata": {
    "collapsed": false
   },
   "id": "4cb1af96657d7602"
  },
  {
   "cell_type": "code",
   "source": [],
   "metadata": {
    "collapsed": false,
    "ExecuteTime": {
     "end_time": "2024-08-08T17:57:41.804107Z",
     "start_time": "2024-08-08T17:57:41.802419Z"
    }
   },
   "id": "13dfb150ed7e43d6",
   "outputs": [],
   "execution_count": 12
  },
  {
   "cell_type": "markdown",
   "source": [
    "#### 18. Create a 5x5 matrix with values 1,2,3,4 just below the diagonal (★☆☆)"
   ],
   "metadata": {
    "collapsed": false
   },
   "id": "311620f24a125293"
  },
  {
   "cell_type": "code",
   "source": [],
   "metadata": {
    "collapsed": false,
    "ExecuteTime": {
     "end_time": "2024-08-08T17:57:41.902205Z",
     "start_time": "2024-08-08T17:57:41.900857Z"
    }
   },
   "id": "33a30805b570218b",
   "outputs": [],
   "execution_count": 12
  },
  {
   "cell_type": "markdown",
   "source": [
    "#### 19. Create a 8x8 matrix and fill it with a checkerboard pattern (★☆☆)"
   ],
   "metadata": {
    "collapsed": false
   },
   "id": "d71910d185b0b5e4"
  },
  {
   "cell_type": "code",
   "source": [],
   "metadata": {
    "collapsed": false,
    "ExecuteTime": {
     "end_time": "2024-08-08T17:57:41.972175Z",
     "start_time": "2024-08-08T17:57:41.970854Z"
    }
   },
   "id": "660364cbbab15102",
   "outputs": [],
   "execution_count": 12
  },
  {
   "cell_type": "markdown",
   "source": [
    "#### 20. Consider a (6,7,8) shape array, what is the index (x,y,z) of the 100th element? (★☆☆)"
   ],
   "metadata": {
    "collapsed": false
   },
   "id": "4f6432feeb7c6710"
  },
  {
   "cell_type": "code",
   "source": [],
   "metadata": {
    "collapsed": false,
    "ExecuteTime": {
     "end_time": "2024-08-08T17:57:42.108009Z",
     "start_time": "2024-08-08T17:57:42.106780Z"
    }
   },
   "id": "9d5ab107c1735b0d",
   "outputs": [],
   "execution_count": 12
  },
  {
   "cell_type": "markdown",
   "source": [
    "#### 21. Create a checkerboard 8x8 matrix using the tile function (★☆☆)"
   ],
   "metadata": {
    "collapsed": false
   },
   "id": "2f28a7b9274cb7b7"
  },
  {
   "cell_type": "code",
   "source": [],
   "metadata": {
    "collapsed": false,
    "ExecuteTime": {
     "end_time": "2024-08-08T17:57:42.193918Z",
     "start_time": "2024-08-08T17:57:42.192640Z"
    }
   },
   "id": "3e49dfb1375099dc",
   "outputs": [],
   "execution_count": 12
  },
  {
   "cell_type": "markdown",
   "source": [
    "#### 22. Normalize a 5x5 random matrix (★☆☆)"
   ],
   "metadata": {
    "collapsed": false
   },
   "id": "f8da20add6a2fe47"
  },
  {
   "cell_type": "code",
   "source": [],
   "metadata": {
    "collapsed": false,
    "ExecuteTime": {
     "end_time": "2024-08-08T17:57:42.288906Z",
     "start_time": "2024-08-08T17:57:42.287433Z"
    }
   },
   "id": "e0586835af5fa8ba",
   "outputs": [],
   "execution_count": 12
  },
  {
   "cell_type": "markdown",
   "source": [
    "#### 23. Create a custom dtype that describes a color as four unsigned bytes (RGBA) (★☆☆)"
   ],
   "metadata": {
    "collapsed": false
   },
   "id": "e17c004e2e300e84"
  },
  {
   "cell_type": "code",
   "source": [],
   "metadata": {
    "collapsed": false,
    "ExecuteTime": {
     "end_time": "2024-08-08T17:57:42.364261Z",
     "start_time": "2024-08-08T17:57:42.363016Z"
    }
   },
   "id": "ce3ea4714749699e",
   "outputs": [],
   "execution_count": 12
  },
  {
   "cell_type": "markdown",
   "source": [
    "#### 24. Multiply a 5x3 matrix by a 3x2 matrix (real matrix product) (★☆☆)"
   ],
   "metadata": {
    "collapsed": false
   },
   "id": "8940b7b89a59d5cc"
  },
  {
   "cell_type": "code",
   "source": [],
   "metadata": {
    "collapsed": false,
    "ExecuteTime": {
     "end_time": "2024-08-08T17:57:42.496627Z",
     "start_time": "2024-08-08T17:57:42.495320Z"
    }
   },
   "id": "d5bff7112f2d4960",
   "outputs": [],
   "execution_count": 12
  },
  {
   "cell_type": "markdown",
   "source": [
    "#### 25. Given a 1D array, negate all elements which are between 3 and 8, in place. (★☆☆)"
   ],
   "metadata": {
    "collapsed": false
   },
   "id": "ba8f2887700adc3a"
  },
  {
   "cell_type": "code",
   "source": [],
   "metadata": {
    "collapsed": false,
    "ExecuteTime": {
     "end_time": "2024-08-08T17:57:42.567758Z",
     "start_time": "2024-08-08T17:57:42.566487Z"
    }
   },
   "id": "c471e7a67f6224e0",
   "outputs": [],
   "execution_count": 12
  },
  {
   "cell_type": "markdown",
   "source": [
    "#### 26. What is the output of the following script? (★☆☆)\n",
    "```python\n",
    "# Author: Jake VanderPlas\n",
    "\n",
    "print(sum(range(5),-1))\n",
    "from numpy import *\n",
    "print(sum(range(5),-1))\n",
    "```"
   ],
   "metadata": {
    "collapsed": false
   },
   "id": "2778a3d21177d738"
  },
  {
   "cell_type": "code",
   "source": [],
   "metadata": {
    "collapsed": false,
    "ExecuteTime": {
     "end_time": "2024-08-08T17:57:42.705515Z",
     "start_time": "2024-08-08T17:57:42.704220Z"
    }
   },
   "id": "3e715a2c88b8ec31",
   "outputs": [],
   "execution_count": 12
  },
  {
   "cell_type": "markdown",
   "source": [
    "#### 27. Consider an integer vector Z, which of these expressions are legal? (★☆☆)\n",
    "```python\n",
    "Z**Z\n",
    "2 << Z >> 2\n",
    "Z <- Z\n",
    "1j*Z\n",
    "Z/1/1\n",
    "Z<Z>Z\n",
    "```"
   ],
   "metadata": {
    "collapsed": false
   },
   "id": "63afc4d2336caf9"
  },
  {
   "cell_type": "code",
   "source": [],
   "metadata": {
    "collapsed": false,
    "ExecuteTime": {
     "end_time": "2024-08-08T17:57:42.821233Z",
     "start_time": "2024-08-08T17:57:42.819910Z"
    }
   },
   "id": "db0b1f6d24e07275",
   "outputs": [],
   "execution_count": 12
  },
  {
   "cell_type": "markdown",
   "source": [
    "#### 28. What are the result of the following expressions? (★☆☆)\n",
    "```python\n",
    "np.array(0) / np.array(0)\n",
    "np.array(0) // np.array(0)\n",
    "np.array([np.nan]).astype(int).astype(float)\n",
    "```"
   ],
   "metadata": {
    "collapsed": false
   },
   "id": "2b89f9bab8f1e16b"
  },
  {
   "cell_type": "code",
   "source": [],
   "metadata": {
    "collapsed": false,
    "ExecuteTime": {
     "end_time": "2024-08-08T17:57:42.911675Z",
     "start_time": "2024-08-08T17:57:42.910394Z"
    }
   },
   "id": "69efbd651b051d8e",
   "outputs": [],
   "execution_count": 12
  },
  {
   "cell_type": "markdown",
   "source": [
    "#### 29. How to round away from zero a float array ? (★☆☆)"
   ],
   "metadata": {
    "collapsed": false
   },
   "id": "fe11bc06c24a179b"
  },
  {
   "cell_type": "code",
   "source": [],
   "metadata": {
    "collapsed": false,
    "ExecuteTime": {
     "end_time": "2024-08-08T17:57:43.013949Z",
     "start_time": "2024-08-08T17:57:43.012297Z"
    }
   },
   "id": "c8b4c7fe8a3984ca",
   "outputs": [],
   "execution_count": 12
  },
  {
   "cell_type": "markdown",
   "source": [
    "#### 30. How to find common values between two arrays? (★☆☆)"
   ],
   "metadata": {
    "collapsed": false
   },
   "id": "7240bd2d1d5dc0ba"
  },
  {
   "cell_type": "code",
   "source": [],
   "metadata": {
    "collapsed": false,
    "ExecuteTime": {
     "end_time": "2024-08-08T17:57:43.119016Z",
     "start_time": "2024-08-08T17:57:43.117702Z"
    }
   },
   "id": "fd00a205e39e9ab3",
   "outputs": [],
   "execution_count": 12
  },
  {
   "cell_type": "markdown",
   "source": [
    "#### 31. How to ignore all numpy warnings (not recommended)? (★☆☆)"
   ],
   "metadata": {
    "collapsed": false
   },
   "id": "31fc5f75cec05868"
  },
  {
   "cell_type": "code",
   "source": [],
   "metadata": {
    "collapsed": false,
    "ExecuteTime": {
     "end_time": "2024-08-08T17:57:43.197151Z",
     "start_time": "2024-08-08T17:57:43.195087Z"
    }
   },
   "id": "42d29c8b98777816",
   "outputs": [],
   "execution_count": 12
  },
  {
   "cell_type": "markdown",
   "source": [
    "#### 32. Is the following expressions true? (★☆☆)\n",
    "```python\n",
    "np.sqrt(-1) == np.emath.sqrt(-1)\n",
    "```"
   ],
   "metadata": {
    "collapsed": false
   },
   "id": "a107b874a0c3ab17"
  },
  {
   "cell_type": "code",
   "source": [],
   "metadata": {
    "collapsed": false,
    "ExecuteTime": {
     "end_time": "2024-08-08T17:57:43.277322Z",
     "start_time": "2024-08-08T17:57:43.276071Z"
    }
   },
   "id": "56444547c8bcb056",
   "outputs": [],
   "execution_count": 12
  },
  {
   "cell_type": "markdown",
   "source": [
    "#### 33. How to get the dates of yesterday, today and tomorrow? (★☆☆)"
   ],
   "metadata": {
    "collapsed": false
   },
   "id": "b973c3fc85c10953"
  },
  {
   "cell_type": "code",
   "source": [],
   "metadata": {
    "collapsed": false,
    "ExecuteTime": {
     "end_time": "2024-08-08T17:57:43.343757Z",
     "start_time": "2024-08-08T17:57:43.342555Z"
    }
   },
   "id": "48ad29614b157104",
   "outputs": [],
   "execution_count": 12
  },
  {
   "cell_type": "markdown",
   "source": [
    "#### 34. How to get all the dates corresponding to the month of July 2016? (★★☆)"
   ],
   "metadata": {
    "collapsed": false
   },
   "id": "c8441a030711945c"
  },
  {
   "cell_type": "code",
   "source": [],
   "metadata": {
    "collapsed": false,
    "ExecuteTime": {
     "end_time": "2024-08-08T17:57:43.452365Z",
     "start_time": "2024-08-08T17:57:43.451100Z"
    }
   },
   "id": "35697aba59f10ed9",
   "outputs": [],
   "execution_count": 12
  },
  {
   "cell_type": "markdown",
   "source": [
    "#### 35. How to compute ((A+B)*(-A/2)) in place (without copy)? (★★☆)"
   ],
   "metadata": {
    "collapsed": false
   },
   "id": "86dcc73f0d1e9fdd"
  },
  {
   "cell_type": "code",
   "source": [],
   "metadata": {
    "collapsed": false,
    "ExecuteTime": {
     "end_time": "2024-08-08T17:57:43.554561Z",
     "start_time": "2024-08-08T17:57:43.553095Z"
    }
   },
   "id": "7f242473729daed5",
   "outputs": [],
   "execution_count": 12
  },
  {
   "cell_type": "markdown",
   "source": [
    "#### 36. Extract the integer part of a random array of positive numbers using 4 different methods (★★☆)"
   ],
   "metadata": {
    "collapsed": false
   },
   "id": "58f778b4a06ccd3"
  },
  {
   "cell_type": "code",
   "source": [],
   "metadata": {
    "collapsed": false,
    "ExecuteTime": {
     "end_time": "2024-08-08T17:57:43.640289Z",
     "start_time": "2024-08-08T17:57:43.638979Z"
    }
   },
   "id": "7ed465a38931a60e",
   "outputs": [],
   "execution_count": 12
  },
  {
   "cell_type": "markdown",
   "source": [
    "#### 37. Create a 5x5 matrix with row values ranging from 0 to 4 (★★☆)"
   ],
   "metadata": {
    "collapsed": false
   },
   "id": "3204613ae26037bb"
  },
  {
   "cell_type": "code",
   "source": [],
   "metadata": {
    "collapsed": false,
    "ExecuteTime": {
     "end_time": "2024-08-08T17:57:43.704820Z",
     "start_time": "2024-08-08T17:57:43.703616Z"
    }
   },
   "id": "f27c8f000cb3a129",
   "outputs": [],
   "execution_count": 12
  },
  {
   "cell_type": "markdown",
   "source": [
    "#### 38. Consider a generator function that generates 10 integers and use it to build an array (★☆☆)"
   ],
   "metadata": {
    "collapsed": false
   },
   "id": "6d219b30d656f2da"
  },
  {
   "cell_type": "code",
   "source": [],
   "metadata": {
    "collapsed": false,
    "ExecuteTime": {
     "end_time": "2024-08-08T17:57:43.804406Z",
     "start_time": "2024-08-08T17:57:43.803120Z"
    }
   },
   "id": "d387c37eb76795df",
   "outputs": [],
   "execution_count": 12
  },
  {
   "cell_type": "markdown",
   "source": [
    "#### 39. Create a vector of size 10 with values ranging from 0 to 1, both excluded (★★☆)"
   ],
   "metadata": {
    "collapsed": false
   },
   "id": "16fe4df915cb342d"
  },
  {
   "cell_type": "code",
   "source": [],
   "metadata": {
    "collapsed": false,
    "ExecuteTime": {
     "end_time": "2024-08-08T17:57:43.857703Z",
     "start_time": "2024-08-08T17:57:43.856466Z"
    }
   },
   "id": "f834599cdb05ee1d",
   "outputs": [],
   "execution_count": 12
  },
  {
   "cell_type": "markdown",
   "source": [
    "#### 40. Create a random vector of size 10 and sort it (★★☆)"
   ],
   "metadata": {
    "collapsed": false
   },
   "id": "ec879fab3f4711f5"
  },
  {
   "cell_type": "code",
   "source": [],
   "metadata": {
    "collapsed": false,
    "ExecuteTime": {
     "end_time": "2024-08-08T17:57:43.990396Z",
     "start_time": "2024-08-08T17:57:43.989079Z"
    }
   },
   "id": "f95ca14f0865504",
   "outputs": [],
   "execution_count": 12
  },
  {
   "cell_type": "markdown",
   "source": [
    "#### 41. How to sum a small array faster than np.sum? (★★☆)"
   ],
   "metadata": {
    "collapsed": false
   },
   "id": "2d10850138cee131"
  },
  {
   "cell_type": "code",
   "source": [],
   "metadata": {
    "collapsed": false,
    "ExecuteTime": {
     "end_time": "2024-08-08T17:57:44.087735Z",
     "start_time": "2024-08-08T17:57:44.086446Z"
    }
   },
   "id": "2947801eb5b1ff4d",
   "outputs": [],
   "execution_count": 12
  },
  {
   "cell_type": "markdown",
   "source": [
    "#### 42. Consider two random array A and B, check if they are equal (★★☆)"
   ],
   "metadata": {
    "collapsed": false
   },
   "id": "13d6c289e1f31371"
  },
  {
   "cell_type": "code",
   "source": [],
   "metadata": {
    "collapsed": false,
    "ExecuteTime": {
     "end_time": "2024-08-08T17:57:44.180768Z",
     "start_time": "2024-08-08T17:57:44.179537Z"
    }
   },
   "id": "5bf254af1d136c33",
   "outputs": [],
   "execution_count": 12
  },
  {
   "cell_type": "markdown",
   "source": [
    "#### 43. Make an array immutable (read-only) (★★☆)"
   ],
   "metadata": {
    "collapsed": false
   },
   "id": "b64bd6091b267bc4"
  },
  {
   "cell_type": "code",
   "source": [],
   "metadata": {
    "collapsed": false,
    "ExecuteTime": {
     "end_time": "2024-08-08T17:57:44.290661Z",
     "start_time": "2024-08-08T17:57:44.289392Z"
    }
   },
   "id": "8b8cfb28224168c4",
   "outputs": [],
   "execution_count": 12
  },
  {
   "cell_type": "markdown",
   "source": [
    "#### 44. Consider a random 10x2 matrix representing cartesian coordinates, convert them to polar coordinates (★★☆)"
   ],
   "metadata": {
    "collapsed": false
   },
   "id": "1520d6d5df7e793b"
  },
  {
   "cell_type": "code",
   "source": [],
   "metadata": {
    "collapsed": false,
    "ExecuteTime": {
     "end_time": "2024-08-08T17:57:44.405268Z",
     "start_time": "2024-08-08T17:57:44.403487Z"
    }
   },
   "id": "de829f36c340f390",
   "outputs": [],
   "execution_count": 12
  },
  {
   "cell_type": "markdown",
   "source": [
    "#### 45. Create random vector of size 10 and replace the maximum value by 0 (★★☆)"
   ],
   "metadata": {
    "collapsed": false
   },
   "id": "fbb10c03879619aa"
  },
  {
   "cell_type": "code",
   "source": [],
   "metadata": {
    "collapsed": false,
    "ExecuteTime": {
     "end_time": "2024-08-08T17:57:44.483291Z",
     "start_time": "2024-08-08T17:57:44.482095Z"
    }
   },
   "id": "64284760929a20b",
   "outputs": [],
   "execution_count": 12
  },
  {
   "cell_type": "markdown",
   "source": [
    "#### 46. Create a structured array with `x` and `y` coordinates covering the [0,1]x[0,1] area (★★☆)"
   ],
   "metadata": {
    "collapsed": false
   },
   "id": "f1010432bb197903"
  },
  {
   "cell_type": "code",
   "source": [],
   "metadata": {
    "collapsed": false,
    "ExecuteTime": {
     "end_time": "2024-08-08T17:57:44.639425Z",
     "start_time": "2024-08-08T17:57:44.637673Z"
    }
   },
   "id": "df7ef1922a0a38",
   "outputs": [],
   "execution_count": 12
  },
  {
   "cell_type": "markdown",
   "source": [
    "#### 47. Given two arrays, X and Y, construct the Cauchy matrix C (Cij =1/(xi - yj)) (★★☆)"
   ],
   "metadata": {
    "collapsed": false
   },
   "id": "38ad1607e0b93673"
  },
  {
   "cell_type": "code",
   "source": [],
   "metadata": {
    "collapsed": false,
    "ExecuteTime": {
     "end_time": "2024-08-08T17:57:44.727721Z",
     "start_time": "2024-08-08T17:57:44.726312Z"
    }
   },
   "id": "4d16c1d8c017669d",
   "outputs": [],
   "execution_count": 12
  },
  {
   "cell_type": "markdown",
   "source": [
    "#### 48. Print the minimum and maximum representable value for each numpy scalar type (★★☆)"
   ],
   "metadata": {
    "collapsed": false
   },
   "id": "17fbc2f874bc967c"
  },
  {
   "cell_type": "code",
   "source": [],
   "metadata": {
    "collapsed": false,
    "ExecuteTime": {
     "end_time": "2024-08-08T17:57:44.836116Z",
     "start_time": "2024-08-08T17:57:44.834981Z"
    }
   },
   "id": "49deb5a97b13b105",
   "outputs": [],
   "execution_count": 12
  },
  {
   "cell_type": "markdown",
   "source": [
    "#### 49. How to print all the values of an array? (★★☆)"
   ],
   "metadata": {
    "collapsed": false
   },
   "id": "ef73aa3a1fe636b"
  },
  {
   "cell_type": "code",
   "source": [],
   "metadata": {
    "collapsed": false,
    "ExecuteTime": {
     "end_time": "2024-08-08T17:57:44.923714Z",
     "start_time": "2024-08-08T17:57:44.922545Z"
    }
   },
   "id": "e6e588fec349694f",
   "outputs": [],
   "execution_count": 12
  },
  {
   "cell_type": "markdown",
   "source": [
    "#### 50. How to find the closest value (to a given scalar) in a vector? (★★☆)"
   ],
   "metadata": {
    "collapsed": false
   },
   "id": "2356e690d5bf6b70"
  },
  {
   "cell_type": "code",
   "source": [],
   "metadata": {
    "collapsed": false,
    "ExecuteTime": {
     "end_time": "2024-08-08T17:57:45.021499Z",
     "start_time": "2024-08-08T17:57:45.020004Z"
    }
   },
   "id": "36bf6222081fdcb1",
   "outputs": [],
   "execution_count": 12
  },
  {
   "cell_type": "markdown",
   "source": [
    "#### 51. Create a structured array representing a position (x,y) and a color (r,g,b) (★★☆)"
   ],
   "metadata": {
    "collapsed": false
   },
   "id": "274d79f5fe490ef1"
  },
  {
   "cell_type": "code",
   "source": [],
   "metadata": {
    "collapsed": false,
    "ExecuteTime": {
     "end_time": "2024-08-08T17:57:45.100997Z",
     "start_time": "2024-08-08T17:57:45.099535Z"
    }
   },
   "id": "60f6c6af3c0e46fd",
   "outputs": [],
   "execution_count": 12
  },
  {
   "cell_type": "markdown",
   "source": [
    "#### 52. Consider a random vector with shape (100,2) representing coordinates, find point by point distances (★★☆)"
   ],
   "metadata": {
    "collapsed": false
   },
   "id": "f77f19852502779e"
  },
  {
   "cell_type": "code",
   "source": [],
   "metadata": {
    "collapsed": false,
    "ExecuteTime": {
     "end_time": "2024-08-08T17:57:45.224019Z",
     "start_time": "2024-08-08T17:57:45.222723Z"
    }
   },
   "id": "231efd551351087f",
   "outputs": [],
   "execution_count": 12
  },
  {
   "cell_type": "markdown",
   "source": [
    "#### 53. How to convert a float (32 bits) array into an integer (32 bits) in place?"
   ],
   "metadata": {
    "collapsed": false
   },
   "id": "f544cc9ab06e7788"
  },
  {
   "cell_type": "code",
   "source": [],
   "metadata": {
    "collapsed": false,
    "ExecuteTime": {
     "end_time": "2024-08-08T17:57:45.304199Z",
     "start_time": "2024-08-08T17:57:45.302741Z"
    }
   },
   "id": "6015a2ea11f15868",
   "outputs": [],
   "execution_count": 12
  },
  {
   "cell_type": "markdown",
   "source": [
    "#### 54. How to read the following file? (★★☆)\n",
    "```\n",
    "1, 2, 3, 4, 5\n",
    "6,  ,  , 7, 8\n",
    " ,  , 9,10,11\n",
    "```"
   ],
   "metadata": {
    "collapsed": false
   },
   "id": "494bb953df5dc6c0"
  },
  {
   "cell_type": "code",
   "source": [],
   "metadata": {
    "collapsed": false,
    "ExecuteTime": {
     "end_time": "2024-08-08T17:57:45.396403Z",
     "start_time": "2024-08-08T17:57:45.395139Z"
    }
   },
   "id": "a1a19541a08b1b3",
   "outputs": [],
   "execution_count": 12
  },
  {
   "cell_type": "markdown",
   "source": [
    "#### 55. What is the equivalent of enumerate for numpy arrays? (★★☆)"
   ],
   "metadata": {
    "collapsed": false
   },
   "id": "8a52abad03d1a259"
  },
  {
   "cell_type": "code",
   "source": [],
   "metadata": {
    "collapsed": false,
    "ExecuteTime": {
     "end_time": "2024-08-08T17:57:45.468108Z",
     "start_time": "2024-08-08T17:57:45.466826Z"
    }
   },
   "id": "bda1d01a8099870f",
   "outputs": [],
   "execution_count": 12
  },
  {
   "cell_type": "markdown",
   "source": [
    "#### 56. Generate a generic 2D Gaussian-like array (★★☆)"
   ],
   "metadata": {
    "collapsed": false
   },
   "id": "fada6effd6dcb37c"
  },
  {
   "cell_type": "code",
   "source": [],
   "metadata": {
    "collapsed": false,
    "ExecuteTime": {
     "end_time": "2024-08-08T17:57:45.588166Z",
     "start_time": "2024-08-08T17:57:45.586879Z"
    }
   },
   "id": "c148b2ae5164b3b0",
   "outputs": [],
   "execution_count": 12
  },
  {
   "cell_type": "markdown",
   "source": [
    "#### 57. How to randomly place p elements in a 2D array? (★★☆)"
   ],
   "metadata": {
    "collapsed": false
   },
   "id": "40c4ed3f4fc6f37f"
  },
  {
   "cell_type": "code",
   "source": [],
   "metadata": {
    "collapsed": false,
    "ExecuteTime": {
     "end_time": "2024-08-08T17:57:45.676942Z",
     "start_time": "2024-08-08T17:57:45.675584Z"
    }
   },
   "id": "85bb3750b84a0857",
   "outputs": [],
   "execution_count": 12
  },
  {
   "cell_type": "markdown",
   "source": [
    "#### 58. Subtract the mean of each row of a matrix (★★☆)"
   ],
   "metadata": {
    "collapsed": false
   },
   "id": "9b77793cf3a94311"
  },
  {
   "cell_type": "code",
   "source": [],
   "metadata": {
    "collapsed": false,
    "ExecuteTime": {
     "end_time": "2024-08-08T17:57:45.785151Z",
     "start_time": "2024-08-08T17:57:45.783525Z"
    }
   },
   "id": "3ae9be4ced8862d",
   "outputs": [],
   "execution_count": 12
  },
  {
   "cell_type": "markdown",
   "source": [
    "#### 59. How to sort an array by the nth column? (★★☆)"
   ],
   "metadata": {
    "collapsed": false
   },
   "id": "6d1b30d044dfd64a"
  },
  {
   "cell_type": "code",
   "source": [],
   "metadata": {
    "collapsed": false,
    "ExecuteTime": {
     "end_time": "2024-08-08T17:57:45.866709Z",
     "start_time": "2024-08-08T17:57:45.865389Z"
    }
   },
   "id": "2b691ba89ad5e170",
   "outputs": [],
   "execution_count": 12
  },
  {
   "cell_type": "markdown",
   "source": [
    "#### 60. How to tell if a given 2D array has null columns? (★★☆)"
   ],
   "metadata": {
    "collapsed": false
   },
   "id": "2bce5434d61a00ce"
  },
  {
   "cell_type": "code",
   "source": [],
   "metadata": {
    "collapsed": false,
    "ExecuteTime": {
     "end_time": "2024-08-08T17:57:45.968148Z",
     "start_time": "2024-08-08T17:57:45.966783Z"
    }
   },
   "id": "33f10793c234dffd",
   "outputs": [],
   "execution_count": 12
  },
  {
   "cell_type": "markdown",
   "source": [
    "#### 61. Find the nearest value from a given value in an array (★★☆)"
   ],
   "metadata": {
    "collapsed": false
   },
   "id": "2e26473d4a31aae9"
  },
  {
   "cell_type": "code",
   "source": [],
   "metadata": {
    "collapsed": false,
    "ExecuteTime": {
     "end_time": "2024-08-08T17:57:46.044321Z",
     "start_time": "2024-08-08T17:57:46.042969Z"
    }
   },
   "id": "63c8d34e21ece87f",
   "outputs": [],
   "execution_count": 12
  },
  {
   "cell_type": "markdown",
   "source": [
    "#### 62. Considering two arrays with shape (1,3) and (3,1), how to compute their sum using an iterator? (★★☆)"
   ],
   "metadata": {
    "collapsed": false
   },
   "id": "26b409879f727891"
  },
  {
   "cell_type": "code",
   "source": [],
   "metadata": {
    "collapsed": false,
    "ExecuteTime": {
     "end_time": "2024-08-08T17:57:46.154362Z",
     "start_time": "2024-08-08T17:57:46.152985Z"
    }
   },
   "id": "77f13c7604e4304a",
   "outputs": [],
   "execution_count": 12
  },
  {
   "cell_type": "markdown",
   "source": [
    "#### 63. Create an array class that has a name attribute (★★☆)"
   ],
   "metadata": {
    "collapsed": false
   },
   "id": "5200cf74d4d3fd69"
  },
  {
   "cell_type": "code",
   "source": [],
   "metadata": {
    "collapsed": false,
    "ExecuteTime": {
     "end_time": "2024-08-08T17:57:46.236358Z",
     "start_time": "2024-08-08T17:57:46.235166Z"
    }
   },
   "id": "494092c60c68184a",
   "outputs": [],
   "execution_count": 12
  },
  {
   "cell_type": "markdown",
   "source": [
    "#### 64. Consider a given vector, how to add 1 to each element indexed by a second vector (be careful with repeated indices)? (★★★)"
   ],
   "metadata": {
    "collapsed": false
   },
   "id": "6716ea8ae3e1f918"
  },
  {
   "cell_type": "code",
   "source": [],
   "metadata": {
    "collapsed": false,
    "ExecuteTime": {
     "end_time": "2024-08-08T17:57:46.341067Z",
     "start_time": "2024-08-08T17:57:46.339756Z"
    }
   },
   "id": "726d84e2c8220619",
   "outputs": [],
   "execution_count": 12
  },
  {
   "cell_type": "markdown",
   "source": [
    "#### 65. How to accumulate elements of a vector (X) to an array (F) based on an index list (I)? (★★★)"
   ],
   "metadata": {
    "collapsed": false
   },
   "id": "c3f6d71fcf00c7fa"
  },
  {
   "cell_type": "code",
   "source": [],
   "metadata": {
    "collapsed": false,
    "ExecuteTime": {
     "end_time": "2024-08-08T17:57:46.420410Z",
     "start_time": "2024-08-08T17:57:46.418899Z"
    }
   },
   "id": "77383529d5761ab0",
   "outputs": [],
   "execution_count": 12
  },
  {
   "cell_type": "markdown",
   "source": [
    "#### 66. Considering a (w,h,3) image of (dtype=ubyte), compute the number of unique colors (★★☆)"
   ],
   "metadata": {
    "collapsed": false
   },
   "id": "f7821e571bf80493"
  },
  {
   "cell_type": "code",
   "source": [],
   "metadata": {
    "collapsed": false,
    "ExecuteTime": {
     "end_time": "2024-08-08T17:57:46.540841Z",
     "start_time": "2024-08-08T17:57:46.539344Z"
    }
   },
   "id": "f7ce1ecc9aca2d62",
   "outputs": [],
   "execution_count": 12
  },
  {
   "cell_type": "markdown",
   "source": [
    "#### 67. Considering a four dimensions array, how to get sum over the last two axis at once? (★★★)"
   ],
   "metadata": {
    "collapsed": false
   },
   "id": "23b27bb755386857"
  },
  {
   "cell_type": "code",
   "source": [],
   "metadata": {
    "collapsed": false,
    "ExecuteTime": {
     "end_time": "2024-08-08T17:57:46.604383Z",
     "start_time": "2024-08-08T17:57:46.603143Z"
    }
   },
   "id": "1cb30efa7fc0fa17",
   "outputs": [],
   "execution_count": 12
  },
  {
   "cell_type": "markdown",
   "source": [
    "#### 68. Considering a one-dimensional vector D, how to compute means of subsets of D using a vector S of same size describing subset  indices? (★★★)"
   ],
   "metadata": {
    "collapsed": false
   },
   "id": "85401536ac394e53"
  },
  {
   "cell_type": "code",
   "source": [],
   "metadata": {
    "collapsed": false,
    "ExecuteTime": {
     "end_time": "2024-08-08T17:57:46.721347Z",
     "start_time": "2024-08-08T17:57:46.720009Z"
    }
   },
   "id": "43168b3a4f4ac5c",
   "outputs": [],
   "execution_count": 12
  },
  {
   "cell_type": "markdown",
   "source": [
    "#### 69. How to get the diagonal of a dot product? (★★★)"
   ],
   "metadata": {
    "collapsed": false
   },
   "id": "1c03f35efe1b76d8"
  },
  {
   "cell_type": "code",
   "source": [],
   "metadata": {
    "collapsed": false,
    "ExecuteTime": {
     "end_time": "2024-08-08T17:57:46.832063Z",
     "start_time": "2024-08-08T17:57:46.830731Z"
    }
   },
   "id": "b390745152b6a6d2",
   "outputs": [],
   "execution_count": 12
  },
  {
   "cell_type": "markdown",
   "source": [
    "#### 70. Consider the vector [1, 2, 3, 4, 5], how to build a new vector with 3 consecutive zeros interleaved between each value? (★★★)"
   ],
   "metadata": {
    "collapsed": false
   },
   "id": "efe9491cb69e35a7"
  },
  {
   "cell_type": "code",
   "source": [],
   "metadata": {
    "collapsed": false,
    "ExecuteTime": {
     "end_time": "2024-08-08T17:57:46.960347Z",
     "start_time": "2024-08-08T17:57:46.958743Z"
    }
   },
   "id": "f4c3b6fad329fd93",
   "outputs": [],
   "execution_count": 12
  },
  {
   "cell_type": "markdown",
   "source": [
    "#### 71. Consider an array of dimension (5,5,3), how to mulitply it by an array with dimensions (5,5)? (★★★)"
   ],
   "metadata": {
    "collapsed": false
   },
   "id": "ba89410c46ce992c"
  },
  {
   "cell_type": "code",
   "source": [],
   "metadata": {
    "collapsed": false,
    "ExecuteTime": {
     "end_time": "2024-08-08T17:57:47.051285Z",
     "start_time": "2024-08-08T17:57:47.050042Z"
    }
   },
   "id": "763026507ef44c70",
   "outputs": [],
   "execution_count": 12
  },
  {
   "cell_type": "markdown",
   "source": [
    "#### 72. How to swap two rows of an array? (★★★)"
   ],
   "metadata": {
    "collapsed": false
   },
   "id": "c75dfc3b352a742"
  },
  {
   "cell_type": "code",
   "source": [],
   "metadata": {
    "collapsed": false,
    "ExecuteTime": {
     "end_time": "2024-08-08T17:57:47.145294Z",
     "start_time": "2024-08-08T17:57:47.144016Z"
    }
   },
   "id": "f63c47fa09653f9d",
   "outputs": [],
   "execution_count": 12
  },
  {
   "cell_type": "markdown",
   "source": [
    "#### 73. Consider a set of 10 triplets describing 10 triangles (with shared vertices), find the set of unique line segments composing all the  triangles (★★★)"
   ],
   "metadata": {
    "collapsed": false
   },
   "id": "73dff5672a67d47b"
  },
  {
   "cell_type": "code",
   "source": [],
   "metadata": {
    "collapsed": false,
    "ExecuteTime": {
     "end_time": "2024-08-08T17:57:47.219483Z",
     "start_time": "2024-08-08T17:57:47.218097Z"
    }
   },
   "id": "724adf01a8691c06",
   "outputs": [],
   "execution_count": 12
  },
  {
   "cell_type": "markdown",
   "source": [
    "#### 74. Given a sorted array C that corresponds to a bincount, how to produce an array A such that np.bincount(A) == C? (★★★)"
   ],
   "metadata": {
    "collapsed": false
   },
   "id": "e2a340950d68f172"
  },
  {
   "cell_type": "code",
   "source": [],
   "metadata": {
    "collapsed": false,
    "ExecuteTime": {
     "end_time": "2024-08-08T17:57:47.308189Z",
     "start_time": "2024-08-08T17:57:47.306961Z"
    }
   },
   "id": "d5658d766129e363",
   "outputs": [],
   "execution_count": 12
  },
  {
   "cell_type": "markdown",
   "source": [
    "#### 75. How to compute averages using a sliding window over an array? (★★★)"
   ],
   "metadata": {
    "collapsed": false
   },
   "id": "994b1b90453eab24"
  },
  {
   "cell_type": "code",
   "source": [],
   "metadata": {
    "collapsed": false,
    "ExecuteTime": {
     "end_time": "2024-08-08T17:57:47.410095Z",
     "start_time": "2024-08-08T17:57:47.408714Z"
    }
   },
   "id": "cbe19727179a0f5a",
   "outputs": [],
   "execution_count": 12
  },
  {
   "cell_type": "markdown",
   "source": [
    "#### 76. Consider a one-dimensional array Z, build a two-dimensional array whose first row is (Z[0],Z[1],Z[2]) and each subsequent row is  shifted by 1 (last row should be (Z[-3],Z[-2],Z[-1]) (★★★)"
   ],
   "metadata": {
    "collapsed": false
   },
   "id": "3fa66e9caf539f"
  },
  {
   "cell_type": "code",
   "source": [],
   "metadata": {
    "collapsed": false,
    "ExecuteTime": {
     "end_time": "2024-08-08T17:57:47.514198Z",
     "start_time": "2024-08-08T17:57:47.512790Z"
    }
   },
   "id": "1cc6fc383e25a3ba",
   "outputs": [],
   "execution_count": 12
  },
  {
   "cell_type": "markdown",
   "source": [
    "#### 77. How to negate a boolean, or to change the sign of a float inplace? (★★★)"
   ],
   "metadata": {
    "collapsed": false
   },
   "id": "d967a6be41e79fec"
  },
  {
   "cell_type": "code",
   "source": [],
   "metadata": {
    "collapsed": false,
    "ExecuteTime": {
     "end_time": "2024-08-08T17:57:47.597778Z",
     "start_time": "2024-08-08T17:57:47.596383Z"
    }
   },
   "id": "d5a6b0951c7f29fa",
   "outputs": [],
   "execution_count": 12
  },
  {
   "cell_type": "markdown",
   "source": [
    "#### 78. Consider 2 sets of points P0,P1 describing lines (2d) and a point p, how to compute distance from p to each line i (P0[i],P1[i])? (★★★)"
   ],
   "metadata": {
    "collapsed": false
   },
   "id": "a9294da005670558"
  },
  {
   "cell_type": "code",
   "source": [],
   "metadata": {
    "collapsed": false,
    "ExecuteTime": {
     "end_time": "2024-08-08T17:57:47.694549Z",
     "start_time": "2024-08-08T17:57:47.693281Z"
    }
   },
   "id": "d482926c6ee35c18",
   "outputs": [],
   "execution_count": 12
  },
  {
   "cell_type": "markdown",
   "source": [
    "#### 79. Consider 2 sets of points P0,P1 describing lines (2d) and a set of points P, how to compute distance from each point j (P[j]) to each line i (P0[i],P1[i])? (★★★)"
   ],
   "metadata": {
    "collapsed": false
   },
   "id": "b0d76985b0d23c9"
  },
  {
   "cell_type": "code",
   "source": [],
   "metadata": {
    "collapsed": false,
    "ExecuteTime": {
     "end_time": "2024-08-08T17:57:47.781784Z",
     "start_time": "2024-08-08T17:57:47.780505Z"
    }
   },
   "id": "35f3a716b5a46f4b",
   "outputs": [],
   "execution_count": 12
  },
  {
   "cell_type": "markdown",
   "source": [
    "#### 80. Consider an arbitrary array, write a function that extract a subpart with a fixed shape and centered on a given element (pad with a `fill` value when necessary) (★★★)"
   ],
   "metadata": {
    "collapsed": false
   },
   "id": "12f20b5b937a3bab"
  },
  {
   "cell_type": "code",
   "source": [],
   "metadata": {
    "collapsed": false,
    "ExecuteTime": {
     "end_time": "2024-08-08T17:57:47.936808Z",
     "start_time": "2024-08-08T17:57:47.935233Z"
    }
   },
   "id": "d10c462f1780ad50",
   "outputs": [],
   "execution_count": 12
  },
  {
   "cell_type": "markdown",
   "source": [
    "#### 81. Consider an array Z = [1,2,3,4,5,6,7,8,9,10,11,12,13,14], how to generate an array R = [[1,2,3,4], [2,3,4,5], [3,4,5,6], ..., [11,12,13,14]]? (★★★)"
   ],
   "metadata": {
    "collapsed": false
   },
   "id": "39ab3f5465dd598f"
  },
  {
   "cell_type": "code",
   "source": [],
   "metadata": {
    "collapsed": false,
    "ExecuteTime": {
     "end_time": "2024-08-08T17:57:48.001259Z",
     "start_time": "2024-08-08T17:57:47.999832Z"
    }
   },
   "id": "742370e26957be4e",
   "outputs": [],
   "execution_count": 12
  },
  {
   "cell_type": "markdown",
   "source": [
    "#### 82. Compute a matrix rank (★★★)"
   ],
   "metadata": {
    "collapsed": false
   },
   "id": "e1b1901486db9564"
  },
  {
   "cell_type": "code",
   "source": [],
   "metadata": {
    "collapsed": false,
    "ExecuteTime": {
     "end_time": "2024-08-08T17:57:48.115628Z",
     "start_time": "2024-08-08T17:57:48.114403Z"
    }
   },
   "id": "c8e2369a20bdbd49",
   "outputs": [],
   "execution_count": 12
  },
  {
   "cell_type": "markdown",
   "source": [
    "#### 83. How to find the most frequent value in an array?"
   ],
   "metadata": {
    "collapsed": false
   },
   "id": "3541a339249869d3"
  },
  {
   "cell_type": "code",
   "source": [],
   "metadata": {
    "collapsed": false,
    "ExecuteTime": {
     "end_time": "2024-08-08T17:57:48.194367Z",
     "start_time": "2024-08-08T17:57:48.192951Z"
    }
   },
   "id": "241120b355a6b39b",
   "outputs": [],
   "execution_count": 12
  },
  {
   "cell_type": "markdown",
   "source": [
    "#### 84. Extract all the contiguous 3x3 blocks from a random 10x10 matrix (★★★)"
   ],
   "metadata": {
    "collapsed": false
   },
   "id": "f88fe9227c5174fd"
  },
  {
   "cell_type": "code",
   "source": [],
   "metadata": {
    "collapsed": false,
    "ExecuteTime": {
     "end_time": "2024-08-08T17:57:48.304228Z",
     "start_time": "2024-08-08T17:57:48.303004Z"
    }
   },
   "id": "364cd293cba43ced",
   "outputs": [],
   "execution_count": 12
  },
  {
   "cell_type": "markdown",
   "source": [
    "#### 85. Create a 2D array subclass such that Z[i,j] == Z[j,i] (★★★)"
   ],
   "metadata": {
    "collapsed": false
   },
   "id": "cf7bc42f2a738a0a"
  },
  {
   "cell_type": "code",
   "source": [],
   "metadata": {
    "collapsed": false,
    "ExecuteTime": {
     "end_time": "2024-08-08T17:57:48.464156Z",
     "start_time": "2024-08-08T17:57:48.462270Z"
    }
   },
   "id": "fe3b0ca65b7ce139",
   "outputs": [],
   "execution_count": 12
  },
  {
   "cell_type": "markdown",
   "source": [
    "#### 86. Consider a set of p matrices with shape (n,n) and a set of p vectors with shape (n,1). How to compute the sum of of the p matrix products at once? (result has shape (n,1)) (★★★)"
   ],
   "metadata": {
    "collapsed": false
   },
   "id": "9396aa13a7d78ef1"
  },
  {
   "cell_type": "code",
   "source": [],
   "metadata": {
    "collapsed": false,
    "ExecuteTime": {
     "end_time": "2024-08-08T17:57:48.620062Z",
     "start_time": "2024-08-08T17:57:48.617901Z"
    }
   },
   "id": "386ea09f4d275f54",
   "outputs": [],
   "execution_count": 12
  },
  {
   "cell_type": "markdown",
   "source": [
    "#### 87. Consider a 16x16 array, how to get the block-sum (block size is 4x4)? (★★★)"
   ],
   "metadata": {
    "collapsed": false
   },
   "id": "c2b5f0691c96e3d8"
  },
  {
   "cell_type": "code",
   "source": [],
   "metadata": {
    "collapsed": false,
    "ExecuteTime": {
     "end_time": "2024-08-08T17:57:48.695565Z",
     "start_time": "2024-08-08T17:57:48.693937Z"
    }
   },
   "id": "3e534ea6160e29e7",
   "outputs": [],
   "execution_count": 12
  },
  {
   "cell_type": "markdown",
   "source": [
    "#### 88. How to implement the Game of Life using numpy arrays? (★★★)"
   ],
   "metadata": {
    "collapsed": false
   },
   "id": "f1b2530b60b12a31"
  },
  {
   "cell_type": "code",
   "source": [],
   "metadata": {
    "collapsed": false,
    "ExecuteTime": {
     "end_time": "2024-08-08T17:57:48.911108Z",
     "start_time": "2024-08-08T17:57:48.904794Z"
    }
   },
   "id": "de387cf6d5b8afde",
   "outputs": [],
   "execution_count": 12
  },
  {
   "cell_type": "markdown",
   "source": [
    "#### 89. How to get the n largest values of an array (★★★)"
   ],
   "metadata": {
    "collapsed": false
   },
   "id": "a027b5ab2cf4d0da"
  },
  {
   "cell_type": "code",
   "source": [],
   "metadata": {
    "collapsed": false,
    "ExecuteTime": {
     "end_time": "2024-08-08T17:57:49.070214Z",
     "start_time": "2024-08-08T17:57:49.066732Z"
    }
   },
   "id": "69686a5397351667",
   "outputs": [],
   "execution_count": 12
  },
  {
   "cell_type": "markdown",
   "source": [
    "#### 90. Given an arbitrary number of vectors, build the cartesian product (every combinations of every item) (★★★)"
   ],
   "metadata": {
    "collapsed": false
   },
   "id": "20df65b63135b5e8"
  },
  {
   "cell_type": "code",
   "source": [],
   "metadata": {
    "collapsed": false,
    "ExecuteTime": {
     "end_time": "2024-08-08T17:57:49.174226Z",
     "start_time": "2024-08-08T17:57:49.172603Z"
    }
   },
   "id": "874a1d3f21b1e749",
   "outputs": [],
   "execution_count": 12
  },
  {
   "cell_type": "markdown",
   "source": [
    "#### 91. How to create a record array from a regular array? (★★★)"
   ],
   "metadata": {
    "collapsed": false
   },
   "id": "f477d4b57e808caf"
  },
  {
   "cell_type": "code",
   "source": [],
   "metadata": {
    "collapsed": false,
    "ExecuteTime": {
     "end_time": "2024-08-08T17:57:49.240638Z",
     "start_time": "2024-08-08T17:57:49.239247Z"
    }
   },
   "id": "55278da37109727e",
   "outputs": [],
   "execution_count": 12
  },
  {
   "cell_type": "markdown",
   "source": [
    "#### 92. Consider a large vector Z, compute Z to the power of 3 using 3 different methods (★★★)"
   ],
   "metadata": {
    "collapsed": false
   },
   "id": "84fc30f417b9d227"
  },
  {
   "cell_type": "code",
   "source": [],
   "metadata": {
    "collapsed": false,
    "ExecuteTime": {
     "end_time": "2024-08-08T17:57:49.333462Z",
     "start_time": "2024-08-08T17:57:49.332201Z"
    }
   },
   "id": "d7f20672bb39775",
   "outputs": [],
   "execution_count": 12
  },
  {
   "cell_type": "markdown",
   "source": [
    "#### 93. Consider two arrays A and B of shape (8,3) and (2,2). How to find rows of A that contain elements of each row of B regardless of the order of the elements in B? (★★★)"
   ],
   "metadata": {
    "collapsed": false
   },
   "id": "49a8bb0413705d1b"
  },
  {
   "cell_type": "code",
   "source": [],
   "metadata": {
    "collapsed": false,
    "ExecuteTime": {
     "end_time": "2024-08-08T17:57:49.413828Z",
     "start_time": "2024-08-08T17:57:49.412522Z"
    }
   },
   "id": "2386eb6b4b75c624",
   "outputs": [],
   "execution_count": 12
  },
  {
   "cell_type": "markdown",
   "source": [
    "#### 94. Considering a 10x3 matrix, extract rows with unequal values (e.g. [2,2,3]) (★★★)"
   ],
   "metadata": {
    "collapsed": false
   },
   "id": "60e475ff797184e2"
  },
  {
   "cell_type": "code",
   "source": [],
   "metadata": {
    "collapsed": false,
    "ExecuteTime": {
     "end_time": "2024-08-08T17:57:49.523908Z",
     "start_time": "2024-08-08T17:57:49.522675Z"
    }
   },
   "id": "b845c1161243d176",
   "outputs": [],
   "execution_count": 12
  },
  {
   "cell_type": "markdown",
   "source": [
    "#### 95. Convert a vector of ints into a matrix binary representation (★★★)"
   ],
   "metadata": {
    "collapsed": false
   },
   "id": "8d6e669f6f62ea32"
  },
  {
   "cell_type": "code",
   "source": [],
   "metadata": {
    "collapsed": false,
    "ExecuteTime": {
     "end_time": "2024-08-08T17:57:49.605622Z",
     "start_time": "2024-08-08T17:57:49.604366Z"
    }
   },
   "id": "fa138c8467e2aff0",
   "outputs": [],
   "execution_count": 12
  },
  {
   "cell_type": "markdown",
   "source": [
    "#### 96. Given a two dimensional array, how to extract unique rows? (★★★)"
   ],
   "metadata": {
    "collapsed": false
   },
   "id": "2dcd0ce05dfa0ad6"
  },
  {
   "cell_type": "code",
   "source": [],
   "metadata": {
    "collapsed": false,
    "ExecuteTime": {
     "end_time": "2024-08-08T17:57:49.707080Z",
     "start_time": "2024-08-08T17:57:49.705809Z"
    }
   },
   "id": "e7b485187a3506d1",
   "outputs": [],
   "execution_count": 12
  },
  {
   "cell_type": "markdown",
   "source": [
    "#### 97. Considering 2 vectors A & B, write the einsum equivalent of inner, outer, sum, and mul function (★★★)"
   ],
   "metadata": {
    "collapsed": false
   },
   "id": "545402dbbe9890c4"
  },
  {
   "cell_type": "code",
   "source": [],
   "metadata": {
    "collapsed": false,
    "ExecuteTime": {
     "end_time": "2024-08-08T17:57:49.785966Z",
     "start_time": "2024-08-08T17:57:49.784563Z"
    }
   },
   "id": "a2f78dad9605c4b",
   "outputs": [],
   "execution_count": 12
  },
  {
   "cell_type": "markdown",
   "source": [
    "#### 98. Considering a path described by two vectors (X,Y), how to sample it using equidistant samples (★★★)?"
   ],
   "metadata": {
    "collapsed": false
   },
   "id": "7a9e9300aed5805d"
  },
  {
   "cell_type": "code",
   "source": [],
   "metadata": {
    "collapsed": false,
    "ExecuteTime": {
     "end_time": "2024-08-08T17:57:49.886245Z",
     "start_time": "2024-08-08T17:57:49.884992Z"
    }
   },
   "id": "98d05d0ad58ab533",
   "outputs": [],
   "execution_count": 12
  },
  {
   "cell_type": "markdown",
   "source": [
    "#### 99. Given an integer n and a 2D array X, select from X the rows which can be interpreted as draws from a multinomial distribution with n degrees, i.e., the rows which only contain integers and which sum to n. (★★★)"
   ],
   "metadata": {
    "collapsed": false
   },
   "id": "63bd17fb7a723821"
  },
  {
   "cell_type": "code",
   "source": [],
   "metadata": {
    "collapsed": false,
    "ExecuteTime": {
     "end_time": "2024-08-08T17:57:49.967280Z",
     "start_time": "2024-08-08T17:57:49.965967Z"
    }
   },
   "id": "d9e3c829bb13c38c",
   "outputs": [],
   "execution_count": 12
  },
  {
   "cell_type": "markdown",
   "source": [
    "#### 100. Compute bootstrapped 95% confidence intervals for the mean of a 1D array X (i.e., resample the elements of an array with replacement N times, compute the mean of each sample, and then compute percentiles over the means). (★★★)"
   ],
   "metadata": {
    "collapsed": false
   },
   "id": "3d6ad9e930081e12"
  },
  {
   "cell_type": "code",
   "source": [],
   "metadata": {
    "collapsed": false,
    "ExecuteTime": {
     "end_time": "2024-08-08T17:57:50.090056Z",
     "start_time": "2024-08-08T17:57:50.088745Z"
    }
   },
   "id": "216e849ea2463e91",
   "outputs": [],
   "execution_count": 12
  }
 ],
 "metadata": {
  "kernelspec": {
   "name": "python3",
   "language": "python",
   "display_name": "Python 3 (ipykernel)"
  }
 },
 "nbformat": 4,
 "nbformat_minor": 5
}

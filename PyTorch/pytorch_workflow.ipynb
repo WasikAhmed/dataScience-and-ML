{
 "cells": [
  {
   "metadata": {},
   "cell_type": "markdown",
   "source": "# PyTorch Workflow",
   "id": "cde179af9fd53e18"
  },
  {
   "metadata": {},
   "cell_type": "markdown",
   "source": "## Importing Modules",
   "id": "237e334bdcfe3ee1"
  },
  {
   "metadata": {
    "ExecuteTime": {
     "end_time": "2024-08-31T12:30:56.641544Z",
     "start_time": "2024-08-31T12:30:55.208161Z"
    }
   },
   "cell_type": "code",
   "source": [
    "import torch\n",
    "import torch.nn as nn\n",
    "import matplotlib.pyplot as plt\n",
    "\n",
    "torch.__version__"
   ],
   "id": "c091f6a3f1ea6292",
   "outputs": [
    {
     "data": {
      "text/plain": [
       "'2.3.1'"
      ]
     },
     "execution_count": 1,
     "metadata": {},
     "output_type": "execute_result"
    }
   ],
   "execution_count": 1
  },
  {
   "metadata": {},
   "cell_type": "markdown",
   "source": "## Data Preparing and Loading",
   "id": "e59aa9451038bf8e"
  },
  {
   "metadata": {
    "ExecuteTime": {
     "end_time": "2024-08-31T12:30:56.663036Z",
     "start_time": "2024-08-31T12:30:56.642457Z"
    }
   },
   "cell_type": "code",
   "source": [
    "# create *known* parameters\n",
    "weight = 0.7\n",
    "bias = 0.3\n",
    "\n",
    "# create data\n",
    "start = 0\n",
    "end = 1\n",
    "step = 0.02\n",
    "X = torch.arange(start, end, step).unsqueeze(dim=1)\n",
    "y = weight * X + bias\n",
    "\n",
    "len(X), len(y)"
   ],
   "id": "393723111f10f95a",
   "outputs": [
    {
     "data": {
      "text/plain": [
       "(50, 50)"
      ]
     },
     "execution_count": 2,
     "metadata": {},
     "output_type": "execute_result"
    }
   ],
   "execution_count": 2
  },
  {
   "metadata": {
    "ExecuteTime": {
     "end_time": "2024-08-31T12:30:56.690023Z",
     "start_time": "2024-08-31T12:30:56.663844Z"
    }
   },
   "cell_type": "code",
   "source": "X[:10], y[:10]",
   "id": "26bcb13fdfc8636c",
   "outputs": [
    {
     "data": {
      "text/plain": [
       "(tensor([[0.0000],\n",
       "         [0.0200],\n",
       "         [0.0400],\n",
       "         [0.0600],\n",
       "         [0.0800],\n",
       "         [0.1000],\n",
       "         [0.1200],\n",
       "         [0.1400],\n",
       "         [0.1600],\n",
       "         [0.1800]]),\n",
       " tensor([[0.3000],\n",
       "         [0.3140],\n",
       "         [0.3280],\n",
       "         [0.3420],\n",
       "         [0.3560],\n",
       "         [0.3700],\n",
       "         [0.3840],\n",
       "         [0.3980],\n",
       "         [0.4120],\n",
       "         [0.4260]]))"
      ]
     },
     "execution_count": 3,
     "metadata": {},
     "output_type": "execute_result"
    }
   ],
   "execution_count": 3
  },
  {
   "metadata": {},
   "cell_type": "markdown",
   "source": "## Splitting data into training and testing",
   "id": "f3df4ca412cbd6f3"
  },
  {
   "metadata": {
    "ExecuteTime": {
     "end_time": "2024-08-31T12:30:56.695158Z",
     "start_time": "2024-08-31T12:30:56.691716Z"
    }
   },
   "cell_type": "code",
   "source": [
    "# creating a train/test split\n",
    "split = int(0.8 * len(X))\n",
    "X_train, X_test = X[:split], X[split:]\n",
    "y_train, y_test = y[:split], y[split:]\n",
    "\n",
    "len(X_train), len(X_test), len(y_train), len(y_test)"
   ],
   "id": "6eba431db6a65af5",
   "outputs": [
    {
     "data": {
      "text/plain": [
       "(40, 10, 40, 10)"
      ]
     },
     "execution_count": 4,
     "metadata": {},
     "output_type": "execute_result"
    }
   ],
   "execution_count": 4
  },
  {
   "metadata": {},
   "cell_type": "markdown",
   "source": "## Visualizing Data",
   "id": "e06cc0c097b9b292"
  },
  {
   "metadata": {
    "ExecuteTime": {
     "end_time": "2024-08-31T12:30:56.698862Z",
     "start_time": "2024-08-31T12:30:56.695798Z"
    }
   },
   "cell_type": "code",
   "source": [
    "def plot_predictions(train_data=X_train,\n",
    "                     train_labels=y_train,\n",
    "                     test_data=X_test,\n",
    "                     test_labels=y_test,\n",
    "                     predictions=None):\n",
    "    plt.figure(figsize=(10, 7))\n",
    "    plt.scatter(train_data, train_labels, c=\"b\", s=4, label=\"Training data\")\n",
    "    plt.scatter(test_data, test_labels, c=\"g\", s=4, label=\"Testing data\")\n",
    "    if predictions is not None:\n",
    "        plt.scatter(test_data, predictions, label=\"Predictions\", c=\"r\")\n",
    "    plt.legend(prop={\"size\": 14})\n",
    "    plt.show()"
   ],
   "id": "3d16e1e72bf4ea4",
   "outputs": [],
   "execution_count": 5
  },
  {
   "metadata": {
    "ExecuteTime": {
     "end_time": "2024-08-31T12:30:56.818233Z",
     "start_time": "2024-08-31T12:30:56.699495Z"
    }
   },
   "cell_type": "code",
   "source": "plot_predictions()",
   "id": "851dfb9ce7edb647",
   "outputs": [
    {
     "data": {
      "text/plain": [
       "<Figure size 1000x700 with 1 Axes>"
      ],
      "image/png": "[encoded data removed]"
     },
     "metadata": {},
     "output_type": "display_data"
    }
   ],
   "execution_count": 6
  },
  {
   "metadata": {},
   "cell_type": "markdown",
   "source": [
    "## Building Model\n",
    "\n",
    "Algorithms:\n",
    "1. Gradient Descent\n",
    "2. Backpropagation"
   ],
   "id": "2c75ade0e78397a1"
  },
  {
   "metadata": {
    "ExecuteTime": {
     "end_time": "2024-08-31T12:30:56.826657Z",
     "start_time": "2024-08-31T12:30:56.819803Z"
    }
   },
   "cell_type": "code",
   "source": [
    "# create linear regression model class\n",
    "class LinearRegressionModel(nn.Module):\n",
    "    def __init__(self):\n",
    "        super().__init__()\n",
    "        self.weights = nn.Parameter(torch.randn(1,\n",
    "                                                requires_grad=True,\n",
    "                                                dtype=torch.float32))\n",
    "        self.bias = nn.Parameter(torch.randn(1,\n",
    "                                             requires_grad=True,\n",
    "                                             dtype=torch.float32))\n",
    "\n",
    "    # forward method to define computation in the model\n",
    "    def forward(self, x: torch.Tensor) -> torch.Tensor:\n",
    "        return self.weights * x + self.bias"
   ],
   "id": "fd31ea3de211fb04",
   "outputs": [],
   "execution_count": 7
  },
  {
   "metadata": {},
   "cell_type": "markdown",
   "source": "## Contents of PyTorch Model",
   "id": "1df4898d1f775217"
  },
  {
   "metadata": {
    "ExecuteTime": {
     "end_time": "2024-08-31T12:30:56.839699Z",
     "start_time": "2024-08-31T12:30:56.828648Z"
    }
   },
   "cell_type": "code",
   "source": [
    "# random seed\n",
    "torch.manual_seed(42)\n",
    "\n",
    "# an instance of the model\n",
    "model_0 = LinearRegressionModel()\n",
    "\n",
    "# parameters\n",
    "list(model_0.parameters())"
   ],
   "id": "433bac64abbf1576",
   "outputs": [
    {
     "data": {
      "text/plain": [
       "[Parameter containing:\n",
       " tensor([0.3367], requires_grad=True),\n",
       " Parameter containing:\n",
       " tensor([0.1288], requires_grad=True)]"
      ]
     },
     "execution_count": 8,
     "metadata": {},
     "output_type": "execute_result"
    }
   ],
   "execution_count": 8
  },
  {
   "metadata": {
    "ExecuteTime": {
     "end_time": "2024-08-31T12:30:56.847767Z",
     "start_time": "2024-08-31T12:30:56.841191Z"
    }
   },
   "cell_type": "code",
   "source": [
    "# model parameters\n",
    "model_0.state_dict()"
   ],
   "id": "1db37b161e308c7d",
   "outputs": [
    {
     "data": {
      "text/plain": [
       "OrderedDict([('weights', tensor([0.3367])), ('bias', tensor([0.1288]))])"
      ]
     },
     "execution_count": 9,
     "metadata": {},
     "output_type": "execute_result"
    }
   ],
   "execution_count": 9
  },
  {
   "metadata": {
    "ExecuteTime": {
     "end_time": "2024-08-31T12:46:30.930317Z",
     "start_time": "2024-08-31T12:46:29.566197Z"
    }
   },
   "cell_type": "code",
   "source": [
    "# loss function\n",
    "loss_fn = nn.L1Loss()\n",
    "\n",
    "# optimizer\n",
    "optimizer = torch.optim.SGD(params=model_0.parameters(), lr=0.01)"
   ],
   "id": "9e9799165c3115f8",
   "outputs": [],
   "execution_count": 10
  }
 ],
 "metadata": {
  "kernelspec": {
   "display_name": "Python 3",
   "language": "python",
   "name": "python3"
  },
  "language_info": {
   "codemirror_mode": {
    "name": "ipython",
    "version": 2
   },
   "file_extension": ".py",
   "mimetype": "text/x-python",
   "name": "python",
   "nbconvert_exporter": "python",
   "pygments_lexer": "ipython2",
   "version": "2.7.6"
  }
 },
 "nbformat": 4,
 "nbformat_minor": 5
}

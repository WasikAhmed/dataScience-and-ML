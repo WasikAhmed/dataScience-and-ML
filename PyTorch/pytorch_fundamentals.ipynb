{
 "metadata": {
  "kernelspec": {
   "language": "python",
   "display_name": "Python 3",
   "name": "python3"
  },
  "language_info": {
   "name": "python",
   "version": "3.10.13",
   "mimetype": "text/x-python",
   "codemirror_mode": {
    "name": "ipython",
    "version": 3
   },
   "pygments_lexer": "ipython3",
   "nbconvert_exporter": "python",
   "file_extension": ".py"
  },
  "kaggle": {
   "accelerator": "none",
   "dataSources": [],
   "dockerImageVersionId": 30698,
   "isInternetEnabled": true,
   "language": "python",
   "sourceType": "notebook",
   "isGpuEnabled": false
  }
 },
 "nbformat_minor": 4,
 "nbformat": 4,
 "cells": [
  {
   "cell_type": "markdown",
   "source": [
    "# PyTorch Fundamentals"
   ],
   "metadata": {}
  },
  {
   "cell_type": "markdown",
   "source": [
    "## Importing modules"
   ],
   "metadata": {
    "execution": {
     "iopub.status.busy": "2024-05-25T20:49:35.583697Z",
     "iopub.execute_input": "2024-05-25T20:49:35.584234Z",
     "iopub.status.idle": "2024-05-25T20:49:35.589416Z",
     "shell.execute_reply.started": "2024-05-25T20:49:35.584196Z",
     "shell.execute_reply": "2024-05-25T20:49:35.588287Z"
    }
   }
  },
  {
   "cell_type": "code",
   "source": [
    "import torch\n",
    "print(torch.__version__)\n",
    "\n",
    "import numpy as np\n",
    "import pandas as pd\n",
    "import matplotlib.pyplot as plt"
   ],
   "metadata": {
    "execution": {
     "iopub.status.busy": "2024-05-26T15:25:01.429136Z",
     "iopub.execute_input": "2024-05-26T15:25:01.429549Z",
     "iopub.status.idle": "2024-05-26T15:25:06.749804Z",
     "shell.execute_reply.started": "2024-05-26T15:25:01.429516Z",
     "shell.execute_reply": "2024-05-26T15:25:06.748483Z"
    },
    "trusted": true,
    "ExecuteTime": {
     "end_time": "2024-05-27T13:31:50.841357Z",
     "start_time": "2024-05-27T13:31:48.539262Z"
    }
   },
   "execution_count": 1,
   "outputs": [
    {
     "name": "stdout",
     "output_type": "stream",
     "text": [
      "2.3.0\n"
     ]
    }
   ]
  },
  {
   "cell_type": "markdown",
   "source": [
    "## What is Tensor\n",
    "\n",
    "In PyTorch, a tensor is a multidimensional array that serves as the fundamental data structure for all computations in the library. Tensors are similar to NumPy arrays but come with additional capabilities such as GPU acceleration and support for automatic differentiation, which are crucial for deep learning applications."
   ],
   "metadata": {}
  },
  {
   "cell_type": "markdown",
   "source": [
    "## Creating Tensors"
   ],
   "metadata": {}
  },
  {
   "cell_type": "markdown",
   "source": [
    "### Scalar\n",
    "* A scalar is a single number.\n",
    "* Zero dimensional tensor."
   ],
   "metadata": {}
  },
  {
   "cell_type": "code",
   "source": [
    "s = torch.tensor(5)\n",
    "s"
   ],
   "metadata": {
    "execution": {
     "iopub.status.busy": "2024-05-26T15:25:06.752177Z",
     "iopub.execute_input": "2024-05-26T15:25:06.753412Z",
     "iopub.status.idle": "2024-05-26T15:25:06.799230Z",
     "shell.execute_reply.started": "2024-05-26T15:25:06.753366Z",
     "shell.execute_reply": "2024-05-26T15:25:06.797989Z"
    },
    "trusted": true,
    "ExecuteTime": {
     "end_time": "2024-05-27T13:31:50.860308Z",
     "start_time": "2024-05-27T13:31:50.842620Z"
    }
   },
   "execution_count": 2,
   "outputs": [
    {
     "data": {
      "text/plain": "tensor(5)"
     },
     "execution_count": 2,
     "metadata": {},
     "output_type": "execute_result"
    }
   ]
  },
  {
   "cell_type": "markdown",
   "source": [
    "Check dimensions using `ndim` attribute"
   ],
   "metadata": {
    "execution": {
     "iopub.status.busy": "2024-05-26T06:55:25.979196Z",
     "iopub.execute_input": "2024-05-26T06:55:25.980339Z",
     "iopub.status.idle": "2024-05-26T06:55:25.987844Z",
     "shell.execute_reply.started": "2024-05-26T06:55:25.980302Z",
     "shell.execute_reply": "2024-05-26T06:55:25.986778Z"
    }
   }
  },
  {
   "cell_type": "code",
   "source": [
    "s.ndim"
   ],
   "metadata": {
    "execution": {
     "iopub.status.busy": "2024-05-26T15:25:06.800923Z",
     "iopub.execute_input": "2024-05-26T15:25:06.801412Z",
     "iopub.status.idle": "2024-05-26T15:25:06.808576Z",
     "shell.execute_reply.started": "2024-05-26T15:25:06.801373Z",
     "shell.execute_reply": "2024-05-26T15:25:06.807491Z"
    },
    "trusted": true,
    "ExecuteTime": {
     "end_time": "2024-05-27T13:31:50.863493Z",
     "start_time": "2024-05-27T13:31:50.861150Z"
    }
   },
   "execution_count": 3,
   "outputs": [
    {
     "data": {
      "text/plain": "0"
     },
     "execution_count": 3,
     "metadata": {},
     "output_type": "execute_result"
    }
   ]
  },
  {
   "cell_type": "markdown",
   "source": [
    "Retrieve the number using `item()` method. \n",
    "Only works with one dimensional tensors."
   ],
   "metadata": {}
  },
  {
   "cell_type": "code",
   "source": [
    "s.item()"
   ],
   "metadata": {
    "execution": {
     "iopub.status.busy": "2024-05-26T15:25:06.811406Z",
     "iopub.execute_input": "2024-05-26T15:25:06.812499Z",
     "iopub.status.idle": "2024-05-26T15:25:06.821626Z",
     "shell.execute_reply.started": "2024-05-26T15:25:06.812457Z",
     "shell.execute_reply": "2024-05-26T15:25:06.820200Z"
    },
    "trusted": true,
    "ExecuteTime": {
     "end_time": "2024-05-27T13:31:50.867496Z",
     "start_time": "2024-05-27T13:31:50.864867Z"
    }
   },
   "execution_count": 4,
   "outputs": [
    {
     "data": {
      "text/plain": "5"
     },
     "execution_count": 4,
     "metadata": {},
     "output_type": "execute_result"
    }
   ]
  },
  {
   "cell_type": "markdown",
   "source": [
    "### Vector\n",
    "* Single dimension tensor.\n",
    "* Can contain many numbers."
   ],
   "metadata": {}
  },
  {
   "cell_type": "code",
   "source": [
    "v = torch.tensor([2, 3])\n",
    "v"
   ],
   "metadata": {
    "execution": {
     "iopub.status.busy": "2024-05-26T15:25:06.823229Z",
     "iopub.execute_input": "2024-05-26T15:25:06.823682Z",
     "iopub.status.idle": "2024-05-26T15:25:06.834430Z",
     "shell.execute_reply.started": "2024-05-26T15:25:06.823641Z",
     "shell.execute_reply": "2024-05-26T15:25:06.832796Z"
    },
    "trusted": true,
    "ExecuteTime": {
     "end_time": "2024-05-27T13:31:50.871811Z",
     "start_time": "2024-05-27T13:31:50.868221Z"
    }
   },
   "execution_count": 5,
   "outputs": [
    {
     "data": {
      "text/plain": "tensor([2, 3])"
     },
     "execution_count": 5,
     "metadata": {},
     "output_type": "execute_result"
    }
   ]
  },
  {
   "cell_type": "code",
   "source": [
    "v.ndim"
   ],
   "metadata": {
    "execution": {
     "iopub.status.busy": "2024-05-26T15:25:06.835995Z",
     "iopub.execute_input": "2024-05-26T15:25:06.836649Z",
     "iopub.status.idle": "2024-05-26T15:25:06.845647Z",
     "shell.execute_reply.started": "2024-05-26T15:25:06.836602Z",
     "shell.execute_reply": "2024-05-26T15:25:06.844360Z"
    },
    "trusted": true,
    "ExecuteTime": {
     "end_time": "2024-05-27T13:31:50.876251Z",
     "start_time": "2024-05-27T13:31:50.872693Z"
    }
   },
   "execution_count": 6,
   "outputs": [
    {
     "data": {
      "text/plain": "1"
     },
     "execution_count": 6,
     "metadata": {},
     "output_type": "execute_result"
    }
   ]
  },
  {
   "cell_type": "code",
   "source": [
    "v[0].item()"
   ],
   "metadata": {
    "execution": {
     "iopub.status.busy": "2024-05-26T15:25:06.848182Z",
     "iopub.execute_input": "2024-05-26T15:25:06.849555Z",
     "iopub.status.idle": "2024-05-26T15:25:06.856667Z",
     "shell.execute_reply.started": "2024-05-26T15:25:06.849511Z",
     "shell.execute_reply": "2024-05-26T15:25:06.855426Z"
    },
    "trusted": true,
    "ExecuteTime": {
     "end_time": "2024-05-27T13:31:50.880636Z",
     "start_time": "2024-05-27T13:31:50.876964Z"
    }
   },
   "execution_count": 7,
   "outputs": [
    {
     "data": {
      "text/plain": "2"
     },
     "execution_count": 7,
     "metadata": {},
     "output_type": "execute_result"
    }
   ]
  },
  {
   "cell_type": "markdown",
   "source": [
    "`shape` attribute tells how the elements inside tensors are arranged."
   ],
   "metadata": {}
  },
  {
   "cell_type": "code",
   "source": [
    "v.shape"
   ],
   "metadata": {
    "execution": {
     "iopub.status.busy": "2024-05-26T15:25:06.858095Z",
     "iopub.execute_input": "2024-05-26T15:25:06.858459Z",
     "iopub.status.idle": "2024-05-26T15:25:06.867996Z",
     "shell.execute_reply.started": "2024-05-26T15:25:06.858430Z",
     "shell.execute_reply": "2024-05-26T15:25:06.866825Z"
    },
    "trusted": true,
    "ExecuteTime": {
     "end_time": "2024-05-27T13:31:50.884552Z",
     "start_time": "2024-05-27T13:31:50.881585Z"
    }
   },
   "execution_count": 8,
   "outputs": [
    {
     "data": {
      "text/plain": "torch.Size([2])"
     },
     "execution_count": 8,
     "metadata": {},
     "output_type": "execute_result"
    }
   ]
  },
  {
   "cell_type": "markdown",
   "source": [
    "### Matrix\n",
    "* A 2-dimensional tensor.\n",
    "* An array of numbers arranged in rows and columns."
   ],
   "metadata": {}
  },
  {
   "cell_type": "code",
   "source": [
    "M = torch.tensor([[10, 22],\n",
    "                  [34, 50]])\n",
    "M"
   ],
   "metadata": {
    "execution": {
     "iopub.status.busy": "2024-05-26T15:25:06.869778Z",
     "iopub.execute_input": "2024-05-26T15:25:06.870145Z",
     "iopub.status.idle": "2024-05-26T15:25:06.881345Z",
     "shell.execute_reply.started": "2024-05-26T15:25:06.870114Z",
     "shell.execute_reply": "2024-05-26T15:25:06.879990Z"
    },
    "trusted": true,
    "ExecuteTime": {
     "end_time": "2024-05-27T13:31:50.889088Z",
     "start_time": "2024-05-27T13:31:50.885277Z"
    }
   },
   "execution_count": 9,
   "outputs": [
    {
     "data": {
      "text/plain": "tensor([[10, 22],\n        [34, 50]])"
     },
     "execution_count": 9,
     "metadata": {},
     "output_type": "execute_result"
    }
   ]
  },
  {
   "cell_type": "code",
   "source": [
    "M.ndim, M.shape"
   ],
   "metadata": {
    "execution": {
     "iopub.status.busy": "2024-05-26T15:25:06.886593Z",
     "iopub.execute_input": "2024-05-26T15:25:06.887754Z",
     "iopub.status.idle": "2024-05-26T15:25:06.895443Z",
     "shell.execute_reply.started": "2024-05-26T15:25:06.887717Z",
     "shell.execute_reply": "2024-05-26T15:25:06.893989Z"
    },
    "trusted": true,
    "ExecuteTime": {
     "end_time": "2024-05-27T13:31:50.894215Z",
     "start_time": "2024-05-27T13:31:50.891578Z"
    }
   },
   "execution_count": 10,
   "outputs": [
    {
     "data": {
      "text/plain": "(2, torch.Size([2, 2]))"
     },
     "execution_count": 10,
     "metadata": {},
     "output_type": "execute_result"
    }
   ]
  },
  {
   "cell_type": "code",
   "source": [
    "M[0, 1].item()"
   ],
   "metadata": {
    "execution": {
     "iopub.status.busy": "2024-05-26T15:25:06.897601Z",
     "iopub.execute_input": "2024-05-26T15:25:06.898023Z",
     "iopub.status.idle": "2024-05-26T15:25:06.906325Z",
     "shell.execute_reply.started": "2024-05-26T15:25:06.897984Z",
     "shell.execute_reply": "2024-05-26T15:25:06.905125Z"
    },
    "trusted": true,
    "ExecuteTime": {
     "end_time": "2024-05-27T13:31:50.898309Z",
     "start_time": "2024-05-27T13:31:50.895019Z"
    }
   },
   "execution_count": 11,
   "outputs": [
    {
     "data": {
      "text/plain": "22"
     },
     "execution_count": 11,
     "metadata": {},
     "output_type": "execute_result"
    }
   ]
  },
  {
   "cell_type": "markdown",
   "source": [
    "### Tensor\n",
    "* A multi-dimensional matrix containing elements of a single data type."
   ],
   "metadata": {}
  },
  {
   "cell_type": "code",
   "source": [
    "T = torch.tensor([[[1, 2, 3],\n",
    "                   [4, 5, 6],\n",
    "                   [7, 8, 9]]])\n",
    "T"
   ],
   "metadata": {
    "execution": {
     "iopub.status.busy": "2024-05-26T15:25:06.908472Z",
     "iopub.execute_input": "2024-05-26T15:25:06.908956Z",
     "iopub.status.idle": "2024-05-26T15:25:06.918819Z",
     "shell.execute_reply.started": "2024-05-26T15:25:06.908915Z",
     "shell.execute_reply": "2024-05-26T15:25:06.917613Z"
    },
    "trusted": true,
    "ExecuteTime": {
     "end_time": "2024-05-27T13:31:50.902182Z",
     "start_time": "2024-05-27T13:31:50.899193Z"
    }
   },
   "execution_count": 12,
   "outputs": [
    {
     "data": {
      "text/plain": "tensor([[[1, 2, 3],\n         [4, 5, 6],\n         [7, 8, 9]]])"
     },
     "execution_count": 12,
     "metadata": {},
     "output_type": "execute_result"
    }
   ]
  },
  {
   "cell_type": "code",
   "source": [
    "T.ndim, T.shape"
   ],
   "metadata": {
    "execution": {
     "iopub.status.busy": "2024-05-26T15:25:06.920498Z",
     "iopub.execute_input": "2024-05-26T15:25:06.920937Z",
     "iopub.status.idle": "2024-05-26T15:25:06.932064Z",
     "shell.execute_reply.started": "2024-05-26T15:25:06.920896Z",
     "shell.execute_reply": "2024-05-26T15:25:06.930787Z"
    },
    "trusted": true,
    "ExecuteTime": {
     "end_time": "2024-05-27T13:31:50.905149Z",
     "start_time": "2024-05-27T13:31:50.902915Z"
    }
   },
   "execution_count": 13,
   "outputs": [
    {
     "data": {
      "text/plain": "(3, torch.Size([1, 3, 3]))"
     },
     "execution_count": 13,
     "metadata": {},
     "output_type": "execute_result"
    }
   ]
  },
  {
   "cell_type": "markdown",
   "source": [
    "Get total number of elements in a Tensor using `numel()` method"
   ],
   "metadata": {}
  },
  {
   "cell_type": "code",
   "source": [
    "T.numel()"
   ],
   "metadata": {
    "execution": {
     "iopub.status.busy": "2024-05-26T15:25:06.933733Z",
     "iopub.execute_input": "2024-05-26T15:25:06.934107Z",
     "iopub.status.idle": "2024-05-26T15:25:06.942390Z",
     "shell.execute_reply.started": "2024-05-26T15:25:06.934072Z",
     "shell.execute_reply": "2024-05-26T15:25:06.940758Z"
    },
    "trusted": true,
    "ExecuteTime": {
     "end_time": "2024-05-27T13:31:50.907834Z",
     "start_time": "2024-05-27T13:31:50.905762Z"
    }
   },
   "execution_count": 14,
   "outputs": [
    {
     "data": {
      "text/plain": "9"
     },
     "execution_count": 14,
     "metadata": {},
     "output_type": "execute_result"
    }
   ]
  },
  {
   "cell_type": "markdown",
   "source": [
    "### Random tensors\n",
    "\n",
    "a machine learning model often starts out with large random tensors of numbers and adjusts these random numbers as it works through data to better represent it.\n",
    "\n",
    "`Start with random numbers -> look at data -> update random numbers -> look at data -> update random numbers...`"
   ],
   "metadata": {}
  },
  {
   "cell_type": "markdown",
   "source": [
    "**Using `torch.rand()`**\n",
    "\n",
    "Generates a tensor with random numbers from a uniform distribution on the interval [0,1)[0,1)."
   ],
   "metadata": {}
  },
  {
   "cell_type": "code",
   "source": [
    "random_tensor = torch.rand(size=(4, 3))\n",
    "random_tensor, random_tensor.dtype, random_tensor.shape, random_tensor.ndim, random_tensor.numel()"
   ],
   "metadata": {
    "execution": {
     "iopub.status.busy": "2024-05-26T15:25:06.944610Z",
     "iopub.execute_input": "2024-05-26T15:25:06.945065Z",
     "iopub.status.idle": "2024-05-26T15:25:07.013675Z",
     "shell.execute_reply.started": "2024-05-26T15:25:06.945035Z",
     "shell.execute_reply": "2024-05-26T15:25:07.012470Z"
    },
    "trusted": true,
    "ExecuteTime": {
     "end_time": "2024-05-27T13:31:50.931957Z",
     "start_time": "2024-05-27T13:31:50.908670Z"
    }
   },
   "execution_count": 15,
   "outputs": [
    {
     "data": {
      "text/plain": "(tensor([[0.8035, 0.9702, 0.8934],\n         [0.8268, 0.2575, 0.6248],\n         [0.8717, 0.1657, 0.6435],\n         [0.7357, 0.1506, 0.8015]]),\n torch.float32,\n torch.Size([4, 3]),\n 2,\n 12)"
     },
     "execution_count": 15,
     "metadata": {},
     "output_type": "execute_result"
    }
   ]
  },
  {
   "cell_type": "code",
   "source": [
    "random_tensor = torch.rand(3, 3, 3)\n",
    "random_tensor, random_tensor.dtype, random_tensor.shape, random_tensor.ndim, random_tensor.numel()"
   ],
   "metadata": {
    "execution": {
     "iopub.status.busy": "2024-05-26T15:25:07.015208Z",
     "iopub.execute_input": "2024-05-26T15:25:07.015593Z",
     "iopub.status.idle": "2024-05-26T15:25:07.027456Z",
     "shell.execute_reply.started": "2024-05-26T15:25:07.015562Z",
     "shell.execute_reply": "2024-05-26T15:25:07.025601Z"
    },
    "trusted": true,
    "ExecuteTime": {
     "end_time": "2024-05-27T13:31:50.936209Z",
     "start_time": "2024-05-27T13:31:50.932757Z"
    }
   },
   "execution_count": 16,
   "outputs": [
    {
     "data": {
      "text/plain": "(tensor([[[9.1376e-01, 9.3384e-02, 2.3753e-01],\n          [5.3460e-01, 2.7414e-01, 3.4782e-02],\n          [8.4110e-01, 6.9130e-01, 9.3299e-04]],\n \n         [[3.6356e-01, 4.3767e-01, 1.1792e-01],\n          [4.9106e-01, 7.7474e-03, 5.8303e-01],\n          [8.1865e-01, 2.7395e-01, 9.8985e-01]],\n \n         [[3.8550e-01, 9.2475e-01, 6.3629e-01],\n          [7.5944e-01, 5.4580e-01, 6.9375e-02],\n          [1.7408e-02, 9.2358e-01, 2.4747e-01]]]),\n torch.float32,\n torch.Size([3, 3, 3]),\n 3,\n 27)"
     },
     "execution_count": 16,
     "metadata": {},
     "output_type": "execute_result"
    }
   ]
  },
  {
   "cell_type": "markdown",
   "source": [
    "**Using `torch.randn()`**\n",
    "\n",
    "Generates a tensor with random numbers from a normal (Gaussian) distribution with mean 0 and standard deviation 1."
   ],
   "metadata": {}
  },
  {
   "cell_type": "code",
   "source": [
    "random_tensor = torch.randn(2, 2, 3)\n",
    "random_tensor, random_tensor.dtype, random_tensor.shape, random_tensor.ndim, random_tensor.numel()"
   ],
   "metadata": {
    "execution": {
     "iopub.status.busy": "2024-05-26T15:25:07.030337Z",
     "iopub.execute_input": "2024-05-26T15:25:07.030938Z",
     "iopub.status.idle": "2024-05-26T15:25:07.047634Z",
     "shell.execute_reply.started": "2024-05-26T15:25:07.030895Z",
     "shell.execute_reply": "2024-05-26T15:25:07.046164Z"
    },
    "trusted": true,
    "ExecuteTime": {
     "end_time": "2024-05-27T13:31:50.941231Z",
     "start_time": "2024-05-27T13:31:50.936941Z"
    }
   },
   "execution_count": 17,
   "outputs": [
    {
     "data": {
      "text/plain": "(tensor([[[ 0.1146,  0.2651,  1.6692],\n          [-1.0147,  1.2716,  0.1383]],\n \n         [[-1.8516, -0.7065, -1.0121],\n          [-0.0522, -1.6044,  1.7198]]]),\n torch.float32,\n torch.Size([2, 2, 3]),\n 3,\n 12)"
     },
     "execution_count": 17,
     "metadata": {},
     "output_type": "execute_result"
    }
   ]
  },
  {
   "cell_type": "markdown",
   "source": [
    "**Using `torch.randint()`**\n",
    "\n",
    "Generates a tensor with random integers from a specified range."
   ],
   "metadata": {
    "execution": {
     "iopub.status.busy": "2024-05-26T09:19:21.348260Z",
     "iopub.execute_input": "2024-05-26T09:19:21.349186Z",
     "iopub.status.idle": "2024-05-26T09:19:21.356479Z",
     "shell.execute_reply.started": "2024-05-26T09:19:21.349148Z",
     "shell.execute_reply": "2024-05-26T09:19:21.354816Z"
    }
   }
  },
  {
   "cell_type": "code",
   "source": [
    "random_tensor = torch.randint(10, 40, (2, 2, 2))\n",
    "random_tensor, random_tensor.dtype, random_tensor.shape, random_tensor.ndim, random_tensor.numel()"
   ],
   "metadata": {
    "execution": {
     "iopub.status.busy": "2024-05-26T15:25:07.049418Z",
     "iopub.execute_input": "2024-05-26T15:25:07.049892Z",
     "iopub.status.idle": "2024-05-26T15:25:07.062186Z",
     "shell.execute_reply.started": "2024-05-26T15:25:07.049860Z",
     "shell.execute_reply": "2024-05-26T15:25:07.060760Z"
    },
    "trusted": true,
    "ExecuteTime": {
     "end_time": "2024-05-27T13:31:50.945713Z",
     "start_time": "2024-05-27T13:31:50.941910Z"
    }
   },
   "execution_count": 18,
   "outputs": [
    {
     "data": {
      "text/plain": "(tensor([[[21, 22],\n          [32, 16]],\n \n         [[24, 34],\n          [33, 18]]]),\n torch.int64,\n torch.Size([2, 2, 2]),\n 3,\n 8)"
     },
     "execution_count": 18,
     "metadata": {},
     "output_type": "execute_result"
    }
   ]
  },
  {
   "cell_type": "markdown",
   "source": [
    "**Using `torch.randperm()`**\n",
    "\n",
    "Generates a tensor with a random permutation of integers from 0 to n−1."
   ],
   "metadata": {}
  },
  {
   "cell_type": "code",
   "source": [
    "random_tensor = torch.randperm(20)\n",
    "random_tensor, random_tensor.dtype, random_tensor.shape, random_tensor.ndim, random_tensor.numel()"
   ],
   "metadata": {
    "ExecuteTime": {
     "end_time": "2024-05-27T13:31:50.950217Z",
     "start_time": "2024-05-27T13:31:50.946363Z"
    }
   },
   "execution_count": 19,
   "outputs": [
    {
     "data": {
      "text/plain": "(tensor([19, 16, 11, 18,  1,  6,  0,  2, 10,  7,  4, 13,  3,  5,  8, 12, 17, 15,\n         14,  9]),\n torch.int64,\n torch.Size([20]),\n 1,\n 20)"
     },
     "execution_count": 19,
     "metadata": {},
     "output_type": "execute_result"
    }
   ]
  },
  {
   "cell_type": "markdown",
   "source": [
    "### Zeros\n",
    "Create a tensor fill with zeros using `torch.zeros()`."
   ],
   "metadata": {
    "collapsed": false
   }
  },
  {
   "cell_type": "code",
   "outputs": [
    {
     "data": {
      "text/plain": "tensor([[0., 0., 0., 0.],\n        [0., 0., 0., 0.]])"
     },
     "execution_count": 20,
     "metadata": {},
     "output_type": "execute_result"
    }
   ],
   "source": [
    "zeros = torch.zeros(size=(2, 4))\n",
    "zeros"
   ],
   "metadata": {
    "collapsed": false,
    "ExecuteTime": {
     "end_time": "2024-05-27T13:31:50.954869Z",
     "start_time": "2024-05-27T13:31:50.951154Z"
    }
   },
   "execution_count": 20
  },
  {
   "cell_type": "code",
   "outputs": [
    {
     "data": {
      "text/plain": "tensor([[0., 0., 0.],\n        [0., 0., 0.],\n        [0., 0., 0.]])"
     },
     "execution_count": 21,
     "metadata": {},
     "output_type": "execute_result"
    }
   ],
   "source": [
    "zeros = torch.zeros(3, 3)\n",
    "zeros"
   ],
   "metadata": {
    "collapsed": false,
    "ExecuteTime": {
     "end_time": "2024-05-27T13:31:50.958345Z",
     "start_time": "2024-05-27T13:31:50.955611Z"
    }
   },
   "execution_count": 21
  },
  {
   "cell_type": "markdown",
   "source": [
    "### Ones\n",
    "Create a tensor fill with ones using `torch.ones()`."
   ],
   "metadata": {
    "collapsed": false
   }
  },
  {
   "cell_type": "code",
   "outputs": [
    {
     "data": {
      "text/plain": "tensor([[1., 1.],\n        [1., 1.]])"
     },
     "execution_count": 22,
     "metadata": {},
     "output_type": "execute_result"
    }
   ],
   "source": [
    "ones = torch.ones(size=(2, 2))\n",
    "ones"
   ],
   "metadata": {
    "collapsed": false,
    "ExecuteTime": {
     "end_time": "2024-05-27T13:31:50.962310Z",
     "start_time": "2024-05-27T13:31:50.959087Z"
    }
   },
   "execution_count": 22
  },
  {
   "cell_type": "code",
   "outputs": [
    {
     "data": {
      "text/plain": "tensor([[1., 1., 1.],\n        [1., 1., 1.]])"
     },
     "execution_count": 23,
     "metadata": {},
     "output_type": "execute_result"
    }
   ],
   "source": [
    "ones = torch.ones(2, 3)\n",
    "ones"
   ],
   "metadata": {
    "collapsed": false,
    "ExecuteTime": {
     "end_time": "2024-05-27T13:31:50.966002Z",
     "start_time": "2024-05-27T13:31:50.963002Z"
    }
   },
   "execution_count": 23
  },
  {
   "cell_type": "markdown",
   "source": [
    "### Ranged\n",
    "Create tensors with a range of numbers using `torch.arange(start, end, step)`."
   ],
   "metadata": {
    "collapsed": false
   }
  },
  {
   "cell_type": "code",
   "outputs": [
    {
     "data": {
      "text/plain": "tensor([ 0,  1,  2,  3,  4,  5,  6,  7,  8,  9, 10, 11, 12, 13, 14, 15, 16, 17,\n        18, 19])"
     },
     "execution_count": 24,
     "metadata": {},
     "output_type": "execute_result"
    }
   ],
   "source": [
    "zero_to_twenty = torch.arange(0, 20, 1)\n",
    "zero_to_twenty"
   ],
   "metadata": {
    "collapsed": false,
    "ExecuteTime": {
     "end_time": "2024-05-27T13:31:50.970476Z",
     "start_time": "2024-05-27T13:31:50.966708Z"
    }
   },
   "execution_count": 24
  },
  {
   "cell_type": "code",
   "outputs": [
    {
     "data": {
      "text/plain": "tensor([ 0,  5, 10, 15, 20, 25, 30, 35, 40, 45, 50, 55, 60, 65, 70, 75, 80, 85,\n        90, 95])"
     },
     "execution_count": 25,
     "metadata": {},
     "output_type": "execute_result"
    }
   ],
   "source": [
    "zero_to_hundred = torch.arange(0, 100, 5)\n",
    "zero_to_hundred"
   ],
   "metadata": {
    "collapsed": false,
    "ExecuteTime": {
     "end_time": "2024-05-27T13:31:50.974524Z",
     "start_time": "2024-05-27T13:31:50.971196Z"
    }
   },
   "execution_count": 25
  },
  {
   "cell_type": "markdown",
   "source": [
    "### Tensors like\n",
    "Create a certain type of tensor with the same shape of another."
   ],
   "metadata": {
    "collapsed": false
   }
  },
  {
   "cell_type": "code",
   "outputs": [
    {
     "data": {
      "text/plain": "tensor([[0.3504, 0.4989, 0.1044],\n        [0.9009, 0.9330, 0.3265],\n        [0.0902, 0.6053, 0.7802]])"
     },
     "execution_count": 26,
     "metadata": {},
     "output_type": "execute_result"
    }
   ],
   "source": [
    "random_tensor = torch.rand(3, 3)\n",
    "random_tensor"
   ],
   "metadata": {
    "collapsed": false,
    "ExecuteTime": {
     "end_time": "2024-05-27T13:31:50.978444Z",
     "start_time": "2024-05-27T13:31:50.975333Z"
    }
   },
   "execution_count": 26
  },
  {
   "cell_type": "markdown",
   "source": [
    "**Using `torch.zeros_like(input)`**"
   ],
   "metadata": {
    "collapsed": false
   }
  },
  {
   "cell_type": "code",
   "outputs": [
    {
     "data": {
      "text/plain": "tensor([[0., 0., 0.],\n        [0., 0., 0.],\n        [0., 0., 0.]])"
     },
     "execution_count": 27,
     "metadata": {},
     "output_type": "execute_result"
    }
   ],
   "source": [
    "random_tensor_like = torch.zeros_like(random_tensor)\n",
    "random_tensor_like"
   ],
   "metadata": {
    "collapsed": false,
    "ExecuteTime": {
     "end_time": "2024-05-27T13:31:50.982329Z",
     "start_time": "2024-05-27T13:31:50.979269Z"
    }
   },
   "execution_count": 27
  },
  {
   "cell_type": "markdown",
   "source": [
    "**Using `torch.ones_like(input)`**"
   ],
   "metadata": {
    "collapsed": false
   }
  },
  {
   "cell_type": "code",
   "outputs": [
    {
     "data": {
      "text/plain": "tensor([[1., 1., 1.],\n        [1., 1., 1.],\n        [1., 1., 1.]])"
     },
     "execution_count": 28,
     "metadata": {},
     "output_type": "execute_result"
    }
   ],
   "source": [
    "random_tensor_like = torch.ones_like(random_tensor)\n",
    "random_tensor_like"
   ],
   "metadata": {
    "collapsed": false,
    "ExecuteTime": {
     "end_time": "2024-05-27T13:31:50.989539Z",
     "start_time": "2024-05-27T13:31:50.986318Z"
    }
   },
   "execution_count": 28
  }
 ]
}

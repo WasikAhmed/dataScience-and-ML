{
 "cells": [
  {
   "cell_type": "markdown",
   "metadata": {},
   "source": [
    "# PyTorch Fundamentals"
   ]
  },
  {
   "cell_type": "markdown",
   "metadata": {
    "execution": {
     "iopub.execute_input": "2024-05-25T20:49:35.584234Z",
     "iopub.status.busy": "2024-05-25T20:49:35.583697Z",
     "iopub.status.idle": "2024-05-25T20:49:35.589416Z",
     "shell.execute_reply": "2024-05-25T20:49:35.588287Z",
     "shell.execute_reply.started": "2024-05-25T20:49:35.584196Z"
    }
   },
   "source": [
    "## Importing modules"
   ]
  },
  {
   "cell_type": "code",
   "metadata": {
    "execution": {
     "iopub.execute_input": "2024-05-26T15:25:01.429549Z",
     "iopub.status.busy": "2024-05-26T15:25:01.429136Z",
     "iopub.status.idle": "2024-05-26T15:25:06.749804Z",
     "shell.execute_reply": "2024-05-26T15:25:06.748483Z",
     "shell.execute_reply.started": "2024-05-26T15:25:01.429516Z"
    },
    "ExecuteTime": {
     "end_time": "2024-07-23T17:52:11.578643Z",
     "start_time": "2024-07-23T17:52:09.228753Z"
    }
   },
   "source": [
    "import random\n",
    "\n",
    "import numpy as np\n",
    "import pandas as pd\n",
    "import matplotlib.pyplot as plt\n",
    "import torch\n",
    "torch.__version__"
   ],
   "outputs": [
    {
     "data": {
      "text/plain": [
       "'2.3.1'"
      ]
     },
     "execution_count": 1,
     "metadata": {},
     "output_type": "execute_result"
    }
   ],
   "execution_count": 1
  },
  {
   "cell_type": "markdown",
   "metadata": {},
   "source": [
    "## What is Tensor\n",
    "\n",
    "In PyTorch, a tensor is a multidimensional array that serves as the fundamental data structure for all computations in the library. Tensors are similar to NumPy arrays but come with additional capabilities such as GPU acceleration and support for automatic differentiation, which are crucial for deep learning applications."
   ]
  },
  {
   "cell_type": "markdown",
   "metadata": {},
   "source": [
    "## Creating Tensors"
   ]
  },
  {
   "cell_type": "markdown",
   "metadata": {},
   "source": [
    "### Scalar\n",
    "* A scalar is a single number.\n",
    "* Zero dimensional tensor."
   ]
  },
  {
   "cell_type": "code",
   "metadata": {
    "execution": {
     "iopub.execute_input": "2024-05-26T15:25:06.753412Z",
     "iopub.status.busy": "2024-05-26T15:25:06.752177Z",
     "iopub.status.idle": "2024-05-26T15:25:06.799230Z",
     "shell.execute_reply": "2024-05-26T15:25:06.797989Z",
     "shell.execute_reply.started": "2024-05-26T15:25:06.753366Z"
    },
    "ExecuteTime": {
     "end_time": "2024-07-23T17:52:11.584096Z",
     "start_time": "2024-07-23T17:52:11.579776Z"
    }
   },
   "source": [
    "s = torch.tensor(5)\n",
    "s"
   ],
   "outputs": [
    {
     "data": {
      "text/plain": [
       "tensor(5)"
      ]
     },
     "execution_count": 2,
     "metadata": {},
     "output_type": "execute_result"
    }
   ],
   "execution_count": 2
  },
  {
   "cell_type": "markdown",
   "metadata": {
    "execution": {
     "iopub.execute_input": "2024-05-26T06:55:25.980339Z",
     "iopub.status.busy": "2024-05-26T06:55:25.979196Z",
     "iopub.status.idle": "2024-05-26T06:55:25.987844Z",
     "shell.execute_reply": "2024-05-26T06:55:25.986778Z",
     "shell.execute_reply.started": "2024-05-26T06:55:25.980302Z"
    }
   },
   "source": [
    "Check dimensions using `ndim` attribute"
   ]
  },
  {
   "cell_type": "code",
   "metadata": {
    "execution": {
     "iopub.execute_input": "2024-05-26T15:25:06.801412Z",
     "iopub.status.busy": "2024-05-26T15:25:06.800923Z",
     "iopub.status.idle": "2024-05-26T15:25:06.808576Z",
     "shell.execute_reply": "2024-05-26T15:25:06.807491Z",
     "shell.execute_reply.started": "2024-05-26T15:25:06.801373Z"
    },
    "ExecuteTime": {
     "end_time": "2024-07-23T17:52:11.587412Z",
     "start_time": "2024-07-23T17:52:11.584925Z"
    }
   },
   "source": [
    "s.ndim"
   ],
   "outputs": [
    {
     "data": {
      "text/plain": [
       "0"
      ]
     },
     "execution_count": 3,
     "metadata": {},
     "output_type": "execute_result"
    }
   ],
   "execution_count": 3
  },
  {
   "cell_type": "markdown",
   "metadata": {},
   "source": [
    "Retrieve the number using `item()` method. \n",
    "Only works with one dimensional tensors."
   ]
  },
  {
   "cell_type": "code",
   "metadata": {
    "execution": {
     "iopub.execute_input": "2024-05-26T15:25:06.812499Z",
     "iopub.status.busy": "2024-05-26T15:25:06.811406Z",
     "iopub.status.idle": "2024-05-26T15:25:06.821626Z",
     "shell.execute_reply": "2024-05-26T15:25:06.820200Z",
     "shell.execute_reply.started": "2024-05-26T15:25:06.812457Z"
    },
    "ExecuteTime": {
     "end_time": "2024-07-23T17:52:11.591484Z",
     "start_time": "2024-07-23T17:52:11.588832Z"
    }
   },
   "source": [
    "s.item()"
   ],
   "outputs": [
    {
     "data": {
      "text/plain": [
       "5"
      ]
     },
     "execution_count": 4,
     "metadata": {},
     "output_type": "execute_result"
    }
   ],
   "execution_count": 4
  },
  {
   "cell_type": "markdown",
   "metadata": {},
   "source": [
    "### Vector\n",
    "* Single dimension tensor.\n",
    "* Can contain many numbers."
   ]
  },
  {
   "cell_type": "code",
   "metadata": {
    "execution": {
     "iopub.execute_input": "2024-05-26T15:25:06.823682Z",
     "iopub.status.busy": "2024-05-26T15:25:06.823229Z",
     "iopub.status.idle": "2024-05-26T15:25:06.834430Z",
     "shell.execute_reply": "2024-05-26T15:25:06.832796Z",
     "shell.execute_reply.started": "2024-05-26T15:25:06.823641Z"
    },
    "ExecuteTime": {
     "end_time": "2024-07-23T17:52:11.595834Z",
     "start_time": "2024-07-23T17:52:11.592249Z"
    }
   },
   "source": [
    "v = torch.tensor([2, 3])\n",
    "v"
   ],
   "outputs": [
    {
     "data": {
      "text/plain": [
       "tensor([2, 3])"
      ]
     },
     "execution_count": 5,
     "metadata": {},
     "output_type": "execute_result"
    }
   ],
   "execution_count": 5
  },
  {
   "cell_type": "code",
   "metadata": {
    "execution": {
     "iopub.execute_input": "2024-05-26T15:25:06.836649Z",
     "iopub.status.busy": "2024-05-26T15:25:06.835995Z",
     "iopub.status.idle": "2024-05-26T15:25:06.845647Z",
     "shell.execute_reply": "2024-05-26T15:25:06.844360Z",
     "shell.execute_reply.started": "2024-05-26T15:25:06.836602Z"
    },
    "ExecuteTime": {
     "end_time": "2024-07-23T17:52:11.599264Z",
     "start_time": "2024-07-23T17:52:11.596508Z"
    }
   },
   "source": [
    "v.ndim"
   ],
   "outputs": [
    {
     "data": {
      "text/plain": [
       "1"
      ]
     },
     "execution_count": 6,
     "metadata": {},
     "output_type": "execute_result"
    }
   ],
   "execution_count": 6
  },
  {
   "cell_type": "code",
   "metadata": {
    "execution": {
     "iopub.execute_input": "2024-05-26T15:25:06.849555Z",
     "iopub.status.busy": "2024-05-26T15:25:06.848182Z",
     "iopub.status.idle": "2024-05-26T15:25:06.856667Z",
     "shell.execute_reply": "2024-05-26T15:25:06.855426Z",
     "shell.execute_reply.started": "2024-05-26T15:25:06.849511Z"
    },
    "ExecuteTime": {
     "end_time": "2024-07-23T17:52:11.602785Z",
     "start_time": "2024-07-23T17:52:11.600264Z"
    }
   },
   "source": [
    "v[0].item()"
   ],
   "outputs": [
    {
     "data": {
      "text/plain": [
       "2"
      ]
     },
     "execution_count": 7,
     "metadata": {},
     "output_type": "execute_result"
    }
   ],
   "execution_count": 7
  },
  {
   "cell_type": "markdown",
   "metadata": {},
   "source": [
    "`shape` attribute tells how the elements inside tensors are arranged."
   ]
  },
  {
   "cell_type": "code",
   "metadata": {
    "execution": {
     "iopub.execute_input": "2024-05-26T15:25:06.858459Z",
     "iopub.status.busy": "2024-05-26T15:25:06.858095Z",
     "iopub.status.idle": "2024-05-26T15:25:06.867996Z",
     "shell.execute_reply": "2024-05-26T15:25:06.866825Z",
     "shell.execute_reply.started": "2024-05-26T15:25:06.858430Z"
    },
    "ExecuteTime": {
     "end_time": "2024-07-23T17:52:11.606013Z",
     "start_time": "2024-07-23T17:52:11.603608Z"
    }
   },
   "source": [
    "v.shape"
   ],
   "outputs": [
    {
     "data": {
      "text/plain": [
       "torch.Size([2])"
      ]
     },
     "execution_count": 8,
     "metadata": {},
     "output_type": "execute_result"
    }
   ],
   "execution_count": 8
  },
  {
   "cell_type": "markdown",
   "metadata": {},
   "source": [
    "### Matrix\n",
    "* A 2-dimensional tensor.\n",
    "* An array of numbers arranged in rows and columns."
   ]
  },
  {
   "cell_type": "code",
   "metadata": {
    "execution": {
     "iopub.execute_input": "2024-05-26T15:25:06.870145Z",
     "iopub.status.busy": "2024-05-26T15:25:06.869778Z",
     "iopub.status.idle": "2024-05-26T15:25:06.881345Z",
     "shell.execute_reply": "2024-05-26T15:25:06.879990Z",
     "shell.execute_reply.started": "2024-05-26T15:25:06.870114Z"
    },
    "ExecuteTime": {
     "end_time": "2024-07-23T17:52:11.609763Z",
     "start_time": "2024-07-23T17:52:11.606783Z"
    }
   },
   "source": [
    "M = torch.tensor([[10, 22],\n",
    "                  [34, 50]])\n",
    "M"
   ],
   "outputs": [
    {
     "data": {
      "text/plain": [
       "tensor([[10, 22],\n",
       "        [34, 50]])"
      ]
     },
     "execution_count": 9,
     "metadata": {},
     "output_type": "execute_result"
    }
   ],
   "execution_count": 9
  },
  {
   "cell_type": "code",
   "metadata": {
    "execution": {
     "iopub.execute_input": "2024-05-26T15:25:06.887754Z",
     "iopub.status.busy": "2024-05-26T15:25:06.886593Z",
     "iopub.status.idle": "2024-05-26T15:25:06.895443Z",
     "shell.execute_reply": "2024-05-26T15:25:06.893989Z",
     "shell.execute_reply.started": "2024-05-26T15:25:06.887717Z"
    },
    "ExecuteTime": {
     "end_time": "2024-07-23T17:52:11.615071Z",
     "start_time": "2024-07-23T17:52:11.612490Z"
    }
   },
   "source": [
    "M.ndim, M.shape"
   ],
   "outputs": [
    {
     "data": {
      "text/plain": [
       "(2, torch.Size([2, 2]))"
      ]
     },
     "execution_count": 10,
     "metadata": {},
     "output_type": "execute_result"
    }
   ],
   "execution_count": 10
  },
  {
   "cell_type": "code",
   "metadata": {
    "execution": {
     "iopub.execute_input": "2024-05-26T15:25:06.898023Z",
     "iopub.status.busy": "2024-05-26T15:25:06.897601Z",
     "iopub.status.idle": "2024-05-26T15:25:06.906325Z",
     "shell.execute_reply": "2024-05-26T15:25:06.905125Z",
     "shell.execute_reply.started": "2024-05-26T15:25:06.897984Z"
    },
    "ExecuteTime": {
     "end_time": "2024-07-23T17:52:11.618396Z",
     "start_time": "2024-07-23T17:52:11.615952Z"
    }
   },
   "source": [
    "M[0, 1].item()"
   ],
   "outputs": [
    {
     "data": {
      "text/plain": [
       "22"
      ]
     },
     "execution_count": 11,
     "metadata": {},
     "output_type": "execute_result"
    }
   ],
   "execution_count": 11
  },
  {
   "cell_type": "markdown",
   "metadata": {},
   "source": [
    "### Tensor\n",
    "* A multi-dimensional matrix containing elements of a single data type."
   ]
  },
  {
   "cell_type": "code",
   "metadata": {
    "execution": {
     "iopub.execute_input": "2024-05-26T15:25:06.908956Z",
     "iopub.status.busy": "2024-05-26T15:25:06.908472Z",
     "iopub.status.idle": "2024-05-26T15:25:06.918819Z",
     "shell.execute_reply": "2024-05-26T15:25:06.917613Z",
     "shell.execute_reply.started": "2024-05-26T15:25:06.908915Z"
    },
    "ExecuteTime": {
     "end_time": "2024-07-23T17:52:11.622183Z",
     "start_time": "2024-07-23T17:52:11.619253Z"
    }
   },
   "source": [
    "T = torch.tensor([[[1, 2, 3],\n",
    "                   [4, 5, 6],\n",
    "                   [7, 8, 9]]])\n",
    "T"
   ],
   "outputs": [
    {
     "data": {
      "text/plain": [
       "tensor([[[1, 2, 3],\n",
       "         [4, 5, 6],\n",
       "         [7, 8, 9]]])"
      ]
     },
     "execution_count": 12,
     "metadata": {},
     "output_type": "execute_result"
    }
   ],
   "execution_count": 12
  },
  {
   "cell_type": "code",
   "metadata": {
    "execution": {
     "iopub.execute_input": "2024-05-26T15:25:06.920937Z",
     "iopub.status.busy": "2024-05-26T15:25:06.920498Z",
     "iopub.status.idle": "2024-05-26T15:25:06.932064Z",
     "shell.execute_reply": "2024-05-26T15:25:06.930787Z",
     "shell.execute_reply.started": "2024-05-26T15:25:06.920896Z"
    },
    "ExecuteTime": {
     "end_time": "2024-07-23T17:52:11.625581Z",
     "start_time": "2024-07-23T17:52:11.622976Z"
    }
   },
   "source": [
    "T.ndim, T.shape"
   ],
   "outputs": [
    {
     "data": {
      "text/plain": [
       "(3, torch.Size([1, 3, 3]))"
      ]
     },
     "execution_count": 13,
     "metadata": {},
     "output_type": "execute_result"
    }
   ],
   "execution_count": 13
  },
  {
   "cell_type": "markdown",
   "metadata": {},
   "source": [
    "Get total number of elements in a Tensor using `numel()` method"
   ]
  },
  {
   "cell_type": "code",
   "metadata": {
    "execution": {
     "iopub.execute_input": "2024-05-26T15:25:06.934107Z",
     "iopub.status.busy": "2024-05-26T15:25:06.933733Z",
     "iopub.status.idle": "2024-05-26T15:25:06.942390Z",
     "shell.execute_reply": "2024-05-26T15:25:06.940758Z",
     "shell.execute_reply.started": "2024-05-26T15:25:06.934072Z"
    },
    "ExecuteTime": {
     "end_time": "2024-07-23T17:52:11.628895Z",
     "start_time": "2024-07-23T17:52:11.626525Z"
    }
   },
   "source": [
    "T.numel()"
   ],
   "outputs": [
    {
     "data": {
      "text/plain": [
       "9"
      ]
     },
     "execution_count": 14,
     "metadata": {},
     "output_type": "execute_result"
    }
   ],
   "execution_count": 14
  },
  {
   "cell_type": "markdown",
   "metadata": {},
   "source": [
    "### Random tensors\n",
    "\n",
    "a machine learning model often starts out with large random tensors of numbers and adjusts these random numbers as it works through data to better represent it.\n",
    "\n",
    "`Start with random numbers -> look at data -> update random numbers -> look at data -> update random numbers...`"
   ]
  },
  {
   "cell_type": "markdown",
   "metadata": {},
   "source": [
    "**Using `torch.rand()`**\n",
    "\n",
    "Generates a tensor with random numbers from a uniform distribution on the interval [0,1)[0,1)."
   ]
  },
  {
   "cell_type": "code",
   "metadata": {
    "execution": {
     "iopub.execute_input": "2024-05-26T15:25:06.945065Z",
     "iopub.status.busy": "2024-05-26T15:25:06.944610Z",
     "iopub.status.idle": "2024-05-26T15:25:07.013675Z",
     "shell.execute_reply": "2024-05-26T15:25:07.012470Z",
     "shell.execute_reply.started": "2024-05-26T15:25:06.945035Z"
    },
    "ExecuteTime": {
     "end_time": "2024-07-23T17:52:11.635746Z",
     "start_time": "2024-07-23T17:52:11.629710Z"
    }
   },
   "source": [
    "random_tensor = torch.rand(size=(4, 3))\n",
    "random_tensor, random_tensor.dtype, random_tensor.shape, random_tensor.ndim, random_tensor.numel()"
   ],
   "outputs": [
    {
     "data": {
      "text/plain": [
       "(tensor([[0.5741, 0.5827, 0.5953],\n",
       "         [0.3639, 0.5326, 0.1497],\n",
       "         [0.6629, 0.0272, 0.1596],\n",
       "         [0.8198, 0.2494, 0.4252]]),\n",
       " torch.float32,\n",
       " torch.Size([4, 3]),\n",
       " 2,\n",
       " 12)"
      ]
     },
     "execution_count": 15,
     "metadata": {},
     "output_type": "execute_result"
    }
   ],
   "execution_count": 15
  },
  {
   "cell_type": "code",
   "metadata": {
    "execution": {
     "iopub.execute_input": "2024-05-26T15:25:07.015593Z",
     "iopub.status.busy": "2024-05-26T15:25:07.015208Z",
     "iopub.status.idle": "2024-05-26T15:25:07.027456Z",
     "shell.execute_reply": "2024-05-26T15:25:07.025601Z",
     "shell.execute_reply.started": "2024-05-26T15:25:07.015562Z"
    },
    "ExecuteTime": {
     "end_time": "2024-07-23T17:52:11.639938Z",
     "start_time": "2024-07-23T17:52:11.636572Z"
    }
   },
   "source": [
    "random_tensor = torch.rand(3, 3, 3)\n",
    "random_tensor, random_tensor.dtype, random_tensor.shape, random_tensor.ndim, random_tensor.numel()"
   ],
   "outputs": [
    {
     "data": {
      "text/plain": [
       "(tensor([[[0.5712, 0.6661, 0.2700],\n",
       "          [0.7077, 0.5706, 0.1819],\n",
       "          [0.3660, 0.7687, 0.3669]],\n",
       " \n",
       "         [[0.3514, 0.2252, 0.6540],\n",
       "          [0.4845, 0.3753, 0.9952],\n",
       "          [0.0903, 0.5902, 0.0852]],\n",
       " \n",
       "         [[0.6479, 0.8204, 0.4826],\n",
       "          [0.3902, 0.4172, 0.6300],\n",
       "          [0.7308, 0.2875, 0.4991]]]),\n",
       " torch.float32,\n",
       " torch.Size([3, 3, 3]),\n",
       " 3,\n",
       " 27)"
      ]
     },
     "execution_count": 16,
     "metadata": {},
     "output_type": "execute_result"
    }
   ],
   "execution_count": 16
  },
  {
   "cell_type": "markdown",
   "metadata": {},
   "source": [
    "**Using `torch.randn()`**\n",
    "\n",
    "Generates a tensor with random numbers from a normal (Gaussian) distribution with mean 0 and standard deviation 1."
   ]
  },
  {
   "cell_type": "code",
   "metadata": {
    "execution": {
     "iopub.execute_input": "2024-05-26T15:25:07.030938Z",
     "iopub.status.busy": "2024-05-26T15:25:07.030337Z",
     "iopub.status.idle": "2024-05-26T15:25:07.047634Z",
     "shell.execute_reply": "2024-05-26T15:25:07.046164Z",
     "shell.execute_reply.started": "2024-05-26T15:25:07.030895Z"
    },
    "ExecuteTime": {
     "end_time": "2024-07-23T17:52:11.646388Z",
     "start_time": "2024-07-23T17:52:11.640742Z"
    }
   },
   "source": [
    "random_tensor = torch.randn(2, 2, 3)\n",
    "random_tensor, random_tensor.dtype, random_tensor.shape, random_tensor.ndim, random_tensor.numel()"
   ],
   "outputs": [
    {
     "data": {
      "text/plain": [
       "(tensor([[[-0.6172, -0.0090,  0.3714],\n",
       "          [-0.6140,  0.1251, -0.4663]],\n",
       " \n",
       "         [[ 1.0362, -0.0599, -0.2902],\n",
       "          [-0.1940, -0.7392,  1.5202]]]),\n",
       " torch.float32,\n",
       " torch.Size([2, 2, 3]),\n",
       " 3,\n",
       " 12)"
      ]
     },
     "execution_count": 17,
     "metadata": {},
     "output_type": "execute_result"
    }
   ],
   "execution_count": 17
  },
  {
   "cell_type": "markdown",
   "metadata": {
    "execution": {
     "iopub.execute_input": "2024-05-26T09:19:21.349186Z",
     "iopub.status.busy": "2024-05-26T09:19:21.348260Z",
     "iopub.status.idle": "2024-05-26T09:19:21.356479Z",
     "shell.execute_reply": "2024-05-26T09:19:21.354816Z",
     "shell.execute_reply.started": "2024-05-26T09:19:21.349148Z"
    }
   },
   "source": [
    "**Using `torch.randint()`**\n",
    "\n",
    "Generates a tensor with random integers from a specified range."
   ]
  },
  {
   "cell_type": "code",
   "metadata": {
    "execution": {
     "iopub.execute_input": "2024-05-26T15:25:07.049892Z",
     "iopub.status.busy": "2024-05-26T15:25:07.049418Z",
     "iopub.status.idle": "2024-05-26T15:25:07.062186Z",
     "shell.execute_reply": "2024-05-26T15:25:07.060760Z",
     "shell.execute_reply.started": "2024-05-26T15:25:07.049860Z"
    },
    "ExecuteTime": {
     "end_time": "2024-07-23T17:52:11.652428Z",
     "start_time": "2024-07-23T17:52:11.647260Z"
    }
   },
   "source": [
    "random_tensor = torch.randint(10, 40, (2, 2, 2))\n",
    "random_tensor, random_tensor.dtype, random_tensor.shape, random_tensor.ndim, random_tensor.numel()"
   ],
   "outputs": [
    {
     "data": {
      "text/plain": [
       "(tensor([[[19, 21],\n",
       "          [22, 32]],\n",
       " \n",
       "         [[24, 10],\n",
       "          [19, 16]]]),\n",
       " torch.int64,\n",
       " torch.Size([2, 2, 2]),\n",
       " 3,\n",
       " 8)"
      ]
     },
     "execution_count": 18,
     "metadata": {},
     "output_type": "execute_result"
    }
   ],
   "execution_count": 18
  },
  {
   "cell_type": "markdown",
   "metadata": {},
   "source": [
    "**Using `torch.randperm()`**\n",
    "\n",
    "Generates a tensor with a random permutation of integers from 0 to n−1."
   ]
  },
  {
   "cell_type": "code",
   "metadata": {
    "ExecuteTime": {
     "end_time": "2024-07-23T17:52:11.657383Z",
     "start_time": "2024-07-23T17:52:11.653250Z"
    }
   },
   "source": [
    "random_tensor = torch.randperm(20)\n",
    "random_tensor, random_tensor.dtype, random_tensor.shape, random_tensor.ndim, random_tensor.numel()"
   ],
   "outputs": [
    {
     "data": {
      "text/plain": [
       "(tensor([10, 19, 13,  2,  7,  3,  0, 17,  1,  9, 15, 12, 14,  5, 11,  8, 18, 16,\n",
       "          6,  4]),\n",
       " torch.int64,\n",
       " torch.Size([20]),\n",
       " 1,\n",
       " 20)"
      ]
     },
     "execution_count": 19,
     "metadata": {},
     "output_type": "execute_result"
    }
   ],
   "execution_count": 19
  },
  {
   "cell_type": "markdown",
   "metadata": {
    "collapsed": false,
    "jupyter": {
     "outputs_hidden": false
    }
   },
   "source": [
    "### Zeros\n",
    "Create a tensor fill with zeros using `torch.zeros()`."
   ]
  },
  {
   "cell_type": "code",
   "metadata": {
    "collapsed": false,
    "jupyter": {
     "outputs_hidden": false
    },
    "ExecuteTime": {
     "end_time": "2024-07-23T17:52:11.661788Z",
     "start_time": "2024-07-23T17:52:11.658194Z"
    }
   },
   "source": [
    "zeros = torch.zeros(size=(2, 4))\n",
    "zeros, zeros.dtype"
   ],
   "outputs": [
    {
     "data": {
      "text/plain": [
       "(tensor([[0., 0., 0., 0.],\n",
       "         [0., 0., 0., 0.]]),\n",
       " torch.float32)"
      ]
     },
     "execution_count": 20,
     "metadata": {},
     "output_type": "execute_result"
    }
   ],
   "execution_count": 20
  },
  {
   "cell_type": "code",
   "metadata": {
    "collapsed": false,
    "jupyter": {
     "outputs_hidden": false
    },
    "ExecuteTime": {
     "end_time": "2024-07-23T17:52:11.665758Z",
     "start_time": "2024-07-23T17:52:11.662689Z"
    }
   },
   "source": [
    "zeros = torch.zeros(3, 3)\n",
    "zeros"
   ],
   "outputs": [
    {
     "data": {
      "text/plain": [
       "tensor([[0., 0., 0.],\n",
       "        [0., 0., 0.],\n",
       "        [0., 0., 0.]])"
      ]
     },
     "execution_count": 21,
     "metadata": {},
     "output_type": "execute_result"
    }
   ],
   "execution_count": 21
  },
  {
   "cell_type": "markdown",
   "metadata": {
    "collapsed": false,
    "jupyter": {
     "outputs_hidden": false
    }
   },
   "source": [
    "### Ones\n",
    "Create a tensor fill with ones using `torch.ones()`."
   ]
  },
  {
   "cell_type": "code",
   "metadata": {
    "collapsed": false,
    "jupyter": {
     "outputs_hidden": false
    },
    "ExecuteTime": {
     "end_time": "2024-07-23T17:52:11.669960Z",
     "start_time": "2024-07-23T17:52:11.666474Z"
    }
   },
   "source": [
    "ones = torch.ones(size=(2, 2))\n",
    "ones, ones.dtype"
   ],
   "outputs": [
    {
     "data": {
      "text/plain": [
       "(tensor([[1., 1.],\n",
       "         [1., 1.]]),\n",
       " torch.float32)"
      ]
     },
     "execution_count": 22,
     "metadata": {},
     "output_type": "execute_result"
    }
   ],
   "execution_count": 22
  },
  {
   "cell_type": "code",
   "metadata": {
    "collapsed": false,
    "jupyter": {
     "outputs_hidden": false
    },
    "ExecuteTime": {
     "end_time": "2024-07-23T17:52:11.674049Z",
     "start_time": "2024-07-23T17:52:11.670679Z"
    }
   },
   "source": [
    "ones = torch.ones(2, 3, 2)\n",
    "ones"
   ],
   "outputs": [
    {
     "data": {
      "text/plain": [
       "tensor([[[1., 1.],\n",
       "         [1., 1.],\n",
       "         [1., 1.]],\n",
       "\n",
       "        [[1., 1.],\n",
       "         [1., 1.],\n",
       "         [1., 1.]]])"
      ]
     },
     "execution_count": 23,
     "metadata": {},
     "output_type": "execute_result"
    }
   ],
   "execution_count": 23
  },
  {
   "cell_type": "markdown",
   "metadata": {
    "collapsed": false,
    "jupyter": {
     "outputs_hidden": false
    }
   },
   "source": [
    "### Ranged\n",
    "Create tensors with a range of numbers using `torch.arange(start, end, step)`."
   ]
  },
  {
   "cell_type": "code",
   "metadata": {
    "collapsed": false,
    "jupyter": {
     "outputs_hidden": false
    },
    "ExecuteTime": {
     "end_time": "2024-07-23T17:52:11.678745Z",
     "start_time": "2024-07-23T17:52:11.674859Z"
    }
   },
   "source": [
    "zero_to_twenty = torch.arange(0, 20, 1)\n",
    "zero_to_twenty"
   ],
   "outputs": [
    {
     "data": {
      "text/plain": [
       "tensor([ 0,  1,  2,  3,  4,  5,  6,  7,  8,  9, 10, 11, 12, 13, 14, 15, 16, 17,\n",
       "        18, 19])"
      ]
     },
     "execution_count": 24,
     "metadata": {},
     "output_type": "execute_result"
    }
   ],
   "execution_count": 24
  },
  {
   "cell_type": "code",
   "metadata": {
    "collapsed": false,
    "jupyter": {
     "outputs_hidden": false
    },
    "ExecuteTime": {
     "end_time": "2024-07-23T17:52:11.682882Z",
     "start_time": "2024-07-23T17:52:11.679442Z"
    }
   },
   "source": [
    "zero_to_hundred = torch.arange(0, 100, 5)\n",
    "zero_to_hundred"
   ],
   "outputs": [
    {
     "data": {
      "text/plain": [
       "tensor([ 0,  5, 10, 15, 20, 25, 30, 35, 40, 45, 50, 55, 60, 65, 70, 75, 80, 85,\n",
       "        90, 95])"
      ]
     },
     "execution_count": 25,
     "metadata": {},
     "output_type": "execute_result"
    }
   ],
   "execution_count": 25
  },
  {
   "cell_type": "markdown",
   "metadata": {
    "collapsed": false,
    "jupyter": {
     "outputs_hidden": false
    }
   },
   "source": [
    "### Tensors like\n",
    "Create a certain type of tensor with the same shape of another."
   ]
  },
  {
   "cell_type": "code",
   "metadata": {
    "collapsed": false,
    "jupyter": {
     "outputs_hidden": false
    },
    "ExecuteTime": {
     "end_time": "2024-07-23T17:52:11.686570Z",
     "start_time": "2024-07-23T17:52:11.683511Z"
    }
   },
   "source": [
    "random_tensor = torch.rand(3, 3)\n",
    "random_tensor"
   ],
   "outputs": [
    {
     "data": {
      "text/plain": [
       "tensor([[0.6293, 0.2149, 0.6536],\n",
       "        [0.6380, 0.7510, 0.5809],\n",
       "        [0.2114, 0.3197, 0.9507]])"
      ]
     },
     "execution_count": 26,
     "metadata": {},
     "output_type": "execute_result"
    }
   ],
   "execution_count": 26
  },
  {
   "cell_type": "markdown",
   "metadata": {
    "collapsed": false,
    "jupyter": {
     "outputs_hidden": false
    }
   },
   "source": [
    "**Using `torch.zeros_like(input)`**"
   ]
  },
  {
   "cell_type": "code",
   "metadata": {
    "collapsed": false,
    "jupyter": {
     "outputs_hidden": false
    },
    "ExecuteTime": {
     "end_time": "2024-07-23T17:52:11.690204Z",
     "start_time": "2024-07-23T17:52:11.687215Z"
    }
   },
   "source": [
    "random_tensor_like = torch.zeros_like(random_tensor)\n",
    "random_tensor_like"
   ],
   "outputs": [
    {
     "data": {
      "text/plain": [
       "tensor([[0., 0., 0.],\n",
       "        [0., 0., 0.],\n",
       "        [0., 0., 0.]])"
      ]
     },
     "execution_count": 27,
     "metadata": {},
     "output_type": "execute_result"
    }
   ],
   "execution_count": 27
  },
  {
   "cell_type": "markdown",
   "metadata": {
    "collapsed": false,
    "jupyter": {
     "outputs_hidden": false
    }
   },
   "source": [
    "**Using `torch.ones_like(input)`**"
   ]
  },
  {
   "cell_type": "code",
   "metadata": {
    "collapsed": false,
    "jupyter": {
     "outputs_hidden": false
    },
    "ExecuteTime": {
     "end_time": "2024-07-23T17:52:11.699062Z",
     "start_time": "2024-07-23T17:52:11.694983Z"
    }
   },
   "source": [
    "random_tensor_like = torch.ones_like(random_tensor)\n",
    "random_tensor_like"
   ],
   "outputs": [
    {
     "data": {
      "text/plain": [
       "tensor([[1., 1., 1.],\n",
       "        [1., 1., 1.],\n",
       "        [1., 1., 1.]])"
      ]
     },
     "execution_count": 28,
     "metadata": {},
     "output_type": "execute_result"
    }
   ],
   "execution_count": 28
  },
  {
   "metadata": {},
   "cell_type": "markdown",
   "source": [
    "## Tensor Manipulation\n",
    "\n",
    "**Operations:**\n",
    "- Addition\n",
    "- Subtraction\n",
    "- Multiplication\n",
    "- Division\n",
    "- Matrix multiplication"
   ]
  },
  {
   "metadata": {},
   "cell_type": "markdown",
   "source": "### Basic operations"
  },
  {
   "metadata": {
    "ExecuteTime": {
     "end_time": "2024-07-23T17:52:11.703630Z",
     "start_time": "2024-07-23T17:52:11.699812Z"
    }
   },
   "cell_type": "code",
   "source": [
    "# addition\n",
    "tensor = torch.tensor([10, 20, 30])\n",
    "tensor + 10"
   ],
   "outputs": [
    {
     "data": {
      "text/plain": [
       "tensor([20, 30, 40])"
      ]
     },
     "execution_count": 29,
     "metadata": {},
     "output_type": "execute_result"
    }
   ],
   "execution_count": 29
  },
  {
   "metadata": {
    "ExecuteTime": {
     "end_time": "2024-07-23T17:52:11.707615Z",
     "start_time": "2024-07-23T17:52:11.704308Z"
    }
   },
   "cell_type": "code",
   "source": [
    "# multiplication\n",
    "tensor * 10"
   ],
   "outputs": [
    {
     "data": {
      "text/plain": [
       "tensor([100, 200, 300])"
      ]
     },
     "execution_count": 30,
     "metadata": {},
     "output_type": "execute_result"
    }
   ],
   "execution_count": 30
  },
  {
   "metadata": {
    "ExecuteTime": {
     "end_time": "2024-07-23T17:52:11.712443Z",
     "start_time": "2024-07-23T17:52:11.708412Z"
    }
   },
   "cell_type": "code",
   "source": [
    "# subtraction\n",
    "tensor - 10"
   ],
   "outputs": [
    {
     "data": {
      "text/plain": [
       "tensor([ 0, 10, 20])"
      ]
     },
     "execution_count": 31,
     "metadata": {},
     "output_type": "execute_result"
    }
   ],
   "execution_count": 31
  },
  {
   "metadata": {},
   "cell_type": "markdown",
   "source": "Using `torch.add()` to perform addition"
  },
  {
   "metadata": {
    "ExecuteTime": {
     "end_time": "2024-07-23T17:52:11.717138Z",
     "start_time": "2024-07-23T17:52:11.713182Z"
    }
   },
   "cell_type": "code",
   "source": "torch.add(tensor, 10)",
   "outputs": [
    {
     "data": {
      "text/plain": [
       "tensor([20, 30, 40])"
      ]
     },
     "execution_count": 32,
     "metadata": {},
     "output_type": "execute_result"
    }
   ],
   "execution_count": 32
  },
  {
   "metadata": {},
   "cell_type": "markdown",
   "source": "Using `torch.mul()` to perform multiplication"
  },
  {
   "metadata": {
    "ExecuteTime": {
     "end_time": "2024-07-23T17:52:11.721578Z",
     "start_time": "2024-07-23T17:52:11.717910Z"
    }
   },
   "cell_type": "code",
   "source": "torch.mul(tensor, 10), torch.multiply(tensor, 10)",
   "outputs": [
    {
     "data": {
      "text/plain": [
       "(tensor([100, 200, 300]), tensor([100, 200, 300]))"
      ]
     },
     "execution_count": 33,
     "metadata": {},
     "output_type": "execute_result"
    }
   ],
   "execution_count": 33
  },
  {
   "metadata": {},
   "cell_type": "markdown",
   "source": [
    "### Matrix multiplication\n",
    "\n",
    "**Rules:**\n",
    "- The **_inner dimensions_** must match.\n",
    "- The resulting matrix has the shape of the **_outer dimensions_**.\n",
    "\n",
    "\"`@`\" symbol is used for matrix multiplication in Python."
   ]
  },
  {
   "metadata": {
    "ExecuteTime": {
     "end_time": "2024-07-23T17:52:11.725215Z",
     "start_time": "2024-07-23T17:52:11.722428Z"
    }
   },
   "cell_type": "code",
   "source": [
    "tensor = torch.tensor([10, 20, 30])\n",
    "tensor.shape"
   ],
   "outputs": [
    {
     "data": {
      "text/plain": [
       "torch.Size([3])"
      ]
     },
     "execution_count": 34,
     "metadata": {},
     "output_type": "execute_result"
    }
   ],
   "execution_count": 34
  },
  {
   "metadata": {
    "ExecuteTime": {
     "end_time": "2024-07-23T17:52:11.730576Z",
     "start_time": "2024-07-23T17:52:11.726079Z"
    }
   },
   "cell_type": "code",
   "source": [
    "# Element-wise matrix multiplication\n",
    "tensor * tensor"
   ],
   "outputs": [
    {
     "data": {
      "text/plain": [
       "tensor([100, 400, 900])"
      ]
     },
     "execution_count": 35,
     "metadata": {},
     "output_type": "execute_result"
    }
   ],
   "execution_count": 35
  },
  {
   "metadata": {
    "ExecuteTime": {
     "end_time": "2024-07-23T17:52:11.735815Z",
     "start_time": "2024-07-23T17:52:11.731428Z"
    }
   },
   "cell_type": "code",
   "source": [
    "# Matrix multiplication\n",
    "torch.matmul(tensor, tensor)"
   ],
   "outputs": [
    {
     "data": {
      "text/plain": [
       "tensor(1400)"
      ]
     },
     "execution_count": 36,
     "metadata": {},
     "output_type": "execute_result"
    }
   ],
   "execution_count": 36
  },
  {
   "metadata": {
    "ExecuteTime": {
     "end_time": "2024-07-23T17:52:11.739595Z",
     "start_time": "2024-07-23T17:52:11.736689Z"
    }
   },
   "cell_type": "code",
   "source": "tensor @ tensor",
   "outputs": [
    {
     "data": {
      "text/plain": [
       "tensor(1400)"
      ]
     },
     "execution_count": 37,
     "metadata": {},
     "output_type": "execute_result"
    }
   ],
   "execution_count": 37
  },
  {
   "metadata": {
    "ExecuteTime": {
     "end_time": "2024-07-23T17:52:11.743635Z",
     "start_time": "2024-07-23T17:52:11.740440Z"
    }
   },
   "cell_type": "code",
   "source": [
    "tensor = torch.tensor([[1, 2], [3, 4]])\n",
    "torch.matmul(tensor, tensor)"
   ],
   "outputs": [
    {
     "data": {
      "text/plain": [
       "tensor([[ 7, 10],\n",
       "        [15, 22]])"
      ]
     },
     "execution_count": 38,
     "metadata": {},
     "output_type": "execute_result"
    }
   ],
   "execution_count": 38
  },
  {
   "metadata": {
    "ExecuteTime": {
     "end_time": "2024-07-23T17:52:11.747187Z",
     "start_time": "2024-07-23T17:52:11.744376Z"
    }
   },
   "cell_type": "code",
   "source": [
    "tensor_A = torch.tensor([[1, 2],\n",
    "                         [3, 4],\n",
    "                         [5, 6]])\n",
    "tensor_B = torch.tensor([[7, 8],\n",
    "                         [9, 10],\n",
    "                         [11, 12]])\n",
    "\n",
    "tensor_A.shape, tensor_B.shape"
   ],
   "outputs": [
    {
     "data": {
      "text/plain": [
       "(torch.Size([3, 2]), torch.Size([3, 2]))"
      ]
     },
     "execution_count": 39,
     "metadata": {},
     "output_type": "execute_result"
    }
   ],
   "execution_count": 39
  },
  {
   "metadata": {
    "ExecuteTime": {
     "end_time": "2024-07-23T17:52:11.751587Z",
     "start_time": "2024-07-23T17:52:11.748042Z"
    }
   },
   "cell_type": "code",
   "source": [
    "# transposing tensor_B for matrix multiplication\n",
    "tensor_B = tensor_B.T\n",
    "\n",
    "torch.matmul(tensor_A, tensor_B)"
   ],
   "outputs": [
    {
     "data": {
      "text/plain": [
       "tensor([[ 23,  29,  35],\n",
       "        [ 53,  67,  81],\n",
       "        [ 83, 105, 127]])"
      ]
     },
     "execution_count": 40,
     "metadata": {},
     "output_type": "execute_result"
    }
   ],
   "execution_count": 40
  }
 ],
 "metadata": {
  "kaggle": {
   "accelerator": "none",
   "dataSources": [],
   "dockerImageVersionId": 30698,
   "isGpuEnabled": false,
   "isInternetEnabled": true,
   "language": "python",
   "sourceType": "notebook"
  },
  "kernelspec": {
   "display_name": "Python 3 (ipykernel)",
   "language": "python",
   "name": "python3"
  },
  "language_info": {
   "codemirror_mode": {
    "name": "ipython",
    "version": 3
   },
   "file_extension": ".py",
   "mimetype": "text/x-python",
   "name": "python",
   "nbconvert_exporter": "python",
   "pygments_lexer": "ipython3",
   "version": "3.11.7"
  }
 },
 "nbformat": 4,
 "nbformat_minor": 4
}

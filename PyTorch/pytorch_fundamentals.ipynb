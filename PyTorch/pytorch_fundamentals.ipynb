{
 "cells": [
  {
   "cell_type": "markdown",
   "metadata": {},
   "source": [
    "# PyTorch Fundamentals"
   ]
  },
  {
   "cell_type": "markdown",
   "metadata": {
    "execution": {
     "iopub.execute_input": "2024-05-25T20:49:35.584234Z",
     "iopub.status.busy": "2024-05-25T20:49:35.583697Z",
     "iopub.status.idle": "2024-05-25T20:49:35.589416Z",
     "shell.execute_reply": "2024-05-25T20:49:35.588287Z",
     "shell.execute_reply.started": "2024-05-25T20:49:35.584196Z"
    }
   },
   "source": [
    "## Importing modules"
   ]
  },
  {
   "cell_type": "code",
   "metadata": {
    "execution": {
     "iopub.execute_input": "2024-05-26T15:25:01.429549Z",
     "iopub.status.busy": "2024-05-26T15:25:01.429136Z",
     "iopub.status.idle": "2024-05-26T15:25:06.749804Z",
     "shell.execute_reply": "2024-05-26T15:25:06.748483Z",
     "shell.execute_reply.started": "2024-05-26T15:25:01.429516Z"
    },
    "ExecuteTime": {
     "end_time": "2024-07-27T15:31:53.152641Z",
     "start_time": "2024-07-27T15:31:51.607145Z"
    }
   },
   "source": [
    "import random\n",
    "\n",
    "import numpy as np\n",
    "import pandas as pd\n",
    "import matplotlib.pyplot as plt\n",
    "import torch\n",
    "torch.__version__"
   ],
   "outputs": [
    {
     "data": {
      "text/plain": [
       "'2.3.1'"
      ]
     },
     "execution_count": 1,
     "metadata": {},
     "output_type": "execute_result"
    }
   ],
   "execution_count": 1
  },
  {
   "cell_type": "markdown",
   "metadata": {},
   "source": [
    "## What is Tensor\n",
    "\n",
    "In PyTorch, a tensor is a multidimensional array that serves as the fundamental data structure for all computations in the library. Tensors are similar to NumPy arrays but come with additional capabilities such as GPU acceleration and support for automatic differentiation, which are crucial for deep learning applications."
   ]
  },
  {
   "cell_type": "markdown",
   "metadata": {},
   "source": [
    "## Creating Tensors"
   ]
  },
  {
   "cell_type": "markdown",
   "metadata": {},
   "source": [
    "### Scalar\n",
    "* A scalar is a single number.\n",
    "* Zero dimensional tensor."
   ]
  },
  {
   "cell_type": "code",
   "metadata": {
    "execution": {
     "iopub.execute_input": "2024-05-26T15:25:06.753412Z",
     "iopub.status.busy": "2024-05-26T15:25:06.752177Z",
     "iopub.status.idle": "2024-05-26T15:25:06.799230Z",
     "shell.execute_reply": "2024-05-26T15:25:06.797989Z",
     "shell.execute_reply.started": "2024-05-26T15:25:06.753366Z"
    },
    "ExecuteTime": {
     "end_time": "2024-07-27T15:31:53.161641Z",
     "start_time": "2024-07-27T15:31:53.155254Z"
    }
   },
   "source": [
    "s = torch.tensor(5)\n",
    "s"
   ],
   "outputs": [
    {
     "data": {
      "text/plain": [
       "tensor(5)"
      ]
     },
     "execution_count": 2,
     "metadata": {},
     "output_type": "execute_result"
    }
   ],
   "execution_count": 2
  },
  {
   "cell_type": "markdown",
   "metadata": {
    "execution": {
     "iopub.execute_input": "2024-05-26T06:55:25.980339Z",
     "iopub.status.busy": "2024-05-26T06:55:25.979196Z",
     "iopub.status.idle": "2024-05-26T06:55:25.987844Z",
     "shell.execute_reply": "2024-05-26T06:55:25.986778Z",
     "shell.execute_reply.started": "2024-05-26T06:55:25.980302Z"
    }
   },
   "source": [
    "Check dimensions using `ndim` attribute"
   ]
  },
  {
   "cell_type": "code",
   "metadata": {
    "execution": {
     "iopub.execute_input": "2024-05-26T15:25:06.801412Z",
     "iopub.status.busy": "2024-05-26T15:25:06.800923Z",
     "iopub.status.idle": "2024-05-26T15:25:06.808576Z",
     "shell.execute_reply": "2024-05-26T15:25:06.807491Z",
     "shell.execute_reply.started": "2024-05-26T15:25:06.801373Z"
    },
    "ExecuteTime": {
     "end_time": "2024-07-27T15:31:53.164716Z",
     "start_time": "2024-07-27T15:31:53.162257Z"
    }
   },
   "source": [
    "s.ndim"
   ],
   "outputs": [
    {
     "data": {
      "text/plain": [
       "0"
      ]
     },
     "execution_count": 3,
     "metadata": {},
     "output_type": "execute_result"
    }
   ],
   "execution_count": 3
  },
  {
   "cell_type": "markdown",
   "metadata": {},
   "source": [
    "Retrieve the number using `item()` method. \n",
    "Only works with one dimensional tensors."
   ]
  },
  {
   "cell_type": "code",
   "metadata": {
    "execution": {
     "iopub.execute_input": "2024-05-26T15:25:06.812499Z",
     "iopub.status.busy": "2024-05-26T15:25:06.811406Z",
     "iopub.status.idle": "2024-05-26T15:25:06.821626Z",
     "shell.execute_reply": "2024-05-26T15:25:06.820200Z",
     "shell.execute_reply.started": "2024-05-26T15:25:06.812457Z"
    },
    "ExecuteTime": {
     "end_time": "2024-07-27T15:31:53.168791Z",
     "start_time": "2024-07-27T15:31:53.166178Z"
    }
   },
   "source": [
    "s.item()"
   ],
   "outputs": [
    {
     "data": {
      "text/plain": [
       "5"
      ]
     },
     "execution_count": 4,
     "metadata": {},
     "output_type": "execute_result"
    }
   ],
   "execution_count": 4
  },
  {
   "cell_type": "markdown",
   "metadata": {},
   "source": [
    "### Vector\n",
    "* Single dimension tensor.\n",
    "* Can contain many numbers."
   ]
  },
  {
   "cell_type": "code",
   "metadata": {
    "execution": {
     "iopub.execute_input": "2024-05-26T15:25:06.823682Z",
     "iopub.status.busy": "2024-05-26T15:25:06.823229Z",
     "iopub.status.idle": "2024-05-26T15:25:06.834430Z",
     "shell.execute_reply": "2024-05-26T15:25:06.832796Z",
     "shell.execute_reply.started": "2024-05-26T15:25:06.823641Z"
    },
    "ExecuteTime": {
     "end_time": "2024-07-27T15:31:53.172881Z",
     "start_time": "2024-07-27T15:31:53.169667Z"
    }
   },
   "source": [
    "v = torch.tensor([2, 3])\n",
    "v"
   ],
   "outputs": [
    {
     "data": {
      "text/plain": [
       "tensor([2, 3])"
      ]
     },
     "execution_count": 5,
     "metadata": {},
     "output_type": "execute_result"
    }
   ],
   "execution_count": 5
  },
  {
   "cell_type": "code",
   "metadata": {
    "execution": {
     "iopub.execute_input": "2024-05-26T15:25:06.836649Z",
     "iopub.status.busy": "2024-05-26T15:25:06.835995Z",
     "iopub.status.idle": "2024-05-26T15:25:06.845647Z",
     "shell.execute_reply": "2024-05-26T15:25:06.844360Z",
     "shell.execute_reply.started": "2024-05-26T15:25:06.836602Z"
    },
    "ExecuteTime": {
     "end_time": "2024-07-27T15:31:53.175885Z",
     "start_time": "2024-07-27T15:31:53.173412Z"
    }
   },
   "source": [
    "v.ndim"
   ],
   "outputs": [
    {
     "data": {
      "text/plain": [
       "1"
      ]
     },
     "execution_count": 6,
     "metadata": {},
     "output_type": "execute_result"
    }
   ],
   "execution_count": 6
  },
  {
   "cell_type": "code",
   "metadata": {
    "execution": {
     "iopub.execute_input": "2024-05-26T15:25:06.849555Z",
     "iopub.status.busy": "2024-05-26T15:25:06.848182Z",
     "iopub.status.idle": "2024-05-26T15:25:06.856667Z",
     "shell.execute_reply": "2024-05-26T15:25:06.855426Z",
     "shell.execute_reply.started": "2024-05-26T15:25:06.849511Z"
    },
    "ExecuteTime": {
     "end_time": "2024-07-27T15:31:53.179053Z",
     "start_time": "2024-07-27T15:31:53.176591Z"
    }
   },
   "source": [
    "v[0].item()"
   ],
   "outputs": [
    {
     "data": {
      "text/plain": [
       "2"
      ]
     },
     "execution_count": 7,
     "metadata": {},
     "output_type": "execute_result"
    }
   ],
   "execution_count": 7
  },
  {
   "cell_type": "markdown",
   "metadata": {},
   "source": [
    "`shape` attribute tells how the elements inside tensors are arranged."
   ]
  },
  {
   "cell_type": "code",
   "metadata": {
    "execution": {
     "iopub.execute_input": "2024-05-26T15:25:06.858459Z",
     "iopub.status.busy": "2024-05-26T15:25:06.858095Z",
     "iopub.status.idle": "2024-05-26T15:25:06.867996Z",
     "shell.execute_reply": "2024-05-26T15:25:06.866825Z",
     "shell.execute_reply.started": "2024-05-26T15:25:06.858430Z"
    },
    "ExecuteTime": {
     "end_time": "2024-07-27T15:31:53.181974Z",
     "start_time": "2024-07-27T15:31:53.179626Z"
    }
   },
   "source": [
    "v.shape"
   ],
   "outputs": [
    {
     "data": {
      "text/plain": [
       "torch.Size([2])"
      ]
     },
     "execution_count": 8,
     "metadata": {},
     "output_type": "execute_result"
    }
   ],
   "execution_count": 8
  },
  {
   "cell_type": "markdown",
   "metadata": {},
   "source": [
    "### Matrix\n",
    "* A 2-dimensional tensor.\n",
    "* An array of numbers arranged in rows and columns."
   ]
  },
  {
   "cell_type": "code",
   "metadata": {
    "execution": {
     "iopub.execute_input": "2024-05-26T15:25:06.870145Z",
     "iopub.status.busy": "2024-05-26T15:25:06.869778Z",
     "iopub.status.idle": "2024-05-26T15:25:06.881345Z",
     "shell.execute_reply": "2024-05-26T15:25:06.879990Z",
     "shell.execute_reply.started": "2024-05-26T15:25:06.870114Z"
    },
    "ExecuteTime": {
     "end_time": "2024-07-27T15:31:53.185036Z",
     "start_time": "2024-07-27T15:31:53.182508Z"
    }
   },
   "source": [
    "M = torch.tensor([[10, 22],\n",
    "                  [34, 50]])\n",
    "M"
   ],
   "outputs": [
    {
     "data": {
      "text/plain": [
       "tensor([[10, 22],\n",
       "        [34, 50]])"
      ]
     },
     "execution_count": 9,
     "metadata": {},
     "output_type": "execute_result"
    }
   ],
   "execution_count": 9
  },
  {
   "cell_type": "code",
   "metadata": {
    "execution": {
     "iopub.execute_input": "2024-05-26T15:25:06.887754Z",
     "iopub.status.busy": "2024-05-26T15:25:06.886593Z",
     "iopub.status.idle": "2024-05-26T15:25:06.895443Z",
     "shell.execute_reply": "2024-05-26T15:25:06.893989Z",
     "shell.execute_reply.started": "2024-05-26T15:25:06.887717Z"
    },
    "ExecuteTime": {
     "end_time": "2024-07-27T15:31:53.189204Z",
     "start_time": "2024-07-27T15:31:53.187070Z"
    }
   },
   "source": [
    "M.ndim, M.shape"
   ],
   "outputs": [
    {
     "data": {
      "text/plain": [
       "(2, torch.Size([2, 2]))"
      ]
     },
     "execution_count": 10,
     "metadata": {},
     "output_type": "execute_result"
    }
   ],
   "execution_count": 10
  },
  {
   "cell_type": "code",
   "metadata": {
    "execution": {
     "iopub.execute_input": "2024-05-26T15:25:06.898023Z",
     "iopub.status.busy": "2024-05-26T15:25:06.897601Z",
     "iopub.status.idle": "2024-05-26T15:25:06.906325Z",
     "shell.execute_reply": "2024-05-26T15:25:06.905125Z",
     "shell.execute_reply.started": "2024-05-26T15:25:06.897984Z"
    },
    "ExecuteTime": {
     "end_time": "2024-07-27T15:31:53.191650Z",
     "start_time": "2024-07-27T15:31:53.189778Z"
    }
   },
   "source": [
    "M[0, 1].item()"
   ],
   "outputs": [
    {
     "data": {
      "text/plain": [
       "22"
      ]
     },
     "execution_count": 11,
     "metadata": {},
     "output_type": "execute_result"
    }
   ],
   "execution_count": 11
  },
  {
   "cell_type": "markdown",
   "metadata": {},
   "source": [
    "### Tensor\n",
    "* A multi-dimensional matrix containing elements of a single data type."
   ]
  },
  {
   "cell_type": "code",
   "metadata": {
    "execution": {
     "iopub.execute_input": "2024-05-26T15:25:06.908956Z",
     "iopub.status.busy": "2024-05-26T15:25:06.908472Z",
     "iopub.status.idle": "2024-05-26T15:25:06.918819Z",
     "shell.execute_reply": "2024-05-26T15:25:06.917613Z",
     "shell.execute_reply.started": "2024-05-26T15:25:06.908915Z"
    },
    "ExecuteTime": {
     "end_time": "2024-07-27T15:31:53.195109Z",
     "start_time": "2024-07-27T15:31:53.192308Z"
    }
   },
   "source": [
    "T = torch.tensor([[[1, 2, 3],\n",
    "                   [4, 5, 6],\n",
    "                   [7, 8, 9]]])\n",
    "T"
   ],
   "outputs": [
    {
     "data": {
      "text/plain": [
       "tensor([[[1, 2, 3],\n",
       "         [4, 5, 6],\n",
       "         [7, 8, 9]]])"
      ]
     },
     "execution_count": 12,
     "metadata": {},
     "output_type": "execute_result"
    }
   ],
   "execution_count": 12
  },
  {
   "cell_type": "code",
   "metadata": {
    "execution": {
     "iopub.execute_input": "2024-05-26T15:25:06.920937Z",
     "iopub.status.busy": "2024-05-26T15:25:06.920498Z",
     "iopub.status.idle": "2024-05-26T15:25:06.932064Z",
     "shell.execute_reply": "2024-05-26T15:25:06.930787Z",
     "shell.execute_reply.started": "2024-05-26T15:25:06.920896Z"
    },
    "ExecuteTime": {
     "end_time": "2024-07-27T15:31:53.197474Z",
     "start_time": "2024-07-27T15:31:53.195691Z"
    }
   },
   "source": [
    "T.ndim, T.shape"
   ],
   "outputs": [
    {
     "data": {
      "text/plain": [
       "(3, torch.Size([1, 3, 3]))"
      ]
     },
     "execution_count": 13,
     "metadata": {},
     "output_type": "execute_result"
    }
   ],
   "execution_count": 13
  },
  {
   "cell_type": "markdown",
   "metadata": {},
   "source": [
    "Get total number of elements in a Tensor using `numel()` method"
   ]
  },
  {
   "cell_type": "code",
   "metadata": {
    "execution": {
     "iopub.execute_input": "2024-05-26T15:25:06.934107Z",
     "iopub.status.busy": "2024-05-26T15:25:06.933733Z",
     "iopub.status.idle": "2024-05-26T15:25:06.942390Z",
     "shell.execute_reply": "2024-05-26T15:25:06.940758Z",
     "shell.execute_reply.started": "2024-05-26T15:25:06.934072Z"
    },
    "ExecuteTime": {
     "end_time": "2024-07-27T15:31:53.199718Z",
     "start_time": "2024-07-27T15:31:53.197915Z"
    }
   },
   "source": [
    "T.numel()"
   ],
   "outputs": [
    {
     "data": {
      "text/plain": [
       "9"
      ]
     },
     "execution_count": 14,
     "metadata": {},
     "output_type": "execute_result"
    }
   ],
   "execution_count": 14
  },
  {
   "cell_type": "markdown",
   "metadata": {},
   "source": [
    "### Random tensors\n",
    "\n",
    "a machine learning model often starts out with large random tensors of numbers and adjusts these random numbers as it works through data to better represent it.\n",
    "\n",
    "`Start with random numbers -> look at data -> update random numbers -> look at data -> update random numbers...`"
   ]
  },
  {
   "cell_type": "markdown",
   "metadata": {},
   "source": [
    "**Using `torch.rand()`**\n",
    "\n",
    "Generates a tensor with random numbers from a uniform distribution on the interval [0,1)[0,1)."
   ]
  },
  {
   "cell_type": "code",
   "metadata": {
    "execution": {
     "iopub.execute_input": "2024-05-26T15:25:06.945065Z",
     "iopub.status.busy": "2024-05-26T15:25:06.944610Z",
     "iopub.status.idle": "2024-05-26T15:25:07.013675Z",
     "shell.execute_reply": "2024-05-26T15:25:07.012470Z",
     "shell.execute_reply.started": "2024-05-26T15:25:06.945035Z"
    },
    "ExecuteTime": {
     "end_time": "2024-07-27T15:31:53.206797Z",
     "start_time": "2024-07-27T15:31:53.200284Z"
    }
   },
   "source": [
    "torch.manual_seed(10)\n",
    "random_tensor = torch.rand(size=(4, 3))\n",
    "random_tensor, random_tensor.dtype, random_tensor.shape, random_tensor.ndim, random_tensor.numel()"
   ],
   "outputs": [
    {
     "data": {
      "text/plain": [
       "(tensor([[0.4581, 0.4829, 0.3125],\n",
       "         [0.6150, 0.2139, 0.4118],\n",
       "         [0.6938, 0.9693, 0.6178],\n",
       "         [0.3304, 0.5479, 0.4440]]),\n",
       " torch.float32,\n",
       " torch.Size([4, 3]),\n",
       " 2,\n",
       " 12)"
      ]
     },
     "execution_count": 15,
     "metadata": {},
     "output_type": "execute_result"
    }
   ],
   "execution_count": 15
  },
  {
   "cell_type": "code",
   "metadata": {
    "execution": {
     "iopub.execute_input": "2024-05-26T15:25:07.015593Z",
     "iopub.status.busy": "2024-05-26T15:25:07.015208Z",
     "iopub.status.idle": "2024-05-26T15:25:07.027456Z",
     "shell.execute_reply": "2024-05-26T15:25:07.025601Z",
     "shell.execute_reply.started": "2024-05-26T15:25:07.015562Z"
    },
    "ExecuteTime": {
     "end_time": "2024-07-27T15:31:53.210632Z",
     "start_time": "2024-07-27T15:31:53.207450Z"
    }
   },
   "source": [
    "torch.manual_seed(20)\n",
    "random_tensor = torch.rand(3, 3, 3)\n",
    "random_tensor, random_tensor.dtype, random_tensor.shape, random_tensor.ndim, random_tensor.numel()"
   ],
   "outputs": [
    {
     "data": {
      "text/plain": [
       "(tensor([[[0.5615, 0.1774, 0.8147],\n",
       "          [0.3295, 0.2319, 0.7832],\n",
       "          [0.8544, 0.1012, 0.1877]],\n",
       " \n",
       "         [[0.9310, 0.0899, 0.3156],\n",
       "          [0.9423, 0.2536, 0.7388],\n",
       "          [0.5404, 0.4356, 0.4430]],\n",
       " \n",
       "         [[0.6257, 0.0379, 0.7130],\n",
       "          [0.3229, 0.9631, 0.2284],\n",
       "          [0.4489, 0.2113, 0.6839]]]),\n",
       " torch.float32,\n",
       " torch.Size([3, 3, 3]),\n",
       " 3,\n",
       " 27)"
      ]
     },
     "execution_count": 16,
     "metadata": {},
     "output_type": "execute_result"
    }
   ],
   "execution_count": 16
  },
  {
   "cell_type": "markdown",
   "metadata": {},
   "source": [
    "**Using `torch.randn()`**\n",
    "\n",
    "Generates a tensor with random numbers from a normal (Gaussian) distribution with mean 0 and standard deviation 1."
   ]
  },
  {
   "cell_type": "code",
   "metadata": {
    "execution": {
     "iopub.execute_input": "2024-05-26T15:25:07.030938Z",
     "iopub.status.busy": "2024-05-26T15:25:07.030337Z",
     "iopub.status.idle": "2024-05-26T15:25:07.047634Z",
     "shell.execute_reply": "2024-05-26T15:25:07.046164Z",
     "shell.execute_reply.started": "2024-05-26T15:25:07.030895Z"
    },
    "ExecuteTime": {
     "end_time": "2024-07-27T15:31:53.215441Z",
     "start_time": "2024-07-27T15:31:53.211230Z"
    }
   },
   "source": [
    "torch.manual_seed(30)\n",
    "random_tensor = torch.randn(2, 2, 3)\n",
    "random_tensor, random_tensor.dtype, random_tensor.shape, random_tensor.ndim, random_tensor.numel()"
   ],
   "outputs": [
    {
     "data": {
      "text/plain": [
       "(tensor([[[ 0.4705,  1.6563,  0.5153],\n",
       "          [-0.2744, -2.2606,  1.2280]],\n",
       " \n",
       "         [[ 0.7928,  0.6231, -2.1520],\n",
       "          [-0.0252,  0.9949,  0.0494]]]),\n",
       " torch.float32,\n",
       " torch.Size([2, 2, 3]),\n",
       " 3,\n",
       " 12)"
      ]
     },
     "execution_count": 17,
     "metadata": {},
     "output_type": "execute_result"
    }
   ],
   "execution_count": 17
  },
  {
   "cell_type": "markdown",
   "metadata": {
    "execution": {
     "iopub.execute_input": "2024-05-26T09:19:21.349186Z",
     "iopub.status.busy": "2024-05-26T09:19:21.348260Z",
     "iopub.status.idle": "2024-05-26T09:19:21.356479Z",
     "shell.execute_reply": "2024-05-26T09:19:21.354816Z",
     "shell.execute_reply.started": "2024-05-26T09:19:21.349148Z"
    }
   },
   "source": [
    "**Using `torch.randint()`**\n",
    "\n",
    "Generates a tensor with random integers from a specified range."
   ]
  },
  {
   "cell_type": "code",
   "metadata": {
    "execution": {
     "iopub.execute_input": "2024-05-26T15:25:07.049892Z",
     "iopub.status.busy": "2024-05-26T15:25:07.049418Z",
     "iopub.status.idle": "2024-05-26T15:25:07.062186Z",
     "shell.execute_reply": "2024-05-26T15:25:07.060760Z",
     "shell.execute_reply.started": "2024-05-26T15:25:07.049860Z"
    },
    "ExecuteTime": {
     "end_time": "2024-07-27T15:31:53.220148Z",
     "start_time": "2024-07-27T15:31:53.216342Z"
    }
   },
   "source": [
    "torch.manual_seed(40)\n",
    "random_tensor = torch.randint(10, 40, (2, 2, 2))\n",
    "random_tensor, random_tensor.dtype, random_tensor.shape, random_tensor.ndim, random_tensor.numel()"
   ],
   "outputs": [
    {
     "data": {
      "text/plain": [
       "(tensor([[[38, 33],\n",
       "          [15, 37]],\n",
       " \n",
       "         [[22, 14],\n",
       "          [36, 13]]]),\n",
       " torch.int64,\n",
       " torch.Size([2, 2, 2]),\n",
       " 3,\n",
       " 8)"
      ]
     },
     "execution_count": 18,
     "metadata": {},
     "output_type": "execute_result"
    }
   ],
   "execution_count": 18
  },
  {
   "cell_type": "markdown",
   "metadata": {},
   "source": [
    "**Using `torch.randperm()`**\n",
    "\n",
    "Generates a tensor with a random permutation of integers from 0 to n−1."
   ]
  },
  {
   "cell_type": "code",
   "metadata": {
    "ExecuteTime": {
     "end_time": "2024-07-27T15:31:53.224132Z",
     "start_time": "2024-07-27T15:31:53.220702Z"
    }
   },
   "source": [
    "torch.manual_seed(50)\n",
    "random_tensor = torch.randperm(20)\n",
    "random_tensor, random_tensor.dtype, random_tensor.shape, random_tensor.ndim, random_tensor.numel()"
   ],
   "outputs": [
    {
     "data": {
      "text/plain": [
       "(tensor([ 4,  1,  3,  8,  5,  0, 18, 19, 17, 15,  6, 10,  2,  9,  7, 13, 14, 12,\n",
       "         11, 16]),\n",
       " torch.int64,\n",
       " torch.Size([20]),\n",
       " 1,\n",
       " 20)"
      ]
     },
     "execution_count": 19,
     "metadata": {},
     "output_type": "execute_result"
    }
   ],
   "execution_count": 19
  },
  {
   "cell_type": "markdown",
   "metadata": {
    "collapsed": false,
    "jupyter": {
     "outputs_hidden": false
    }
   },
   "source": [
    "### Zeros\n",
    "Create a tensor fill with zeros using `torch.zeros()`."
   ]
  },
  {
   "cell_type": "code",
   "metadata": {
    "collapsed": false,
    "jupyter": {
     "outputs_hidden": false
    },
    "ExecuteTime": {
     "end_time": "2024-07-27T15:31:53.227553Z",
     "start_time": "2024-07-27T15:31:53.224756Z"
    }
   },
   "source": [
    "zeros = torch.zeros(size=(2, 4))\n",
    "zeros, zeros.dtype"
   ],
   "outputs": [
    {
     "data": {
      "text/plain": [
       "(tensor([[0., 0., 0., 0.],\n",
       "         [0., 0., 0., 0.]]),\n",
       " torch.float32)"
      ]
     },
     "execution_count": 20,
     "metadata": {},
     "output_type": "execute_result"
    }
   ],
   "execution_count": 20
  },
  {
   "cell_type": "code",
   "metadata": {
    "collapsed": false,
    "jupyter": {
     "outputs_hidden": false
    },
    "ExecuteTime": {
     "end_time": "2024-07-27T15:31:53.230810Z",
     "start_time": "2024-07-27T15:31:53.228224Z"
    }
   },
   "source": [
    "zeros = torch.zeros(3, 3)\n",
    "zeros"
   ],
   "outputs": [
    {
     "data": {
      "text/plain": [
       "tensor([[0., 0., 0.],\n",
       "        [0., 0., 0.],\n",
       "        [0., 0., 0.]])"
      ]
     },
     "execution_count": 21,
     "metadata": {},
     "output_type": "execute_result"
    }
   ],
   "execution_count": 21
  },
  {
   "cell_type": "markdown",
   "metadata": {
    "collapsed": false,
    "jupyter": {
     "outputs_hidden": false
    }
   },
   "source": [
    "### Ones\n",
    "Create a tensor fill with ones using `torch.ones()`."
   ]
  },
  {
   "cell_type": "code",
   "metadata": {
    "collapsed": false,
    "jupyter": {
     "outputs_hidden": false
    },
    "ExecuteTime": {
     "end_time": "2024-07-27T15:31:53.234706Z",
     "start_time": "2024-07-27T15:31:53.231402Z"
    }
   },
   "source": [
    "ones = torch.ones(size=(2, 2))\n",
    "ones, ones.dtype"
   ],
   "outputs": [
    {
     "data": {
      "text/plain": [
       "(tensor([[1., 1.],\n",
       "         [1., 1.]]),\n",
       " torch.float32)"
      ]
     },
     "execution_count": 22,
     "metadata": {},
     "output_type": "execute_result"
    }
   ],
   "execution_count": 22
  },
  {
   "cell_type": "code",
   "metadata": {
    "collapsed": false,
    "jupyter": {
     "outputs_hidden": false
    },
    "ExecuteTime": {
     "end_time": "2024-07-27T15:31:53.237306Z",
     "start_time": "2024-07-27T15:31:53.235240Z"
    }
   },
   "source": [
    "ones = torch.ones(2, 3, 2)\n",
    "ones"
   ],
   "outputs": [
    {
     "data": {
      "text/plain": [
       "tensor([[[1., 1.],\n",
       "         [1., 1.],\n",
       "         [1., 1.]],\n",
       "\n",
       "        [[1., 1.],\n",
       "         [1., 1.],\n",
       "         [1., 1.]]])"
      ]
     },
     "execution_count": 23,
     "metadata": {},
     "output_type": "execute_result"
    }
   ],
   "execution_count": 23
  },
  {
   "cell_type": "markdown",
   "metadata": {
    "collapsed": false,
    "jupyter": {
     "outputs_hidden": false
    }
   },
   "source": [
    "### Ranged\n",
    "Create tensors with a range of numbers using `torch.arange(start, end, step)`."
   ]
  },
  {
   "cell_type": "code",
   "metadata": {
    "collapsed": false,
    "jupyter": {
     "outputs_hidden": false
    },
    "ExecuteTime": {
     "end_time": "2024-07-27T15:31:53.241646Z",
     "start_time": "2024-07-27T15:31:53.237950Z"
    }
   },
   "source": [
    "zero_to_twenty = torch.arange(0, 20, 1)\n",
    "zero_to_twenty"
   ],
   "outputs": [
    {
     "data": {
      "text/plain": [
       "tensor([ 0,  1,  2,  3,  4,  5,  6,  7,  8,  9, 10, 11, 12, 13, 14, 15, 16, 17,\n",
       "        18, 19])"
      ]
     },
     "execution_count": 24,
     "metadata": {},
     "output_type": "execute_result"
    }
   ],
   "execution_count": 24
  },
  {
   "cell_type": "code",
   "metadata": {
    "collapsed": false,
    "jupyter": {
     "outputs_hidden": false
    },
    "ExecuteTime": {
     "end_time": "2024-07-27T15:31:53.244842Z",
     "start_time": "2024-07-27T15:31:53.242345Z"
    }
   },
   "source": [
    "zero_to_hundred = torch.arange(0, 100, 5)\n",
    "zero_to_hundred"
   ],
   "outputs": [
    {
     "data": {
      "text/plain": [
       "tensor([ 0,  5, 10, 15, 20, 25, 30, 35, 40, 45, 50, 55, 60, 65, 70, 75, 80, 85,\n",
       "        90, 95])"
      ]
     },
     "execution_count": 25,
     "metadata": {},
     "output_type": "execute_result"
    }
   ],
   "execution_count": 25
  },
  {
   "cell_type": "markdown",
   "metadata": {
    "collapsed": false,
    "jupyter": {
     "outputs_hidden": false
    }
   },
   "source": [
    "### Tensors like\n",
    "Create a certain type of tensor with the same shape of another."
   ]
  },
  {
   "cell_type": "code",
   "metadata": {
    "collapsed": false,
    "jupyter": {
     "outputs_hidden": false
    },
    "ExecuteTime": {
     "end_time": "2024-07-27T15:31:53.248426Z",
     "start_time": "2024-07-27T15:31:53.245443Z"
    }
   },
   "source": [
    "torch.manual_seed(40)\n",
    "random_tensor = torch.rand(3, 3)\n",
    "random_tensor"
   ],
   "outputs": [
    {
     "data": {
      "text/plain": [
       "tensor([[0.3679, 0.8661, 0.1737],\n",
       "        [0.7157, 0.8649, 0.4878],\n",
       "        [0.5501, 0.1318, 0.2897]])"
      ]
     },
     "execution_count": 26,
     "metadata": {},
     "output_type": "execute_result"
    }
   ],
   "execution_count": 26
  },
  {
   "cell_type": "markdown",
   "metadata": {
    "collapsed": false,
    "jupyter": {
     "outputs_hidden": false
    }
   },
   "source": [
    "**Using `torch.zeros_like(input)`**"
   ]
  },
  {
   "cell_type": "code",
   "metadata": {
    "collapsed": false,
    "jupyter": {
     "outputs_hidden": false
    },
    "ExecuteTime": {
     "end_time": "2024-07-27T15:31:53.253736Z",
     "start_time": "2024-07-27T15:31:53.250967Z"
    }
   },
   "source": [
    "random_tensor_like = torch.zeros_like(random_tensor)\n",
    "random_tensor_like"
   ],
   "outputs": [
    {
     "data": {
      "text/plain": [
       "tensor([[0., 0., 0.],\n",
       "        [0., 0., 0.],\n",
       "        [0., 0., 0.]])"
      ]
     },
     "execution_count": 27,
     "metadata": {},
     "output_type": "execute_result"
    }
   ],
   "execution_count": 27
  },
  {
   "cell_type": "markdown",
   "metadata": {
    "collapsed": false,
    "jupyter": {
     "outputs_hidden": false
    }
   },
   "source": [
    "**Using `torch.ones_like(input)`**"
   ]
  },
  {
   "cell_type": "code",
   "metadata": {
    "collapsed": false,
    "jupyter": {
     "outputs_hidden": false
    },
    "ExecuteTime": {
     "end_time": "2024-07-27T15:31:53.528460Z",
     "start_time": "2024-07-27T15:31:53.524933Z"
    }
   },
   "source": [
    "random_tensor_like = torch.ones_like(random_tensor)\n",
    "random_tensor_like"
   ],
   "outputs": [
    {
     "data": {
      "text/plain": [
       "tensor([[1., 1., 1.],\n",
       "        [1., 1., 1.],\n",
       "        [1., 1., 1.]])"
      ]
     },
     "execution_count": 28,
     "metadata": {},
     "output_type": "execute_result"
    }
   ],
   "execution_count": 28
  },
  {
   "metadata": {},
   "cell_type": "markdown",
   "source": [
    "## Tensor Manipulation\n",
    "\n",
    "**Operations:**\n",
    "- Addition\n",
    "- Subtraction\n",
    "- Multiplication\n",
    "- Division\n",
    "- Matrix multiplication"
   ]
  },
  {
   "metadata": {},
   "cell_type": "markdown",
   "source": "### Basic operations"
  },
  {
   "metadata": {
    "ExecuteTime": {
     "end_time": "2024-07-27T15:31:53.850223Z",
     "start_time": "2024-07-27T15:31:53.845832Z"
    }
   },
   "cell_type": "code",
   "source": [
    "# addition\n",
    "tensor = torch.tensor([10, 20, 30])\n",
    "tensor + 10"
   ],
   "outputs": [
    {
     "data": {
      "text/plain": [
       "tensor([20, 30, 40])"
      ]
     },
     "execution_count": 29,
     "metadata": {},
     "output_type": "execute_result"
    }
   ],
   "execution_count": 29
  },
  {
   "metadata": {
    "ExecuteTime": {
     "end_time": "2024-07-27T15:31:53.947626Z",
     "start_time": "2024-07-27T15:31:53.944779Z"
    }
   },
   "cell_type": "code",
   "source": [
    "# multiplication\n",
    "tensor * 10"
   ],
   "outputs": [
    {
     "data": {
      "text/plain": [
       "tensor([100, 200, 300])"
      ]
     },
     "execution_count": 30,
     "metadata": {},
     "output_type": "execute_result"
    }
   ],
   "execution_count": 30
  },
  {
   "metadata": {
    "ExecuteTime": {
     "end_time": "2024-07-27T15:31:54.043191Z",
     "start_time": "2024-07-27T15:31:54.039857Z"
    }
   },
   "cell_type": "code",
   "source": [
    "# subtraction\n",
    "tensor - 10"
   ],
   "outputs": [
    {
     "data": {
      "text/plain": [
       "tensor([ 0, 10, 20])"
      ]
     },
     "execution_count": 31,
     "metadata": {},
     "output_type": "execute_result"
    }
   ],
   "execution_count": 31
  },
  {
   "metadata": {},
   "cell_type": "markdown",
   "source": "Using `torch.add()` to perform addition"
  },
  {
   "metadata": {
    "ExecuteTime": {
     "end_time": "2024-07-27T15:31:54.060825Z",
     "start_time": "2024-07-27T15:31:54.057365Z"
    }
   },
   "cell_type": "code",
   "source": "torch.add(tensor, 10)",
   "outputs": [
    {
     "data": {
      "text/plain": [
       "tensor([20, 30, 40])"
      ]
     },
     "execution_count": 32,
     "metadata": {},
     "output_type": "execute_result"
    }
   ],
   "execution_count": 32
  },
  {
   "metadata": {},
   "cell_type": "markdown",
   "source": "Using `torch.mul()` to perform multiplication"
  },
  {
   "metadata": {
    "ExecuteTime": {
     "end_time": "2024-07-27T15:31:54.093070Z",
     "start_time": "2024-07-27T15:31:54.089966Z"
    }
   },
   "cell_type": "code",
   "source": "torch.mul(tensor, 10), torch.multiply(tensor, 10)",
   "outputs": [
    {
     "data": {
      "text/plain": [
       "(tensor([100, 200, 300]), tensor([100, 200, 300]))"
      ]
     },
     "execution_count": 33,
     "metadata": {},
     "output_type": "execute_result"
    }
   ],
   "execution_count": 33
  },
  {
   "metadata": {},
   "cell_type": "markdown",
   "source": [
    "### Matrix multiplication\n",
    "\n",
    "**Rules:**\n",
    "- The **_inner dimensions_** must match.\n",
    "- The resulting matrix has the shape of the **_outer dimensions_**.\n",
    "\n",
    "\"`@`\" symbol is used for matrix multiplication in Python."
   ]
  },
  {
   "metadata": {
    "ExecuteTime": {
     "end_time": "2024-07-27T15:31:54.162581Z",
     "start_time": "2024-07-27T15:31:54.160484Z"
    }
   },
   "cell_type": "code",
   "source": [
    "tensor = torch.tensor([10, 20, 30])\n",
    "tensor.shape"
   ],
   "outputs": [
    {
     "data": {
      "text/plain": [
       "torch.Size([3])"
      ]
     },
     "execution_count": 34,
     "metadata": {},
     "output_type": "execute_result"
    }
   ],
   "execution_count": 34
  },
  {
   "metadata": {
    "ExecuteTime": {
     "end_time": "2024-07-27T15:31:54.206143Z",
     "start_time": "2024-07-27T15:31:54.203646Z"
    }
   },
   "cell_type": "code",
   "source": [
    "# Element-wise matrix multiplication\n",
    "tensor * tensor"
   ],
   "outputs": [
    {
     "data": {
      "text/plain": [
       "tensor([100, 400, 900])"
      ]
     },
     "execution_count": 35,
     "metadata": {},
     "output_type": "execute_result"
    }
   ],
   "execution_count": 35
  },
  {
   "metadata": {
    "ExecuteTime": {
     "end_time": "2024-07-27T15:31:54.282096Z",
     "start_time": "2024-07-27T15:31:54.278558Z"
    }
   },
   "cell_type": "code",
   "source": [
    "# Matrix multiplication\n",
    "torch.matmul(tensor, tensor)"
   ],
   "outputs": [
    {
     "data": {
      "text/plain": [
       "tensor(1400)"
      ]
     },
     "execution_count": 36,
     "metadata": {},
     "output_type": "execute_result"
    }
   ],
   "execution_count": 36
  },
  {
   "metadata": {
    "ExecuteTime": {
     "end_time": "2024-07-27T15:31:54.358586Z",
     "start_time": "2024-07-27T15:31:54.356279Z"
    }
   },
   "cell_type": "code",
   "source": "tensor @ tensor",
   "outputs": [
    {
     "data": {
      "text/plain": [
       "tensor(1400)"
      ]
     },
     "execution_count": 37,
     "metadata": {},
     "output_type": "execute_result"
    }
   ],
   "execution_count": 37
  },
  {
   "metadata": {
    "ExecuteTime": {
     "end_time": "2024-07-27T15:31:54.393669Z",
     "start_time": "2024-07-27T15:31:54.387372Z"
    }
   },
   "cell_type": "code",
   "source": [
    "tensor = torch.tensor([[1, 2], [3, 4]])\n",
    "torch.matmul(tensor, tensor)"
   ],
   "outputs": [
    {
     "data": {
      "text/plain": [
       "tensor([[ 7, 10],\n",
       "        [15, 22]])"
      ]
     },
     "execution_count": 38,
     "metadata": {},
     "output_type": "execute_result"
    }
   ],
   "execution_count": 38
  },
  {
   "metadata": {
    "ExecuteTime": {
     "end_time": "2024-07-27T15:31:54.451024Z",
     "start_time": "2024-07-27T15:31:54.448544Z"
    }
   },
   "cell_type": "code",
   "source": [
    "tensor_A = torch.tensor([[1, 2],\n",
    "                         [3, 4],\n",
    "                         [5, 6]])\n",
    "tensor_B = torch.tensor([[7, 8],\n",
    "                         [9, 10],\n",
    "                         [11, 12]])\n",
    "\n",
    "tensor_A.shape, tensor_B.shape"
   ],
   "outputs": [
    {
     "data": {
      "text/plain": [
       "(torch.Size([3, 2]), torch.Size([3, 2]))"
      ]
     },
     "execution_count": 39,
     "metadata": {},
     "output_type": "execute_result"
    }
   ],
   "execution_count": 39
  },
  {
   "metadata": {
    "ExecuteTime": {
     "end_time": "2024-07-27T15:31:54.497282Z",
     "start_time": "2024-07-27T15:31:54.494390Z"
    }
   },
   "cell_type": "code",
   "source": [
    "# transposing tensor_B for matrix multiplication\n",
    "tensor_B = tensor_B.T\n",
    "\n",
    "torch.matmul(tensor_A, tensor_B)"
   ],
   "outputs": [
    {
     "data": {
      "text/plain": [
       "tensor([[ 23,  29,  35],\n",
       "        [ 53,  67,  81],\n",
       "        [ 83, 105, 127]])"
      ]
     },
     "execution_count": 40,
     "metadata": {},
     "output_type": "execute_result"
    }
   ],
   "execution_count": 40
  },
  {
   "metadata": {},
   "cell_type": "markdown",
   "source": "jflsdjalf"
  },
  {
   "metadata": {
    "ExecuteTime": {
     "end_time": "2024-07-27T15:31:54.573127Z",
     "start_time": "2024-07-27T15:31:54.561674Z"
    }
   },
   "cell_type": "code",
   "source": [
    "torch.manual_seed(42)\n",
    "\n",
    "linear = torch.nn.Linear(in_features=2, out_features=6)\n",
    "\n",
    "tensor_A = torch.tensor([[1, 2],\n",
    "                         [3, 4],\n",
    "                         [5, 6]], dtype=torch.float32)\n",
    "\n",
    "x = tensor_A\n",
    "output = linear(x)\n",
    "x.shape, output, output.shape"
   ],
   "outputs": [
    {
     "data": {
      "text/plain": [
       "(torch.Size([3, 2]),\n",
       " tensor([[2.2368, 1.2292, 0.4714, 0.3864, 0.1309, 0.9838],\n",
       "         [4.4919, 2.1970, 0.4469, 0.5285, 0.3401, 2.4777],\n",
       "         [6.7469, 3.1648, 0.4224, 0.6705, 0.5493, 3.9716]],\n",
       "        grad_fn=<AddmmBackward0>),\n",
       " torch.Size([3, 6]))"
      ]
     },
     "execution_count": 41,
     "metadata": {},
     "output_type": "execute_result"
    }
   ],
   "execution_count": 41
  },
  {
   "metadata": {},
   "cell_type": "markdown",
   "source": [
    "## Aggregation\n",
    "\n",
    "**Finding the min, max, mean, sum, etc.**"
   ]
  },
  {
   "metadata": {
    "ExecuteTime": {
     "end_time": "2024-07-27T15:31:54.603290Z",
     "start_time": "2024-07-27T15:31:54.600543Z"
    }
   },
   "cell_type": "code",
   "source": [
    "x = torch.arange(0, 100, 10)\n",
    "x, x.dtype"
   ],
   "outputs": [
    {
     "data": {
      "text/plain": [
       "(tensor([ 0, 10, 20, 30, 40, 50, 60, 70, 80, 90]), torch.int64)"
      ]
     },
     "execution_count": 42,
     "metadata": {},
     "output_type": "execute_result"
    }
   ],
   "execution_count": 42
  },
  {
   "metadata": {
    "ExecuteTime": {
     "end_time": "2024-07-27T15:31:54.692080Z",
     "start_time": "2024-07-27T15:31:54.687606Z"
    }
   },
   "cell_type": "code",
   "source": [
    "# maximum\n",
    "print(f'Maximum: {x.max()}')\n",
    "# minimum\n",
    "print(f'Minimum: {x.min()}')\n",
    "# sum\n",
    "print(f'Sum: {x.sum()}')\n",
    "# mean\n",
    "# print(f'Mean: {x.mean()}') # error # only works with float datatype\n",
    "print(f'Mean: {x.type(torch.float32).mean()}')"
   ],
   "outputs": [
    {
     "name": "stdout",
     "output_type": "stream",
     "text": [
      "Maximum: 90\n",
      "Minimum: 0\n",
      "Sum: 450\n",
      "Mean: 45.0\n"
     ]
    }
   ],
   "execution_count": 43
  },
  {
   "metadata": {
    "ExecuteTime": {
     "end_time": "2024-07-27T15:31:54.734033Z",
     "start_time": "2024-07-27T15:31:54.730033Z"
    }
   },
   "cell_type": "code",
   "source": [
    "torch.manual_seed(42)\n",
    "x = torch.rand(3, 3)\n",
    "print(x)\n",
    "# maximum\n",
    "print(f'Maximum: {x.max()}')\n",
    "# minimum\n",
    "print(f'Minimum: {x.min()}')\n",
    "# sum\n",
    "print(f'Sum: {x.sum()}')\n",
    "# mean\n",
    "print(f'Mean: {x.type(torch.float32).mean()}')"
   ],
   "outputs": [
    {
     "name": "stdout",
     "output_type": "stream",
     "text": [
      "tensor([[0.8823, 0.9150, 0.3829],\n",
      "        [0.9593, 0.3904, 0.6009],\n",
      "        [0.2566, 0.7936, 0.9408]])\n",
      "Maximum: 0.9593056440353394\n",
      "Minimum: 0.2565724849700928\n",
      "Sum: 6.121770858764648\n",
      "Mean: 0.6801967620849609\n"
     ]
    }
   ],
   "execution_count": 44
  },
  {
   "metadata": {},
   "cell_type": "markdown",
   "source": [
    "## Positional min/max\n",
    "\n",
    "Finding the index of a tensor where the max(using **`torch.argmax()`**) or min(using **`torch.argmin()`**) occurs."
   ]
  },
  {
   "metadata": {
    "ExecuteTime": {
     "end_time": "2024-07-27T15:31:54.790351Z",
     "start_time": "2024-07-27T15:31:54.785755Z"
    }
   },
   "cell_type": "code",
   "source": [
    "tensor = torch.arange(0., 100., 10)\n",
    "print(tensor)\n",
    "\n",
    "# index of max value\n",
    "print(f'Index of max value: {tensor.argmax()}')\n",
    "print(f'Index of min value: {tensor.argmin()}')"
   ],
   "outputs": [
    {
     "name": "stdout",
     "output_type": "stream",
     "text": [
      "tensor([ 0., 10., 20., 30., 40., 50., 60., 70., 80., 90.])\n",
      "Index of max value: 9\n",
      "Index of min value: 0\n"
     ]
    }
   ],
   "execution_count": 45
  },
  {
   "metadata": {
    "ExecuteTime": {
     "end_time": "2024-07-27T15:31:54.843071Z",
     "start_time": "2024-07-27T15:31:54.840034Z"
    }
   },
   "cell_type": "code",
   "source": [
    "torch.manual_seed(56)\n",
    "tensor = torch.randint(0, 100, (3, 3))\n",
    "print(tensor)\n",
    "\n",
    "# index of max value\n",
    "print(f'Index of max value: {tensor.argmax()}')\n",
    "print(f'Index of min value: {tensor.argmin()}')"
   ],
   "outputs": [
    {
     "name": "stdout",
     "output_type": "stream",
     "text": [
      "tensor([[29, 32, 67],\n",
      "        [68, 34, 11],\n",
      "        [26, 46, 77]])\n",
      "Index of max value: 8\n",
      "Index of min value: 5\n"
     ]
    }
   ],
   "execution_count": 46
  },
  {
   "metadata": {},
   "cell_type": "markdown",
   "source": [
    "## Changing tensor datatype\n",
    "\n",
    "Using **`torch.Tensor.type(dtype=None)`**"
   ]
  },
  {
   "metadata": {
    "ExecuteTime": {
     "end_time": "2024-07-27T15:31:54.895911Z",
     "start_time": "2024-07-27T15:31:54.892865Z"
    }
   },
   "cell_type": "code",
   "source": [
    "torch.manual_seed(20)\n",
    "# creating a tensor\n",
    "tensor = torch.randint(1, 100, (2, 2))\n",
    "tensor, tensor.dtype"
   ],
   "outputs": [
    {
     "data": {
      "text/plain": [
       "(tensor([[ 9, 83],\n",
       "         [58, 56]]),\n",
       " torch.int64)"
      ]
     },
     "execution_count": 47,
     "metadata": {},
     "output_type": "execute_result"
    }
   ],
   "execution_count": 47
  },
  {
   "metadata": {
    "ExecuteTime": {
     "end_time": "2024-07-27T15:31:54.948514Z",
     "start_time": "2024-07-27T15:31:54.945734Z"
    }
   },
   "cell_type": "code",
   "source": [
    "# changing datatype of the tensor\n",
    "tensor_float32 = tensor.type(torch.float32)\n",
    "tensor_float32, tensor_float32.dtype"
   ],
   "outputs": [
    {
     "data": {
      "text/plain": [
       "(tensor([[ 9., 83.],\n",
       "         [58., 56.]]),\n",
       " torch.float32)"
      ]
     },
     "execution_count": 48,
     "metadata": {},
     "output_type": "execute_result"
    }
   ],
   "execution_count": 48
  },
  {
   "metadata": {
    "ExecuteTime": {
     "end_time": "2024-07-27T15:31:54.994698Z",
     "start_time": "2024-07-27T15:31:54.992264Z"
    }
   },
   "cell_type": "code",
   "source": [
    "# changing datatype of tensor_float32\n",
    "tensor_int16 = tensor_float32.type(torch.int16)\n",
    "tensor_int16, tensor_int16.dtype"
   ],
   "outputs": [
    {
     "data": {
      "text/plain": [
       "(tensor([[ 9, 83],\n",
       "         [58, 56]], dtype=torch.int16),\n",
       " torch.int16)"
      ]
     },
     "execution_count": 49,
     "metadata": {},
     "output_type": "execute_result"
    }
   ],
   "execution_count": 49
  },
  {
   "metadata": {},
   "cell_type": "markdown",
   "source": "## Reshaping, stacking, squeezing and unsqueezing"
  },
  {
   "metadata": {
    "ExecuteTime": {
     "end_time": "2024-07-27T15:31:55.047882Z",
     "start_time": "2024-07-27T15:31:55.044787Z"
    }
   },
   "cell_type": "code",
   "source": [
    "# creating a tensor\n",
    "torch.manual_seed(22)\n",
    "tensor = torch.randint(1, 100, (9,))\n",
    "tensor, tensor.shape, tensor.ndim"
   ],
   "outputs": [
    {
     "data": {
      "text/plain": [
       "(tensor([39, 53, 11, 85,  8, 84, 12, 11, 57]), torch.Size([9]), 1)"
      ]
     },
     "execution_count": 50,
     "metadata": {},
     "output_type": "execute_result"
    }
   ],
   "execution_count": 50
  },
  {
   "metadata": {},
   "cell_type": "markdown",
   "source": "**Reshaping tensor using `torch.reshape()`**"
  },
  {
   "metadata": {
    "ExecuteTime": {
     "end_time": "2024-07-27T15:31:55.096520Z",
     "start_time": "2024-07-27T15:31:55.094166Z"
    }
   },
   "cell_type": "code",
   "source": [
    "# adding extra dimension\n",
    "tensor_reshaped = tensor.reshape(1, 9)\n",
    "tensor_reshaped, tensor_reshaped.shape, tensor_reshaped.ndim"
   ],
   "outputs": [
    {
     "data": {
      "text/plain": [
       "(tensor([[39, 53, 11, 85,  8, 84, 12, 11, 57]]), torch.Size([1, 9]), 2)"
      ]
     },
     "execution_count": 51,
     "metadata": {},
     "output_type": "execute_result"
    }
   ],
   "execution_count": 51
  },
  {
   "metadata": {
    "ExecuteTime": {
     "end_time": "2024-07-27T15:31:55.171503Z",
     "start_time": "2024-07-27T15:31:55.168785Z"
    }
   },
   "cell_type": "code",
   "source": [
    "tensor_reshaped = tensor.reshape(1, 3, 3)\n",
    "tensor_reshaped, tensor_reshaped.shape, tensor_reshaped.ndim"
   ],
   "outputs": [
    {
     "data": {
      "text/plain": [
       "(tensor([[[39, 53, 11],\n",
       "          [85,  8, 84],\n",
       "          [12, 11, 57]]]),\n",
       " torch.Size([1, 3, 3]),\n",
       " 3)"
      ]
     },
     "execution_count": 52,
     "metadata": {},
     "output_type": "execute_result"
    }
   ],
   "execution_count": 52
  },
  {
   "metadata": {},
   "cell_type": "markdown",
   "source": "Changing view using **`torch.view()`** (_keeps same data_) "
  },
  {
   "metadata": {
    "ExecuteTime": {
     "end_time": "2024-07-27T15:31:55.224266Z",
     "start_time": "2024-07-27T15:31:55.221790Z"
    }
   },
   "cell_type": "code",
   "source": [
    "z = tensor.view(3, 3)\n",
    "z"
   ],
   "outputs": [
    {
     "data": {
      "text/plain": [
       "tensor([[39, 53, 11],\n",
       "        [85,  8, 84],\n",
       "        [12, 11, 57]])"
      ]
     },
     "execution_count": 53,
     "metadata": {},
     "output_type": "execute_result"
    }
   ],
   "execution_count": 53
  },
  {
   "metadata": {
    "ExecuteTime": {
     "end_time": "2024-07-27T15:31:55.279772Z",
     "start_time": "2024-07-27T15:31:55.277340Z"
    }
   },
   "cell_type": "code",
   "source": "tensor",
   "outputs": [
    {
     "data": {
      "text/plain": [
       "tensor([39, 53, 11, 85,  8, 84, 12, 11, 57])"
      ]
     },
     "execution_count": 54,
     "metadata": {},
     "output_type": "execute_result"
    }
   ],
   "execution_count": 54
  },
  {
   "metadata": {},
   "cell_type": "markdown",
   "source": "_Changing the view changes the original tensor too._"
  },
  {
   "metadata": {
    "ExecuteTime": {
     "end_time": "2024-07-27T15:31:55.321947Z",
     "start_time": "2024-07-27T15:31:55.319085Z"
    }
   },
   "cell_type": "code",
   "source": [
    "z[:, 0] = 500\n",
    "z, tensor"
   ],
   "outputs": [
    {
     "data": {
      "text/plain": [
       "(tensor([[500,  53,  11],\n",
       "         [500,   8,  84],\n",
       "         [500,  11,  57]]),\n",
       " tensor([500,  53,  11, 500,   8,  84, 500,  11,  57]))"
      ]
     },
     "execution_count": 55,
     "metadata": {},
     "output_type": "execute_result"
    }
   ],
   "execution_count": 55
  },
  {
   "metadata": {},
   "cell_type": "markdown",
   "source": "**Stacking tensors using `tensor.stack()`**"
  },
  {
   "metadata": {
    "ExecuteTime": {
     "end_time": "2024-07-27T15:31:55.373050Z",
     "start_time": "2024-07-27T15:31:55.370329Z"
    }
   },
   "cell_type": "code",
   "source": [
    "# Stacking on top of each other\n",
    "tensor_stacked = torch.stack([tensor, tensor, tensor, tensor, tensor], dim=0)\n",
    "tensor_stacked"
   ],
   "outputs": [
    {
     "data": {
      "text/plain": [
       "tensor([[500,  53,  11, 500,   8,  84, 500,  11,  57],\n",
       "        [500,  53,  11, 500,   8,  84, 500,  11,  57],\n",
       "        [500,  53,  11, 500,   8,  84, 500,  11,  57],\n",
       "        [500,  53,  11, 500,   8,  84, 500,  11,  57],\n",
       "        [500,  53,  11, 500,   8,  84, 500,  11,  57]])"
      ]
     },
     "execution_count": 56,
     "metadata": {},
     "output_type": "execute_result"
    }
   ],
   "execution_count": 56
  },
  {
   "metadata": {
    "ExecuteTime": {
     "end_time": "2024-07-27T15:31:55.442622Z",
     "start_time": "2024-07-27T15:31:55.439944Z"
    }
   },
   "cell_type": "code",
   "source": [
    "# Stacking on top of each other\n",
    "tensor_stacked = torch.stack([tensor, tensor, tensor, tensor, tensor], dim=1)\n",
    "tensor_stacked"
   ],
   "outputs": [
    {
     "data": {
      "text/plain": [
       "tensor([[500, 500, 500, 500, 500],\n",
       "        [ 53,  53,  53,  53,  53],\n",
       "        [ 11,  11,  11,  11,  11],\n",
       "        [500, 500, 500, 500, 500],\n",
       "        [  8,   8,   8,   8,   8],\n",
       "        [ 84,  84,  84,  84,  84],\n",
       "        [500, 500, 500, 500, 500],\n",
       "        [ 11,  11,  11,  11,  11],\n",
       "        [ 57,  57,  57,  57,  57]])"
      ]
     },
     "execution_count": 57,
     "metadata": {},
     "output_type": "execute_result"
    }
   ],
   "execution_count": 57
  },
  {
   "metadata": {},
   "cell_type": "markdown",
   "source": "**Using `torch.squeeze()` and `torch.squeeze()` to squeeze tensor and reverse squeezing.**"
  },
  {
   "metadata": {
    "ExecuteTime": {
     "end_time": "2024-07-27T15:31:55.479289Z",
     "start_time": "2024-07-27T15:31:55.476870Z"
    }
   },
   "cell_type": "code",
   "source": "tensor_reshaped, tensor_reshaped.shape",
   "outputs": [
    {
     "data": {
      "text/plain": [
       "(tensor([[[500,  53,  11],\n",
       "          [500,   8,  84],\n",
       "          [500,  11,  57]]]),\n",
       " torch.Size([1, 3, 3]))"
      ]
     },
     "execution_count": 58,
     "metadata": {},
     "output_type": "execute_result"
    }
   ],
   "execution_count": 58
  },
  {
   "metadata": {
    "ExecuteTime": {
     "end_time": "2024-07-27T15:31:55.536202Z",
     "start_time": "2024-07-27T15:31:55.533538Z"
    }
   },
   "cell_type": "code",
   "source": [
    "# Removing dimension from tensor_reshaped\n",
    "tensor_squeezed = tensor_reshaped.squeeze()\n",
    "tensor_squeezed, tensor_squeezed.shape"
   ],
   "outputs": [
    {
     "data": {
      "text/plain": [
       "(tensor([[500,  53,  11],\n",
       "         [500,   8,  84],\n",
       "         [500,  11,  57]]),\n",
       " torch.Size([3, 3]))"
      ]
     },
     "execution_count": 59,
     "metadata": {},
     "output_type": "execute_result"
    }
   ],
   "execution_count": 59
  },
  {
   "metadata": {
    "ExecuteTime": {
     "end_time": "2024-07-27T15:31:55.571781Z",
     "start_time": "2024-07-27T15:31:55.569020Z"
    }
   },
   "cell_type": "code",
   "source": [
    "# Adding dimension with unsqueeze\n",
    "tensor_unsqueezed = tensor_squeezed.unsqueeze(dim=0)\n",
    "tensor_unsqueezed, tensor_unsqueezed.shape"
   ],
   "outputs": [
    {
     "data": {
      "text/plain": [
       "(tensor([[[500,  53,  11],\n",
       "          [500,   8,  84],\n",
       "          [500,  11,  57]]]),\n",
       " torch.Size([1, 3, 3]))"
      ]
     },
     "execution_count": 60,
     "metadata": {},
     "output_type": "execute_result"
    }
   ],
   "execution_count": 60
  },
  {
   "metadata": {},
   "cell_type": "markdown",
   "source": [
    "**Rearrange the order of axes values with `torch.permute(input, dims)`, where the `input`\n",
    "gets turned into a view with new `dims`**"
   ]
  },
  {
   "metadata": {
    "ExecuteTime": {
     "end_time": "2024-07-27T15:31:55.651267Z",
     "start_time": "2024-07-27T15:31:55.647744Z"
    }
   },
   "cell_type": "code",
   "source": [
    "torch.manual_seed(52)\n",
    "tensor_original = torch.rand((224, 120, 3))\n",
    "\n",
    "tensor_permuted = tensor_original.permute(2, 0, 1)\n",
    "\n",
    "tensor_original.shape, tensor_permuted.shape"
   ],
   "outputs": [
    {
     "data": {
      "text/plain": [
       "(torch.Size([224, 120, 3]), torch.Size([3, 224, 120]))"
      ]
     },
     "execution_count": 61,
     "metadata": {},
     "output_type": "execute_result"
    }
   ],
   "execution_count": 61
  },
  {
   "metadata": {},
   "cell_type": "markdown",
   "source": [
    "## Indexing\n",
    "\n",
    "Selecting data from tensors"
   ]
  },
  {
   "metadata": {
    "ExecuteTime": {
     "end_time": "2024-07-27T15:31:55.667957Z",
     "start_time": "2024-07-27T15:31:55.665500Z"
    }
   },
   "cell_type": "code",
   "source": [
    "tensor = torch.arange(1, 10).reshape(1, 3, 3)\n",
    "tensor, tensor.shape"
   ],
   "outputs": [
    {
     "data": {
      "text/plain": [
       "(tensor([[[1, 2, 3],\n",
       "          [4, 5, 6],\n",
       "          [7, 8, 9]]]),\n",
       " torch.Size([1, 3, 3]))"
      ]
     },
     "execution_count": 62,
     "metadata": {},
     "output_type": "execute_result"
    }
   ],
   "execution_count": 62
  },
  {
   "metadata": {
    "ExecuteTime": {
     "end_time": "2024-07-27T15:31:55.697268Z",
     "start_time": "2024-07-27T15:31:55.694986Z"
    }
   },
   "cell_type": "code",
   "source": "tensor[0]",
   "outputs": [
    {
     "data": {
      "text/plain": [
       "tensor([[1, 2, 3],\n",
       "        [4, 5, 6],\n",
       "        [7, 8, 9]])"
      ]
     },
     "execution_count": 63,
     "metadata": {},
     "output_type": "execute_result"
    }
   ],
   "execution_count": 63
  },
  {
   "metadata": {
    "ExecuteTime": {
     "end_time": "2024-07-27T15:31:55.765538Z",
     "start_time": "2024-07-27T15:31:55.762692Z"
    }
   },
   "cell_type": "code",
   "source": "tensor[0][0]",
   "outputs": [
    {
     "data": {
      "text/plain": [
       "tensor([1, 2, 3])"
      ]
     },
     "execution_count": 64,
     "metadata": {},
     "output_type": "execute_result"
    }
   ],
   "execution_count": 64
  },
  {
   "metadata": {
    "ExecuteTime": {
     "end_time": "2024-07-27T15:31:55.851191Z",
     "start_time": "2024-07-27T15:31:55.848931Z"
    }
   },
   "cell_type": "code",
   "source": "tensor[0][0][0]",
   "outputs": [
    {
     "data": {
      "text/plain": [
       "tensor(1)"
      ]
     },
     "execution_count": 65,
     "metadata": {},
     "output_type": "execute_result"
    }
   ],
   "execution_count": 65
  },
  {
   "metadata": {
    "ExecuteTime": {
     "end_time": "2024-07-27T15:31:55.884756Z",
     "start_time": "2024-07-27T15:31:55.882256Z"
    }
   },
   "cell_type": "code",
   "source": [
    "# Get all values of 0th dimension and the 0 index of 1st dimension\n",
    "tensor[:, 0]"
   ],
   "outputs": [
    {
     "data": {
      "text/plain": [
       "tensor([[1, 2, 3]])"
      ]
     },
     "execution_count": 66,
     "metadata": {},
     "output_type": "execute_result"
    }
   ],
   "execution_count": 66
  },
  {
   "metadata": {
    "ExecuteTime": {
     "end_time": "2024-07-27T15:31:55.954549Z",
     "start_time": "2024-07-27T15:31:55.952241Z"
    }
   },
   "cell_type": "code",
   "source": [
    "# Get all values of 0th & 1st dimension but only index 1 of 2nd dimension\n",
    "tensor[:, :, 1]"
   ],
   "outputs": [
    {
     "data": {
      "text/plain": [
       "tensor([[2, 5, 8]])"
      ]
     },
     "execution_count": 67,
     "metadata": {},
     "output_type": "execute_result"
    }
   ],
   "execution_count": 67
  },
  {
   "metadata": {
    "ExecuteTime": {
     "end_time": "2024-07-27T15:31:55.990810Z",
     "start_time": "2024-07-27T15:31:55.988493Z"
    }
   },
   "cell_type": "code",
   "source": [
    "# Get all values of the 0 dimension but only the 1 index value of the 1st and 2nd dimension\n",
    "tensor[:, 1, 1]"
   ],
   "outputs": [
    {
     "data": {
      "text/plain": [
       "tensor([5])"
      ]
     },
     "execution_count": 68,
     "metadata": {},
     "output_type": "execute_result"
    }
   ],
   "execution_count": 68
  },
  {
   "metadata": {
    "ExecuteTime": {
     "end_time": "2024-07-27T15:31:56.062857Z",
     "start_time": "2024-07-27T15:31:56.060498Z"
    }
   },
   "cell_type": "code",
   "source": [
    "# Get index 0 of 0th and 1st dimension and all values of 2nd dimension\n",
    "tensor[0, 0, :]"
   ],
   "outputs": [
    {
     "data": {
      "text/plain": [
       "tensor([1, 2, 3])"
      ]
     },
     "execution_count": 69,
     "metadata": {},
     "output_type": "execute_result"
    }
   ],
   "execution_count": 69
  },
  {
   "metadata": {},
   "cell_type": "markdown",
   "source": [
    "## PyTorch tensors and Numpy\n",
    "\n",
    "- `torch.from_numpy(ndarray)` - NumPy array -> PyTorch tensor\n",
    "- `torch.Tensor.numpy()` - PyTorch tensor -> NumPy array"
   ]
  },
  {
   "metadata": {
    "ExecuteTime": {
     "end_time": "2024-07-27T15:31:56.085643Z",
     "start_time": "2024-07-27T15:31:56.081880Z"
    }
   },
   "cell_type": "code",
   "source": [
    "np_array = np.arange(0., 9.)\n",
    "tensor = torch.from_numpy(np_array)\n",
    "float32_tensor = torch.from_numpy(np_array).type(torch.float32)\n",
    "np_array, tensor, (float32_tensor, float32_tensor.dtype)"
   ],
   "outputs": [
    {
     "data": {
      "text/plain": [
       "(array([0., 1., 2., 3., 4., 5., 6., 7., 8.]),\n",
       " tensor([0., 1., 2., 3., 4., 5., 6., 7., 8.], dtype=torch.float64),\n",
       " (tensor([0., 1., 2., 3., 4., 5., 6., 7., 8.]), torch.float32))"
      ]
     },
     "execution_count": 70,
     "metadata": {},
     "output_type": "execute_result"
    }
   ],
   "execution_count": 70
  },
  {
   "metadata": {
    "ExecuteTime": {
     "end_time": "2024-07-27T15:31:56.157886Z",
     "start_time": "2024-07-27T15:31:56.155131Z"
    }
   },
   "cell_type": "code",
   "source": [
    "tensor = torch.zeros(9)\n",
    "numpy_array = tensor.numpy()\n",
    "tensor, numpy_array"
   ],
   "outputs": [
    {
     "data": {
      "text/plain": [
       "(tensor([0., 0., 0., 0., 0., 0., 0., 0., 0.]),\n",
       " array([0., 0., 0., 0., 0., 0., 0., 0., 0.], dtype=float32))"
      ]
     },
     "execution_count": 71,
     "metadata": {},
     "output_type": "execute_result"
    }
   ],
   "execution_count": 71
  }
 ],
 "metadata": {
  "kaggle": {
   "accelerator": "none",
   "dataSources": [],
   "dockerImageVersionId": 30698,
   "isGpuEnabled": false,
   "isInternetEnabled": true,
   "language": "python",
   "sourceType": "notebook"
  },
  "kernelspec": {
   "display_name": "Python 3 (ipykernel)",
   "language": "python",
   "name": "python3"
  },
  "language_info": {
   "codemirror_mode": {
    "name": "ipython",
    "version": 3
   },
   "file_extension": ".py",
   "mimetype": "text/x-python",
   "name": "python",
   "nbconvert_exporter": "python",
   "pygments_lexer": "ipython3",
   "version": "3.11.7"
  }
 },
 "nbformat": 4,
 "nbformat_minor": 4
}

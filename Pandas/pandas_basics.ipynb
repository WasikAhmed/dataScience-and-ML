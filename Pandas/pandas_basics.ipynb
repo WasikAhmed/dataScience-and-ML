{
 "cells": [
  {
   "cell_type": "markdown",
   "source": [
    "# Pandas Basics"
   ],
   "metadata": {
    "collapsed": false
   },
   "id": "e37097e3c38393bb"
  },
  {
   "cell_type": "markdown",
   "source": [
    "## Setup"
   ],
   "metadata": {
    "collapsed": false
   },
   "id": "4b594009e3baa0e"
  },
  {
   "cell_type": "code",
   "outputs": [
    {
     "name": "stdout",
     "output_type": "stream",
     "text": [
      "Requirement already satisfied: pandas in /opt/homebrew/anaconda3/envs/datalab/lib/python3.12/site-packages (2.2.1)\r\n",
      "Requirement already satisfied: numpy<2,>=1.26.0 in /opt/homebrew/anaconda3/envs/datalab/lib/python3.12/site-packages (from pandas) (1.26.4)\r\n",
      "Requirement already satisfied: python-dateutil>=2.8.2 in /opt/homebrew/anaconda3/envs/datalab/lib/python3.12/site-packages (from pandas) (2.8.2)\r\n",
      "Requirement already satisfied: pytz>=2020.1 in /opt/homebrew/anaconda3/envs/datalab/lib/python3.12/site-packages (from pandas) (2024.1)\r\n",
      "Requirement already satisfied: tzdata>=2022.7 in /opt/homebrew/anaconda3/envs/datalab/lib/python3.12/site-packages (from pandas) (2023.3)\r\n",
      "Requirement already satisfied: six>=1.5 in /opt/homebrew/anaconda3/envs/datalab/lib/python3.12/site-packages (from python-dateutil>=2.8.2->pandas) (1.16.0)\r\n"
     ]
    }
   ],
   "source": [
    "# Install pandas\n",
    "! pip3 install pandas"
   ],
   "metadata": {
    "collapsed": false,
    "ExecuteTime": {
     "end_time": "2024-05-22T16:35:42.511523Z",
     "start_time": "2024-05-22T16:35:41.113218Z"
    }
   },
   "id": "9433abc0d7ee4b4b",
   "execution_count": 1
  },
  {
   "cell_type": "code",
   "outputs": [
    {
     "name": "stdout",
     "output_type": "stream",
     "text": [
      "2.1.4\n",
      "1.26.4\n"
     ]
    }
   ],
   "source": [
    "# Importing pandas and other necessary modules\n",
    "import pandas as pd\n",
    "import numpy as np\n",
    "print(pd.__version__)\n",
    "print(np.__version__)"
   ],
   "metadata": {
    "collapsed": false,
    "ExecuteTime": {
     "end_time": "2024-05-22T16:35:43.223895Z",
     "start_time": "2024-05-22T16:35:42.512985Z"
    }
   },
   "id": "a0d5472462b4d07",
   "execution_count": 2
  },
  {
   "cell_type": "markdown",
   "source": [
    "## Data Structures"
   ],
   "metadata": {
    "collapsed": false
   },
   "id": "251661724b68182c"
  },
  {
   "cell_type": "markdown",
   "source": [
    "### Series\n",
    "A Series in Pandas is a one-dimensional labeled array, similar to a list but with labels attached to each element. This makes it easier to access and manipulate data. "
   ],
   "metadata": {
    "collapsed": false
   },
   "id": "38aa4d476b88403a"
  },
  {
   "cell_type": "code",
   "outputs": [
    {
     "name": "stdout",
     "output_type": "stream",
     "text": [
      "s1=\n",
      "a    0.338698\n",
      "b    0.079305\n",
      "c    0.228154\n",
      "dtype: float64\n",
      "Index(['a', 'b', 'c'], dtype='object')\n",
      "s2=\n",
      "0    0.681561\n",
      "1    0.099066\n",
      "2    0.879757\n",
      "3    0.583199\n",
      "4    0.107054\n",
      "dtype: float64\n",
      "RangeIndex(start=0, stop=5, step=1)\n",
      "s3=\n",
      "0      0.00\n",
      "1     25.25\n",
      "2     50.50\n",
      "3     75.75\n",
      "4    101.00\n",
      "dtype: float64\n",
      "RangeIndex(start=0, stop=5, step=1)\n"
     ]
    }
   ],
   "source": [
    "# creating series using ndarray\n",
    "s1 = pd.Series(np.random.rand(3), index=['a', 'b', 'c'])\n",
    "print('s1=', s1, sep='\\n')\n",
    "print(s1.index)\n",
    "\n",
    "s2 = pd.Series(np.random.rand(5))\n",
    "print('s2=', s2, sep='\\n')\n",
    "print(s2.index)\n",
    "\n",
    "s3 = pd.Series(np.linspace(0, 101, 5))\n",
    "print('s3=', s3, sep='\\n')\n",
    "print(s3.index)"
   ],
   "metadata": {
    "collapsed": false,
    "ExecuteTime": {
     "end_time": "2024-05-22T16:35:43.231205Z",
     "start_time": "2024-05-22T16:35:43.224733Z"
    }
   },
   "id": "b0601f40dfd56830",
   "execution_count": 3
  },
  {
   "cell_type": "code",
   "outputs": [
    {
     "name": "stdout",
     "output_type": "stream",
     "text": [
      "apple     10\n",
      "banana    15\n",
      "orange    20\n",
      "dtype: int64\n"
     ]
    }
   ],
   "source": [
    "# creating series using dictionary\n",
    "data = {\"apple\": 10, \"banana\": 15, \"orange\": 20}\n",
    "s = pd.Series(data)\n",
    "print(s)"
   ],
   "metadata": {
    "collapsed": false,
    "ExecuteTime": {
     "end_time": "2024-05-22T16:35:43.235038Z",
     "start_time": "2024-05-22T16:35:43.232250Z"
    }
   },
   "id": "3ac14968439b15ba",
   "execution_count": 4
  },
  {
   "cell_type": "code",
   "outputs": [
    {
     "data": {
      "text/plain": "0    11\n1    22\n2    33\n3    44\n4    55\ndtype: int64"
     },
     "execution_count": 5,
     "metadata": {},
     "output_type": "execute_result"
    }
   ],
   "source": [
    "# creating series using list\n",
    "data = [11, 22, 33, 44, 55]\n",
    "s = pd.Series(data)\n",
    "s"
   ],
   "metadata": {
    "collapsed": false,
    "ExecuteTime": {
     "end_time": "2024-05-22T16:35:43.241634Z",
     "start_time": "2024-05-22T16:35:43.236947Z"
    }
   },
   "id": "e0af9158ff500aa4",
   "execution_count": 5
  },
  {
   "cell_type": "markdown",
   "source": [
    "**`name` attribute in series**"
   ],
   "metadata": {
    "collapsed": false
   },
   "id": "47bb9d4305c3527e"
  },
  {
   "cell_type": "code",
   "outputs": [
    {
     "name": "stdout",
     "output_type": "stream",
     "text": [
      "0    33.989630\n",
      "1    89.440763\n",
      "2    89.443862\n",
      "3    52.095461\n",
      "4    94.985445\n",
      "5    73.711876\n",
      "6    33.392307\n",
      "7    84.985988\n",
      "8    34.183690\n",
      "9    18.934747\n",
      "Name: random_numbers, dtype: float64\n",
      "random_numbers\n"
     ]
    }
   ],
   "source": [
    "data = np.random.uniform(0, 100, 10)\n",
    "s = pd.Series(data, name=\"random_numbers\")\n",
    "print(s)\n",
    "print(s.name)"
   ],
   "metadata": {
    "collapsed": false,
    "ExecuteTime": {
     "end_time": "2024-05-22T16:35:43.246179Z",
     "start_time": "2024-05-22T16:35:43.242639Z"
    }
   },
   "id": "d4d48343669c1780",
   "execution_count": 6
  }
 ],
 "metadata": {
  "kernelspec": {
   "display_name": "Python 3",
   "language": "python",
   "name": "python3"
  },
  "language_info": {
   "codemirror_mode": {
    "name": "ipython",
    "version": 2
   },
   "file_extension": ".py",
   "mimetype": "text/x-python",
   "name": "python",
   "nbconvert_exporter": "python",
   "pygments_lexer": "ipython2",
   "version": "2.7.6"
  }
 },
 "nbformat": 4,
 "nbformat_minor": 5
}

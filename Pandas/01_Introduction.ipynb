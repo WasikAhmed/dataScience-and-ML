{
 "cells": [
  {
   "cell_type": "markdown",
   "source": [
    "# Pandas Introduction\n",
    "**The Pandas library is used for data manipulation and analysis.**"
   ],
   "metadata": {
    "collapsed": false
   },
   "id": "e37097e3c38393bb"
  },
  {
   "cell_type": "markdown",
   "source": [
    "## Setup"
   ],
   "metadata": {
    "collapsed": false
   },
   "id": "4b594009e3baa0e"
  },
  {
   "cell_type": "markdown",
   "source": [
    "### Installing Pandas"
   ],
   "metadata": {
    "collapsed": false
   },
   "id": "292ed41e7864c4d5"
  },
  {
   "cell_type": "code",
   "outputs": [
    {
     "name": "stdout",
     "output_type": "stream",
     "text": [
      "Requirement already satisfied: pandas in /opt/homebrew/anaconda3/envs/datalab/lib/python3.12/site-packages (2.2.1)\r\n",
      "Requirement already satisfied: numpy<2,>=1.26.0 in /opt/homebrew/anaconda3/envs/datalab/lib/python3.12/site-packages (from pandas) (1.26.4)\r\n",
      "Requirement already satisfied: python-dateutil>=2.8.2 in /opt/homebrew/anaconda3/envs/datalab/lib/python3.12/site-packages (from pandas) (2.8.2)\r\n",
      "Requirement already satisfied: pytz>=2020.1 in /opt/homebrew/anaconda3/envs/datalab/lib/python3.12/site-packages (from pandas) (2024.1)\r\n",
      "Requirement already satisfied: tzdata>=2022.7 in /opt/homebrew/anaconda3/envs/datalab/lib/python3.12/site-packages (from pandas) (2023.3)\r\n",
      "Requirement already satisfied: six>=1.5 in /opt/homebrew/anaconda3/envs/datalab/lib/python3.12/site-packages (from python-dateutil>=2.8.2->pandas) (1.16.0)\r\n"
     ]
    }
   ],
   "source": [
    "! pip3 install pandas"
   ],
   "metadata": {
    "collapsed": false,
    "ExecuteTime": {
     "end_time": "2024-06-15T12:30:55.851569Z",
     "start_time": "2024-06-15T12:30:53.860639Z"
    }
   },
   "id": "9433abc0d7ee4b4b",
   "execution_count": 1
  },
  {
   "cell_type": "markdown",
   "source": [
    "### Importing Pandas"
   ],
   "metadata": {
    "collapsed": false
   },
   "id": "9d86c0d1eb16842b"
  },
  {
   "cell_type": "code",
   "outputs": [
    {
     "data": {
      "text/plain": "'2.1.4'"
     },
     "execution_count": 2,
     "metadata": {},
     "output_type": "execute_result"
    }
   ],
   "source": [
    "import pandas as pd\n",
    "pd.__version__"
   ],
   "metadata": {
    "collapsed": false,
    "ExecuteTime": {
     "end_time": "2024-06-15T12:30:56.490962Z",
     "start_time": "2024-06-15T12:30:55.853465Z"
    }
   },
   "id": "a0d5472462b4d07",
   "execution_count": 2
  },
  {
   "cell_type": "code",
   "outputs": [
    {
     "data": {
      "text/plain": "'1.26.4'"
     },
     "execution_count": 3,
     "metadata": {},
     "output_type": "execute_result"
    }
   ],
   "source": [
    "# importing numpy\n",
    "import numpy as np\n",
    "np.__version__"
   ],
   "metadata": {
    "collapsed": false,
    "ExecuteTime": {
     "end_time": "2024-06-15T12:30:56.494875Z",
     "start_time": "2024-06-15T12:30:56.491691Z"
    }
   },
   "id": "10daf273c1236e15",
   "execution_count": 3
  },
  {
   "cell_type": "markdown",
   "source": [
    "## Data Structures"
   ],
   "metadata": {
    "collapsed": false
   },
   "id": "251661724b68182c"
  },
  {
   "cell_type": "markdown",
   "source": [
    "### Series\n",
    "A Series in Pandas is a one-dimensional labeled array, similar to a list but with labels attached to each element. This makes it easier to access and manipulate data. "
   ],
   "metadata": {
    "collapsed": false
   },
   "id": "38aa4d476b88403a"
  },
  {
   "cell_type": "markdown",
   "source": [
    "**Creating a Series from numpy ndarray**"
   ],
   "metadata": {
    "collapsed": false
   },
   "id": "993a563805ef0738"
  },
  {
   "cell_type": "code",
   "outputs": [
    {
     "data": {
      "text/plain": "0    40\n1    11\n2    57\n3    45\n4    69\ndtype: int64"
     },
     "execution_count": 4,
     "metadata": {},
     "output_type": "execute_result"
    }
   ],
   "source": [
    "s = pd.Series(np.random.randint(0, 100, 5))\n",
    "s"
   ],
   "metadata": {
    "collapsed": false,
    "ExecuteTime": {
     "end_time": "2024-06-15T12:30:56.501081Z",
     "start_time": "2024-06-15T12:30:56.496652Z"
    }
   },
   "id": "b3e9efbd53f4a08f",
   "execution_count": 4
  },
  {
   "cell_type": "markdown",
   "source": [
    "**Creating a Series from a list**"
   ],
   "metadata": {
    "collapsed": false
   },
   "id": "7df21410ac452f23"
  },
  {
   "cell_type": "code",
   "outputs": [
    {
     "data": {
      "text/plain": "0    10\n1    20\n2    30\n3    40\n4    50\ndtype: int64"
     },
     "execution_count": 5,
     "metadata": {},
     "output_type": "execute_result"
    }
   ],
   "source": [
    "s = pd.Series([10, 20, 30, 40, 50])\n",
    "s"
   ],
   "metadata": {
    "collapsed": false,
    "ExecuteTime": {
     "end_time": "2024-06-15T12:30:56.505418Z",
     "start_time": "2024-06-15T12:30:56.501924Z"
    }
   },
   "id": "f72e3298bbea9eb8",
   "execution_count": 5
  },
  {
   "cell_type": "markdown",
   "source": [
    "**Creating a Series from a dictionary**"
   ],
   "metadata": {
    "collapsed": false
   },
   "id": "8106805f507a335d"
  },
  {
   "cell_type": "code",
   "outputs": [
    {
     "data": {
      "text/plain": "a    10\nb    20\nc    30\ndtype: int64"
     },
     "execution_count": 6,
     "metadata": {},
     "output_type": "execute_result"
    }
   ],
   "source": [
    "s = pd.Series({'a': 10, 'b': 20, 'c': 30})\n",
    "s"
   ],
   "metadata": {
    "collapsed": false,
    "ExecuteTime": {
     "end_time": "2024-06-15T12:30:56.509886Z",
     "start_time": "2024-06-15T12:30:56.506250Z"
    }
   },
   "id": "c7c0f73cd7081fb6",
   "execution_count": 6
  },
  {
   "cell_type": "markdown",
   "source": [
    "**Creating a Series with custom index**"
   ],
   "metadata": {
    "collapsed": false
   },
   "id": "36763d580e9f70c7"
  },
  {
   "cell_type": "code",
   "outputs": [
    {
     "data": {
      "text/plain": "a    10\nb    20\nc    30\nd    40\ne    50\ndtype: int64"
     },
     "execution_count": 7,
     "metadata": {},
     "output_type": "execute_result"
    }
   ],
   "source": [
    "s = pd.Series([10, 20, 30, 40, 50], index=['a', 'b', 'c', 'd', 'e'])\n",
    "s"
   ],
   "metadata": {
    "collapsed": false,
    "ExecuteTime": {
     "end_time": "2024-06-15T12:30:56.514376Z",
     "start_time": "2024-06-15T12:30:56.510693Z"
    }
   },
   "id": "4bf4edbc6650d6df",
   "execution_count": 7
  },
  {
   "cell_type": "markdown",
   "source": [
    "**Naming a Series**"
   ],
   "metadata": {
    "collapsed": false
   },
   "id": "754466cb691cb81d"
  },
  {
   "cell_type": "code",
   "outputs": [
    {
     "data": {
      "text/plain": "x    30\ny    50\nz    23\nName: Age, dtype: int64"
     },
     "execution_count": 8,
     "metadata": {},
     "output_type": "execute_result"
    }
   ],
   "source": [
    "ages = [30, 50, 23]\n",
    "names = ['x', 'y', 'z']\n",
    "s = pd.Series(ages, index=names, name='Age')\n",
    "s"
   ],
   "metadata": {
    "collapsed": false,
    "ExecuteTime": {
     "end_time": "2024-06-15T12:30:56.518377Z",
     "start_time": "2024-06-15T12:30:56.515191Z"
    }
   },
   "id": "8d6cf1f39674b7ba",
   "execution_count": 8
  },
  {
   "cell_type": "markdown",
   "source": [
    "### DataFrame\n",
    "Pandas DataFrame is a two-dimensional data structure with labeled axes (rows and columns)."
   ],
   "metadata": {
    "collapsed": false
   },
   "id": "259fe91f609b6270"
  },
  {
   "cell_type": "markdown",
   "source": [
    "**Creating a DataFrame from a numpy array**"
   ],
   "metadata": {
    "collapsed": false
   },
   "id": "9dbc4e9a95c2e68c"
  },
  {
   "cell_type": "code",
   "outputs": [
    {
     "data": {
      "text/plain": "          0         1         2\n0  0.266930  0.028483  0.684880\n1  0.630467  0.802194  0.574913\n2  0.827626  0.310717  0.795573\n3  0.271426  0.433135  0.547501",
      "text/html": "<div>\n<style scoped>\n    .dataframe tbody tr th:only-of-type {\n        vertical-align: middle;\n    }\n\n    .dataframe tbody tr th {\n        vertical-align: top;\n    }\n\n    .dataframe thead th {\n        text-align: right;\n    }\n</style>\n<table border=\"1\" class=\"dataframe\">\n  <thead>\n    <tr style=\"text-align: right;\">\n      <th></th>\n      <th>0</th>\n      <th>1</th>\n      <th>2</th>\n    </tr>\n  </thead>\n  <tbody>\n    <tr>\n      <th>0</th>\n      <td>0.266930</td>\n      <td>0.028483</td>\n      <td>0.684880</td>\n    </tr>\n    <tr>\n      <th>1</th>\n      <td>0.630467</td>\n      <td>0.802194</td>\n      <td>0.574913</td>\n    </tr>\n    <tr>\n      <th>2</th>\n      <td>0.827626</td>\n      <td>0.310717</td>\n      <td>0.795573</td>\n    </tr>\n    <tr>\n      <th>3</th>\n      <td>0.271426</td>\n      <td>0.433135</td>\n      <td>0.547501</td>\n    </tr>\n  </tbody>\n</table>\n</div>"
     },
     "execution_count": 9,
     "metadata": {},
     "output_type": "execute_result"
    }
   ],
   "source": [
    "df = pd.DataFrame(np.random.rand(4, 3))\n",
    "df"
   ],
   "metadata": {
    "collapsed": false,
    "ExecuteTime": {
     "end_time": "2024-06-15T12:30:56.525772Z",
     "start_time": "2024-06-15T12:30:56.519204Z"
    }
   },
   "id": "aeaccad4f076f0a9",
   "execution_count": 9
  },
  {
   "cell_type": "code",
   "outputs": [
    {
     "data": {
      "text/plain": "    A   B   C   D\n0  23  84  35   6\n1  60  29  72   9\n2  80  26  82  78\n3  97  12  36  18\n4  10  88  50  84",
      "text/html": "<div>\n<style scoped>\n    .dataframe tbody tr th:only-of-type {\n        vertical-align: middle;\n    }\n\n    .dataframe tbody tr th {\n        vertical-align: top;\n    }\n\n    .dataframe thead th {\n        text-align: right;\n    }\n</style>\n<table border=\"1\" class=\"dataframe\">\n  <thead>\n    <tr style=\"text-align: right;\">\n      <th></th>\n      <th>A</th>\n      <th>B</th>\n      <th>C</th>\n      <th>D</th>\n    </tr>\n  </thead>\n  <tbody>\n    <tr>\n      <th>0</th>\n      <td>23</td>\n      <td>84</td>\n      <td>35</td>\n      <td>6</td>\n    </tr>\n    <tr>\n      <th>1</th>\n      <td>60</td>\n      <td>29</td>\n      <td>72</td>\n      <td>9</td>\n    </tr>\n    <tr>\n      <th>2</th>\n      <td>80</td>\n      <td>26</td>\n      <td>82</td>\n      <td>78</td>\n    </tr>\n    <tr>\n      <th>3</th>\n      <td>97</td>\n      <td>12</td>\n      <td>36</td>\n      <td>18</td>\n    </tr>\n    <tr>\n      <th>4</th>\n      <td>10</td>\n      <td>88</td>\n      <td>50</td>\n      <td>84</td>\n    </tr>\n  </tbody>\n</table>\n</div>"
     },
     "execution_count": 10,
     "metadata": {},
     "output_type": "execute_result"
    }
   ],
   "source": [
    "df = pd.DataFrame(np.random.randint(0, 100, (5, 4)), columns=['A', 'B', 'C', 'D'])\n",
    "df"
   ],
   "metadata": {
    "collapsed": false,
    "ExecuteTime": {
     "end_time": "2024-06-15T12:30:56.532289Z",
     "start_time": "2024-06-15T12:30:56.527924Z"
    }
   },
   "id": "ca58731002e65b55",
   "execution_count": 10
  },
  {
   "cell_type": "markdown",
   "source": [
    "**Creating a DataFrame from dictionary/lists**"
   ],
   "metadata": {
    "collapsed": false
   },
   "id": "6625f243727d1775"
  },
  {
   "cell_type": "code",
   "outputs": [
    {
     "data": {
      "text/plain": "   a  b  c  d\n0  1  2  3  4\n1  5  6  7  8",
      "text/html": "<div>\n<style scoped>\n    .dataframe tbody tr th:only-of-type {\n        vertical-align: middle;\n    }\n\n    .dataframe tbody tr th {\n        vertical-align: top;\n    }\n\n    .dataframe thead th {\n        text-align: right;\n    }\n</style>\n<table border=\"1\" class=\"dataframe\">\n  <thead>\n    <tr style=\"text-align: right;\">\n      <th></th>\n      <th>a</th>\n      <th>b</th>\n      <th>c</th>\n      <th>d</th>\n    </tr>\n  </thead>\n  <tbody>\n    <tr>\n      <th>0</th>\n      <td>1</td>\n      <td>2</td>\n      <td>3</td>\n      <td>4</td>\n    </tr>\n    <tr>\n      <th>1</th>\n      <td>5</td>\n      <td>6</td>\n      <td>7</td>\n      <td>8</td>\n    </tr>\n  </tbody>\n</table>\n</div>"
     },
     "execution_count": 11,
     "metadata": {},
     "output_type": "execute_result"
    }
   ],
   "source": [
    "data = [[1, 2, 3, 4], [5, 6, 7, 8]]\n",
    "df = pd.DataFrame(data, columns=['a', 'b', 'c', 'd'])\n",
    "df"
   ],
   "metadata": {
    "collapsed": false,
    "ExecuteTime": {
     "end_time": "2024-06-15T12:30:56.538330Z",
     "start_time": "2024-06-15T12:30:56.533191Z"
    }
   },
   "id": "cbcaf348b637aa43",
   "execution_count": 11
  },
  {
   "cell_type": "code",
   "outputs": [
    {
     "data": {
      "text/plain": "   A  B\n0  1  5\n1  2  6\n2  3  7\n3  4  8",
      "text/html": "<div>\n<style scoped>\n    .dataframe tbody tr th:only-of-type {\n        vertical-align: middle;\n    }\n\n    .dataframe tbody tr th {\n        vertical-align: top;\n    }\n\n    .dataframe thead th {\n        text-align: right;\n    }\n</style>\n<table border=\"1\" class=\"dataframe\">\n  <thead>\n    <tr style=\"text-align: right;\">\n      <th></th>\n      <th>A</th>\n      <th>B</th>\n    </tr>\n  </thead>\n  <tbody>\n    <tr>\n      <th>0</th>\n      <td>1</td>\n      <td>5</td>\n    </tr>\n    <tr>\n      <th>1</th>\n      <td>2</td>\n      <td>6</td>\n    </tr>\n    <tr>\n      <th>2</th>\n      <td>3</td>\n      <td>7</td>\n    </tr>\n    <tr>\n      <th>3</th>\n      <td>4</td>\n      <td>8</td>\n    </tr>\n  </tbody>\n</table>\n</div>"
     },
     "execution_count": 12,
     "metadata": {},
     "output_type": "execute_result"
    }
   ],
   "source": [
    "data = {'A': [1, 2, 3, 4],\n",
    "        'B': [5, 6, 7, 8]}\n",
    "df = pd.DataFrame(data)\n",
    "df"
   ],
   "metadata": {
    "collapsed": false,
    "ExecuteTime": {
     "end_time": "2024-06-15T12:30:56.544113Z",
     "start_time": "2024-06-15T12:30:56.539178Z"
    }
   },
   "id": "d3c2db8af6cf8208",
   "execution_count": 12
  },
  {
   "cell_type": "markdown",
   "source": [
    "**Creating a DataFrame from Series**"
   ],
   "metadata": {
    "collapsed": false
   },
   "id": "328651175907e49e"
  },
  {
   "cell_type": "code",
   "outputs": [
    {
     "data": {
      "text/plain": "     Company  Revenue  Profit\n0      Apple    274.5    57.4\n1  Microsoft    143.0    44.3\n2     Google    182.5    40.3",
      "text/html": "<div>\n<style scoped>\n    .dataframe tbody tr th:only-of-type {\n        vertical-align: middle;\n    }\n\n    .dataframe tbody tr th {\n        vertical-align: top;\n    }\n\n    .dataframe thead th {\n        text-align: right;\n    }\n</style>\n<table border=\"1\" class=\"dataframe\">\n  <thead>\n    <tr style=\"text-align: right;\">\n      <th></th>\n      <th>Company</th>\n      <th>Revenue</th>\n      <th>Profit</th>\n    </tr>\n  </thead>\n  <tbody>\n    <tr>\n      <th>0</th>\n      <td>Apple</td>\n      <td>274.5</td>\n      <td>57.4</td>\n    </tr>\n    <tr>\n      <th>1</th>\n      <td>Microsoft</td>\n      <td>143.0</td>\n      <td>44.3</td>\n    </tr>\n    <tr>\n      <th>2</th>\n      <td>Google</td>\n      <td>182.5</td>\n      <td>40.3</td>\n    </tr>\n  </tbody>\n</table>\n</div>"
     },
     "execution_count": 13,
     "metadata": {},
     "output_type": "execute_result"
    }
   ],
   "source": [
    "company = pd.Series(['Apple', 'Microsoft', 'Google'], name='Company')\n",
    "revenue = pd.Series([274.5, 143.0, 182.5], name='Revenue')\n",
    "profit = pd.Series([57.4, 44.3, 40.3], name='Profit')\n",
    "\n",
    "# df = pd.DataFrame({\n",
    "#         'Company': company,     \n",
    "#         'Revenue': revenue,\n",
    "#         'Profit': profit\n",
    "# })\n",
    "df = pd.DataFrame({\n",
    "        company.name: company,\n",
    "        revenue.name: revenue,\n",
    "        profit.name: profit\n",
    "})\n",
    "df"
   ],
   "metadata": {
    "collapsed": false,
    "ExecuteTime": {
     "end_time": "2024-06-15T12:30:56.551060Z",
     "start_time": "2024-06-15T12:30:56.545036Z"
    }
   },
   "id": "bde745d9816f4b7e",
   "execution_count": 13
  }
 ],
 "metadata": {
  "kernelspec": {
   "display_name": "Python 3",
   "language": "python",
   "name": "python3"
  },
  "language_info": {
   "codemirror_mode": {
    "name": "ipython",
    "version": 2
   },
   "file_extension": ".py",
   "mimetype": "text/x-python",
   "name": "python",
   "nbconvert_exporter": "python",
   "pygments_lexer": "ipython2",
   "version": "2.7.6"
  }
 },
 "nbformat": 4,
 "nbformat_minor": 5
}

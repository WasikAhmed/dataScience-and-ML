{
 "cells": [
  {
   "cell_type": "markdown",
   "source": [
    "## Data Manipulation in Pandas"
   ],
   "metadata": {
    "collapsed": false
   },
   "id": "2ba00bab28138355"
  },
  {
   "cell_type": "markdown",
   "source": [
    "## Importing modules"
   ],
   "metadata": {
    "collapsed": false
   },
   "id": "2efc823190a13715"
  },
  {
   "cell_type": "code",
   "outputs": [],
   "source": [
    "import pandas as pd\n",
    "import numpy as np"
   ],
   "metadata": {
    "collapsed": false,
    "ExecuteTime": {
     "end_time": "2024-06-28T09:26:30.960968Z",
     "start_time": "2024-06-28T09:26:29.979882Z"
    }
   },
   "id": "fa51dd203741015a",
   "execution_count": 1
  },
  {
   "cell_type": "markdown",
   "source": [
    "## Adding new column"
   ],
   "metadata": {
    "collapsed": false
   },
   "id": "b1c5e27dc7899911"
  },
  {
   "cell_type": "markdown",
   "source": [
    "**`DataFrame.insert()`**\n",
    "\n",
    "Syntax:\n",
    "```\n",
    "DataFrame.insert(loc, column, value, allow_duplicates=False)\n",
    "```"
   ],
   "metadata": {
    "collapsed": false
   },
   "id": "40bf844e5b92428c"
  },
  {
   "cell_type": "code",
   "outputs": [
    {
     "data": {
      "text/plain": "   A  B\n0  1  4\n1  2  5\n2  3  6",
      "text/html": "<div>\n<style scoped>\n    .dataframe tbody tr th:only-of-type {\n        vertical-align: middle;\n    }\n\n    .dataframe tbody tr th {\n        vertical-align: top;\n    }\n\n    .dataframe thead th {\n        text-align: right;\n    }\n</style>\n<table border=\"1\" class=\"dataframe\">\n  <thead>\n    <tr style=\"text-align: right;\">\n      <th></th>\n      <th>A</th>\n      <th>B</th>\n    </tr>\n  </thead>\n  <tbody>\n    <tr>\n      <th>0</th>\n      <td>1</td>\n      <td>4</td>\n    </tr>\n    <tr>\n      <th>1</th>\n      <td>2</td>\n      <td>5</td>\n    </tr>\n    <tr>\n      <th>2</th>\n      <td>3</td>\n      <td>6</td>\n    </tr>\n  </tbody>\n</table>\n</div>"
     },
     "execution_count": 2,
     "metadata": {},
     "output_type": "execute_result"
    }
   ],
   "source": [
    "data = {'A': [1, 2, 3], 'B': [4, 5, 6]}\n",
    "df = pd.DataFrame(data)\n",
    "df"
   ],
   "metadata": {
    "collapsed": false,
    "ExecuteTime": {
     "end_time": "2024-06-28T09:26:30.985471Z",
     "start_time": "2024-06-28T09:26:30.966881Z"
    }
   },
   "id": "b3c19e25a5b54501",
   "execution_count": 2
  },
  {
   "cell_type": "code",
   "outputs": [
    {
     "data": {
      "text/plain": "   A  C  B\n0  1  7  4\n1  2  8  5\n2  3  8  6",
      "text/html": "<div>\n<style scoped>\n    .dataframe tbody tr th:only-of-type {\n        vertical-align: middle;\n    }\n\n    .dataframe tbody tr th {\n        vertical-align: top;\n    }\n\n    .dataframe thead th {\n        text-align: right;\n    }\n</style>\n<table border=\"1\" class=\"dataframe\">\n  <thead>\n    <tr style=\"text-align: right;\">\n      <th></th>\n      <th>A</th>\n      <th>C</th>\n      <th>B</th>\n    </tr>\n  </thead>\n  <tbody>\n    <tr>\n      <th>0</th>\n      <td>1</td>\n      <td>7</td>\n      <td>4</td>\n    </tr>\n    <tr>\n      <th>1</th>\n      <td>2</td>\n      <td>8</td>\n      <td>5</td>\n    </tr>\n    <tr>\n      <th>2</th>\n      <td>3</td>\n      <td>8</td>\n      <td>6</td>\n    </tr>\n  </tbody>\n</table>\n</div>"
     },
     "execution_count": 3,
     "metadata": {},
     "output_type": "execute_result"
    }
   ],
   "source": [
    "df.insert(1, 'C', [7, 8, 8], True)\n",
    "df"
   ],
   "metadata": {
    "collapsed": false,
    "ExecuteTime": {
     "end_time": "2024-06-28T09:26:30.992602Z",
     "start_time": "2024-06-28T09:26:30.987362Z"
    }
   },
   "id": "993da4efcd5b02b4",
   "execution_count": 3
  },
  {
   "cell_type": "markdown",
   "source": [
    "**`DataFrame.assign`**\n",
    "Creates a new dataframe with a new column added to the old dataframe."
   ],
   "metadata": {
    "collapsed": false
   },
   "id": "dad519db872efd2"
  },
  {
   "cell_type": "code",
   "outputs": [
    {
     "data": {
      "text/plain": "   A  C  B   d\n0  1  7  4  10\n1  2  8  5  11\n2  3  8  6  12",
      "text/html": "<div>\n<style scoped>\n    .dataframe tbody tr th:only-of-type {\n        vertical-align: middle;\n    }\n\n    .dataframe tbody tr th {\n        vertical-align: top;\n    }\n\n    .dataframe thead th {\n        text-align: right;\n    }\n</style>\n<table border=\"1\" class=\"dataframe\">\n  <thead>\n    <tr style=\"text-align: right;\">\n      <th></th>\n      <th>A</th>\n      <th>C</th>\n      <th>B</th>\n      <th>d</th>\n    </tr>\n  </thead>\n  <tbody>\n    <tr>\n      <th>0</th>\n      <td>1</td>\n      <td>7</td>\n      <td>4</td>\n      <td>10</td>\n    </tr>\n    <tr>\n      <th>1</th>\n      <td>2</td>\n      <td>8</td>\n      <td>5</td>\n      <td>11</td>\n    </tr>\n    <tr>\n      <th>2</th>\n      <td>3</td>\n      <td>8</td>\n      <td>6</td>\n      <td>12</td>\n    </tr>\n  </tbody>\n</table>\n</div>"
     },
     "execution_count": 4,
     "metadata": {},
     "output_type": "execute_result"
    }
   ],
   "source": [
    "new_df = df.assign(d=[10, 11, 12])\n",
    "new_df"
   ],
   "metadata": {
    "collapsed": false,
    "ExecuteTime": {
     "end_time": "2024-06-28T09:26:31.065557Z",
     "start_time": "2024-06-28T09:26:31.054778Z"
    }
   },
   "id": "2d11de51bc2db4ab",
   "execution_count": 4
  },
  {
   "cell_type": "code",
   "outputs": [
    {
     "data": {
      "text/plain": "   A  C  B  d\n0  1  7  4  5\n1  2  8  5  7\n2  3  8  6  9",
      "text/html": "<div>\n<style scoped>\n    .dataframe tbody tr th:only-of-type {\n        vertical-align: middle;\n    }\n\n    .dataframe tbody tr th {\n        vertical-align: top;\n    }\n\n    .dataframe thead th {\n        text-align: right;\n    }\n</style>\n<table border=\"1\" class=\"dataframe\">\n  <thead>\n    <tr style=\"text-align: right;\">\n      <th></th>\n      <th>A</th>\n      <th>C</th>\n      <th>B</th>\n      <th>d</th>\n    </tr>\n  </thead>\n  <tbody>\n    <tr>\n      <th>0</th>\n      <td>1</td>\n      <td>7</td>\n      <td>4</td>\n      <td>5</td>\n    </tr>\n    <tr>\n      <th>1</th>\n      <td>2</td>\n      <td>8</td>\n      <td>5</td>\n      <td>7</td>\n    </tr>\n    <tr>\n      <th>2</th>\n      <td>3</td>\n      <td>8</td>\n      <td>6</td>\n      <td>9</td>\n    </tr>\n  </tbody>\n</table>\n</div>"
     },
     "execution_count": 5,
     "metadata": {},
     "output_type": "execute_result"
    }
   ],
   "source": [
    "new_df = df.assign(d=df['A'] + df['B'])\n",
    "new_df"
   ],
   "metadata": {
    "collapsed": false,
    "ExecuteTime": {
     "end_time": "2024-06-28T09:26:31.094885Z",
     "start_time": "2024-06-28T09:26:31.089030Z"
    }
   },
   "id": "126082bb1aa9d11b",
   "execution_count": 5
  },
  {
   "cell_type": "markdown",
   "source": [
    "**using a Dictionary**"
   ],
   "metadata": {
    "collapsed": false
   },
   "id": "730c7c9fdac2ca1a"
  },
  {
   "cell_type": "code",
   "outputs": [
    {
     "data": {
      "text/plain": "   C  B\nA      \n1  7  4\n2  8  5\n3  8  6",
      "text/html": "<div>\n<style scoped>\n    .dataframe tbody tr th:only-of-type {\n        vertical-align: middle;\n    }\n\n    .dataframe tbody tr th {\n        vertical-align: top;\n    }\n\n    .dataframe thead th {\n        text-align: right;\n    }\n</style>\n<table border=\"1\" class=\"dataframe\">\n  <thead>\n    <tr style=\"text-align: right;\">\n      <th></th>\n      <th>C</th>\n      <th>B</th>\n    </tr>\n    <tr>\n      <th>A</th>\n      <th></th>\n      <th></th>\n    </tr>\n  </thead>\n  <tbody>\n    <tr>\n      <th>1</th>\n      <td>7</td>\n      <td>4</td>\n    </tr>\n    <tr>\n      <th>2</th>\n      <td>8</td>\n      <td>5</td>\n    </tr>\n    <tr>\n      <th>3</th>\n      <td>8</td>\n      <td>6</td>\n    </tr>\n  </tbody>\n</table>\n</div>"
     },
     "execution_count": 6,
     "metadata": {},
     "output_type": "execute_result"
    }
   ],
   "source": [
    "new_df = df.set_index('A', inplace=False)\n",
    "new_df"
   ],
   "metadata": {
    "collapsed": false,
    "ExecuteTime": {
     "end_time": "2024-06-28T09:26:31.160288Z",
     "start_time": "2024-06-28T09:26:31.152069Z"
    }
   },
   "id": "75a42183db6397ab",
   "execution_count": 6
  },
  {
   "cell_type": "code",
   "outputs": [
    {
     "data": {
      "text/plain": "   C  B   D\nA          \n1  7  4  10\n2  8  5  20\n3  8  6  30",
      "text/html": "<div>\n<style scoped>\n    .dataframe tbody tr th:only-of-type {\n        vertical-align: middle;\n    }\n\n    .dataframe tbody tr th {\n        vertical-align: top;\n    }\n\n    .dataframe thead th {\n        text-align: right;\n    }\n</style>\n<table border=\"1\" class=\"dataframe\">\n  <thead>\n    <tr style=\"text-align: right;\">\n      <th></th>\n      <th>C</th>\n      <th>B</th>\n      <th>D</th>\n    </tr>\n    <tr>\n      <th>A</th>\n      <th></th>\n      <th></th>\n      <th></th>\n    </tr>\n  </thead>\n  <tbody>\n    <tr>\n      <th>1</th>\n      <td>7</td>\n      <td>4</td>\n      <td>10</td>\n    </tr>\n    <tr>\n      <th>2</th>\n      <td>8</td>\n      <td>5</td>\n      <td>20</td>\n    </tr>\n    <tr>\n      <th>3</th>\n      <td>8</td>\n      <td>6</td>\n      <td>30</td>\n    </tr>\n  </tbody>\n</table>\n</div>"
     },
     "execution_count": 7,
     "metadata": {},
     "output_type": "execute_result"
    }
   ],
   "source": [
    "col = {1: 10, 2: 20, 3: 30}\n",
    "\n",
    "new_df['D'] = col\n",
    "new_df"
   ],
   "metadata": {
    "collapsed": false,
    "ExecuteTime": {
     "end_time": "2024-06-28T09:26:31.604426Z",
     "start_time": "2024-06-28T09:26:31.572136Z"
    }
   },
   "id": "c6b5961fa6a3540e",
   "execution_count": 7
  },
  {
   "cell_type": "markdown",
   "source": [
    "**using a List**"
   ],
   "metadata": {
    "collapsed": false
   },
   "id": "d751cc98c85efaf1"
  },
  {
   "cell_type": "code",
   "outputs": [
    {
     "data": {
      "text/plain": "   A  C  B\n0  1  7  4\n1  2  8  5\n2  3  8  6",
      "text/html": "<div>\n<style scoped>\n    .dataframe tbody tr th:only-of-type {\n        vertical-align: middle;\n    }\n\n    .dataframe tbody tr th {\n        vertical-align: top;\n    }\n\n    .dataframe thead th {\n        text-align: right;\n    }\n</style>\n<table border=\"1\" class=\"dataframe\">\n  <thead>\n    <tr style=\"text-align: right;\">\n      <th></th>\n      <th>A</th>\n      <th>C</th>\n      <th>B</th>\n    </tr>\n  </thead>\n  <tbody>\n    <tr>\n      <th>0</th>\n      <td>1</td>\n      <td>7</td>\n      <td>4</td>\n    </tr>\n    <tr>\n      <th>1</th>\n      <td>2</td>\n      <td>8</td>\n      <td>5</td>\n    </tr>\n    <tr>\n      <th>2</th>\n      <td>3</td>\n      <td>8</td>\n      <td>6</td>\n    </tr>\n  </tbody>\n</table>\n</div>"
     },
     "execution_count": 8,
     "metadata": {},
     "output_type": "execute_result"
    }
   ],
   "source": [
    "df"
   ],
   "metadata": {
    "collapsed": false,
    "ExecuteTime": {
     "end_time": "2024-06-28T09:26:31.747536Z",
     "start_time": "2024-06-28T09:26:31.741757Z"
    }
   },
   "id": "81b29ee4699e929a",
   "execution_count": 8
  },
  {
   "cell_type": "code",
   "outputs": [
    {
     "data": {
      "text/plain": "   A  C  B   D\n0  1  7  4  40\n1  2  8  5  50\n2  3  8  6  60",
      "text/html": "<div>\n<style scoped>\n    .dataframe tbody tr th:only-of-type {\n        vertical-align: middle;\n    }\n\n    .dataframe tbody tr th {\n        vertical-align: top;\n    }\n\n    .dataframe thead th {\n        text-align: right;\n    }\n</style>\n<table border=\"1\" class=\"dataframe\">\n  <thead>\n    <tr style=\"text-align: right;\">\n      <th></th>\n      <th>A</th>\n      <th>C</th>\n      <th>B</th>\n      <th>D</th>\n    </tr>\n  </thead>\n  <tbody>\n    <tr>\n      <th>0</th>\n      <td>1</td>\n      <td>7</td>\n      <td>4</td>\n      <td>40</td>\n    </tr>\n    <tr>\n      <th>1</th>\n      <td>2</td>\n      <td>8</td>\n      <td>5</td>\n      <td>50</td>\n    </tr>\n    <tr>\n      <th>2</th>\n      <td>3</td>\n      <td>8</td>\n      <td>6</td>\n      <td>60</td>\n    </tr>\n  </tbody>\n</table>\n</div>"
     },
     "execution_count": 9,
     "metadata": {},
     "output_type": "execute_result"
    }
   ],
   "source": [
    "values = [40, 50, 60]\n",
    "\n",
    "df['D'] = values\n",
    "df"
   ],
   "metadata": {
    "collapsed": false,
    "ExecuteTime": {
     "end_time": "2024-06-28T09:26:31.850595Z",
     "start_time": "2024-06-28T09:26:31.837124Z"
    }
   },
   "id": "a63068e977d439b1",
   "execution_count": 9
  },
  {
   "cell_type": "markdown",
   "source": [
    "**using `DateFrame.loc()`**"
   ],
   "metadata": {
    "collapsed": false
   },
   "id": "867f4a00261efabf"
  },
  {
   "cell_type": "code",
   "outputs": [
    {
     "data": {
      "text/plain": "   A  C  B   D    E\n0  1  7  4  40  100\n1  2  8  5  50  200\n2  3  8  6  60  300",
      "text/html": "<div>\n<style scoped>\n    .dataframe tbody tr th:only-of-type {\n        vertical-align: middle;\n    }\n\n    .dataframe tbody tr th {\n        vertical-align: top;\n    }\n\n    .dataframe thead th {\n        text-align: right;\n    }\n</style>\n<table border=\"1\" class=\"dataframe\">\n  <thead>\n    <tr style=\"text-align: right;\">\n      <th></th>\n      <th>A</th>\n      <th>C</th>\n      <th>B</th>\n      <th>D</th>\n      <th>E</th>\n    </tr>\n  </thead>\n  <tbody>\n    <tr>\n      <th>0</th>\n      <td>1</td>\n      <td>7</td>\n      <td>4</td>\n      <td>40</td>\n      <td>100</td>\n    </tr>\n    <tr>\n      <th>1</th>\n      <td>2</td>\n      <td>8</td>\n      <td>5</td>\n      <td>50</td>\n      <td>200</td>\n    </tr>\n    <tr>\n      <th>2</th>\n      <td>3</td>\n      <td>8</td>\n      <td>6</td>\n      <td>60</td>\n      <td>300</td>\n    </tr>\n  </tbody>\n</table>\n</div>"
     },
     "execution_count": 10,
     "metadata": {},
     "output_type": "execute_result"
    }
   ],
   "source": [
    "values = [100, 200, 300]\n",
    "\n",
    "df.loc[:, 'E'] = values\n",
    "df"
   ],
   "metadata": {
    "collapsed": false,
    "ExecuteTime": {
     "end_time": "2024-06-28T09:26:31.957501Z",
     "start_time": "2024-06-28T09:26:31.952388Z"
    }
   },
   "id": "e27564c5f34ec40e",
   "execution_count": 10
  },
  {
   "cell_type": "markdown",
   "source": [
    "**Adding more than one column**"
   ],
   "metadata": {
    "collapsed": false
   },
   "id": "ec76854da28c972b"
  },
  {
   "cell_type": "code",
   "outputs": [
    {
     "data": {
      "text/plain": "array(['A', 'C', 'B', 'D', 'E'], dtype=object)"
     },
     "execution_count": 11,
     "metadata": {},
     "output_type": "execute_result"
    }
   ],
   "source": [
    "df.columns.values"
   ],
   "metadata": {
    "collapsed": false,
    "ExecuteTime": {
     "end_time": "2024-06-28T09:26:31.978090Z",
     "start_time": "2024-06-28T09:26:31.974725Z"
    }
   },
   "id": "11277c2c4997f958",
   "execution_count": 11
  },
  {
   "cell_type": "code",
   "outputs": [
    {
     "data": {
      "text/plain": "   A  C  B   D    E    F     G\n0  1  7  4  40  100  500   800\n1  2  8  5  50  200  600   900\n2  3  8  6  60  300  700  1000",
      "text/html": "<div>\n<style scoped>\n    .dataframe tbody tr th:only-of-type {\n        vertical-align: middle;\n    }\n\n    .dataframe tbody tr th {\n        vertical-align: top;\n    }\n\n    .dataframe thead th {\n        text-align: right;\n    }\n</style>\n<table border=\"1\" class=\"dataframe\">\n  <thead>\n    <tr style=\"text-align: right;\">\n      <th></th>\n      <th>A</th>\n      <th>C</th>\n      <th>B</th>\n      <th>D</th>\n      <th>E</th>\n      <th>F</th>\n      <th>G</th>\n    </tr>\n  </thead>\n  <tbody>\n    <tr>\n      <th>0</th>\n      <td>1</td>\n      <td>7</td>\n      <td>4</td>\n      <td>40</td>\n      <td>100</td>\n      <td>500</td>\n      <td>800</td>\n    </tr>\n    <tr>\n      <th>1</th>\n      <td>2</td>\n      <td>8</td>\n      <td>5</td>\n      <td>50</td>\n      <td>200</td>\n      <td>600</td>\n      <td>900</td>\n    </tr>\n    <tr>\n      <th>2</th>\n      <td>3</td>\n      <td>8</td>\n      <td>6</td>\n      <td>60</td>\n      <td>300</td>\n      <td>700</td>\n      <td>1000</td>\n    </tr>\n  </tbody>\n</table>\n</div>"
     },
     "execution_count": 12,
     "metadata": {},
     "output_type": "execute_result"
    }
   ],
   "source": [
    "new_data = {'F': [500, 600, 700], 'G': [800, 900, 1000]}\n",
    "\n",
    "new_df = df.assign(**new_data)\n",
    "new_df"
   ],
   "metadata": {
    "collapsed": false,
    "ExecuteTime": {
     "end_time": "2024-06-28T09:26:32.069021Z",
     "start_time": "2024-06-28T09:26:32.064028Z"
    }
   },
   "id": "208905df90cf08de",
   "execution_count": 12
  },
  {
   "cell_type": "markdown",
   "source": [
    "## Adding rows"
   ],
   "metadata": {
    "collapsed": false
   },
   "id": "7f0c26ac93487601"
  },
  {
   "cell_type": "code",
   "outputs": [
    {
     "data": {
      "text/plain": "   A  C  B   D    E\n0  1  7  4  40  100\n1  2  8  5  50  200\n2  3  8  6  60  300",
      "text/html": "<div>\n<style scoped>\n    .dataframe tbody tr th:only-of-type {\n        vertical-align: middle;\n    }\n\n    .dataframe tbody tr th {\n        vertical-align: top;\n    }\n\n    .dataframe thead th {\n        text-align: right;\n    }\n</style>\n<table border=\"1\" class=\"dataframe\">\n  <thead>\n    <tr style=\"text-align: right;\">\n      <th></th>\n      <th>A</th>\n      <th>C</th>\n      <th>B</th>\n      <th>D</th>\n      <th>E</th>\n    </tr>\n  </thead>\n  <tbody>\n    <tr>\n      <th>0</th>\n      <td>1</td>\n      <td>7</td>\n      <td>4</td>\n      <td>40</td>\n      <td>100</td>\n    </tr>\n    <tr>\n      <th>1</th>\n      <td>2</td>\n      <td>8</td>\n      <td>5</td>\n      <td>50</td>\n      <td>200</td>\n    </tr>\n    <tr>\n      <th>2</th>\n      <td>3</td>\n      <td>8</td>\n      <td>6</td>\n      <td>60</td>\n      <td>300</td>\n    </tr>\n  </tbody>\n</table>\n</div>"
     },
     "execution_count": 13,
     "metadata": {},
     "output_type": "execute_result"
    }
   ],
   "source": [
    "df"
   ],
   "metadata": {
    "collapsed": false,
    "ExecuteTime": {
     "end_time": "2024-06-28T09:26:32.135298Z",
     "start_time": "2024-06-28T09:26:32.131956Z"
    }
   },
   "id": "d5353473816c149e",
   "execution_count": 13
  },
  {
   "cell_type": "markdown",
   "source": [
    "**using `DataFrame._append()` function**\n",
    "\n",
    "syntax:\n",
    "```\n",
    "DataFrame._append(other, ignore_index=False, verify_integrity=False, sort=False)\n",
    "```"
   ],
   "metadata": {
    "collapsed": false
   },
   "id": "61089c885472eeb1"
  },
  {
   "cell_type": "code",
   "outputs": [
    {
     "data": {
      "text/plain": "    A   C   B   D    E\n0   1   7   4  40  100\n1   2   8   5  50  200\n2   3   8   6  60  300\n3  11  33  22  44   55",
      "text/html": "<div>\n<style scoped>\n    .dataframe tbody tr th:only-of-type {\n        vertical-align: middle;\n    }\n\n    .dataframe tbody tr th {\n        vertical-align: top;\n    }\n\n    .dataframe thead th {\n        text-align: right;\n    }\n</style>\n<table border=\"1\" class=\"dataframe\">\n  <thead>\n    <tr style=\"text-align: right;\">\n      <th></th>\n      <th>A</th>\n      <th>C</th>\n      <th>B</th>\n      <th>D</th>\n      <th>E</th>\n    </tr>\n  </thead>\n  <tbody>\n    <tr>\n      <th>0</th>\n      <td>1</td>\n      <td>7</td>\n      <td>4</td>\n      <td>40</td>\n      <td>100</td>\n    </tr>\n    <tr>\n      <th>1</th>\n      <td>2</td>\n      <td>8</td>\n      <td>5</td>\n      <td>50</td>\n      <td>200</td>\n    </tr>\n    <tr>\n      <th>2</th>\n      <td>3</td>\n      <td>8</td>\n      <td>6</td>\n      <td>60</td>\n      <td>300</td>\n    </tr>\n    <tr>\n      <th>3</th>\n      <td>11</td>\n      <td>33</td>\n      <td>22</td>\n      <td>44</td>\n      <td>55</td>\n    </tr>\n  </tbody>\n</table>\n</div>"
     },
     "execution_count": 14,
     "metadata": {},
     "output_type": "execute_result"
    }
   ],
   "source": [
    "new_df = df._append({'A': 11, 'B': 22, 'C': 33, 'D': 44, 'E': 55}, ignore_index=True)\n",
    "new_df"
   ],
   "metadata": {
    "collapsed": false,
    "ExecuteTime": {
     "end_time": "2024-06-28T09:26:32.199719Z",
     "start_time": "2024-06-28T09:26:32.194325Z"
    }
   },
   "id": "c010be805f834623",
   "execution_count": 14
  },
  {
   "cell_type": "markdown",
   "source": [
    "**using `DataFrame.loc`**"
   ],
   "metadata": {
    "collapsed": false
   },
   "id": "1b023e436e01364"
  },
  {
   "cell_type": "code",
   "outputs": [
    {
     "data": {
      "text/plain": "     A    C    B    D    E\n0    1    7    4   40  100\n1    2    8    5   50  200\n2    3    8    6   60  300\n3   11   33   22   44   55\n4  111  222  333  444  555",
      "text/html": "<div>\n<style scoped>\n    .dataframe tbody tr th:only-of-type {\n        vertical-align: middle;\n    }\n\n    .dataframe tbody tr th {\n        vertical-align: top;\n    }\n\n    .dataframe thead th {\n        text-align: right;\n    }\n</style>\n<table border=\"1\" class=\"dataframe\">\n  <thead>\n    <tr style=\"text-align: right;\">\n      <th></th>\n      <th>A</th>\n      <th>C</th>\n      <th>B</th>\n      <th>D</th>\n      <th>E</th>\n    </tr>\n  </thead>\n  <tbody>\n    <tr>\n      <th>0</th>\n      <td>1</td>\n      <td>7</td>\n      <td>4</td>\n      <td>40</td>\n      <td>100</td>\n    </tr>\n    <tr>\n      <th>1</th>\n      <td>2</td>\n      <td>8</td>\n      <td>5</td>\n      <td>50</td>\n      <td>200</td>\n    </tr>\n    <tr>\n      <th>2</th>\n      <td>3</td>\n      <td>8</td>\n      <td>6</td>\n      <td>60</td>\n      <td>300</td>\n    </tr>\n    <tr>\n      <th>3</th>\n      <td>11</td>\n      <td>33</td>\n      <td>22</td>\n      <td>44</td>\n      <td>55</td>\n    </tr>\n    <tr>\n      <th>4</th>\n      <td>111</td>\n      <td>222</td>\n      <td>333</td>\n      <td>444</td>\n      <td>555</td>\n    </tr>\n  </tbody>\n</table>\n</div>"
     },
     "execution_count": 15,
     "metadata": {},
     "output_type": "execute_result"
    }
   ],
   "source": [
    "new_df.loc[len(new_df)] = [111, 222, 333, 444, 555]\n",
    "new_df"
   ],
   "metadata": {
    "collapsed": false,
    "ExecuteTime": {
     "end_time": "2024-06-28T09:26:32.225972Z",
     "start_time": "2024-06-28T09:26:32.220724Z"
    }
   },
   "id": "fd5ecd38c67d0a7e",
   "execution_count": 15
  },
  {
   "cell_type": "markdown",
   "source": [
    "**using `pandas.concat()`**"
   ],
   "metadata": {
    "collapsed": false
   },
   "id": "a3259fdec263d4cf"
  },
  {
   "cell_type": "code",
   "outputs": [
    {
     "data": {
      "text/plain": "     A    C    B    D    E\n0    1    7    4   40  100\n1    2    8    5   50  200\n2    3    8    6   60  300\n3   11   33   22   44   55\n4  111  222  333  444  555\n5   44   64   47   67   67\n6    9   21   83   36   87",
      "text/html": "<div>\n<style scoped>\n    .dataframe tbody tr th:only-of-type {\n        vertical-align: middle;\n    }\n\n    .dataframe tbody tr th {\n        vertical-align: top;\n    }\n\n    .dataframe thead th {\n        text-align: right;\n    }\n</style>\n<table border=\"1\" class=\"dataframe\">\n  <thead>\n    <tr style=\"text-align: right;\">\n      <th></th>\n      <th>A</th>\n      <th>C</th>\n      <th>B</th>\n      <th>D</th>\n      <th>E</th>\n    </tr>\n  </thead>\n  <tbody>\n    <tr>\n      <th>0</th>\n      <td>1</td>\n      <td>7</td>\n      <td>4</td>\n      <td>40</td>\n      <td>100</td>\n    </tr>\n    <tr>\n      <th>1</th>\n      <td>2</td>\n      <td>8</td>\n      <td>5</td>\n      <td>50</td>\n      <td>200</td>\n    </tr>\n    <tr>\n      <th>2</th>\n      <td>3</td>\n      <td>8</td>\n      <td>6</td>\n      <td>60</td>\n      <td>300</td>\n    </tr>\n    <tr>\n      <th>3</th>\n      <td>11</td>\n      <td>33</td>\n      <td>22</td>\n      <td>44</td>\n      <td>55</td>\n    </tr>\n    <tr>\n      <th>4</th>\n      <td>111</td>\n      <td>222</td>\n      <td>333</td>\n      <td>444</td>\n      <td>555</td>\n    </tr>\n    <tr>\n      <th>5</th>\n      <td>44</td>\n      <td>64</td>\n      <td>47</td>\n      <td>67</td>\n      <td>67</td>\n    </tr>\n    <tr>\n      <th>6</th>\n      <td>9</td>\n      <td>21</td>\n      <td>83</td>\n      <td>36</td>\n      <td>87</td>\n    </tr>\n  </tbody>\n</table>\n</div>"
     },
     "execution_count": 16,
     "metadata": {},
     "output_type": "execute_result"
    }
   ],
   "source": [
    "np.random.seed(0)\n",
    "new_df2 = pd.DataFrame(data=np.random.randint(0, 100, (2, 5)), columns=['A', 'B', 'C', 'D', 'E'])\n",
    "\n",
    "df = pd.concat([new_df, new_df2], ignore_index=True)\n",
    "df"
   ],
   "metadata": {
    "collapsed": false,
    "ExecuteTime": {
     "end_time": "2024-06-28T09:26:32.289176Z",
     "start_time": "2024-06-28T09:26:32.282291Z"
    }
   },
   "id": "1fd1fe76ff52343e",
   "execution_count": 16
  },
  {
   "cell_type": "markdown",
   "source": [
    "## Deleting rows/columns\n",
    "\n",
    "**using `drop()` method**\n",
    "\n",
    "Syntax:\n",
    "```\n",
    "DataFrame.drop(labels=None, axis=0, index=None, columns=None, level=None, inplace=False, errors=’raise’)\n",
    "```"
   ],
   "metadata": {
    "collapsed": false
   },
   "id": "6a075c913d68e208"
  },
  {
   "cell_type": "code",
   "outputs": [
    {
     "data": {
      "text/plain": "       C    B    D    E\nA                      \n1      7    4   40  100\n2      8    5   50  200\n3      8    6   60  300\n11    33   22   44   55\n111  222  333  444  555\n44    64   47   67   67\n9     21   83   36   87",
      "text/html": "<div>\n<style scoped>\n    .dataframe tbody tr th:only-of-type {\n        vertical-align: middle;\n    }\n\n    .dataframe tbody tr th {\n        vertical-align: top;\n    }\n\n    .dataframe thead th {\n        text-align: right;\n    }\n</style>\n<table border=\"1\" class=\"dataframe\">\n  <thead>\n    <tr style=\"text-align: right;\">\n      <th></th>\n      <th>C</th>\n      <th>B</th>\n      <th>D</th>\n      <th>E</th>\n    </tr>\n    <tr>\n      <th>A</th>\n      <th></th>\n      <th></th>\n      <th></th>\n      <th></th>\n    </tr>\n  </thead>\n  <tbody>\n    <tr>\n      <th>1</th>\n      <td>7</td>\n      <td>4</td>\n      <td>40</td>\n      <td>100</td>\n    </tr>\n    <tr>\n      <th>2</th>\n      <td>8</td>\n      <td>5</td>\n      <td>50</td>\n      <td>200</td>\n    </tr>\n    <tr>\n      <th>3</th>\n      <td>8</td>\n      <td>6</td>\n      <td>60</td>\n      <td>300</td>\n    </tr>\n    <tr>\n      <th>11</th>\n      <td>33</td>\n      <td>22</td>\n      <td>44</td>\n      <td>55</td>\n    </tr>\n    <tr>\n      <th>111</th>\n      <td>222</td>\n      <td>333</td>\n      <td>444</td>\n      <td>555</td>\n    </tr>\n    <tr>\n      <th>44</th>\n      <td>64</td>\n      <td>47</td>\n      <td>67</td>\n      <td>67</td>\n    </tr>\n    <tr>\n      <th>9</th>\n      <td>21</td>\n      <td>83</td>\n      <td>36</td>\n      <td>87</td>\n    </tr>\n  </tbody>\n</table>\n</div>"
     },
     "execution_count": 17,
     "metadata": {},
     "output_type": "execute_result"
    }
   ],
   "source": [
    "df.set_index('A', inplace=True)\n",
    "df"
   ],
   "metadata": {
    "collapsed": false,
    "ExecuteTime": {
     "end_time": "2024-06-28T09:26:32.311468Z",
     "start_time": "2024-06-28T09:26:32.306396Z"
    }
   },
   "id": "8535e189ab689690",
   "execution_count": 17
  },
  {
   "cell_type": "code",
   "outputs": [
    {
     "data": {
      "text/plain": "       C    B    D    E\nA                      \n2      8    5   50  200\n111  222  333  444  555\n44    64   47   67   67\n9     21   83   36   87",
      "text/html": "<div>\n<style scoped>\n    .dataframe tbody tr th:only-of-type {\n        vertical-align: middle;\n    }\n\n    .dataframe tbody tr th {\n        vertical-align: top;\n    }\n\n    .dataframe thead th {\n        text-align: right;\n    }\n</style>\n<table border=\"1\" class=\"dataframe\">\n  <thead>\n    <tr style=\"text-align: right;\">\n      <th></th>\n      <th>C</th>\n      <th>B</th>\n      <th>D</th>\n      <th>E</th>\n    </tr>\n    <tr>\n      <th>A</th>\n      <th></th>\n      <th></th>\n      <th></th>\n      <th></th>\n    </tr>\n  </thead>\n  <tbody>\n    <tr>\n      <th>2</th>\n      <td>8</td>\n      <td>5</td>\n      <td>50</td>\n      <td>200</td>\n    </tr>\n    <tr>\n      <th>111</th>\n      <td>222</td>\n      <td>333</td>\n      <td>444</td>\n      <td>555</td>\n    </tr>\n    <tr>\n      <th>44</th>\n      <td>64</td>\n      <td>47</td>\n      <td>67</td>\n      <td>67</td>\n    </tr>\n    <tr>\n      <th>9</th>\n      <td>21</td>\n      <td>83</td>\n      <td>36</td>\n      <td>87</td>\n    </tr>\n  </tbody>\n</table>\n</div>"
     },
     "execution_count": 18,
     "metadata": {},
     "output_type": "execute_result"
    }
   ],
   "source": [
    "new_df = df.drop([1, 3, 11], inplace=False)\n",
    "new_df"
   ],
   "metadata": {
    "collapsed": false,
    "ExecuteTime": {
     "end_time": "2024-06-28T09:26:32.383113Z",
     "start_time": "2024-06-28T09:26:32.378107Z"
    }
   },
   "id": "f876ecfdcf89f366",
   "execution_count": 18
  },
  {
   "cell_type": "code",
   "outputs": [
    {
     "data": {
      "text/plain": "     A    C    B\n0    2    8    5\n1  111  222  333\n2   44   64   47\n3    9   21   83",
      "text/html": "<div>\n<style scoped>\n    .dataframe tbody tr th:only-of-type {\n        vertical-align: middle;\n    }\n\n    .dataframe tbody tr th {\n        vertical-align: top;\n    }\n\n    .dataframe thead th {\n        text-align: right;\n    }\n</style>\n<table border=\"1\" class=\"dataframe\">\n  <thead>\n    <tr style=\"text-align: right;\">\n      <th></th>\n      <th>A</th>\n      <th>C</th>\n      <th>B</th>\n    </tr>\n  </thead>\n  <tbody>\n    <tr>\n      <th>0</th>\n      <td>2</td>\n      <td>8</td>\n      <td>5</td>\n    </tr>\n    <tr>\n      <th>1</th>\n      <td>111</td>\n      <td>222</td>\n      <td>333</td>\n    </tr>\n    <tr>\n      <th>2</th>\n      <td>44</td>\n      <td>64</td>\n      <td>47</td>\n    </tr>\n    <tr>\n      <th>3</th>\n      <td>9</td>\n      <td>21</td>\n      <td>83</td>\n    </tr>\n  </tbody>\n</table>\n</div>"
     },
     "execution_count": 19,
     "metadata": {},
     "output_type": "execute_result"
    }
   ],
   "source": [
    "new_df.reset_index(inplace=True)\n",
    "new_df.drop(['E', 'D'], axis=1, inplace=True)\n",
    "new_df"
   ],
   "metadata": {
    "collapsed": false,
    "ExecuteTime": {
     "end_time": "2024-06-28T09:26:32.433400Z",
     "start_time": "2024-06-28T09:26:32.421591Z"
    }
   },
   "id": "40535cd663035f66",
   "execution_count": 19
  },
  {
   "cell_type": "markdown",
   "source": [
    "## Truncate a DataFrame\n",
    "syntax:\n",
    "```\n",
    "DataFrame.truncate(before=None, after=None, axis=None, copy=True)\n",
    "```"
   ],
   "metadata": {
    "collapsed": false
   },
   "id": "32030f2421a0944c"
  },
  {
   "cell_type": "code",
   "outputs": [
    {
     "data": {
      "text/plain": "             A   B   C   D\n2024-01-01  44  47  64  67\n2024-01-02  67   9  83  21\n2024-01-03  36  87  70  88\n2024-01-04  88  12  58  65\n2024-01-05  39  87  46  88\n2024-01-06  81  37  25  77\n2024-01-07  72   9  20  80\n2024-01-08  69  79  47  64\n2024-01-09  82  99  88  49\n2024-01-10  29  19  19  14",
      "text/html": "<div>\n<style scoped>\n    .dataframe tbody tr th:only-of-type {\n        vertical-align: middle;\n    }\n\n    .dataframe tbody tr th {\n        vertical-align: top;\n    }\n\n    .dataframe thead th {\n        text-align: right;\n    }\n</style>\n<table border=\"1\" class=\"dataframe\">\n  <thead>\n    <tr style=\"text-align: right;\">\n      <th></th>\n      <th>A</th>\n      <th>B</th>\n      <th>C</th>\n      <th>D</th>\n    </tr>\n  </thead>\n  <tbody>\n    <tr>\n      <th>2024-01-01</th>\n      <td>44</td>\n      <td>47</td>\n      <td>64</td>\n      <td>67</td>\n    </tr>\n    <tr>\n      <th>2024-01-02</th>\n      <td>67</td>\n      <td>9</td>\n      <td>83</td>\n      <td>21</td>\n    </tr>\n    <tr>\n      <th>2024-01-03</th>\n      <td>36</td>\n      <td>87</td>\n      <td>70</td>\n      <td>88</td>\n    </tr>\n    <tr>\n      <th>2024-01-04</th>\n      <td>88</td>\n      <td>12</td>\n      <td>58</td>\n      <td>65</td>\n    </tr>\n    <tr>\n      <th>2024-01-05</th>\n      <td>39</td>\n      <td>87</td>\n      <td>46</td>\n      <td>88</td>\n    </tr>\n    <tr>\n      <th>2024-01-06</th>\n      <td>81</td>\n      <td>37</td>\n      <td>25</td>\n      <td>77</td>\n    </tr>\n    <tr>\n      <th>2024-01-07</th>\n      <td>72</td>\n      <td>9</td>\n      <td>20</td>\n      <td>80</td>\n    </tr>\n    <tr>\n      <th>2024-01-08</th>\n      <td>69</td>\n      <td>79</td>\n      <td>47</td>\n      <td>64</td>\n    </tr>\n    <tr>\n      <th>2024-01-09</th>\n      <td>82</td>\n      <td>99</td>\n      <td>88</td>\n      <td>49</td>\n    </tr>\n    <tr>\n      <th>2024-01-10</th>\n      <td>29</td>\n      <td>19</td>\n      <td>19</td>\n      <td>14</td>\n    </tr>\n  </tbody>\n</table>\n</div>"
     },
     "execution_count": 20,
     "metadata": {},
     "output_type": "execute_result"
    }
   ],
   "source": [
    "dates = pd.date_range('2024-01-01', periods=10)\n",
    "np.random.seed(0)\n",
    "data = np.random.randint(0, 100, (10, 4))\n",
    "columns = ['A', 'B', 'C', 'D']\n",
    "\n",
    "df = pd.DataFrame(data, index=dates, columns=columns)\n",
    "df"
   ],
   "metadata": {
    "collapsed": false,
    "ExecuteTime": {
     "end_time": "2024-06-28T09:26:32.496563Z",
     "start_time": "2024-06-28T09:26:32.489953Z"
    }
   },
   "id": "50c475719f3bb867",
   "execution_count": 20
  },
  {
   "cell_type": "markdown",
   "source": [
    "**Truncate rows**"
   ],
   "metadata": {
    "collapsed": false
   },
   "id": "32cab5d7ab81f1c4"
  },
  {
   "cell_type": "code",
   "outputs": [
    {
     "data": {
      "text/plain": "             A   B   C   D\n2024-01-03  36  87  70  88\n2024-01-04  88  12  58  65\n2024-01-05  39  87  46  88\n2024-01-06  81  37  25  77\n2024-01-07  72   9  20  80",
      "text/html": "<div>\n<style scoped>\n    .dataframe tbody tr th:only-of-type {\n        vertical-align: middle;\n    }\n\n    .dataframe tbody tr th {\n        vertical-align: top;\n    }\n\n    .dataframe thead th {\n        text-align: right;\n    }\n</style>\n<table border=\"1\" class=\"dataframe\">\n  <thead>\n    <tr style=\"text-align: right;\">\n      <th></th>\n      <th>A</th>\n      <th>B</th>\n      <th>C</th>\n      <th>D</th>\n    </tr>\n  </thead>\n  <tbody>\n    <tr>\n      <th>2024-01-03</th>\n      <td>36</td>\n      <td>87</td>\n      <td>70</td>\n      <td>88</td>\n    </tr>\n    <tr>\n      <th>2024-01-04</th>\n      <td>88</td>\n      <td>12</td>\n      <td>58</td>\n      <td>65</td>\n    </tr>\n    <tr>\n      <th>2024-01-05</th>\n      <td>39</td>\n      <td>87</td>\n      <td>46</td>\n      <td>88</td>\n    </tr>\n    <tr>\n      <th>2024-01-06</th>\n      <td>81</td>\n      <td>37</td>\n      <td>25</td>\n      <td>77</td>\n    </tr>\n    <tr>\n      <th>2024-01-07</th>\n      <td>72</td>\n      <td>9</td>\n      <td>20</td>\n      <td>80</td>\n    </tr>\n  </tbody>\n</table>\n</div>"
     },
     "execution_count": 21,
     "metadata": {},
     "output_type": "execute_result"
    }
   ],
   "source": [
    "truncated_df = df.truncate(before='2024-01-03', after='2024-01-07', copy=True)\n",
    "truncated_df"
   ],
   "metadata": {
    "collapsed": false,
    "ExecuteTime": {
     "end_time": "2024-06-28T09:26:32.546897Z",
     "start_time": "2024-06-28T09:26:32.540249Z"
    }
   },
   "id": "d9eebba5c594c52e",
   "execution_count": 21
  },
  {
   "cell_type": "markdown",
   "source": [
    "**Truncate columns**"
   ],
   "metadata": {
    "collapsed": false
   },
   "id": "53006c63c8c3a27"
  },
  {
   "cell_type": "code",
   "outputs": [
    {
     "data": {
      "text/plain": "             B   C\n2024-01-01  47  64\n2024-01-02   9  83\n2024-01-03  87  70\n2024-01-04  12  58\n2024-01-05  87  46\n2024-01-06  37  25\n2024-01-07   9  20\n2024-01-08  79  47\n2024-01-09  99  88\n2024-01-10  19  19",
      "text/html": "<div>\n<style scoped>\n    .dataframe tbody tr th:only-of-type {\n        vertical-align: middle;\n    }\n\n    .dataframe tbody tr th {\n        vertical-align: top;\n    }\n\n    .dataframe thead th {\n        text-align: right;\n    }\n</style>\n<table border=\"1\" class=\"dataframe\">\n  <thead>\n    <tr style=\"text-align: right;\">\n      <th></th>\n      <th>B</th>\n      <th>C</th>\n    </tr>\n  </thead>\n  <tbody>\n    <tr>\n      <th>2024-01-01</th>\n      <td>47</td>\n      <td>64</td>\n    </tr>\n    <tr>\n      <th>2024-01-02</th>\n      <td>9</td>\n      <td>83</td>\n    </tr>\n    <tr>\n      <th>2024-01-03</th>\n      <td>87</td>\n      <td>70</td>\n    </tr>\n    <tr>\n      <th>2024-01-04</th>\n      <td>12</td>\n      <td>58</td>\n    </tr>\n    <tr>\n      <th>2024-01-05</th>\n      <td>87</td>\n      <td>46</td>\n    </tr>\n    <tr>\n      <th>2024-01-06</th>\n      <td>37</td>\n      <td>25</td>\n    </tr>\n    <tr>\n      <th>2024-01-07</th>\n      <td>9</td>\n      <td>20</td>\n    </tr>\n    <tr>\n      <th>2024-01-08</th>\n      <td>79</td>\n      <td>47</td>\n    </tr>\n    <tr>\n      <th>2024-01-09</th>\n      <td>99</td>\n      <td>88</td>\n    </tr>\n    <tr>\n      <th>2024-01-10</th>\n      <td>19</td>\n      <td>19</td>\n    </tr>\n  </tbody>\n</table>\n</div>"
     },
     "execution_count": 22,
     "metadata": {},
     "output_type": "execute_result"
    }
   ],
   "source": [
    "truncated_columns_df = df.truncate(before='B', after='C', axis=1, copy=True)\n",
    "truncated_columns_df"
   ],
   "metadata": {
    "collapsed": false,
    "ExecuteTime": {
     "end_time": "2024-06-28T09:26:32.642926Z",
     "start_time": "2024-06-28T09:26:32.636195Z"
    }
   },
   "id": "6015b1323075cfde",
   "execution_count": 22
  },
  {
   "cell_type": "markdown",
   "source": [
    "**Truncate with numerical index**"
   ],
   "metadata": {
    "collapsed": false
   },
   "id": "307f6af82022b4ce"
  },
  {
   "cell_type": "code",
   "outputs": [
    {
     "data": {
      "text/plain": "    A   B   C   D\n0  44  47  64  67\n1  67   9  83  21\n2  36  87  70  88\n3  88  12  58  65\n4  39  87  46  88\n5  81  37  25  77\n6  72   9  20  80\n7  69  79  47  64\n8  82  99  88  49\n9  29  19  19  14",
      "text/html": "<div>\n<style scoped>\n    .dataframe tbody tr th:only-of-type {\n        vertical-align: middle;\n    }\n\n    .dataframe tbody tr th {\n        vertical-align: top;\n    }\n\n    .dataframe thead th {\n        text-align: right;\n    }\n</style>\n<table border=\"1\" class=\"dataframe\">\n  <thead>\n    <tr style=\"text-align: right;\">\n      <th></th>\n      <th>A</th>\n      <th>B</th>\n      <th>C</th>\n      <th>D</th>\n    </tr>\n  </thead>\n  <tbody>\n    <tr>\n      <th>0</th>\n      <td>44</td>\n      <td>47</td>\n      <td>64</td>\n      <td>67</td>\n    </tr>\n    <tr>\n      <th>1</th>\n      <td>67</td>\n      <td>9</td>\n      <td>83</td>\n      <td>21</td>\n    </tr>\n    <tr>\n      <th>2</th>\n      <td>36</td>\n      <td>87</td>\n      <td>70</td>\n      <td>88</td>\n    </tr>\n    <tr>\n      <th>3</th>\n      <td>88</td>\n      <td>12</td>\n      <td>58</td>\n      <td>65</td>\n    </tr>\n    <tr>\n      <th>4</th>\n      <td>39</td>\n      <td>87</td>\n      <td>46</td>\n      <td>88</td>\n    </tr>\n    <tr>\n      <th>5</th>\n      <td>81</td>\n      <td>37</td>\n      <td>25</td>\n      <td>77</td>\n    </tr>\n    <tr>\n      <th>6</th>\n      <td>72</td>\n      <td>9</td>\n      <td>20</td>\n      <td>80</td>\n    </tr>\n    <tr>\n      <th>7</th>\n      <td>69</td>\n      <td>79</td>\n      <td>47</td>\n      <td>64</td>\n    </tr>\n    <tr>\n      <th>8</th>\n      <td>82</td>\n      <td>99</td>\n      <td>88</td>\n      <td>49</td>\n    </tr>\n    <tr>\n      <th>9</th>\n      <td>29</td>\n      <td>19</td>\n      <td>19</td>\n      <td>14</td>\n    </tr>\n  </tbody>\n</table>\n</div>"
     },
     "execution_count": 23,
     "metadata": {},
     "output_type": "execute_result"
    }
   ],
   "source": [
    "np.random.seed(0)\n",
    "data = np.random.randint(0, 100, (10, 4))\n",
    "columns = ['A', 'B', 'C', 'D']\n",
    "\n",
    "df = pd.DataFrame(data, columns=columns)\n",
    "df"
   ],
   "metadata": {
    "collapsed": false,
    "ExecuteTime": {
     "end_time": "2024-06-28T09:26:32.848349Z",
     "start_time": "2024-06-28T09:26:32.841460Z"
    }
   },
   "id": "e0fc15ff5c2c5eac",
   "execution_count": 23
  },
  {
   "cell_type": "code",
   "outputs": [
    {
     "data": {
      "text/plain": "    A   B   C   D\n3  88  12  58  65\n4  39  87  46  88\n5  81  37  25  77\n6  72   9  20  80\n7  69  79  47  64",
      "text/html": "<div>\n<style scoped>\n    .dataframe tbody tr th:only-of-type {\n        vertical-align: middle;\n    }\n\n    .dataframe tbody tr th {\n        vertical-align: top;\n    }\n\n    .dataframe thead th {\n        text-align: right;\n    }\n</style>\n<table border=\"1\" class=\"dataframe\">\n  <thead>\n    <tr style=\"text-align: right;\">\n      <th></th>\n      <th>A</th>\n      <th>B</th>\n      <th>C</th>\n      <th>D</th>\n    </tr>\n  </thead>\n  <tbody>\n    <tr>\n      <th>3</th>\n      <td>88</td>\n      <td>12</td>\n      <td>58</td>\n      <td>65</td>\n    </tr>\n    <tr>\n      <th>4</th>\n      <td>39</td>\n      <td>87</td>\n      <td>46</td>\n      <td>88</td>\n    </tr>\n    <tr>\n      <th>5</th>\n      <td>81</td>\n      <td>37</td>\n      <td>25</td>\n      <td>77</td>\n    </tr>\n    <tr>\n      <th>6</th>\n      <td>72</td>\n      <td>9</td>\n      <td>20</td>\n      <td>80</td>\n    </tr>\n    <tr>\n      <th>7</th>\n      <td>69</td>\n      <td>79</td>\n      <td>47</td>\n      <td>64</td>\n    </tr>\n  </tbody>\n</table>\n</div>"
     },
     "execution_count": 24,
     "metadata": {},
     "output_type": "execute_result"
    }
   ],
   "source": [
    "truncated_df = df.truncate(before=3, after=7)\n",
    "truncated_df"
   ],
   "metadata": {
    "collapsed": false,
    "ExecuteTime": {
     "end_time": "2024-06-28T09:26:32.960157Z",
     "start_time": "2024-06-28T09:26:32.956377Z"
    }
   },
   "id": "ed1ae72e64fbf62",
   "execution_count": 24
  },
  {
   "cell_type": "markdown",
   "source": [
    "## Truncate a Series"
   ],
   "metadata": {
    "collapsed": false
   },
   "id": "29fdc0404ed2c2d2"
  },
  {
   "cell_type": "code",
   "outputs": [
    {
     "data": {
      "text/plain": "0    44\n1    47\n2    64\n3    67\n4    67\n5     9\n6    83\n7    21\n8    36\n9    87\nName: Random Values, dtype: int64"
     },
     "execution_count": 25,
     "metadata": {},
     "output_type": "execute_result"
    }
   ],
   "source": [
    "np.random.seed(0)\n",
    "data = np.random.randint(0, 100, 10)\n",
    "\n",
    "s = pd.Series(data, name='Random Values')\n",
    "s"
   ],
   "metadata": {
    "collapsed": false,
    "ExecuteTime": {
     "end_time": "2024-06-28T09:26:33.007149Z",
     "start_time": "2024-06-28T09:26:33.004153Z"
    }
   },
   "id": "6eb255d0a005c146",
   "execution_count": 25
  },
  {
   "cell_type": "code",
   "outputs": [
    {
     "data": {
      "text/plain": "3    67\n4    67\n5     9\n6    83\n7    21\nName: Truncated Values, dtype: int64"
     },
     "execution_count": 26,
     "metadata": {},
     "output_type": "execute_result"
    }
   ],
   "source": [
    "truncated_values = s.truncate(before=3, after=7)\n",
    "truncated_values.rename('Truncated Values', inplace=True)\n",
    "truncated_values"
   ],
   "metadata": {
    "collapsed": false,
    "ExecuteTime": {
     "end_time": "2024-06-28T09:26:33.076890Z",
     "start_time": "2024-06-28T09:26:33.073465Z"
    }
   },
   "id": "9fdc974961b96053",
   "execution_count": 26
  },
  {
   "cell_type": "markdown",
   "source": [
    "## Iteration"
   ],
   "metadata": {
    "collapsed": false
   },
   "id": "6651df493ad284a0"
  },
  {
   "cell_type": "code",
   "outputs": [
    {
     "data": {
      "text/plain": "      Name  Age         City  Score\n0    Alice   24     New York     85\n1      Bob   27  Los Angeles     88\n2  Charlie   22      Chicago     90\n3    David   32      Houston     78\n4      Eva   29      Phoenix     92",
      "text/html": "<div>\n<style scoped>\n    .dataframe tbody tr th:only-of-type {\n        vertical-align: middle;\n    }\n\n    .dataframe tbody tr th {\n        vertical-align: top;\n    }\n\n    .dataframe thead th {\n        text-align: right;\n    }\n</style>\n<table border=\"1\" class=\"dataframe\">\n  <thead>\n    <tr style=\"text-align: right;\">\n      <th></th>\n      <th>Name</th>\n      <th>Age</th>\n      <th>City</th>\n      <th>Score</th>\n    </tr>\n  </thead>\n  <tbody>\n    <tr>\n      <th>0</th>\n      <td>Alice</td>\n      <td>24</td>\n      <td>New York</td>\n      <td>85</td>\n    </tr>\n    <tr>\n      <th>1</th>\n      <td>Bob</td>\n      <td>27</td>\n      <td>Los Angeles</td>\n      <td>88</td>\n    </tr>\n    <tr>\n      <th>2</th>\n      <td>Charlie</td>\n      <td>22</td>\n      <td>Chicago</td>\n      <td>90</td>\n    </tr>\n    <tr>\n      <th>3</th>\n      <td>David</td>\n      <td>32</td>\n      <td>Houston</td>\n      <td>78</td>\n    </tr>\n    <tr>\n      <th>4</th>\n      <td>Eva</td>\n      <td>29</td>\n      <td>Phoenix</td>\n      <td>92</td>\n    </tr>\n  </tbody>\n</table>\n</div>"
     },
     "execution_count": 27,
     "metadata": {},
     "output_type": "execute_result"
    }
   ],
   "source": [
    "data = {\n",
    "    'Name': ['Alice', 'Bob', 'Charlie', 'David', 'Eva'],\n",
    "    'Age': [24, 27, 22, 32, 29],\n",
    "    'City': ['New York', 'Los Angeles', 'Chicago', 'Houston', 'Phoenix'],\n",
    "    'Score': [85, 88, 90, 78, 92]\n",
    "}\n",
    "\n",
    "df = pd.DataFrame(data)\n",
    "df"
   ],
   "metadata": {
    "collapsed": false,
    "ExecuteTime": {
     "end_time": "2024-06-28T09:26:33.135969Z",
     "start_time": "2024-06-28T09:26:33.131029Z"
    }
   },
   "id": "f1bb0ed4a78ebafe",
   "execution_count": 27
  },
  {
   "cell_type": "markdown",
   "source": [
    "### Iterating over rows"
   ],
   "metadata": {
    "collapsed": false
   },
   "id": "52593b7c21216c67"
  },
  {
   "cell_type": "markdown",
   "source": [
    "**using `iterrows()`**"
   ],
   "metadata": {
    "collapsed": false
   },
   "id": "4c728274afe3c33d"
  },
  {
   "cell_type": "code",
   "outputs": [
    {
     "name": "stdout",
     "output_type": "stream",
     "text": [
      "Index: 0\n",
      "Name        Alice\n",
      "Age            24\n",
      "City     New York\n",
      "Score          85\n",
      "Name: 0, dtype: object\n",
      "Index: 1\n",
      "Name             Bob\n",
      "Age               27\n",
      "City     Los Angeles\n",
      "Score             88\n",
      "Name: 1, dtype: object\n",
      "Index: 2\n",
      "Name     Charlie\n",
      "Age           22\n",
      "City     Chicago\n",
      "Score         90\n",
      "Name: 2, dtype: object\n",
      "Index: 3\n",
      "Name       David\n",
      "Age           32\n",
      "City     Houston\n",
      "Score         78\n",
      "Name: 3, dtype: object\n",
      "Index: 4\n",
      "Name         Eva\n",
      "Age           29\n",
      "City     Phoenix\n",
      "Score         92\n",
      "Name: 4, dtype: object\n"
     ]
    }
   ],
   "source": [
    "for index, rows in df.iterrows():\n",
    "    # print(f'Index: {index}')\n",
    "    # print(f'Rows: {rows}')\n",
    "    print(f'Index: {index}\\n{rows}')"
   ],
   "metadata": {
    "collapsed": false,
    "ExecuteTime": {
     "end_time": "2024-06-28T09:26:33.209132Z",
     "start_time": "2024-06-28T09:26:33.204063Z"
    }
   },
   "id": "ef0917518cde33ff",
   "execution_count": 28
  },
  {
   "cell_type": "markdown",
   "source": [
    "**using `itertuples()`**"
   ],
   "metadata": {
    "collapsed": false
   },
   "id": "5ebe99473d45f3ce"
  },
  {
   "cell_type": "code",
   "outputs": [
    {
     "name": "stdout",
     "output_type": "stream",
     "text": [
      "Pandas(Index=0, Name='Alice', Age=24, City='New York', Score=85)\n",
      "Pandas(Index=1, Name='Bob', Age=27, City='Los Angeles', Score=88)\n",
      "Pandas(Index=2, Name='Charlie', Age=22, City='Chicago', Score=90)\n",
      "Pandas(Index=3, Name='David', Age=32, City='Houston', Score=78)\n",
      "Pandas(Index=4, Name='Eva', Age=29, City='Phoenix', Score=92)\n"
     ]
    }
   ],
   "source": [
    "for row in df.itertuples():\n",
    "    print(row)"
   ],
   "metadata": {
    "collapsed": false,
    "ExecuteTime": {
     "end_time": "2024-06-28T09:26:33.239247Z",
     "start_time": "2024-06-28T09:26:33.236995Z"
    }
   },
   "id": "36b2dda88331196f",
   "execution_count": 29
  },
  {
   "cell_type": "markdown",
   "source": [
    "### Iterating over Columns"
   ],
   "metadata": {
    "collapsed": false
   },
   "id": "f56494d5173683ad"
  },
  {
   "cell_type": "code",
   "outputs": [
    {
     "name": "stdout",
     "output_type": "stream",
     "text": [
      "columns: ['Name', 'Age', 'City', 'Score']\n",
      "0      Alice\n",
      "1        Bob\n",
      "2    Charlie\n",
      "3      David\n",
      "4        Eva\n",
      "Name: Name, dtype: object\n",
      "0    24\n",
      "1    27\n",
      "2    22\n",
      "3    32\n",
      "4    29\n",
      "Name: Age, dtype: int64\n",
      "0       New York\n",
      "1    Los Angeles\n",
      "2        Chicago\n",
      "3        Houston\n",
      "4        Phoenix\n",
      "Name: City, dtype: object\n",
      "0    85\n",
      "1    88\n",
      "2    90\n",
      "3    78\n",
      "4    92\n",
      "Name: Score, dtype: int64\n"
     ]
    }
   ],
   "source": [
    "columns = list(df)\n",
    "print('columns:', columns)\n",
    "\n",
    "for i in columns:\n",
    "    print(df[i])"
   ],
   "metadata": {
    "collapsed": false,
    "ExecuteTime": {
     "end_time": "2024-06-28T09:26:33.288199Z",
     "start_time": "2024-06-28T09:26:33.285350Z"
    }
   },
   "id": "ea56d479fcc53564",
   "execution_count": 30
  },
  {
   "cell_type": "code",
   "outputs": [
    {
     "name": "stdout",
     "output_type": "stream",
     "text": [
      "Alice\n",
      "24\n",
      "New York\n",
      "85\n"
     ]
    }
   ],
   "source": [
    "columns = list(df)\n",
    "\n",
    "for i in columns:\n",
    "    print(df[i][0])"
   ],
   "metadata": {
    "collapsed": false,
    "ExecuteTime": {
     "end_time": "2024-06-28T09:26:33.307624Z",
     "start_time": "2024-06-28T09:26:33.305540Z"
    }
   },
   "id": "d70d08bf57b4b00a",
   "execution_count": 31
  },
  {
   "cell_type": "markdown",
   "source": [
    "## Missing Data"
   ],
   "metadata": {
    "collapsed": false
   },
   "id": "26457192caecc110"
  },
  {
   "cell_type": "code",
   "outputs": [
    {
     "data": {
      "text/plain": "     A     B      C    D   E\n0  1.0   5.0   50.0  NaN   6\n1  2.0   NaN   60.0  3.5  20\n2  NaN   NaN    NaN  NaN  35\n3  4.0   8.0  100.0  5.5  69\n4  5.0  10.0    NaN  NaN  77",
      "text/html": "<div>\n<style scoped>\n    .dataframe tbody tr th:only-of-type {\n        vertical-align: middle;\n    }\n\n    .dataframe tbody tr th {\n        vertical-align: top;\n    }\n\n    .dataframe thead th {\n        text-align: right;\n    }\n</style>\n<table border=\"1\" class=\"dataframe\">\n  <thead>\n    <tr style=\"text-align: right;\">\n      <th></th>\n      <th>A</th>\n      <th>B</th>\n      <th>C</th>\n      <th>D</th>\n      <th>E</th>\n    </tr>\n  </thead>\n  <tbody>\n    <tr>\n      <th>0</th>\n      <td>1.0</td>\n      <td>5.0</td>\n      <td>50.0</td>\n      <td>NaN</td>\n      <td>6</td>\n    </tr>\n    <tr>\n      <th>1</th>\n      <td>2.0</td>\n      <td>NaN</td>\n      <td>60.0</td>\n      <td>3.5</td>\n      <td>20</td>\n    </tr>\n    <tr>\n      <th>2</th>\n      <td>NaN</td>\n      <td>NaN</td>\n      <td>NaN</td>\n      <td>NaN</td>\n      <td>35</td>\n    </tr>\n    <tr>\n      <th>3</th>\n      <td>4.0</td>\n      <td>8.0</td>\n      <td>100.0</td>\n      <td>5.5</td>\n      <td>69</td>\n    </tr>\n    <tr>\n      <th>4</th>\n      <td>5.0</td>\n      <td>10.0</td>\n      <td>NaN</td>\n      <td>NaN</td>\n      <td>77</td>\n    </tr>\n  </tbody>\n</table>\n</div>"
     },
     "execution_count": 32,
     "metadata": {},
     "output_type": "execute_result"
    }
   ],
   "source": [
    "data = {\n",
    "    'A': [1, 2, np.nan, 4, 5],\n",
    "    'B': [5, np.nan, np.nan, 8, 10],\n",
    "    'C': [50, 60, np.nan, 100, np.nan],\n",
    "    'D': [np.nan, 3.5, np.nan, 5.5, np.nan],\n",
    "    'E': [6, 20, 35, 69, 77]\n",
    "}\n",
    "\n",
    "df = pd.DataFrame(data)\n",
    "df"
   ],
   "metadata": {
    "collapsed": false,
    "ExecuteTime": {
     "end_time": "2024-06-28T09:26:33.395812Z",
     "start_time": "2024-06-28T09:26:33.390041Z"
    }
   },
   "id": "529c9a43e9c514e7",
   "execution_count": 32
  },
  {
   "cell_type": "markdown",
   "source": [
    "### Finding Missing Data"
   ],
   "metadata": {
    "collapsed": false
   },
   "id": "ad0a95f11390fe42"
  },
  {
   "cell_type": "code",
   "outputs": [
    {
     "data": {
      "text/plain": "       A      B      C      D      E\n0  False  False  False   True  False\n1  False   True  False  False  False\n2   True   True   True   True  False\n3  False  False  False  False  False\n4  False  False   True   True  False",
      "text/html": "<div>\n<style scoped>\n    .dataframe tbody tr th:only-of-type {\n        vertical-align: middle;\n    }\n\n    .dataframe tbody tr th {\n        vertical-align: top;\n    }\n\n    .dataframe thead th {\n        text-align: right;\n    }\n</style>\n<table border=\"1\" class=\"dataframe\">\n  <thead>\n    <tr style=\"text-align: right;\">\n      <th></th>\n      <th>A</th>\n      <th>B</th>\n      <th>C</th>\n      <th>D</th>\n      <th>E</th>\n    </tr>\n  </thead>\n  <tbody>\n    <tr>\n      <th>0</th>\n      <td>False</td>\n      <td>False</td>\n      <td>False</td>\n      <td>True</td>\n      <td>False</td>\n    </tr>\n    <tr>\n      <th>1</th>\n      <td>False</td>\n      <td>True</td>\n      <td>False</td>\n      <td>False</td>\n      <td>False</td>\n    </tr>\n    <tr>\n      <th>2</th>\n      <td>True</td>\n      <td>True</td>\n      <td>True</td>\n      <td>True</td>\n      <td>False</td>\n    </tr>\n    <tr>\n      <th>3</th>\n      <td>False</td>\n      <td>False</td>\n      <td>False</td>\n      <td>False</td>\n      <td>False</td>\n    </tr>\n    <tr>\n      <th>4</th>\n      <td>False</td>\n      <td>False</td>\n      <td>True</td>\n      <td>True</td>\n      <td>False</td>\n    </tr>\n  </tbody>\n</table>\n</div>"
     },
     "execution_count": 33,
     "metadata": {},
     "output_type": "execute_result"
    }
   ],
   "source": [
    "df.isnull()"
   ],
   "metadata": {
    "collapsed": false,
    "ExecuteTime": {
     "end_time": "2024-06-28T09:26:33.438567Z",
     "start_time": "2024-06-28T09:26:33.435209Z"
    }
   },
   "id": "72b3e6ae4cf6136d",
   "execution_count": 33
  },
  {
   "cell_type": "code",
   "outputs": [
    {
     "data": {
      "text/plain": "       A      B      C      D     E\n0   True   True   True  False  True\n1   True  False   True   True  True\n2  False  False  False  False  True\n3   True   True   True   True  True\n4   True   True  False  False  True",
      "text/html": "<div>\n<style scoped>\n    .dataframe tbody tr th:only-of-type {\n        vertical-align: middle;\n    }\n\n    .dataframe tbody tr th {\n        vertical-align: top;\n    }\n\n    .dataframe thead th {\n        text-align: right;\n    }\n</style>\n<table border=\"1\" class=\"dataframe\">\n  <thead>\n    <tr style=\"text-align: right;\">\n      <th></th>\n      <th>A</th>\n      <th>B</th>\n      <th>C</th>\n      <th>D</th>\n      <th>E</th>\n    </tr>\n  </thead>\n  <tbody>\n    <tr>\n      <th>0</th>\n      <td>True</td>\n      <td>True</td>\n      <td>True</td>\n      <td>False</td>\n      <td>True</td>\n    </tr>\n    <tr>\n      <th>1</th>\n      <td>True</td>\n      <td>False</td>\n      <td>True</td>\n      <td>True</td>\n      <td>True</td>\n    </tr>\n    <tr>\n      <th>2</th>\n      <td>False</td>\n      <td>False</td>\n      <td>False</td>\n      <td>False</td>\n      <td>True</td>\n    </tr>\n    <tr>\n      <th>3</th>\n      <td>True</td>\n      <td>True</td>\n      <td>True</td>\n      <td>True</td>\n      <td>True</td>\n    </tr>\n    <tr>\n      <th>4</th>\n      <td>True</td>\n      <td>True</td>\n      <td>False</td>\n      <td>False</td>\n      <td>True</td>\n    </tr>\n  </tbody>\n</table>\n</div>"
     },
     "execution_count": 34,
     "metadata": {},
     "output_type": "execute_result"
    }
   ],
   "source": [
    "df.notnull()"
   ],
   "metadata": {
    "collapsed": false,
    "ExecuteTime": {
     "end_time": "2024-06-28T09:26:33.488592Z",
     "start_time": "2024-06-28T09:26:33.484264Z"
    }
   },
   "id": "7adbbf5b426b967",
   "execution_count": 34
  },
  {
   "cell_type": "code",
   "outputs": [
    {
     "data": {
      "text/plain": "A    1\nB    2\nC    2\nD    3\nE    0\ndtype: int64"
     },
     "execution_count": 35,
     "metadata": {},
     "output_type": "execute_result"
    }
   ],
   "source": [
    "df.isnull().sum()"
   ],
   "metadata": {
    "collapsed": false,
    "ExecuteTime": {
     "end_time": "2024-06-28T09:26:33.518059Z",
     "start_time": "2024-06-28T09:26:33.514984Z"
    }
   },
   "id": "1f590162300b5e21",
   "execution_count": 35
  },
  {
   "cell_type": "markdown",
   "source": [
    "### Manipulating Missing Data"
   ],
   "metadata": {
    "collapsed": false
   },
   "id": "56cfda3063a09a72"
  },
  {
   "cell_type": "markdown",
   "source": [
    "#### Dropping Missing Data"
   ],
   "metadata": {
    "collapsed": false
   },
   "id": "9a599bb12e1afa82"
  },
  {
   "cell_type": "markdown",
   "source": [
    "**Dropping rows with any missing values**"
   ],
   "metadata": {
    "collapsed": false
   },
   "id": "127dd0204eb0f5eb"
  },
  {
   "cell_type": "code",
   "outputs": [
    {
     "data": {
      "text/plain": "     A    B      C    D   E\n3  4.0  8.0  100.0  5.5  69",
      "text/html": "<div>\n<style scoped>\n    .dataframe tbody tr th:only-of-type {\n        vertical-align: middle;\n    }\n\n    .dataframe tbody tr th {\n        vertical-align: top;\n    }\n\n    .dataframe thead th {\n        text-align: right;\n    }\n</style>\n<table border=\"1\" class=\"dataframe\">\n  <thead>\n    <tr style=\"text-align: right;\">\n      <th></th>\n      <th>A</th>\n      <th>B</th>\n      <th>C</th>\n      <th>D</th>\n      <th>E</th>\n    </tr>\n  </thead>\n  <tbody>\n    <tr>\n      <th>3</th>\n      <td>4.0</td>\n      <td>8.0</td>\n      <td>100.0</td>\n      <td>5.5</td>\n      <td>69</td>\n    </tr>\n  </tbody>\n</table>\n</div>"
     },
     "execution_count": 36,
     "metadata": {},
     "output_type": "execute_result"
    }
   ],
   "source": [
    "df.dropna(inplace=False)"
   ],
   "metadata": {
    "collapsed": false,
    "ExecuteTime": {
     "end_time": "2024-06-28T09:26:33.545246Z",
     "start_time": "2024-06-28T09:26:33.540621Z"
    }
   },
   "id": "f7e5f248df151346",
   "execution_count": 36
  },
  {
   "cell_type": "markdown",
   "source": [
    "**Dropping rows with all missing values**"
   ],
   "metadata": {
    "collapsed": false
   },
   "id": "1710bfaaa5ceed06"
  },
  {
   "cell_type": "code",
   "outputs": [
    {
     "data": {
      "text/plain": "     A     B      C    D   E\n0  1.0   5.0   50.0  NaN   6\n1  2.0   NaN   60.0  3.5  20\n2  NaN   NaN    NaN  NaN  35\n3  4.0   8.0  100.0  5.5  69\n4  5.0  10.0    NaN  NaN  77",
      "text/html": "<div>\n<style scoped>\n    .dataframe tbody tr th:only-of-type {\n        vertical-align: middle;\n    }\n\n    .dataframe tbody tr th {\n        vertical-align: top;\n    }\n\n    .dataframe thead th {\n        text-align: right;\n    }\n</style>\n<table border=\"1\" class=\"dataframe\">\n  <thead>\n    <tr style=\"text-align: right;\">\n      <th></th>\n      <th>A</th>\n      <th>B</th>\n      <th>C</th>\n      <th>D</th>\n      <th>E</th>\n    </tr>\n  </thead>\n  <tbody>\n    <tr>\n      <th>0</th>\n      <td>1.0</td>\n      <td>5.0</td>\n      <td>50.0</td>\n      <td>NaN</td>\n      <td>6</td>\n    </tr>\n    <tr>\n      <th>1</th>\n      <td>2.0</td>\n      <td>NaN</td>\n      <td>60.0</td>\n      <td>3.5</td>\n      <td>20</td>\n    </tr>\n    <tr>\n      <th>2</th>\n      <td>NaN</td>\n      <td>NaN</td>\n      <td>NaN</td>\n      <td>NaN</td>\n      <td>35</td>\n    </tr>\n    <tr>\n      <th>3</th>\n      <td>4.0</td>\n      <td>8.0</td>\n      <td>100.0</td>\n      <td>5.5</td>\n      <td>69</td>\n    </tr>\n    <tr>\n      <th>4</th>\n      <td>5.0</td>\n      <td>10.0</td>\n      <td>NaN</td>\n      <td>NaN</td>\n      <td>77</td>\n    </tr>\n  </tbody>\n</table>\n</div>"
     },
     "execution_count": 37,
     "metadata": {},
     "output_type": "execute_result"
    }
   ],
   "source": [
    "df.dropna(how='all')\n",
    "# drops rows with all missing values in a row"
   ],
   "metadata": {
    "collapsed": false,
    "ExecuteTime": {
     "end_time": "2024-06-28T09:26:33.588259Z",
     "start_time": "2024-06-28T09:26:33.582043Z"
    }
   },
   "id": "4632569e2b9b3b0a",
   "execution_count": 37
  },
  {
   "cell_type": "markdown",
   "source": [
    "**Dropping rows with a threshold of missing values**"
   ],
   "metadata": {
    "collapsed": false
   },
   "id": "a619c5d130de4df4"
  },
  {
   "cell_type": "code",
   "outputs": [
    {
     "data": {
      "text/plain": "     A     B      C    D   E\n0  1.0   5.0   50.0  NaN   6\n1  2.0   NaN   60.0  3.5  20\n3  4.0   8.0  100.0  5.5  69\n4  5.0  10.0    NaN  NaN  77",
      "text/html": "<div>\n<style scoped>\n    .dataframe tbody tr th:only-of-type {\n        vertical-align: middle;\n    }\n\n    .dataframe tbody tr th {\n        vertical-align: top;\n    }\n\n    .dataframe thead th {\n        text-align: right;\n    }\n</style>\n<table border=\"1\" class=\"dataframe\">\n  <thead>\n    <tr style=\"text-align: right;\">\n      <th></th>\n      <th>A</th>\n      <th>B</th>\n      <th>C</th>\n      <th>D</th>\n      <th>E</th>\n    </tr>\n  </thead>\n  <tbody>\n    <tr>\n      <th>0</th>\n      <td>1.0</td>\n      <td>5.0</td>\n      <td>50.0</td>\n      <td>NaN</td>\n      <td>6</td>\n    </tr>\n    <tr>\n      <th>1</th>\n      <td>2.0</td>\n      <td>NaN</td>\n      <td>60.0</td>\n      <td>3.5</td>\n      <td>20</td>\n    </tr>\n    <tr>\n      <th>3</th>\n      <td>4.0</td>\n      <td>8.0</td>\n      <td>100.0</td>\n      <td>5.5</td>\n      <td>69</td>\n    </tr>\n    <tr>\n      <th>4</th>\n      <td>5.0</td>\n      <td>10.0</td>\n      <td>NaN</td>\n      <td>NaN</td>\n      <td>77</td>\n    </tr>\n  </tbody>\n</table>\n</div>"
     },
     "execution_count": 38,
     "metadata": {},
     "output_type": "execute_result"
    }
   ],
   "source": [
    "df.dropna(thresh=3)\n",
    "# drops rows with at least 3 non-missing values"
   ],
   "metadata": {
    "collapsed": false,
    "ExecuteTime": {
     "end_time": "2024-06-28T09:26:33.709137Z",
     "start_time": "2024-06-28T09:26:33.703301Z"
    }
   },
   "id": "821a1066e704685d",
   "execution_count": 38
  },
  {
   "cell_type": "markdown",
   "source": [
    "**Dropping column with at least one missing values**"
   ],
   "metadata": {
    "collapsed": false
   },
   "id": "ecefccf86ecda2eb"
  },
  {
   "cell_type": "code",
   "outputs": [
    {
     "data": {
      "text/plain": "    E\n0   6\n1  20\n2  35\n3  69\n4  77",
      "text/html": "<div>\n<style scoped>\n    .dataframe tbody tr th:only-of-type {\n        vertical-align: middle;\n    }\n\n    .dataframe tbody tr th {\n        vertical-align: top;\n    }\n\n    .dataframe thead th {\n        text-align: right;\n    }\n</style>\n<table border=\"1\" class=\"dataframe\">\n  <thead>\n    <tr style=\"text-align: right;\">\n      <th></th>\n      <th>E</th>\n    </tr>\n  </thead>\n  <tbody>\n    <tr>\n      <th>0</th>\n      <td>6</td>\n    </tr>\n    <tr>\n      <th>1</th>\n      <td>20</td>\n    </tr>\n    <tr>\n      <th>2</th>\n      <td>35</td>\n    </tr>\n    <tr>\n      <th>3</th>\n      <td>69</td>\n    </tr>\n    <tr>\n      <th>4</th>\n      <td>77</td>\n    </tr>\n  </tbody>\n</table>\n</div>"
     },
     "execution_count": 39,
     "metadata": {},
     "output_type": "execute_result"
    }
   ],
   "source": [
    "df.dropna(axis=1)"
   ],
   "metadata": {
    "collapsed": false,
    "ExecuteTime": {
     "end_time": "2024-06-28T09:26:33.740289Z",
     "start_time": "2024-06-28T09:26:33.735913Z"
    }
   },
   "id": "2789ade89d3091a5",
   "execution_count": 39
  },
  {
   "cell_type": "markdown",
   "source": [
    "#### Filling Missing Data"
   ],
   "metadata": {
    "collapsed": false
   },
   "id": "ee721ebf36980644"
  },
  {
   "cell_type": "markdown",
   "source": [
    "**Filling with a specific value**"
   ],
   "metadata": {
    "collapsed": false
   },
   "id": "8385221df64acbe5"
  },
  {
   "cell_type": "code",
   "outputs": [
    {
     "data": {
      "text/plain": "     A     B      C    D   E\n0  1.0   5.0   50.0  0.0   6\n1  2.0   0.0   60.0  3.5  20\n2  0.0   0.0    0.0  0.0  35\n3  4.0   8.0  100.0  5.5  69\n4  5.0  10.0    0.0  0.0  77",
      "text/html": "<div>\n<style scoped>\n    .dataframe tbody tr th:only-of-type {\n        vertical-align: middle;\n    }\n\n    .dataframe tbody tr th {\n        vertical-align: top;\n    }\n\n    .dataframe thead th {\n        text-align: right;\n    }\n</style>\n<table border=\"1\" class=\"dataframe\">\n  <thead>\n    <tr style=\"text-align: right;\">\n      <th></th>\n      <th>A</th>\n      <th>B</th>\n      <th>C</th>\n      <th>D</th>\n      <th>E</th>\n    </tr>\n  </thead>\n  <tbody>\n    <tr>\n      <th>0</th>\n      <td>1.0</td>\n      <td>5.0</td>\n      <td>50.0</td>\n      <td>0.0</td>\n      <td>6</td>\n    </tr>\n    <tr>\n      <th>1</th>\n      <td>2.0</td>\n      <td>0.0</td>\n      <td>60.0</td>\n      <td>3.5</td>\n      <td>20</td>\n    </tr>\n    <tr>\n      <th>2</th>\n      <td>0.0</td>\n      <td>0.0</td>\n      <td>0.0</td>\n      <td>0.0</td>\n      <td>35</td>\n    </tr>\n    <tr>\n      <th>3</th>\n      <td>4.0</td>\n      <td>8.0</td>\n      <td>100.0</td>\n      <td>5.5</td>\n      <td>69</td>\n    </tr>\n    <tr>\n      <th>4</th>\n      <td>5.0</td>\n      <td>10.0</td>\n      <td>0.0</td>\n      <td>0.0</td>\n      <td>77</td>\n    </tr>\n  </tbody>\n</table>\n</div>"
     },
     "execution_count": 40,
     "metadata": {},
     "output_type": "execute_result"
    }
   ],
   "source": [
    "df.fillna(0)"
   ],
   "metadata": {
    "collapsed": false,
    "ExecuteTime": {
     "end_time": "2024-06-28T09:26:33.793805Z",
     "start_time": "2024-06-28T09:26:33.781338Z"
    }
   },
   "id": "d4702b0c8de962eb",
   "execution_count": 40
  },
  {
   "cell_type": "markdown",
   "source": [
    "**Filling with the mean of the column**"
   ],
   "metadata": {
    "collapsed": false
   },
   "id": "81844ac4eb3d0efd"
  },
  {
   "cell_type": "code",
   "outputs": [
    {
     "data": {
      "text/plain": "     A          B      C    D   E\n0  1.0   5.000000   50.0  4.5   6\n1  2.0   7.666667   60.0  3.5  20\n2  3.0   7.666667   70.0  4.5  35\n3  4.0   8.000000  100.0  5.5  69\n4  5.0  10.000000   70.0  4.5  77",
      "text/html": "<div>\n<style scoped>\n    .dataframe tbody tr th:only-of-type {\n        vertical-align: middle;\n    }\n\n    .dataframe tbody tr th {\n        vertical-align: top;\n    }\n\n    .dataframe thead th {\n        text-align: right;\n    }\n</style>\n<table border=\"1\" class=\"dataframe\">\n  <thead>\n    <tr style=\"text-align: right;\">\n      <th></th>\n      <th>A</th>\n      <th>B</th>\n      <th>C</th>\n      <th>D</th>\n      <th>E</th>\n    </tr>\n  </thead>\n  <tbody>\n    <tr>\n      <th>0</th>\n      <td>1.0</td>\n      <td>5.000000</td>\n      <td>50.0</td>\n      <td>4.5</td>\n      <td>6</td>\n    </tr>\n    <tr>\n      <th>1</th>\n      <td>2.0</td>\n      <td>7.666667</td>\n      <td>60.0</td>\n      <td>3.5</td>\n      <td>20</td>\n    </tr>\n    <tr>\n      <th>2</th>\n      <td>3.0</td>\n      <td>7.666667</td>\n      <td>70.0</td>\n      <td>4.5</td>\n      <td>35</td>\n    </tr>\n    <tr>\n      <th>3</th>\n      <td>4.0</td>\n      <td>8.000000</td>\n      <td>100.0</td>\n      <td>5.5</td>\n      <td>69</td>\n    </tr>\n    <tr>\n      <th>4</th>\n      <td>5.0</td>\n      <td>10.000000</td>\n      <td>70.0</td>\n      <td>4.5</td>\n      <td>77</td>\n    </tr>\n  </tbody>\n</table>\n</div>"
     },
     "execution_count": 41,
     "metadata": {},
     "output_type": "execute_result"
    }
   ],
   "source": [
    "df.fillna(df.mean())"
   ],
   "metadata": {
    "collapsed": false,
    "ExecuteTime": {
     "end_time": "2024-06-28T09:26:33.840868Z",
     "start_time": "2024-06-28T09:26:33.835906Z"
    }
   },
   "id": "cb9692aa7c6e8f35",
   "execution_count": 41
  },
  {
   "cell_type": "markdown",
   "source": [
    "**Filling with the median of the column**"
   ],
   "metadata": {
    "collapsed": false
   },
   "id": "73242651b600139e"
  },
  {
   "cell_type": "code",
   "outputs": [
    {
     "data": {
      "text/plain": "     A     B      C    D   E\n0  1.0   5.0   50.0  4.5   6\n1  2.0   8.0   60.0  3.5  20\n2  3.0   8.0   60.0  4.5  35\n3  4.0   8.0  100.0  5.5  69\n4  5.0  10.0   60.0  4.5  77",
      "text/html": "<div>\n<style scoped>\n    .dataframe tbody tr th:only-of-type {\n        vertical-align: middle;\n    }\n\n    .dataframe tbody tr th {\n        vertical-align: top;\n    }\n\n    .dataframe thead th {\n        text-align: right;\n    }\n</style>\n<table border=\"1\" class=\"dataframe\">\n  <thead>\n    <tr style=\"text-align: right;\">\n      <th></th>\n      <th>A</th>\n      <th>B</th>\n      <th>C</th>\n      <th>D</th>\n      <th>E</th>\n    </tr>\n  </thead>\n  <tbody>\n    <tr>\n      <th>0</th>\n      <td>1.0</td>\n      <td>5.0</td>\n      <td>50.0</td>\n      <td>4.5</td>\n      <td>6</td>\n    </tr>\n    <tr>\n      <th>1</th>\n      <td>2.0</td>\n      <td>8.0</td>\n      <td>60.0</td>\n      <td>3.5</td>\n      <td>20</td>\n    </tr>\n    <tr>\n      <th>2</th>\n      <td>3.0</td>\n      <td>8.0</td>\n      <td>60.0</td>\n      <td>4.5</td>\n      <td>35</td>\n    </tr>\n    <tr>\n      <th>3</th>\n      <td>4.0</td>\n      <td>8.0</td>\n      <td>100.0</td>\n      <td>5.5</td>\n      <td>69</td>\n    </tr>\n    <tr>\n      <th>4</th>\n      <td>5.0</td>\n      <td>10.0</td>\n      <td>60.0</td>\n      <td>4.5</td>\n      <td>77</td>\n    </tr>\n  </tbody>\n</table>\n</div>"
     },
     "execution_count": 42,
     "metadata": {},
     "output_type": "execute_result"
    }
   ],
   "source": [
    "df.fillna(df.median())"
   ],
   "metadata": {
    "collapsed": false,
    "ExecuteTime": {
     "end_time": "2024-06-28T09:26:33.915924Z",
     "start_time": "2024-06-28T09:26:33.910818Z"
    }
   },
   "id": "1fbe9faa1ef4db93",
   "execution_count": 42
  },
  {
   "cell_type": "markdown",
   "source": [
    "**Filling with the mode of the column**"
   ],
   "metadata": {
    "collapsed": false
   },
   "id": "471ff63d703b53d8"
  },
  {
   "cell_type": "code",
   "outputs": [
    {
     "data": {
      "text/plain": "     A     B      C    D   E\n0  1.0   5.0   50.0  3.5   6\n1  2.0   8.0   60.0  3.5  20\n2  4.0  10.0  100.0  NaN  35\n3  4.0   8.0  100.0  5.5  69\n4  5.0  10.0    NaN  NaN  77",
      "text/html": "<div>\n<style scoped>\n    .dataframe tbody tr th:only-of-type {\n        vertical-align: middle;\n    }\n\n    .dataframe tbody tr th {\n        vertical-align: top;\n    }\n\n    .dataframe thead th {\n        text-align: right;\n    }\n</style>\n<table border=\"1\" class=\"dataframe\">\n  <thead>\n    <tr style=\"text-align: right;\">\n      <th></th>\n      <th>A</th>\n      <th>B</th>\n      <th>C</th>\n      <th>D</th>\n      <th>E</th>\n    </tr>\n  </thead>\n  <tbody>\n    <tr>\n      <th>0</th>\n      <td>1.0</td>\n      <td>5.0</td>\n      <td>50.0</td>\n      <td>3.5</td>\n      <td>6</td>\n    </tr>\n    <tr>\n      <th>1</th>\n      <td>2.0</td>\n      <td>8.0</td>\n      <td>60.0</td>\n      <td>3.5</td>\n      <td>20</td>\n    </tr>\n    <tr>\n      <th>2</th>\n      <td>4.0</td>\n      <td>10.0</td>\n      <td>100.0</td>\n      <td>NaN</td>\n      <td>35</td>\n    </tr>\n    <tr>\n      <th>3</th>\n      <td>4.0</td>\n      <td>8.0</td>\n      <td>100.0</td>\n      <td>5.5</td>\n      <td>69</td>\n    </tr>\n    <tr>\n      <th>4</th>\n      <td>5.0</td>\n      <td>10.0</td>\n      <td>NaN</td>\n      <td>NaN</td>\n      <td>77</td>\n    </tr>\n  </tbody>\n</table>\n</div>"
     },
     "execution_count": 43,
     "metadata": {},
     "output_type": "execute_result"
    }
   ],
   "source": [
    "df.fillna(df.mode())"
   ],
   "metadata": {
    "collapsed": false,
    "ExecuteTime": {
     "end_time": "2024-06-28T09:26:33.999290Z",
     "start_time": "2024-06-28T09:26:33.990002Z"
    }
   },
   "id": "d96ff0bb1134495b",
   "execution_count": 43
  },
  {
   "cell_type": "markdown",
   "source": [
    "**Forward and Backward filling**"
   ],
   "metadata": {
    "collapsed": false
   },
   "id": "a9592acb1dee437d"
  },
  {
   "cell_type": "code",
   "outputs": [
    {
     "data": {
      "text/plain": "     A     B      C    D   E\n0  1.0   5.0   50.0  NaN   6\n1  2.0   5.0   60.0  3.5  20\n2  2.0   5.0   60.0  3.5  35\n3  4.0   8.0  100.0  5.5  69\n4  5.0  10.0  100.0  5.5  77",
      "text/html": "<div>\n<style scoped>\n    .dataframe tbody tr th:only-of-type {\n        vertical-align: middle;\n    }\n\n    .dataframe tbody tr th {\n        vertical-align: top;\n    }\n\n    .dataframe thead th {\n        text-align: right;\n    }\n</style>\n<table border=\"1\" class=\"dataframe\">\n  <thead>\n    <tr style=\"text-align: right;\">\n      <th></th>\n      <th>A</th>\n      <th>B</th>\n      <th>C</th>\n      <th>D</th>\n      <th>E</th>\n    </tr>\n  </thead>\n  <tbody>\n    <tr>\n      <th>0</th>\n      <td>1.0</td>\n      <td>5.0</td>\n      <td>50.0</td>\n      <td>NaN</td>\n      <td>6</td>\n    </tr>\n    <tr>\n      <th>1</th>\n      <td>2.0</td>\n      <td>5.0</td>\n      <td>60.0</td>\n      <td>3.5</td>\n      <td>20</td>\n    </tr>\n    <tr>\n      <th>2</th>\n      <td>2.0</td>\n      <td>5.0</td>\n      <td>60.0</td>\n      <td>3.5</td>\n      <td>35</td>\n    </tr>\n    <tr>\n      <th>3</th>\n      <td>4.0</td>\n      <td>8.0</td>\n      <td>100.0</td>\n      <td>5.5</td>\n      <td>69</td>\n    </tr>\n    <tr>\n      <th>4</th>\n      <td>5.0</td>\n      <td>10.0</td>\n      <td>100.0</td>\n      <td>5.5</td>\n      <td>77</td>\n    </tr>\n  </tbody>\n</table>\n</div>"
     },
     "execution_count": 44,
     "metadata": {},
     "output_type": "execute_result"
    }
   ],
   "source": [
    "df.ffill()"
   ],
   "metadata": {
    "collapsed": false,
    "ExecuteTime": {
     "end_time": "2024-06-28T09:26:34.082031Z",
     "start_time": "2024-06-28T09:26:34.074920Z"
    }
   },
   "id": "c065aeaf33f14b63",
   "execution_count": 44
  },
  {
   "cell_type": "code",
   "outputs": [
    {
     "data": {
      "text/plain": "     A     B      C    D   E\n0  1.0   5.0   50.0  3.5   6\n1  2.0   8.0   60.0  3.5  20\n2  4.0   8.0  100.0  5.5  35\n3  4.0   8.0  100.0  5.5  69\n4  5.0  10.0    NaN  NaN  77",
      "text/html": "<div>\n<style scoped>\n    .dataframe tbody tr th:only-of-type {\n        vertical-align: middle;\n    }\n\n    .dataframe tbody tr th {\n        vertical-align: top;\n    }\n\n    .dataframe thead th {\n        text-align: right;\n    }\n</style>\n<table border=\"1\" class=\"dataframe\">\n  <thead>\n    <tr style=\"text-align: right;\">\n      <th></th>\n      <th>A</th>\n      <th>B</th>\n      <th>C</th>\n      <th>D</th>\n      <th>E</th>\n    </tr>\n  </thead>\n  <tbody>\n    <tr>\n      <th>0</th>\n      <td>1.0</td>\n      <td>5.0</td>\n      <td>50.0</td>\n      <td>3.5</td>\n      <td>6</td>\n    </tr>\n    <tr>\n      <th>1</th>\n      <td>2.0</td>\n      <td>8.0</td>\n      <td>60.0</td>\n      <td>3.5</td>\n      <td>20</td>\n    </tr>\n    <tr>\n      <th>2</th>\n      <td>4.0</td>\n      <td>8.0</td>\n      <td>100.0</td>\n      <td>5.5</td>\n      <td>35</td>\n    </tr>\n    <tr>\n      <th>3</th>\n      <td>4.0</td>\n      <td>8.0</td>\n      <td>100.0</td>\n      <td>5.5</td>\n      <td>69</td>\n    </tr>\n    <tr>\n      <th>4</th>\n      <td>5.0</td>\n      <td>10.0</td>\n      <td>NaN</td>\n      <td>NaN</td>\n      <td>77</td>\n    </tr>\n  </tbody>\n</table>\n</div>"
     },
     "execution_count": 45,
     "metadata": {},
     "output_type": "execute_result"
    }
   ],
   "source": [
    "df.bfill()"
   ],
   "metadata": {
    "collapsed": false,
    "ExecuteTime": {
     "end_time": "2024-06-28T09:26:34.165233Z",
     "start_time": "2024-06-28T09:26:34.158878Z"
    }
   },
   "id": "4585c349987cce45",
   "execution_count": 45
  },
  {
   "cell_type": "markdown",
   "source": [
    "**using `DataFrame.interpolate()`**"
   ],
   "metadata": {
    "collapsed": false
   },
   "id": "6378cd3ad83bbcf3"
  },
  {
   "cell_type": "code",
   "outputs": [
    {
     "data": {
      "text/plain": "     A     B      C    D   E\n0  1.0   5.0   50.0  NaN   6\n1  2.0   6.0   60.0  3.5  20\n2  3.0   7.0   80.0  4.5  35\n3  4.0   8.0  100.0  5.5  69\n4  5.0  10.0  100.0  5.5  77",
      "text/html": "<div>\n<style scoped>\n    .dataframe tbody tr th:only-of-type {\n        vertical-align: middle;\n    }\n\n    .dataframe tbody tr th {\n        vertical-align: top;\n    }\n\n    .dataframe thead th {\n        text-align: right;\n    }\n</style>\n<table border=\"1\" class=\"dataframe\">\n  <thead>\n    <tr style=\"text-align: right;\">\n      <th></th>\n      <th>A</th>\n      <th>B</th>\n      <th>C</th>\n      <th>D</th>\n      <th>E</th>\n    </tr>\n  </thead>\n  <tbody>\n    <tr>\n      <th>0</th>\n      <td>1.0</td>\n      <td>5.0</td>\n      <td>50.0</td>\n      <td>NaN</td>\n      <td>6</td>\n    </tr>\n    <tr>\n      <th>1</th>\n      <td>2.0</td>\n      <td>6.0</td>\n      <td>60.0</td>\n      <td>3.5</td>\n      <td>20</td>\n    </tr>\n    <tr>\n      <th>2</th>\n      <td>3.0</td>\n      <td>7.0</td>\n      <td>80.0</td>\n      <td>4.5</td>\n      <td>35</td>\n    </tr>\n    <tr>\n      <th>3</th>\n      <td>4.0</td>\n      <td>8.0</td>\n      <td>100.0</td>\n      <td>5.5</td>\n      <td>69</td>\n    </tr>\n    <tr>\n      <th>4</th>\n      <td>5.0</td>\n      <td>10.0</td>\n      <td>100.0</td>\n      <td>5.5</td>\n      <td>77</td>\n    </tr>\n  </tbody>\n</table>\n</div>"
     },
     "execution_count": 46,
     "metadata": {},
     "output_type": "execute_result"
    }
   ],
   "source": [
    "df.interpolate(method='linear', limit_direction='forward')"
   ],
   "metadata": {
    "collapsed": false,
    "ExecuteTime": {
     "end_time": "2024-06-28T09:26:34.194632Z",
     "start_time": "2024-06-28T09:26:34.188907Z"
    }
   },
   "id": "6495f9124944359f",
   "execution_count": 46
  },
  {
   "cell_type": "markdown",
   "source": [
    "#### Replacing Data"
   ],
   "metadata": {
    "collapsed": false
   },
   "id": "b5a21d7923bee7fc"
  },
  {
   "cell_type": "code",
   "outputs": [
    {
     "data": {
      "text/plain": "     A     B      C    D   E\n0  1.0   5.0   50.0 -1.0   6\n1  2.0  -1.0   60.0  3.5  20\n2 -1.0  -1.0   -1.0 -1.0  35\n3  4.0   8.0  100.0  5.5  69\n4  5.0  10.0   -1.0 -1.0  77",
      "text/html": "<div>\n<style scoped>\n    .dataframe tbody tr th:only-of-type {\n        vertical-align: middle;\n    }\n\n    .dataframe tbody tr th {\n        vertical-align: top;\n    }\n\n    .dataframe thead th {\n        text-align: right;\n    }\n</style>\n<table border=\"1\" class=\"dataframe\">\n  <thead>\n    <tr style=\"text-align: right;\">\n      <th></th>\n      <th>A</th>\n      <th>B</th>\n      <th>C</th>\n      <th>D</th>\n      <th>E</th>\n    </tr>\n  </thead>\n  <tbody>\n    <tr>\n      <th>0</th>\n      <td>1.0</td>\n      <td>5.0</td>\n      <td>50.0</td>\n      <td>-1.0</td>\n      <td>6</td>\n    </tr>\n    <tr>\n      <th>1</th>\n      <td>2.0</td>\n      <td>-1.0</td>\n      <td>60.0</td>\n      <td>3.5</td>\n      <td>20</td>\n    </tr>\n    <tr>\n      <th>2</th>\n      <td>-1.0</td>\n      <td>-1.0</td>\n      <td>-1.0</td>\n      <td>-1.0</td>\n      <td>35</td>\n    </tr>\n    <tr>\n      <th>3</th>\n      <td>4.0</td>\n      <td>8.0</td>\n      <td>100.0</td>\n      <td>5.5</td>\n      <td>69</td>\n    </tr>\n    <tr>\n      <th>4</th>\n      <td>5.0</td>\n      <td>10.0</td>\n      <td>-1.0</td>\n      <td>-1.0</td>\n      <td>77</td>\n    </tr>\n  </tbody>\n</table>\n</div>"
     },
     "execution_count": 47,
     "metadata": {},
     "output_type": "execute_result"
    }
   ],
   "source": [
    "df.replace(to_replace=np.nan, value=-1)"
   ],
   "metadata": {
    "collapsed": false,
    "ExecuteTime": {
     "end_time": "2024-06-28T09:26:34.297152Z",
     "start_time": "2024-06-28T09:26:34.292926Z"
    }
   },
   "id": "645f5c22ac10ca3",
   "execution_count": 47
  },
  {
   "cell_type": "markdown",
   "source": [
    "## Sorting\n",
    "using `DataFrame.sort_values()`\n",
    "Syntax:\n",
    "```\n",
    "DataFrame.sort_values(by, axis=0, ascending=True, inplace=False, kind=’quicksort’, na_position=’last’)\n",
    "```"
   ],
   "metadata": {
    "collapsed": false
   },
   "id": "a345991c1e662e7d"
  },
  {
   "cell_type": "code",
   "outputs": [
    {
     "data": {
      "text/plain": "              Name            Team  Number Position   Age Height  Weight  \\\n0    Avery Bradley  Boston Celtics     0.0       PG  25.0    6-2   180.0   \n1      Jae Crowder  Boston Celtics    99.0       SF  25.0    6-6   235.0   \n2     John Holland  Boston Celtics    30.0       SG  27.0    6-5   205.0   \n3      R.J. Hunter  Boston Celtics    28.0       SG  22.0    6-5   185.0   \n4    Jonas Jerebko  Boston Celtics     8.0       PF  29.0   6-10   231.0   \n..             ...             ...     ...      ...   ...    ...     ...   \n453   Shelvin Mack       Utah Jazz     8.0       PG  26.0    6-3   203.0   \n454      Raul Neto       Utah Jazz    25.0       PG  24.0    6-1   179.0   \n455   Tibor Pleiss       Utah Jazz    21.0        C  26.0    7-3   256.0   \n456    Jeff Withey       Utah Jazz    24.0        C  26.0    7-0   231.0   \n457            NaN             NaN     NaN      NaN   NaN    NaN     NaN   \n\n               College     Salary  \n0                Texas  7730337.0  \n1            Marquette  6796117.0  \n2    Boston University        NaN  \n3        Georgia State  1148640.0  \n4                  NaN  5000000.0  \n..                 ...        ...  \n453             Butler  2433333.0  \n454                NaN   900000.0  \n455                NaN  2900000.0  \n456             Kansas   947276.0  \n457                NaN        NaN  \n\n[458 rows x 9 columns]",
      "text/html": "<div>\n<style scoped>\n    .dataframe tbody tr th:only-of-type {\n        vertical-align: middle;\n    }\n\n    .dataframe tbody tr th {\n        vertical-align: top;\n    }\n\n    .dataframe thead th {\n        text-align: right;\n    }\n</style>\n<table border=\"1\" class=\"dataframe\">\n  <thead>\n    <tr style=\"text-align: right;\">\n      <th></th>\n      <th>Name</th>\n      <th>Team</th>\n      <th>Number</th>\n      <th>Position</th>\n      <th>Age</th>\n      <th>Height</th>\n      <th>Weight</th>\n      <th>College</th>\n      <th>Salary</th>\n    </tr>\n  </thead>\n  <tbody>\n    <tr>\n      <th>0</th>\n      <td>Avery Bradley</td>\n      <td>Boston Celtics</td>\n      <td>0.0</td>\n      <td>PG</td>\n      <td>25.0</td>\n      <td>6-2</td>\n      <td>180.0</td>\n      <td>Texas</td>\n      <td>7730337.0</td>\n    </tr>\n    <tr>\n      <th>1</th>\n      <td>Jae Crowder</td>\n      <td>Boston Celtics</td>\n      <td>99.0</td>\n      <td>SF</td>\n      <td>25.0</td>\n      <td>6-6</td>\n      <td>235.0</td>\n      <td>Marquette</td>\n      <td>6796117.0</td>\n    </tr>\n    <tr>\n      <th>2</th>\n      <td>John Holland</td>\n      <td>Boston Celtics</td>\n      <td>30.0</td>\n      <td>SG</td>\n      <td>27.0</td>\n      <td>6-5</td>\n      <td>205.0</td>\n      <td>Boston University</td>\n      <td>NaN</td>\n    </tr>\n    <tr>\n      <th>3</th>\n      <td>R.J. Hunter</td>\n      <td>Boston Celtics</td>\n      <td>28.0</td>\n      <td>SG</td>\n      <td>22.0</td>\n      <td>6-5</td>\n      <td>185.0</td>\n      <td>Georgia State</td>\n      <td>1148640.0</td>\n    </tr>\n    <tr>\n      <th>4</th>\n      <td>Jonas Jerebko</td>\n      <td>Boston Celtics</td>\n      <td>8.0</td>\n      <td>PF</td>\n      <td>29.0</td>\n      <td>6-10</td>\n      <td>231.0</td>\n      <td>NaN</td>\n      <td>5000000.0</td>\n    </tr>\n    <tr>\n      <th>...</th>\n      <td>...</td>\n      <td>...</td>\n      <td>...</td>\n      <td>...</td>\n      <td>...</td>\n      <td>...</td>\n      <td>...</td>\n      <td>...</td>\n      <td>...</td>\n    </tr>\n    <tr>\n      <th>453</th>\n      <td>Shelvin Mack</td>\n      <td>Utah Jazz</td>\n      <td>8.0</td>\n      <td>PG</td>\n      <td>26.0</td>\n      <td>6-3</td>\n      <td>203.0</td>\n      <td>Butler</td>\n      <td>2433333.0</td>\n    </tr>\n    <tr>\n      <th>454</th>\n      <td>Raul Neto</td>\n      <td>Utah Jazz</td>\n      <td>25.0</td>\n      <td>PG</td>\n      <td>24.0</td>\n      <td>6-1</td>\n      <td>179.0</td>\n      <td>NaN</td>\n      <td>900000.0</td>\n    </tr>\n    <tr>\n      <th>455</th>\n      <td>Tibor Pleiss</td>\n      <td>Utah Jazz</td>\n      <td>21.0</td>\n      <td>C</td>\n      <td>26.0</td>\n      <td>7-3</td>\n      <td>256.0</td>\n      <td>NaN</td>\n      <td>2900000.0</td>\n    </tr>\n    <tr>\n      <th>456</th>\n      <td>Jeff Withey</td>\n      <td>Utah Jazz</td>\n      <td>24.0</td>\n      <td>C</td>\n      <td>26.0</td>\n      <td>7-0</td>\n      <td>231.0</td>\n      <td>Kansas</td>\n      <td>947276.0</td>\n    </tr>\n    <tr>\n      <th>457</th>\n      <td>NaN</td>\n      <td>NaN</td>\n      <td>NaN</td>\n      <td>NaN</td>\n      <td>NaN</td>\n      <td>NaN</td>\n      <td>NaN</td>\n      <td>NaN</td>\n      <td>NaN</td>\n    </tr>\n  </tbody>\n</table>\n<p>458 rows × 9 columns</p>\n</div>"
     },
     "execution_count": 48,
     "metadata": {},
     "output_type": "execute_result"
    }
   ],
   "source": [
    "df = pd.read_csv('Data/nba.csv')\n",
    "df"
   ],
   "metadata": {
    "collapsed": false,
    "ExecuteTime": {
     "end_time": "2024-06-28T09:26:34.362380Z",
     "start_time": "2024-06-28T09:26:34.322601Z"
    }
   },
   "id": "7a2926ade53fc9ca",
   "execution_count": 48
  },
  {
   "cell_type": "markdown",
   "source": [
    "**Sorting by Name**"
   ],
   "metadata": {
    "collapsed": false
   },
   "id": "d1c270b1b5ac1a3d"
  },
  {
   "cell_type": "code",
   "outputs": [
    {
     "data": {
      "text/plain": "               Name                    Team  Number Position   Age Height  \\\n152    Aaron Brooks           Chicago Bulls     0.0       PG  31.0    6-0   \n356    Aaron Gordon           Orlando Magic     0.0       PF  20.0    6-9   \n328  Aaron Harrison       Charlotte Hornets     9.0       SG  21.0    6-6   \n404   Adreian Payne  Minnesota Timberwolves    33.0       PF  25.0   6-10   \n312      Al Horford           Atlanta Hawks    15.0        C  30.0   6-10   \n..              ...                     ...     ...      ...   ...    ...   \n270  Xavier Munford       Memphis Grizzlies    14.0       PG  24.0    6-3   \n402     Zach LaVine  Minnesota Timberwolves     8.0       PG  21.0    6-5   \n271   Zach Randolph       Memphis Grizzlies    50.0       PF  34.0    6-9   \n237   Zaza Pachulia        Dallas Mavericks    27.0        C  32.0   6-11   \n457             NaN                     NaN     NaN      NaN   NaN    NaN   \n\n     Weight         College      Salary  \n152   161.0          Oregon   2250000.0  \n356   220.0         Arizona   4171680.0  \n328   210.0        Kentucky    525093.0  \n404   237.0  Michigan State   1938840.0  \n312   245.0         Florida  12000000.0  \n..      ...             ...         ...  \n270   180.0    Rhode Island         NaN  \n402   189.0            UCLA   2148360.0  \n271   260.0  Michigan State   9638555.0  \n237   275.0             NaN   5200000.0  \n457     NaN             NaN         NaN  \n\n[458 rows x 9 columns]",
      "text/html": "<div>\n<style scoped>\n    .dataframe tbody tr th:only-of-type {\n        vertical-align: middle;\n    }\n\n    .dataframe tbody tr th {\n        vertical-align: top;\n    }\n\n    .dataframe thead th {\n        text-align: right;\n    }\n</style>\n<table border=\"1\" class=\"dataframe\">\n  <thead>\n    <tr style=\"text-align: right;\">\n      <th></th>\n      <th>Name</th>\n      <th>Team</th>\n      <th>Number</th>\n      <th>Position</th>\n      <th>Age</th>\n      <th>Height</th>\n      <th>Weight</th>\n      <th>College</th>\n      <th>Salary</th>\n    </tr>\n  </thead>\n  <tbody>\n    <tr>\n      <th>152</th>\n      <td>Aaron Brooks</td>\n      <td>Chicago Bulls</td>\n      <td>0.0</td>\n      <td>PG</td>\n      <td>31.0</td>\n      <td>6-0</td>\n      <td>161.0</td>\n      <td>Oregon</td>\n      <td>2250000.0</td>\n    </tr>\n    <tr>\n      <th>356</th>\n      <td>Aaron Gordon</td>\n      <td>Orlando Magic</td>\n      <td>0.0</td>\n      <td>PF</td>\n      <td>20.0</td>\n      <td>6-9</td>\n      <td>220.0</td>\n      <td>Arizona</td>\n      <td>4171680.0</td>\n    </tr>\n    <tr>\n      <th>328</th>\n      <td>Aaron Harrison</td>\n      <td>Charlotte Hornets</td>\n      <td>9.0</td>\n      <td>SG</td>\n      <td>21.0</td>\n      <td>6-6</td>\n      <td>210.0</td>\n      <td>Kentucky</td>\n      <td>525093.0</td>\n    </tr>\n    <tr>\n      <th>404</th>\n      <td>Adreian Payne</td>\n      <td>Minnesota Timberwolves</td>\n      <td>33.0</td>\n      <td>PF</td>\n      <td>25.0</td>\n      <td>6-10</td>\n      <td>237.0</td>\n      <td>Michigan State</td>\n      <td>1938840.0</td>\n    </tr>\n    <tr>\n      <th>312</th>\n      <td>Al Horford</td>\n      <td>Atlanta Hawks</td>\n      <td>15.0</td>\n      <td>C</td>\n      <td>30.0</td>\n      <td>6-10</td>\n      <td>245.0</td>\n      <td>Florida</td>\n      <td>12000000.0</td>\n    </tr>\n    <tr>\n      <th>...</th>\n      <td>...</td>\n      <td>...</td>\n      <td>...</td>\n      <td>...</td>\n      <td>...</td>\n      <td>...</td>\n      <td>...</td>\n      <td>...</td>\n      <td>...</td>\n    </tr>\n    <tr>\n      <th>270</th>\n      <td>Xavier Munford</td>\n      <td>Memphis Grizzlies</td>\n      <td>14.0</td>\n      <td>PG</td>\n      <td>24.0</td>\n      <td>6-3</td>\n      <td>180.0</td>\n      <td>Rhode Island</td>\n      <td>NaN</td>\n    </tr>\n    <tr>\n      <th>402</th>\n      <td>Zach LaVine</td>\n      <td>Minnesota Timberwolves</td>\n      <td>8.0</td>\n      <td>PG</td>\n      <td>21.0</td>\n      <td>6-5</td>\n      <td>189.0</td>\n      <td>UCLA</td>\n      <td>2148360.0</td>\n    </tr>\n    <tr>\n      <th>271</th>\n      <td>Zach Randolph</td>\n      <td>Memphis Grizzlies</td>\n      <td>50.0</td>\n      <td>PF</td>\n      <td>34.0</td>\n      <td>6-9</td>\n      <td>260.0</td>\n      <td>Michigan State</td>\n      <td>9638555.0</td>\n    </tr>\n    <tr>\n      <th>237</th>\n      <td>Zaza Pachulia</td>\n      <td>Dallas Mavericks</td>\n      <td>27.0</td>\n      <td>C</td>\n      <td>32.0</td>\n      <td>6-11</td>\n      <td>275.0</td>\n      <td>NaN</td>\n      <td>5200000.0</td>\n    </tr>\n    <tr>\n      <th>457</th>\n      <td>NaN</td>\n      <td>NaN</td>\n      <td>NaN</td>\n      <td>NaN</td>\n      <td>NaN</td>\n      <td>NaN</td>\n      <td>NaN</td>\n      <td>NaN</td>\n      <td>NaN</td>\n    </tr>\n  </tbody>\n</table>\n<p>458 rows × 9 columns</p>\n</div>"
     },
     "execution_count": 49,
     "metadata": {},
     "output_type": "execute_result"
    }
   ],
   "source": [
    "df.sort_values('Name', axis=0, ascending=True, inplace=False, na_position='last')"
   ],
   "metadata": {
    "collapsed": false,
    "ExecuteTime": {
     "end_time": "2024-06-28T09:26:34.413761Z",
     "start_time": "2024-06-28T09:26:34.407210Z"
    }
   },
   "id": "fea8a2aabae11553",
   "execution_count": 49
  },
  {
   "cell_type": "markdown",
   "source": [
    "**Changing position of null values**"
   ],
   "metadata": {
    "collapsed": false
   },
   "id": "699ea23229a62be7"
  },
  {
   "cell_type": "code",
   "outputs": [
    {
     "data": {
      "text/plain": "Name         1\nTeam         1\nNumber       1\nPosition     1\nAge          1\nHeight       1\nWeight       1\nCollege     85\nSalary      12\ndtype: int64"
     },
     "execution_count": 50,
     "metadata": {},
     "output_type": "execute_result"
    }
   ],
   "source": [
    "df.isnull().sum()"
   ],
   "metadata": {
    "collapsed": false,
    "ExecuteTime": {
     "end_time": "2024-06-28T09:26:34.442748Z",
     "start_time": "2024-06-28T09:26:34.439352Z"
    }
   },
   "id": "709e8b3bd5e1f392",
   "execution_count": 50
  },
  {
   "cell_type": "code",
   "outputs": [
    {
     "data": {
      "text/plain": "                Name                 Team  Number Position   Age Height  \\\n2       John Holland       Boston Celtics    30.0       SG  27.0    6-5   \n46       Elton Brand   Philadelphia 76ers    42.0       PF  37.0    6-9   \n171    Dahntay Jones  Cleveland Cavaliers    30.0       SG  35.0    6-6   \n264    Jordan Farmar    Memphis Grizzlies     4.0       PG  29.0    6-2   \n269     Ray McCallum    Memphis Grizzlies     5.0       PG  24.0    6-3   \n..               ...                  ...     ...      ...   ...    ...   \n339       Chris Bosh           Miami Heat     1.0       PF  32.0   6-11   \n251    Dwight Howard      Houston Rockets    12.0        C  30.0   6-11   \n33   Carmelo Anthony      New York Knicks     7.0       SF  32.0    6-8   \n169     LeBron James  Cleveland Cavaliers    23.0       SF  31.0    6-8   \n109      Kobe Bryant   Los Angeles Lakers    24.0       SF  37.0    6-6   \n\n     Weight            College      Salary  \n2     205.0  Boston University         NaN  \n46    254.0               Duke         NaN  \n171   225.0               Duke         NaN  \n264   180.0               UCLA         NaN  \n269   190.0            Detroit         NaN  \n..      ...                ...         ...  \n339   235.0       Georgia Tech  22192730.0  \n251   265.0                NaN  22359364.0  \n33    240.0           Syracuse  22875000.0  \n169   250.0                NaN  22970500.0  \n109   212.0                NaN  25000000.0  \n\n[458 rows x 9 columns]",
      "text/html": "<div>\n<style scoped>\n    .dataframe tbody tr th:only-of-type {\n        vertical-align: middle;\n    }\n\n    .dataframe tbody tr th {\n        vertical-align: top;\n    }\n\n    .dataframe thead th {\n        text-align: right;\n    }\n</style>\n<table border=\"1\" class=\"dataframe\">\n  <thead>\n    <tr style=\"text-align: right;\">\n      <th></th>\n      <th>Name</th>\n      <th>Team</th>\n      <th>Number</th>\n      <th>Position</th>\n      <th>Age</th>\n      <th>Height</th>\n      <th>Weight</th>\n      <th>College</th>\n      <th>Salary</th>\n    </tr>\n  </thead>\n  <tbody>\n    <tr>\n      <th>2</th>\n      <td>John Holland</td>\n      <td>Boston Celtics</td>\n      <td>30.0</td>\n      <td>SG</td>\n      <td>27.0</td>\n      <td>6-5</td>\n      <td>205.0</td>\n      <td>Boston University</td>\n      <td>NaN</td>\n    </tr>\n    <tr>\n      <th>46</th>\n      <td>Elton Brand</td>\n      <td>Philadelphia 76ers</td>\n      <td>42.0</td>\n      <td>PF</td>\n      <td>37.0</td>\n      <td>6-9</td>\n      <td>254.0</td>\n      <td>Duke</td>\n      <td>NaN</td>\n    </tr>\n    <tr>\n      <th>171</th>\n      <td>Dahntay Jones</td>\n      <td>Cleveland Cavaliers</td>\n      <td>30.0</td>\n      <td>SG</td>\n      <td>35.0</td>\n      <td>6-6</td>\n      <td>225.0</td>\n      <td>Duke</td>\n      <td>NaN</td>\n    </tr>\n    <tr>\n      <th>264</th>\n      <td>Jordan Farmar</td>\n      <td>Memphis Grizzlies</td>\n      <td>4.0</td>\n      <td>PG</td>\n      <td>29.0</td>\n      <td>6-2</td>\n      <td>180.0</td>\n      <td>UCLA</td>\n      <td>NaN</td>\n    </tr>\n    <tr>\n      <th>269</th>\n      <td>Ray McCallum</td>\n      <td>Memphis Grizzlies</td>\n      <td>5.0</td>\n      <td>PG</td>\n      <td>24.0</td>\n      <td>6-3</td>\n      <td>190.0</td>\n      <td>Detroit</td>\n      <td>NaN</td>\n    </tr>\n    <tr>\n      <th>...</th>\n      <td>...</td>\n      <td>...</td>\n      <td>...</td>\n      <td>...</td>\n      <td>...</td>\n      <td>...</td>\n      <td>...</td>\n      <td>...</td>\n      <td>...</td>\n    </tr>\n    <tr>\n      <th>339</th>\n      <td>Chris Bosh</td>\n      <td>Miami Heat</td>\n      <td>1.0</td>\n      <td>PF</td>\n      <td>32.0</td>\n      <td>6-11</td>\n      <td>235.0</td>\n      <td>Georgia Tech</td>\n      <td>22192730.0</td>\n    </tr>\n    <tr>\n      <th>251</th>\n      <td>Dwight Howard</td>\n      <td>Houston Rockets</td>\n      <td>12.0</td>\n      <td>C</td>\n      <td>30.0</td>\n      <td>6-11</td>\n      <td>265.0</td>\n      <td>NaN</td>\n      <td>22359364.0</td>\n    </tr>\n    <tr>\n      <th>33</th>\n      <td>Carmelo Anthony</td>\n      <td>New York Knicks</td>\n      <td>7.0</td>\n      <td>SF</td>\n      <td>32.0</td>\n      <td>6-8</td>\n      <td>240.0</td>\n      <td>Syracuse</td>\n      <td>22875000.0</td>\n    </tr>\n    <tr>\n      <th>169</th>\n      <td>LeBron James</td>\n      <td>Cleveland Cavaliers</td>\n      <td>23.0</td>\n      <td>SF</td>\n      <td>31.0</td>\n      <td>6-8</td>\n      <td>250.0</td>\n      <td>NaN</td>\n      <td>22970500.0</td>\n    </tr>\n    <tr>\n      <th>109</th>\n      <td>Kobe Bryant</td>\n      <td>Los Angeles Lakers</td>\n      <td>24.0</td>\n      <td>SF</td>\n      <td>37.0</td>\n      <td>6-6</td>\n      <td>212.0</td>\n      <td>NaN</td>\n      <td>25000000.0</td>\n    </tr>\n  </tbody>\n</table>\n<p>458 rows × 9 columns</p>\n</div>"
     },
     "execution_count": 51,
     "metadata": {},
     "output_type": "execute_result"
    }
   ],
   "source": [
    "df.sort_values('Salary', axis=0, ascending=True, inplace=False, na_position='first')"
   ],
   "metadata": {
    "collapsed": false,
    "ExecuteTime": {
     "end_time": "2024-06-28T09:26:34.522692Z",
     "start_time": "2024-06-28T09:26:34.515118Z"
    }
   },
   "id": "8dad04a226ed5359",
   "execution_count": 51
  },
  {
   "cell_type": "markdown",
   "source": [
    "**Sorting by Team and then by Names**"
   ],
   "metadata": {
    "collapsed": false
   },
   "id": "8eab127d2c14c719"
  },
  {
   "cell_type": "code",
   "outputs": [
    {
     "data": {
      "text/plain": "                Name                Team  Number Position   Age Height  \\\n312       Al Horford       Atlanta Hawks    15.0        C  30.0   6-10   \n318  Dennis Schroder       Atlanta Hawks    17.0       PG  22.0    6-1   \n323      Jeff Teague       Atlanta Hawks     0.0       PG  27.0    6-2   \n309    Kent Bazemore       Atlanta Hawks    24.0       SF  26.0    6-5   \n311     Kirk Hinrich       Atlanta Hawks    12.0       SG  35.0    6-4   \n..               ...                 ...     ...      ...   ...    ...   \n376  Markieff Morris  Washington Wizards     5.0       PF  26.0   6-10   \n375     Nene Hilario  Washington Wizards    42.0        C  33.0   6-11   \n378  Otto Porter Jr.  Washington Wizards    22.0       SF  23.0    6-8   \n379   Ramon Sessions  Washington Wizards     7.0       PG  30.0    6-3   \n457              NaN                 NaN     NaN      NaN   NaN    NaN   \n\n     Weight       College      Salary  \n312   245.0       Florida  12000000.0  \n318   172.0           NaN   1763400.0  \n323   186.0   Wake Forest   8000000.0  \n309   201.0  Old Dominion   2000000.0  \n311   190.0        Kansas   2854940.0  \n..      ...           ...         ...  \n376   245.0        Kansas   8000000.0  \n375   250.0           NaN  13000000.0  \n378   198.0    Georgetown   4662960.0  \n379   190.0        Nevada   2170465.0  \n457     NaN           NaN         NaN  \n\n[458 rows x 9 columns]",
      "text/html": "<div>\n<style scoped>\n    .dataframe tbody tr th:only-of-type {\n        vertical-align: middle;\n    }\n\n    .dataframe tbody tr th {\n        vertical-align: top;\n    }\n\n    .dataframe thead th {\n        text-align: right;\n    }\n</style>\n<table border=\"1\" class=\"dataframe\">\n  <thead>\n    <tr style=\"text-align: right;\">\n      <th></th>\n      <th>Name</th>\n      <th>Team</th>\n      <th>Number</th>\n      <th>Position</th>\n      <th>Age</th>\n      <th>Height</th>\n      <th>Weight</th>\n      <th>College</th>\n      <th>Salary</th>\n    </tr>\n  </thead>\n  <tbody>\n    <tr>\n      <th>312</th>\n      <td>Al Horford</td>\n      <td>Atlanta Hawks</td>\n      <td>15.0</td>\n      <td>C</td>\n      <td>30.0</td>\n      <td>6-10</td>\n      <td>245.0</td>\n      <td>Florida</td>\n      <td>12000000.0</td>\n    </tr>\n    <tr>\n      <th>318</th>\n      <td>Dennis Schroder</td>\n      <td>Atlanta Hawks</td>\n      <td>17.0</td>\n      <td>PG</td>\n      <td>22.0</td>\n      <td>6-1</td>\n      <td>172.0</td>\n      <td>NaN</td>\n      <td>1763400.0</td>\n    </tr>\n    <tr>\n      <th>323</th>\n      <td>Jeff Teague</td>\n      <td>Atlanta Hawks</td>\n      <td>0.0</td>\n      <td>PG</td>\n      <td>27.0</td>\n      <td>6-2</td>\n      <td>186.0</td>\n      <td>Wake Forest</td>\n      <td>8000000.0</td>\n    </tr>\n    <tr>\n      <th>309</th>\n      <td>Kent Bazemore</td>\n      <td>Atlanta Hawks</td>\n      <td>24.0</td>\n      <td>SF</td>\n      <td>26.0</td>\n      <td>6-5</td>\n      <td>201.0</td>\n      <td>Old Dominion</td>\n      <td>2000000.0</td>\n    </tr>\n    <tr>\n      <th>311</th>\n      <td>Kirk Hinrich</td>\n      <td>Atlanta Hawks</td>\n      <td>12.0</td>\n      <td>SG</td>\n      <td>35.0</td>\n      <td>6-4</td>\n      <td>190.0</td>\n      <td>Kansas</td>\n      <td>2854940.0</td>\n    </tr>\n    <tr>\n      <th>...</th>\n      <td>...</td>\n      <td>...</td>\n      <td>...</td>\n      <td>...</td>\n      <td>...</td>\n      <td>...</td>\n      <td>...</td>\n      <td>...</td>\n      <td>...</td>\n    </tr>\n    <tr>\n      <th>376</th>\n      <td>Markieff Morris</td>\n      <td>Washington Wizards</td>\n      <td>5.0</td>\n      <td>PF</td>\n      <td>26.0</td>\n      <td>6-10</td>\n      <td>245.0</td>\n      <td>Kansas</td>\n      <td>8000000.0</td>\n    </tr>\n    <tr>\n      <th>375</th>\n      <td>Nene Hilario</td>\n      <td>Washington Wizards</td>\n      <td>42.0</td>\n      <td>C</td>\n      <td>33.0</td>\n      <td>6-11</td>\n      <td>250.0</td>\n      <td>NaN</td>\n      <td>13000000.0</td>\n    </tr>\n    <tr>\n      <th>378</th>\n      <td>Otto Porter Jr.</td>\n      <td>Washington Wizards</td>\n      <td>22.0</td>\n      <td>SF</td>\n      <td>23.0</td>\n      <td>6-8</td>\n      <td>198.0</td>\n      <td>Georgetown</td>\n      <td>4662960.0</td>\n    </tr>\n    <tr>\n      <th>379</th>\n      <td>Ramon Sessions</td>\n      <td>Washington Wizards</td>\n      <td>7.0</td>\n      <td>PG</td>\n      <td>30.0</td>\n      <td>6-3</td>\n      <td>190.0</td>\n      <td>Nevada</td>\n      <td>2170465.0</td>\n    </tr>\n    <tr>\n      <th>457</th>\n      <td>NaN</td>\n      <td>NaN</td>\n      <td>NaN</td>\n      <td>NaN</td>\n      <td>NaN</td>\n      <td>NaN</td>\n      <td>NaN</td>\n      <td>NaN</td>\n      <td>NaN</td>\n    </tr>\n  </tbody>\n</table>\n<p>458 rows × 9 columns</p>\n</div>"
     },
     "execution_count": 52,
     "metadata": {},
     "output_type": "execute_result"
    }
   ],
   "source": [
    "df.sort_values(['Team', 'Name'], axis=0, ascending=True, inplace=False)"
   ],
   "metadata": {
    "collapsed": false,
    "ExecuteTime": {
     "end_time": "2024-06-28T09:26:34.554700Z",
     "start_time": "2024-06-28T09:26:34.547164Z"
    }
   },
   "id": "60fbe0c91ecf34c9",
   "execution_count": 52
  },
  {
   "cell_type": "code",
   "outputs": [
    {
     "data": {
      "text/plain": "                 Name                Team  Number Position   Age Height  \\\n322    Walter Tavares       Atlanta Hawks    22.0        C  24.0    7-3   \n310  Tim Hardaway Jr.       Atlanta Hawks    10.0       SG  24.0    6-6   \n321    Tiago Splitter       Atlanta Hawks    11.0        C  31.0   6-11   \n320   Thabo Sefolosha       Atlanta Hawks    25.0       SF  32.0    6-7   \n315      Paul Millsap       Atlanta Hawks     4.0       PF  31.0    6-8   \n..                ...                 ...     ...      ...   ...    ...   \n380    Garrett Temple  Washington Wizards    17.0       SG  30.0    6-6   \n372       Drew Gooden  Washington Wizards    90.0       PF  34.0   6-10   \n369      Bradley Beal  Washington Wizards     3.0       SG  22.0    6-5   \n368     Alan Anderson  Washington Wizards     6.0       SG  33.0    6-6   \n457               NaN                 NaN     NaN      NaN   NaN    NaN   \n\n     Weight         College      Salary  \n322   260.0             NaN   1000000.0  \n310   205.0        Michigan   1304520.0  \n321   245.0             NaN   9756250.0  \n320   220.0             NaN   4000000.0  \n315   246.0  Louisiana Tech  18671659.0  \n..      ...             ...         ...  \n380   195.0             LSU   1100602.0  \n372   250.0          Kansas   3300000.0  \n369   207.0         Florida   5694674.0  \n368   220.0  Michigan State   4000000.0  \n457     NaN             NaN         NaN  \n\n[458 rows x 9 columns]",
      "text/html": "<div>\n<style scoped>\n    .dataframe tbody tr th:only-of-type {\n        vertical-align: middle;\n    }\n\n    .dataframe tbody tr th {\n        vertical-align: top;\n    }\n\n    .dataframe thead th {\n        text-align: right;\n    }\n</style>\n<table border=\"1\" class=\"dataframe\">\n  <thead>\n    <tr style=\"text-align: right;\">\n      <th></th>\n      <th>Name</th>\n      <th>Team</th>\n      <th>Number</th>\n      <th>Position</th>\n      <th>Age</th>\n      <th>Height</th>\n      <th>Weight</th>\n      <th>College</th>\n      <th>Salary</th>\n    </tr>\n  </thead>\n  <tbody>\n    <tr>\n      <th>322</th>\n      <td>Walter Tavares</td>\n      <td>Atlanta Hawks</td>\n      <td>22.0</td>\n      <td>C</td>\n      <td>24.0</td>\n      <td>7-3</td>\n      <td>260.0</td>\n      <td>NaN</td>\n      <td>1000000.0</td>\n    </tr>\n    <tr>\n      <th>310</th>\n      <td>Tim Hardaway Jr.</td>\n      <td>Atlanta Hawks</td>\n      <td>10.0</td>\n      <td>SG</td>\n      <td>24.0</td>\n      <td>6-6</td>\n      <td>205.0</td>\n      <td>Michigan</td>\n      <td>1304520.0</td>\n    </tr>\n    <tr>\n      <th>321</th>\n      <td>Tiago Splitter</td>\n      <td>Atlanta Hawks</td>\n      <td>11.0</td>\n      <td>C</td>\n      <td>31.0</td>\n      <td>6-11</td>\n      <td>245.0</td>\n      <td>NaN</td>\n      <td>9756250.0</td>\n    </tr>\n    <tr>\n      <th>320</th>\n      <td>Thabo Sefolosha</td>\n      <td>Atlanta Hawks</td>\n      <td>25.0</td>\n      <td>SF</td>\n      <td>32.0</td>\n      <td>6-7</td>\n      <td>220.0</td>\n      <td>NaN</td>\n      <td>4000000.0</td>\n    </tr>\n    <tr>\n      <th>315</th>\n      <td>Paul Millsap</td>\n      <td>Atlanta Hawks</td>\n      <td>4.0</td>\n      <td>PF</td>\n      <td>31.0</td>\n      <td>6-8</td>\n      <td>246.0</td>\n      <td>Louisiana Tech</td>\n      <td>18671659.0</td>\n    </tr>\n    <tr>\n      <th>...</th>\n      <td>...</td>\n      <td>...</td>\n      <td>...</td>\n      <td>...</td>\n      <td>...</td>\n      <td>...</td>\n      <td>...</td>\n      <td>...</td>\n      <td>...</td>\n    </tr>\n    <tr>\n      <th>380</th>\n      <td>Garrett Temple</td>\n      <td>Washington Wizards</td>\n      <td>17.0</td>\n      <td>SG</td>\n      <td>30.0</td>\n      <td>6-6</td>\n      <td>195.0</td>\n      <td>LSU</td>\n      <td>1100602.0</td>\n    </tr>\n    <tr>\n      <th>372</th>\n      <td>Drew Gooden</td>\n      <td>Washington Wizards</td>\n      <td>90.0</td>\n      <td>PF</td>\n      <td>34.0</td>\n      <td>6-10</td>\n      <td>250.0</td>\n      <td>Kansas</td>\n      <td>3300000.0</td>\n    </tr>\n    <tr>\n      <th>369</th>\n      <td>Bradley Beal</td>\n      <td>Washington Wizards</td>\n      <td>3.0</td>\n      <td>SG</td>\n      <td>22.0</td>\n      <td>6-5</td>\n      <td>207.0</td>\n      <td>Florida</td>\n      <td>5694674.0</td>\n    </tr>\n    <tr>\n      <th>368</th>\n      <td>Alan Anderson</td>\n      <td>Washington Wizards</td>\n      <td>6.0</td>\n      <td>SG</td>\n      <td>33.0</td>\n      <td>6-6</td>\n      <td>220.0</td>\n      <td>Michigan State</td>\n      <td>4000000.0</td>\n    </tr>\n    <tr>\n      <th>457</th>\n      <td>NaN</td>\n      <td>NaN</td>\n      <td>NaN</td>\n      <td>NaN</td>\n      <td>NaN</td>\n      <td>NaN</td>\n      <td>NaN</td>\n      <td>NaN</td>\n      <td>NaN</td>\n    </tr>\n  </tbody>\n</table>\n<p>458 rows × 9 columns</p>\n</div>"
     },
     "execution_count": 53,
     "metadata": {},
     "output_type": "execute_result"
    }
   ],
   "source": [
    "df.sort_values(['Team', 'Name'], axis=0, ascending=[True, False], inplace=False)"
   ],
   "metadata": {
    "collapsed": false,
    "ExecuteTime": {
     "end_time": "2024-06-28T09:26:34.663950Z",
     "start_time": "2024-06-28T09:26:34.654132Z"
    }
   },
   "id": "d56636d46b84c7ea",
   "execution_count": 53
  },
  {
   "cell_type": "markdown",
   "source": [
    "**Sorting using three Columns**"
   ],
   "metadata": {
    "collapsed": false
   },
   "id": "3fc456e3246b0e73"
  },
  {
   "cell_type": "code",
   "outputs": [
    {
     "data": {
      "text/plain": "                Name                Team  Number Position   Age Height  \\\n377  Kelly Oubre Jr.  Washington Wizards    12.0       SF  20.0    6-7   \n369     Bradley Beal  Washington Wizards     3.0       SG  22.0    6-5   \n378  Otto Porter Jr.  Washington Wizards    22.0       SF  23.0    6-8   \n371     Jarell Eddie  Washington Wizards     8.0       SG  24.0    6-7   \n382        John Wall  Washington Wizards     2.0       PG  25.0    6-4   \n..               ...                 ...     ...      ...   ...    ...   \n321   Tiago Splitter       Atlanta Hawks    11.0        C  31.0   6-11   \n320  Thabo Sefolosha       Atlanta Hawks    25.0       SF  32.0    6-7   \n314      Kyle Korver       Atlanta Hawks    26.0       SG  35.0    6-7   \n311     Kirk Hinrich       Atlanta Hawks    12.0       SG  35.0    6-4   \n457              NaN                 NaN     NaN      NaN   NaN    NaN   \n\n     Weight        College      Salary  \n377   205.0         Kansas   1920240.0  \n369   207.0        Florida   5694674.0  \n378   198.0     Georgetown   4662960.0  \n371   218.0  Virginia Tech    561716.0  \n382   195.0       Kentucky  15851950.0  \n..      ...            ...         ...  \n321   245.0            NaN   9756250.0  \n320   220.0            NaN   4000000.0  \n314   212.0      Creighton   5746479.0  \n311   190.0         Kansas   2854940.0  \n457     NaN            NaN         NaN  \n\n[458 rows x 9 columns]",
      "text/html": "<div>\n<style scoped>\n    .dataframe tbody tr th:only-of-type {\n        vertical-align: middle;\n    }\n\n    .dataframe tbody tr th {\n        vertical-align: top;\n    }\n\n    .dataframe thead th {\n        text-align: right;\n    }\n</style>\n<table border=\"1\" class=\"dataframe\">\n  <thead>\n    <tr style=\"text-align: right;\">\n      <th></th>\n      <th>Name</th>\n      <th>Team</th>\n      <th>Number</th>\n      <th>Position</th>\n      <th>Age</th>\n      <th>Height</th>\n      <th>Weight</th>\n      <th>College</th>\n      <th>Salary</th>\n    </tr>\n  </thead>\n  <tbody>\n    <tr>\n      <th>377</th>\n      <td>Kelly Oubre Jr.</td>\n      <td>Washington Wizards</td>\n      <td>12.0</td>\n      <td>SF</td>\n      <td>20.0</td>\n      <td>6-7</td>\n      <td>205.0</td>\n      <td>Kansas</td>\n      <td>1920240.0</td>\n    </tr>\n    <tr>\n      <th>369</th>\n      <td>Bradley Beal</td>\n      <td>Washington Wizards</td>\n      <td>3.0</td>\n      <td>SG</td>\n      <td>22.0</td>\n      <td>6-5</td>\n      <td>207.0</td>\n      <td>Florida</td>\n      <td>5694674.0</td>\n    </tr>\n    <tr>\n      <th>378</th>\n      <td>Otto Porter Jr.</td>\n      <td>Washington Wizards</td>\n      <td>22.0</td>\n      <td>SF</td>\n      <td>23.0</td>\n      <td>6-8</td>\n      <td>198.0</td>\n      <td>Georgetown</td>\n      <td>4662960.0</td>\n    </tr>\n    <tr>\n      <th>371</th>\n      <td>Jarell Eddie</td>\n      <td>Washington Wizards</td>\n      <td>8.0</td>\n      <td>SG</td>\n      <td>24.0</td>\n      <td>6-7</td>\n      <td>218.0</td>\n      <td>Virginia Tech</td>\n      <td>561716.0</td>\n    </tr>\n    <tr>\n      <th>382</th>\n      <td>John Wall</td>\n      <td>Washington Wizards</td>\n      <td>2.0</td>\n      <td>PG</td>\n      <td>25.0</td>\n      <td>6-4</td>\n      <td>195.0</td>\n      <td>Kentucky</td>\n      <td>15851950.0</td>\n    </tr>\n    <tr>\n      <th>...</th>\n      <td>...</td>\n      <td>...</td>\n      <td>...</td>\n      <td>...</td>\n      <td>...</td>\n      <td>...</td>\n      <td>...</td>\n      <td>...</td>\n      <td>...</td>\n    </tr>\n    <tr>\n      <th>321</th>\n      <td>Tiago Splitter</td>\n      <td>Atlanta Hawks</td>\n      <td>11.0</td>\n      <td>C</td>\n      <td>31.0</td>\n      <td>6-11</td>\n      <td>245.0</td>\n      <td>NaN</td>\n      <td>9756250.0</td>\n    </tr>\n    <tr>\n      <th>320</th>\n      <td>Thabo Sefolosha</td>\n      <td>Atlanta Hawks</td>\n      <td>25.0</td>\n      <td>SF</td>\n      <td>32.0</td>\n      <td>6-7</td>\n      <td>220.0</td>\n      <td>NaN</td>\n      <td>4000000.0</td>\n    </tr>\n    <tr>\n      <th>314</th>\n      <td>Kyle Korver</td>\n      <td>Atlanta Hawks</td>\n      <td>26.0</td>\n      <td>SG</td>\n      <td>35.0</td>\n      <td>6-7</td>\n      <td>212.0</td>\n      <td>Creighton</td>\n      <td>5746479.0</td>\n    </tr>\n    <tr>\n      <th>311</th>\n      <td>Kirk Hinrich</td>\n      <td>Atlanta Hawks</td>\n      <td>12.0</td>\n      <td>SG</td>\n      <td>35.0</td>\n      <td>6-4</td>\n      <td>190.0</td>\n      <td>Kansas</td>\n      <td>2854940.0</td>\n    </tr>\n    <tr>\n      <th>457</th>\n      <td>NaN</td>\n      <td>NaN</td>\n      <td>NaN</td>\n      <td>NaN</td>\n      <td>NaN</td>\n      <td>NaN</td>\n      <td>NaN</td>\n      <td>NaN</td>\n      <td>NaN</td>\n    </tr>\n  </tbody>\n</table>\n<p>458 rows × 9 columns</p>\n</div>"
     },
     "execution_count": 54,
     "metadata": {},
     "output_type": "execute_result"
    }
   ],
   "source": [
    "df.sort_values(['Team', 'Age', 'Height'], axis=0, ascending=[False, True, False])"
   ],
   "metadata": {
    "collapsed": false,
    "ExecuteTime": {
     "end_time": "2024-06-28T09:26:34.689014Z",
     "start_time": "2024-06-28T09:26:34.680854Z"
    }
   },
   "id": "78c8fe359ff23ec4",
   "execution_count": 54
  }
 ],
 "metadata": {
  "kernelspec": {
   "display_name": "Python 3",
   "language": "python",
   "name": "python3"
  },
  "language_info": {
   "codemirror_mode": {
    "name": "ipython",
    "version": 2
   },
   "file_extension": ".py",
   "mimetype": "text/x-python",
   "name": "python",
   "nbconvert_exporter": "python",
   "pygments_lexer": "ipython2",
   "version": "2.7.6"
  }
 },
 "nbformat": 4,
 "nbformat_minor": 5
}

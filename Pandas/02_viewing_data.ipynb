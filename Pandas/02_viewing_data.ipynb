{
 "cells": [
  {
   "cell_type": "markdown",
   "source": [
    "# Viewing Data in Pandas"
   ],
   "metadata": {
    "collapsed": false
   },
   "id": "93c60b0978710838"
  },
  {
   "cell_type": "markdown",
   "source": [
    "**Importing modules**"
   ],
   "metadata": {
    "collapsed": false
   },
   "id": "27a3e29e26917504"
  },
  {
   "cell_type": "code",
   "outputs": [],
   "source": [
    "import pandas as pd\n",
    "import numpy as np"
   ],
   "metadata": {
    "collapsed": false,
    "ExecuteTime": {
     "end_time": "2024-06-24T15:15:14.832918Z",
     "start_time": "2024-06-24T15:15:14.143769Z"
    }
   },
   "id": "983bb4e23c4e8101",
   "execution_count": 1
  },
  {
   "cell_type": "markdown",
   "source": [
    "**Creating DataFrame**"
   ],
   "metadata": {
    "collapsed": false
   },
   "id": "425557a8b03eaf16"
  },
  {
   "cell_type": "code",
   "outputs": [
    {
     "data": {
      "text/plain": "              Name            Team  Number Position   Age Height  Weight  \\\n0    Avery Bradley  Boston Celtics     0.0       PG  25.0    6-2   180.0   \n1      Jae Crowder  Boston Celtics    99.0       SF  25.0    6-6   235.0   \n2     John Holland  Boston Celtics    30.0       SG  27.0    6-5   205.0   \n3      R.J. Hunter  Boston Celtics    28.0       SG  22.0    6-5   185.0   \n4    Jonas Jerebko  Boston Celtics     8.0       PF  29.0   6-10   231.0   \n..             ...             ...     ...      ...   ...    ...     ...   \n453   Shelvin Mack       Utah Jazz     8.0       PG  26.0    6-3   203.0   \n454      Raul Neto       Utah Jazz    25.0       PG  24.0    6-1   179.0   \n455   Tibor Pleiss       Utah Jazz    21.0        C  26.0    7-3   256.0   \n456    Jeff Withey       Utah Jazz    24.0        C  26.0    7-0   231.0   \n457            NaN             NaN     NaN      NaN   NaN    NaN     NaN   \n\n               College     Salary  \n0                Texas  7730337.0  \n1            Marquette  6796117.0  \n2    Boston University        NaN  \n3        Georgia State  1148640.0  \n4                  NaN  5000000.0  \n..                 ...        ...  \n453             Butler  2433333.0  \n454                NaN   900000.0  \n455                NaN  2900000.0  \n456             Kansas   947276.0  \n457                NaN        NaN  \n\n[458 rows x 9 columns]",
      "text/html": "<div>\n<style scoped>\n    .dataframe tbody tr th:only-of-type {\n        vertical-align: middle;\n    }\n\n    .dataframe tbody tr th {\n        vertical-align: top;\n    }\n\n    .dataframe thead th {\n        text-align: right;\n    }\n</style>\n<table border=\"1\" class=\"dataframe\">\n  <thead>\n    <tr style=\"text-align: right;\">\n      <th></th>\n      <th>Name</th>\n      <th>Team</th>\n      <th>Number</th>\n      <th>Position</th>\n      <th>Age</th>\n      <th>Height</th>\n      <th>Weight</th>\n      <th>College</th>\n      <th>Salary</th>\n    </tr>\n  </thead>\n  <tbody>\n    <tr>\n      <th>0</th>\n      <td>Avery Bradley</td>\n      <td>Boston Celtics</td>\n      <td>0.0</td>\n      <td>PG</td>\n      <td>25.0</td>\n      <td>6-2</td>\n      <td>180.0</td>\n      <td>Texas</td>\n      <td>7730337.0</td>\n    </tr>\n    <tr>\n      <th>1</th>\n      <td>Jae Crowder</td>\n      <td>Boston Celtics</td>\n      <td>99.0</td>\n      <td>SF</td>\n      <td>25.0</td>\n      <td>6-6</td>\n      <td>235.0</td>\n      <td>Marquette</td>\n      <td>6796117.0</td>\n    </tr>\n    <tr>\n      <th>2</th>\n      <td>John Holland</td>\n      <td>Boston Celtics</td>\n      <td>30.0</td>\n      <td>SG</td>\n      <td>27.0</td>\n      <td>6-5</td>\n      <td>205.0</td>\n      <td>Boston University</td>\n      <td>NaN</td>\n    </tr>\n    <tr>\n      <th>3</th>\n      <td>R.J. Hunter</td>\n      <td>Boston Celtics</td>\n      <td>28.0</td>\n      <td>SG</td>\n      <td>22.0</td>\n      <td>6-5</td>\n      <td>185.0</td>\n      <td>Georgia State</td>\n      <td>1148640.0</td>\n    </tr>\n    <tr>\n      <th>4</th>\n      <td>Jonas Jerebko</td>\n      <td>Boston Celtics</td>\n      <td>8.0</td>\n      <td>PF</td>\n      <td>29.0</td>\n      <td>6-10</td>\n      <td>231.0</td>\n      <td>NaN</td>\n      <td>5000000.0</td>\n    </tr>\n    <tr>\n      <th>...</th>\n      <td>...</td>\n      <td>...</td>\n      <td>...</td>\n      <td>...</td>\n      <td>...</td>\n      <td>...</td>\n      <td>...</td>\n      <td>...</td>\n      <td>...</td>\n    </tr>\n    <tr>\n      <th>453</th>\n      <td>Shelvin Mack</td>\n      <td>Utah Jazz</td>\n      <td>8.0</td>\n      <td>PG</td>\n      <td>26.0</td>\n      <td>6-3</td>\n      <td>203.0</td>\n      <td>Butler</td>\n      <td>2433333.0</td>\n    </tr>\n    <tr>\n      <th>454</th>\n      <td>Raul Neto</td>\n      <td>Utah Jazz</td>\n      <td>25.0</td>\n      <td>PG</td>\n      <td>24.0</td>\n      <td>6-1</td>\n      <td>179.0</td>\n      <td>NaN</td>\n      <td>900000.0</td>\n    </tr>\n    <tr>\n      <th>455</th>\n      <td>Tibor Pleiss</td>\n      <td>Utah Jazz</td>\n      <td>21.0</td>\n      <td>C</td>\n      <td>26.0</td>\n      <td>7-3</td>\n      <td>256.0</td>\n      <td>NaN</td>\n      <td>2900000.0</td>\n    </tr>\n    <tr>\n      <th>456</th>\n      <td>Jeff Withey</td>\n      <td>Utah Jazz</td>\n      <td>24.0</td>\n      <td>C</td>\n      <td>26.0</td>\n      <td>7-0</td>\n      <td>231.0</td>\n      <td>Kansas</td>\n      <td>947276.0</td>\n    </tr>\n    <tr>\n      <th>457</th>\n      <td>NaN</td>\n      <td>NaN</td>\n      <td>NaN</td>\n      <td>NaN</td>\n      <td>NaN</td>\n      <td>NaN</td>\n      <td>NaN</td>\n      <td>NaN</td>\n      <td>NaN</td>\n    </tr>\n  </tbody>\n</table>\n<p>458 rows × 9 columns</p>\n</div>"
     },
     "execution_count": 2,
     "metadata": {},
     "output_type": "execute_result"
    }
   ],
   "source": [
    "df = pd.read_csv('Data/nba.csv')\n",
    "df"
   ],
   "metadata": {
    "collapsed": false,
    "ExecuteTime": {
     "end_time": "2024-06-24T15:15:14.859333Z",
     "start_time": "2024-06-24T15:15:14.835285Z"
    }
   },
   "id": "fc6aaf01bd96f12d",
   "execution_count": 2
  },
  {
   "cell_type": "markdown",
   "source": [
    "## Column names"
   ],
   "metadata": {
    "collapsed": false
   },
   "id": "84372bc7e2a7031d"
  },
  {
   "cell_type": "code",
   "outputs": [
    {
     "data": {
      "text/plain": "Index(['Name', 'Team', 'Number', 'Position', 'Age', 'Height', 'Weight',\n       'College', 'Salary'],\n      dtype='object')"
     },
     "execution_count": 3,
     "metadata": {},
     "output_type": "execute_result"
    }
   ],
   "source": [
    "df.columns\n",
    "# df.columns.values\n",
    "# df.columns.values.tolist()\n",
    "# df.keys()"
   ],
   "metadata": {
    "collapsed": false,
    "ExecuteTime": {
     "end_time": "2024-06-24T15:15:14.865185Z",
     "start_time": "2024-06-24T15:15:14.861287Z"
    }
   },
   "id": "63b92e2af06ffd05",
   "execution_count": 3
  },
  {
   "cell_type": "markdown",
   "source": [
    "## Top rows of the DataFrame"
   ],
   "metadata": {
    "collapsed": false
   },
   "id": "8faa6d9220b99168"
  },
  {
   "cell_type": "code",
   "outputs": [
    {
     "data": {
      "text/plain": "            Name            Team  Number Position   Age Height  Weight  \\\n0  Avery Bradley  Boston Celtics     0.0       PG  25.0    6-2   180.0   \n1    Jae Crowder  Boston Celtics    99.0       SF  25.0    6-6   235.0   \n2   John Holland  Boston Celtics    30.0       SG  27.0    6-5   205.0   \n3    R.J. Hunter  Boston Celtics    28.0       SG  22.0    6-5   185.0   \n4  Jonas Jerebko  Boston Celtics     8.0       PF  29.0   6-10   231.0   \n\n             College     Salary  \n0              Texas  7730337.0  \n1          Marquette  6796117.0  \n2  Boston University        NaN  \n3      Georgia State  1148640.0  \n4                NaN  5000000.0  ",
      "text/html": "<div>\n<style scoped>\n    .dataframe tbody tr th:only-of-type {\n        vertical-align: middle;\n    }\n\n    .dataframe tbody tr th {\n        vertical-align: top;\n    }\n\n    .dataframe thead th {\n        text-align: right;\n    }\n</style>\n<table border=\"1\" class=\"dataframe\">\n  <thead>\n    <tr style=\"text-align: right;\">\n      <th></th>\n      <th>Name</th>\n      <th>Team</th>\n      <th>Number</th>\n      <th>Position</th>\n      <th>Age</th>\n      <th>Height</th>\n      <th>Weight</th>\n      <th>College</th>\n      <th>Salary</th>\n    </tr>\n  </thead>\n  <tbody>\n    <tr>\n      <th>0</th>\n      <td>Avery Bradley</td>\n      <td>Boston Celtics</td>\n      <td>0.0</td>\n      <td>PG</td>\n      <td>25.0</td>\n      <td>6-2</td>\n      <td>180.0</td>\n      <td>Texas</td>\n      <td>7730337.0</td>\n    </tr>\n    <tr>\n      <th>1</th>\n      <td>Jae Crowder</td>\n      <td>Boston Celtics</td>\n      <td>99.0</td>\n      <td>SF</td>\n      <td>25.0</td>\n      <td>6-6</td>\n      <td>235.0</td>\n      <td>Marquette</td>\n      <td>6796117.0</td>\n    </tr>\n    <tr>\n      <th>2</th>\n      <td>John Holland</td>\n      <td>Boston Celtics</td>\n      <td>30.0</td>\n      <td>SG</td>\n      <td>27.0</td>\n      <td>6-5</td>\n      <td>205.0</td>\n      <td>Boston University</td>\n      <td>NaN</td>\n    </tr>\n    <tr>\n      <th>3</th>\n      <td>R.J. Hunter</td>\n      <td>Boston Celtics</td>\n      <td>28.0</td>\n      <td>SG</td>\n      <td>22.0</td>\n      <td>6-5</td>\n      <td>185.0</td>\n      <td>Georgia State</td>\n      <td>1148640.0</td>\n    </tr>\n    <tr>\n      <th>4</th>\n      <td>Jonas Jerebko</td>\n      <td>Boston Celtics</td>\n      <td>8.0</td>\n      <td>PF</td>\n      <td>29.0</td>\n      <td>6-10</td>\n      <td>231.0</td>\n      <td>NaN</td>\n      <td>5000000.0</td>\n    </tr>\n  </tbody>\n</table>\n</div>"
     },
     "execution_count": 4,
     "metadata": {},
     "output_type": "execute_result"
    }
   ],
   "source": [
    "df.head()"
   ],
   "metadata": {
    "collapsed": false,
    "ExecuteTime": {
     "end_time": "2024-06-24T15:15:14.874338Z",
     "start_time": "2024-06-24T15:15:14.867379Z"
    }
   },
   "id": "82143779c4e32954",
   "execution_count": 4
  },
  {
   "cell_type": "code",
   "outputs": [
    {
     "data": {
      "text/plain": "            Name            Team  Number Position   Age Height  Weight  \\\n0  Avery Bradley  Boston Celtics     0.0       PG  25.0    6-2   180.0   \n1    Jae Crowder  Boston Celtics    99.0       SF  25.0    6-6   235.0   \n2   John Holland  Boston Celtics    30.0       SG  27.0    6-5   205.0   \n3    R.J. Hunter  Boston Celtics    28.0       SG  22.0    6-5   185.0   \n4  Jonas Jerebko  Boston Celtics     8.0       PF  29.0   6-10   231.0   \n5   Amir Johnson  Boston Celtics    90.0       PF  29.0    6-9   240.0   \n6  Jordan Mickey  Boston Celtics    55.0       PF  21.0    6-8   235.0   \n7   Kelly Olynyk  Boston Celtics    41.0        C  25.0    7-0   238.0   \n8   Terry Rozier  Boston Celtics    12.0       PG  22.0    6-2   190.0   \n9   Marcus Smart  Boston Celtics    36.0       PG  22.0    6-4   220.0   \n\n             College      Salary  \n0              Texas   7730337.0  \n1          Marquette   6796117.0  \n2  Boston University         NaN  \n3      Georgia State   1148640.0  \n4                NaN   5000000.0  \n5                NaN  12000000.0  \n6                LSU   1170960.0  \n7            Gonzaga   2165160.0  \n8         Louisville   1824360.0  \n9     Oklahoma State   3431040.0  ",
      "text/html": "<div>\n<style scoped>\n    .dataframe tbody tr th:only-of-type {\n        vertical-align: middle;\n    }\n\n    .dataframe tbody tr th {\n        vertical-align: top;\n    }\n\n    .dataframe thead th {\n        text-align: right;\n    }\n</style>\n<table border=\"1\" class=\"dataframe\">\n  <thead>\n    <tr style=\"text-align: right;\">\n      <th></th>\n      <th>Name</th>\n      <th>Team</th>\n      <th>Number</th>\n      <th>Position</th>\n      <th>Age</th>\n      <th>Height</th>\n      <th>Weight</th>\n      <th>College</th>\n      <th>Salary</th>\n    </tr>\n  </thead>\n  <tbody>\n    <tr>\n      <th>0</th>\n      <td>Avery Bradley</td>\n      <td>Boston Celtics</td>\n      <td>0.0</td>\n      <td>PG</td>\n      <td>25.0</td>\n      <td>6-2</td>\n      <td>180.0</td>\n      <td>Texas</td>\n      <td>7730337.0</td>\n    </tr>\n    <tr>\n      <th>1</th>\n      <td>Jae Crowder</td>\n      <td>Boston Celtics</td>\n      <td>99.0</td>\n      <td>SF</td>\n      <td>25.0</td>\n      <td>6-6</td>\n      <td>235.0</td>\n      <td>Marquette</td>\n      <td>6796117.0</td>\n    </tr>\n    <tr>\n      <th>2</th>\n      <td>John Holland</td>\n      <td>Boston Celtics</td>\n      <td>30.0</td>\n      <td>SG</td>\n      <td>27.0</td>\n      <td>6-5</td>\n      <td>205.0</td>\n      <td>Boston University</td>\n      <td>NaN</td>\n    </tr>\n    <tr>\n      <th>3</th>\n      <td>R.J. Hunter</td>\n      <td>Boston Celtics</td>\n      <td>28.0</td>\n      <td>SG</td>\n      <td>22.0</td>\n      <td>6-5</td>\n      <td>185.0</td>\n      <td>Georgia State</td>\n      <td>1148640.0</td>\n    </tr>\n    <tr>\n      <th>4</th>\n      <td>Jonas Jerebko</td>\n      <td>Boston Celtics</td>\n      <td>8.0</td>\n      <td>PF</td>\n      <td>29.0</td>\n      <td>6-10</td>\n      <td>231.0</td>\n      <td>NaN</td>\n      <td>5000000.0</td>\n    </tr>\n    <tr>\n      <th>5</th>\n      <td>Amir Johnson</td>\n      <td>Boston Celtics</td>\n      <td>90.0</td>\n      <td>PF</td>\n      <td>29.0</td>\n      <td>6-9</td>\n      <td>240.0</td>\n      <td>NaN</td>\n      <td>12000000.0</td>\n    </tr>\n    <tr>\n      <th>6</th>\n      <td>Jordan Mickey</td>\n      <td>Boston Celtics</td>\n      <td>55.0</td>\n      <td>PF</td>\n      <td>21.0</td>\n      <td>6-8</td>\n      <td>235.0</td>\n      <td>LSU</td>\n      <td>1170960.0</td>\n    </tr>\n    <tr>\n      <th>7</th>\n      <td>Kelly Olynyk</td>\n      <td>Boston Celtics</td>\n      <td>41.0</td>\n      <td>C</td>\n      <td>25.0</td>\n      <td>7-0</td>\n      <td>238.0</td>\n      <td>Gonzaga</td>\n      <td>2165160.0</td>\n    </tr>\n    <tr>\n      <th>8</th>\n      <td>Terry Rozier</td>\n      <td>Boston Celtics</td>\n      <td>12.0</td>\n      <td>PG</td>\n      <td>22.0</td>\n      <td>6-2</td>\n      <td>190.0</td>\n      <td>Louisville</td>\n      <td>1824360.0</td>\n    </tr>\n    <tr>\n      <th>9</th>\n      <td>Marcus Smart</td>\n      <td>Boston Celtics</td>\n      <td>36.0</td>\n      <td>PG</td>\n      <td>22.0</td>\n      <td>6-4</td>\n      <td>220.0</td>\n      <td>Oklahoma State</td>\n      <td>3431040.0</td>\n    </tr>\n  </tbody>\n</table>\n</div>"
     },
     "execution_count": 5,
     "metadata": {},
     "output_type": "execute_result"
    }
   ],
   "source": [
    "# view top n data\n",
    "df.head(n=10)\n",
    "# df.head(10)"
   ],
   "metadata": {
    "collapsed": false,
    "ExecuteTime": {
     "end_time": "2024-06-24T15:15:14.887470Z",
     "start_time": "2024-06-24T15:15:14.879221Z"
    }
   },
   "id": "4abc70517e19a424",
   "execution_count": 5
  },
  {
   "cell_type": "markdown",
   "source": [
    "**Selecting series**"
   ],
   "metadata": {
    "collapsed": false
   },
   "id": "467f4efb291c4d6"
  },
  {
   "cell_type": "code",
   "outputs": [
    {
     "data": {
      "text/plain": "0    Avery Bradley\n1      Jae Crowder\n2     John Holland\n3      R.J. Hunter\n4    Jonas Jerebko\nName: Name, dtype: object"
     },
     "execution_count": 6,
     "metadata": {},
     "output_type": "execute_result"
    }
   ],
   "source": [
    "df['Name'].head()"
   ],
   "metadata": {
    "collapsed": false,
    "ExecuteTime": {
     "end_time": "2024-06-24T15:15:14.895339Z",
     "start_time": "2024-06-24T15:15:14.889050Z"
    }
   },
   "id": "1cb4f520058168ff",
   "execution_count": 6
  },
  {
   "cell_type": "code",
   "outputs": [
    {
     "data": {
      "text/plain": "            Name            Team Position\n0  Avery Bradley  Boston Celtics       PG\n1    Jae Crowder  Boston Celtics       SF\n2   John Holland  Boston Celtics       SG\n3    R.J. Hunter  Boston Celtics       SG\n4  Jonas Jerebko  Boston Celtics       PF",
      "text/html": "<div>\n<style scoped>\n    .dataframe tbody tr th:only-of-type {\n        vertical-align: middle;\n    }\n\n    .dataframe tbody tr th {\n        vertical-align: top;\n    }\n\n    .dataframe thead th {\n        text-align: right;\n    }\n</style>\n<table border=\"1\" class=\"dataframe\">\n  <thead>\n    <tr style=\"text-align: right;\">\n      <th></th>\n      <th>Name</th>\n      <th>Team</th>\n      <th>Position</th>\n    </tr>\n  </thead>\n  <tbody>\n    <tr>\n      <th>0</th>\n      <td>Avery Bradley</td>\n      <td>Boston Celtics</td>\n      <td>PG</td>\n    </tr>\n    <tr>\n      <th>1</th>\n      <td>Jae Crowder</td>\n      <td>Boston Celtics</td>\n      <td>SF</td>\n    </tr>\n    <tr>\n      <th>2</th>\n      <td>John Holland</td>\n      <td>Boston Celtics</td>\n      <td>SG</td>\n    </tr>\n    <tr>\n      <th>3</th>\n      <td>R.J. Hunter</td>\n      <td>Boston Celtics</td>\n      <td>SG</td>\n    </tr>\n    <tr>\n      <th>4</th>\n      <td>Jonas Jerebko</td>\n      <td>Boston Celtics</td>\n      <td>PF</td>\n    </tr>\n  </tbody>\n</table>\n</div>"
     },
     "execution_count": 7,
     "metadata": {},
     "output_type": "execute_result"
    }
   ],
   "source": [
    "df[['Name', 'Team', 'Position']].head()"
   ],
   "metadata": {
    "collapsed": false,
    "ExecuteTime": {
     "end_time": "2024-06-24T15:15:14.907647Z",
     "start_time": "2024-06-24T15:15:14.897255Z"
    }
   },
   "id": "61130859ff7ba7fc",
   "execution_count": 7
  },
  {
   "cell_type": "markdown",
   "source": [
    "## Bottom rows of the DataFrame"
   ],
   "metadata": {
    "collapsed": false
   },
   "id": "4ccf2027645c8cfb"
  },
  {
   "cell_type": "code",
   "outputs": [
    {
     "data": {
      "text/plain": "             Name       Team  Number Position   Age Height  Weight College  \\\n453  Shelvin Mack  Utah Jazz     8.0       PG  26.0    6-3   203.0  Butler   \n454     Raul Neto  Utah Jazz    25.0       PG  24.0    6-1   179.0     NaN   \n455  Tibor Pleiss  Utah Jazz    21.0        C  26.0    7-3   256.0     NaN   \n456   Jeff Withey  Utah Jazz    24.0        C  26.0    7-0   231.0  Kansas   \n457           NaN        NaN     NaN      NaN   NaN    NaN     NaN     NaN   \n\n        Salary  \n453  2433333.0  \n454   900000.0  \n455  2900000.0  \n456   947276.0  \n457        NaN  ",
      "text/html": "<div>\n<style scoped>\n    .dataframe tbody tr th:only-of-type {\n        vertical-align: middle;\n    }\n\n    .dataframe tbody tr th {\n        vertical-align: top;\n    }\n\n    .dataframe thead th {\n        text-align: right;\n    }\n</style>\n<table border=\"1\" class=\"dataframe\">\n  <thead>\n    <tr style=\"text-align: right;\">\n      <th></th>\n      <th>Name</th>\n      <th>Team</th>\n      <th>Number</th>\n      <th>Position</th>\n      <th>Age</th>\n      <th>Height</th>\n      <th>Weight</th>\n      <th>College</th>\n      <th>Salary</th>\n    </tr>\n  </thead>\n  <tbody>\n    <tr>\n      <th>453</th>\n      <td>Shelvin Mack</td>\n      <td>Utah Jazz</td>\n      <td>8.0</td>\n      <td>PG</td>\n      <td>26.0</td>\n      <td>6-3</td>\n      <td>203.0</td>\n      <td>Butler</td>\n      <td>2433333.0</td>\n    </tr>\n    <tr>\n      <th>454</th>\n      <td>Raul Neto</td>\n      <td>Utah Jazz</td>\n      <td>25.0</td>\n      <td>PG</td>\n      <td>24.0</td>\n      <td>6-1</td>\n      <td>179.0</td>\n      <td>NaN</td>\n      <td>900000.0</td>\n    </tr>\n    <tr>\n      <th>455</th>\n      <td>Tibor Pleiss</td>\n      <td>Utah Jazz</td>\n      <td>21.0</td>\n      <td>C</td>\n      <td>26.0</td>\n      <td>7-3</td>\n      <td>256.0</td>\n      <td>NaN</td>\n      <td>2900000.0</td>\n    </tr>\n    <tr>\n      <th>456</th>\n      <td>Jeff Withey</td>\n      <td>Utah Jazz</td>\n      <td>24.0</td>\n      <td>C</td>\n      <td>26.0</td>\n      <td>7-0</td>\n      <td>231.0</td>\n      <td>Kansas</td>\n      <td>947276.0</td>\n    </tr>\n    <tr>\n      <th>457</th>\n      <td>NaN</td>\n      <td>NaN</td>\n      <td>NaN</td>\n      <td>NaN</td>\n      <td>NaN</td>\n      <td>NaN</td>\n      <td>NaN</td>\n      <td>NaN</td>\n      <td>NaN</td>\n    </tr>\n  </tbody>\n</table>\n</div>"
     },
     "execution_count": 8,
     "metadata": {},
     "output_type": "execute_result"
    }
   ],
   "source": [
    "df.tail()"
   ],
   "metadata": {
    "collapsed": false,
    "ExecuteTime": {
     "end_time": "2024-06-24T15:15:14.918041Z",
     "start_time": "2024-06-24T15:15:14.909286Z"
    }
   },
   "id": "22ccae74c1500da4",
   "execution_count": 8
  },
  {
   "cell_type": "code",
   "outputs": [
    {
     "data": {
      "text/plain": "               Name       Team  Number Position   Age Height  Weight  \\\n448  Gordon Hayward  Utah Jazz    20.0       SF  26.0    6-8   226.0   \n449     Rodney Hood  Utah Jazz     5.0       SG  23.0    6-8   206.0   \n450      Joe Ingles  Utah Jazz     2.0       SF  28.0    6-8   226.0   \n451   Chris Johnson  Utah Jazz    23.0       SF  26.0    6-6   206.0   \n452      Trey Lyles  Utah Jazz    41.0       PF  20.0   6-10   234.0   \n453    Shelvin Mack  Utah Jazz     8.0       PG  26.0    6-3   203.0   \n454       Raul Neto  Utah Jazz    25.0       PG  24.0    6-1   179.0   \n455    Tibor Pleiss  Utah Jazz    21.0        C  26.0    7-3   256.0   \n456     Jeff Withey  Utah Jazz    24.0        C  26.0    7-0   231.0   \n457             NaN        NaN     NaN      NaN   NaN    NaN     NaN   \n\n      College      Salary  \n448    Butler  15409570.0  \n449      Duke   1348440.0  \n450       NaN   2050000.0  \n451    Dayton    981348.0  \n452  Kentucky   2239800.0  \n453    Butler   2433333.0  \n454       NaN    900000.0  \n455       NaN   2900000.0  \n456    Kansas    947276.0  \n457       NaN         NaN  ",
      "text/html": "<div>\n<style scoped>\n    .dataframe tbody tr th:only-of-type {\n        vertical-align: middle;\n    }\n\n    .dataframe tbody tr th {\n        vertical-align: top;\n    }\n\n    .dataframe thead th {\n        text-align: right;\n    }\n</style>\n<table border=\"1\" class=\"dataframe\">\n  <thead>\n    <tr style=\"text-align: right;\">\n      <th></th>\n      <th>Name</th>\n      <th>Team</th>\n      <th>Number</th>\n      <th>Position</th>\n      <th>Age</th>\n      <th>Height</th>\n      <th>Weight</th>\n      <th>College</th>\n      <th>Salary</th>\n    </tr>\n  </thead>\n  <tbody>\n    <tr>\n      <th>448</th>\n      <td>Gordon Hayward</td>\n      <td>Utah Jazz</td>\n      <td>20.0</td>\n      <td>SF</td>\n      <td>26.0</td>\n      <td>6-8</td>\n      <td>226.0</td>\n      <td>Butler</td>\n      <td>15409570.0</td>\n    </tr>\n    <tr>\n      <th>449</th>\n      <td>Rodney Hood</td>\n      <td>Utah Jazz</td>\n      <td>5.0</td>\n      <td>SG</td>\n      <td>23.0</td>\n      <td>6-8</td>\n      <td>206.0</td>\n      <td>Duke</td>\n      <td>1348440.0</td>\n    </tr>\n    <tr>\n      <th>450</th>\n      <td>Joe Ingles</td>\n      <td>Utah Jazz</td>\n      <td>2.0</td>\n      <td>SF</td>\n      <td>28.0</td>\n      <td>6-8</td>\n      <td>226.0</td>\n      <td>NaN</td>\n      <td>2050000.0</td>\n    </tr>\n    <tr>\n      <th>451</th>\n      <td>Chris Johnson</td>\n      <td>Utah Jazz</td>\n      <td>23.0</td>\n      <td>SF</td>\n      <td>26.0</td>\n      <td>6-6</td>\n      <td>206.0</td>\n      <td>Dayton</td>\n      <td>981348.0</td>\n    </tr>\n    <tr>\n      <th>452</th>\n      <td>Trey Lyles</td>\n      <td>Utah Jazz</td>\n      <td>41.0</td>\n      <td>PF</td>\n      <td>20.0</td>\n      <td>6-10</td>\n      <td>234.0</td>\n      <td>Kentucky</td>\n      <td>2239800.0</td>\n    </tr>\n    <tr>\n      <th>453</th>\n      <td>Shelvin Mack</td>\n      <td>Utah Jazz</td>\n      <td>8.0</td>\n      <td>PG</td>\n      <td>26.0</td>\n      <td>6-3</td>\n      <td>203.0</td>\n      <td>Butler</td>\n      <td>2433333.0</td>\n    </tr>\n    <tr>\n      <th>454</th>\n      <td>Raul Neto</td>\n      <td>Utah Jazz</td>\n      <td>25.0</td>\n      <td>PG</td>\n      <td>24.0</td>\n      <td>6-1</td>\n      <td>179.0</td>\n      <td>NaN</td>\n      <td>900000.0</td>\n    </tr>\n    <tr>\n      <th>455</th>\n      <td>Tibor Pleiss</td>\n      <td>Utah Jazz</td>\n      <td>21.0</td>\n      <td>C</td>\n      <td>26.0</td>\n      <td>7-3</td>\n      <td>256.0</td>\n      <td>NaN</td>\n      <td>2900000.0</td>\n    </tr>\n    <tr>\n      <th>456</th>\n      <td>Jeff Withey</td>\n      <td>Utah Jazz</td>\n      <td>24.0</td>\n      <td>C</td>\n      <td>26.0</td>\n      <td>7-0</td>\n      <td>231.0</td>\n      <td>Kansas</td>\n      <td>947276.0</td>\n    </tr>\n    <tr>\n      <th>457</th>\n      <td>NaN</td>\n      <td>NaN</td>\n      <td>NaN</td>\n      <td>NaN</td>\n      <td>NaN</td>\n      <td>NaN</td>\n      <td>NaN</td>\n      <td>NaN</td>\n      <td>NaN</td>\n    </tr>\n  </tbody>\n</table>\n</div>"
     },
     "execution_count": 9,
     "metadata": {},
     "output_type": "execute_result"
    }
   ],
   "source": [
    "# view bottom n data\n",
    "df.tail(n=10)\n",
    "# df.tail(10)"
   ],
   "metadata": {
    "collapsed": false,
    "ExecuteTime": {
     "end_time": "2024-06-24T15:15:14.930594Z",
     "start_time": "2024-06-24T15:15:14.919905Z"
    }
   },
   "id": "d44aff6c78f1833e",
   "execution_count": 9
  },
  {
   "cell_type": "markdown",
   "source": [
    "**Selecting series**"
   ],
   "metadata": {
    "collapsed": false
   },
   "id": "c7f00d3a3006c146"
  },
  {
   "cell_type": "code",
   "outputs": [
    {
     "data": {
      "text/plain": "453    Shelvin Mack\n454       Raul Neto\n455    Tibor Pleiss\n456     Jeff Withey\n457             NaN\nName: Name, dtype: object"
     },
     "execution_count": 10,
     "metadata": {},
     "output_type": "execute_result"
    }
   ],
   "source": [
    "df['Name'].tail()"
   ],
   "metadata": {
    "collapsed": false,
    "ExecuteTime": {
     "end_time": "2024-06-24T15:15:14.936857Z",
     "start_time": "2024-06-24T15:15:14.932247Z"
    }
   },
   "id": "4ee0f1b7a431e036",
   "execution_count": 10
  },
  {
   "cell_type": "code",
   "outputs": [
    {
     "data": {
      "text/plain": "             Name       Team Position\n453  Shelvin Mack  Utah Jazz       PG\n454     Raul Neto  Utah Jazz       PG\n455  Tibor Pleiss  Utah Jazz        C\n456   Jeff Withey  Utah Jazz        C\n457           NaN        NaN      NaN",
      "text/html": "<div>\n<style scoped>\n    .dataframe tbody tr th:only-of-type {\n        vertical-align: middle;\n    }\n\n    .dataframe tbody tr th {\n        vertical-align: top;\n    }\n\n    .dataframe thead th {\n        text-align: right;\n    }\n</style>\n<table border=\"1\" class=\"dataframe\">\n  <thead>\n    <tr style=\"text-align: right;\">\n      <th></th>\n      <th>Name</th>\n      <th>Team</th>\n      <th>Position</th>\n    </tr>\n  </thead>\n  <tbody>\n    <tr>\n      <th>453</th>\n      <td>Shelvin Mack</td>\n      <td>Utah Jazz</td>\n      <td>PG</td>\n    </tr>\n    <tr>\n      <th>454</th>\n      <td>Raul Neto</td>\n      <td>Utah Jazz</td>\n      <td>PG</td>\n    </tr>\n    <tr>\n      <th>455</th>\n      <td>Tibor Pleiss</td>\n      <td>Utah Jazz</td>\n      <td>C</td>\n    </tr>\n    <tr>\n      <th>456</th>\n      <td>Jeff Withey</td>\n      <td>Utah Jazz</td>\n      <td>C</td>\n    </tr>\n    <tr>\n      <th>457</th>\n      <td>NaN</td>\n      <td>NaN</td>\n      <td>NaN</td>\n    </tr>\n  </tbody>\n</table>\n</div>"
     },
     "execution_count": 11,
     "metadata": {},
     "output_type": "execute_result"
    }
   ],
   "source": [
    "df[['Name', 'Team', 'Position']].tail()"
   ],
   "metadata": {
    "collapsed": false,
    "ExecuteTime": {
     "end_time": "2024-06-24T15:15:14.949517Z",
     "start_time": "2024-06-24T15:15:14.938689Z"
    }
   },
   "id": "b69dfb363496df8b",
   "execution_count": 11
  },
  {
   "cell_type": "markdown",
   "source": [
    "## Basic statistical details"
   ],
   "metadata": {
    "collapsed": false
   },
   "id": "36616863e8c4c7f4"
  },
  {
   "cell_type": "code",
   "outputs": [
    {
     "data": {
      "text/plain": "           Number         Age      Weight        Salary\ncount  457.000000  457.000000  457.000000  4.460000e+02\nmean    17.678337   26.938731  221.522976  4.842684e+06\nstd     15.966090    4.404016   26.368343  5.229238e+06\nmin      0.000000   19.000000  161.000000  3.088800e+04\n25%      5.000000   24.000000  200.000000  1.044792e+06\n50%     13.000000   26.000000  220.000000  2.839073e+06\n75%     25.000000   30.000000  240.000000  6.500000e+06\nmax     99.000000   40.000000  307.000000  2.500000e+07",
      "text/html": "<div>\n<style scoped>\n    .dataframe tbody tr th:only-of-type {\n        vertical-align: middle;\n    }\n\n    .dataframe tbody tr th {\n        vertical-align: top;\n    }\n\n    .dataframe thead th {\n        text-align: right;\n    }\n</style>\n<table border=\"1\" class=\"dataframe\">\n  <thead>\n    <tr style=\"text-align: right;\">\n      <th></th>\n      <th>Number</th>\n      <th>Age</th>\n      <th>Weight</th>\n      <th>Salary</th>\n    </tr>\n  </thead>\n  <tbody>\n    <tr>\n      <th>count</th>\n      <td>457.000000</td>\n      <td>457.000000</td>\n      <td>457.000000</td>\n      <td>4.460000e+02</td>\n    </tr>\n    <tr>\n      <th>mean</th>\n      <td>17.678337</td>\n      <td>26.938731</td>\n      <td>221.522976</td>\n      <td>4.842684e+06</td>\n    </tr>\n    <tr>\n      <th>std</th>\n      <td>15.966090</td>\n      <td>4.404016</td>\n      <td>26.368343</td>\n      <td>5.229238e+06</td>\n    </tr>\n    <tr>\n      <th>min</th>\n      <td>0.000000</td>\n      <td>19.000000</td>\n      <td>161.000000</td>\n      <td>3.088800e+04</td>\n    </tr>\n    <tr>\n      <th>25%</th>\n      <td>5.000000</td>\n      <td>24.000000</td>\n      <td>200.000000</td>\n      <td>1.044792e+06</td>\n    </tr>\n    <tr>\n      <th>50%</th>\n      <td>13.000000</td>\n      <td>26.000000</td>\n      <td>220.000000</td>\n      <td>2.839073e+06</td>\n    </tr>\n    <tr>\n      <th>75%</th>\n      <td>25.000000</td>\n      <td>30.000000</td>\n      <td>240.000000</td>\n      <td>6.500000e+06</td>\n    </tr>\n    <tr>\n      <th>max</th>\n      <td>99.000000</td>\n      <td>40.000000</td>\n      <td>307.000000</td>\n      <td>2.500000e+07</td>\n    </tr>\n  </tbody>\n</table>\n</div>"
     },
     "execution_count": 12,
     "metadata": {},
     "output_type": "execute_result"
    }
   ],
   "source": [
    "df.describe()"
   ],
   "metadata": {
    "collapsed": false,
    "ExecuteTime": {
     "end_time": "2024-06-24T15:15:14.967689Z",
     "start_time": "2024-06-24T15:15:14.951736Z"
    }
   },
   "id": "aff417c33e7329bc",
   "execution_count": 12
  },
  {
   "cell_type": "code",
   "outputs": [
    {
     "data": {
      "text/plain": "           Number         Age      Weight        Salary\ncount  457.000000  457.000000  457.000000  4.460000e+02\nmean    17.678337   26.938731  221.522976  4.842684e+06\nstd     15.966090    4.404016   26.368343  5.229238e+06\nmin      0.000000   19.000000  161.000000  3.088800e+04\n20%      4.000000   23.000000  195.600000  9.472760e+05\n40%     10.000000   25.000000  213.400000  1.938840e+06\n50%     13.000000   26.000000  220.000000  2.839073e+06\n60%     18.600000   27.000000  230.000000  3.815000e+06\n80%     30.000000   30.000000  245.000000  8.042895e+06\nmax     99.000000   40.000000  307.000000  2.500000e+07",
      "text/html": "<div>\n<style scoped>\n    .dataframe tbody tr th:only-of-type {\n        vertical-align: middle;\n    }\n\n    .dataframe tbody tr th {\n        vertical-align: top;\n    }\n\n    .dataframe thead th {\n        text-align: right;\n    }\n</style>\n<table border=\"1\" class=\"dataframe\">\n  <thead>\n    <tr style=\"text-align: right;\">\n      <th></th>\n      <th>Number</th>\n      <th>Age</th>\n      <th>Weight</th>\n      <th>Salary</th>\n    </tr>\n  </thead>\n  <tbody>\n    <tr>\n      <th>count</th>\n      <td>457.000000</td>\n      <td>457.000000</td>\n      <td>457.000000</td>\n      <td>4.460000e+02</td>\n    </tr>\n    <tr>\n      <th>mean</th>\n      <td>17.678337</td>\n      <td>26.938731</td>\n      <td>221.522976</td>\n      <td>4.842684e+06</td>\n    </tr>\n    <tr>\n      <th>std</th>\n      <td>15.966090</td>\n      <td>4.404016</td>\n      <td>26.368343</td>\n      <td>5.229238e+06</td>\n    </tr>\n    <tr>\n      <th>min</th>\n      <td>0.000000</td>\n      <td>19.000000</td>\n      <td>161.000000</td>\n      <td>3.088800e+04</td>\n    </tr>\n    <tr>\n      <th>20%</th>\n      <td>4.000000</td>\n      <td>23.000000</td>\n      <td>195.600000</td>\n      <td>9.472760e+05</td>\n    </tr>\n    <tr>\n      <th>40%</th>\n      <td>10.000000</td>\n      <td>25.000000</td>\n      <td>213.400000</td>\n      <td>1.938840e+06</td>\n    </tr>\n    <tr>\n      <th>50%</th>\n      <td>13.000000</td>\n      <td>26.000000</td>\n      <td>220.000000</td>\n      <td>2.839073e+06</td>\n    </tr>\n    <tr>\n      <th>60%</th>\n      <td>18.600000</td>\n      <td>27.000000</td>\n      <td>230.000000</td>\n      <td>3.815000e+06</td>\n    </tr>\n    <tr>\n      <th>80%</th>\n      <td>30.000000</td>\n      <td>30.000000</td>\n      <td>245.000000</td>\n      <td>8.042895e+06</td>\n    </tr>\n    <tr>\n      <th>max</th>\n      <td>99.000000</td>\n      <td>40.000000</td>\n      <td>307.000000</td>\n      <td>2.500000e+07</td>\n    </tr>\n  </tbody>\n</table>\n</div>"
     },
     "execution_count": 13,
     "metadata": {},
     "output_type": "execute_result"
    }
   ],
   "source": [
    "df.describe(percentiles=[.20, .40, .60, .80])"
   ],
   "metadata": {
    "collapsed": false,
    "ExecuteTime": {
     "end_time": "2024-06-24T15:15:14.982999Z",
     "start_time": "2024-06-24T15:15:14.970243Z"
    }
   },
   "id": "6fb49663d8f700c2",
   "execution_count": 13
  },
  {
   "cell_type": "code",
   "outputs": [
    {
     "data": {
      "text/plain": "                 Name                  Team      Number Position         Age  \\\ncount             457                   457  457.000000      457  457.000000   \nunique            457                    30         NaN        5         NaN   \ntop     Avery Bradley  New Orleans Pelicans         NaN       SG         NaN   \nfreq                1                    19         NaN      102         NaN   \nmean              NaN                   NaN   17.678337      NaN   26.938731   \nstd               NaN                   NaN   15.966090      NaN    4.404016   \nmin               NaN                   NaN    0.000000      NaN   19.000000   \n25%               NaN                   NaN    5.000000      NaN   24.000000   \n50%               NaN                   NaN   13.000000      NaN   26.000000   \n75%               NaN                   NaN   25.000000      NaN   30.000000   \nmax               NaN                   NaN   99.000000      NaN   40.000000   \n\n       Height      Weight   College        Salary  \ncount     457  457.000000       373  4.460000e+02  \nunique     18         NaN       118           NaN  \ntop       6-9         NaN  Kentucky           NaN  \nfreq       59         NaN        22           NaN  \nmean      NaN  221.522976       NaN  4.842684e+06  \nstd       NaN   26.368343       NaN  5.229238e+06  \nmin       NaN  161.000000       NaN  3.088800e+04  \n25%       NaN  200.000000       NaN  1.044792e+06  \n50%       NaN  220.000000       NaN  2.839073e+06  \n75%       NaN  240.000000       NaN  6.500000e+06  \nmax       NaN  307.000000       NaN  2.500000e+07  ",
      "text/html": "<div>\n<style scoped>\n    .dataframe tbody tr th:only-of-type {\n        vertical-align: middle;\n    }\n\n    .dataframe tbody tr th {\n        vertical-align: top;\n    }\n\n    .dataframe thead th {\n        text-align: right;\n    }\n</style>\n<table border=\"1\" class=\"dataframe\">\n  <thead>\n    <tr style=\"text-align: right;\">\n      <th></th>\n      <th>Name</th>\n      <th>Team</th>\n      <th>Number</th>\n      <th>Position</th>\n      <th>Age</th>\n      <th>Height</th>\n      <th>Weight</th>\n      <th>College</th>\n      <th>Salary</th>\n    </tr>\n  </thead>\n  <tbody>\n    <tr>\n      <th>count</th>\n      <td>457</td>\n      <td>457</td>\n      <td>457.000000</td>\n      <td>457</td>\n      <td>457.000000</td>\n      <td>457</td>\n      <td>457.000000</td>\n      <td>373</td>\n      <td>4.460000e+02</td>\n    </tr>\n    <tr>\n      <th>unique</th>\n      <td>457</td>\n      <td>30</td>\n      <td>NaN</td>\n      <td>5</td>\n      <td>NaN</td>\n      <td>18</td>\n      <td>NaN</td>\n      <td>118</td>\n      <td>NaN</td>\n    </tr>\n    <tr>\n      <th>top</th>\n      <td>Avery Bradley</td>\n      <td>New Orleans Pelicans</td>\n      <td>NaN</td>\n      <td>SG</td>\n      <td>NaN</td>\n      <td>6-9</td>\n      <td>NaN</td>\n      <td>Kentucky</td>\n      <td>NaN</td>\n    </tr>\n    <tr>\n      <th>freq</th>\n      <td>1</td>\n      <td>19</td>\n      <td>NaN</td>\n      <td>102</td>\n      <td>NaN</td>\n      <td>59</td>\n      <td>NaN</td>\n      <td>22</td>\n      <td>NaN</td>\n    </tr>\n    <tr>\n      <th>mean</th>\n      <td>NaN</td>\n      <td>NaN</td>\n      <td>17.678337</td>\n      <td>NaN</td>\n      <td>26.938731</td>\n      <td>NaN</td>\n      <td>221.522976</td>\n      <td>NaN</td>\n      <td>4.842684e+06</td>\n    </tr>\n    <tr>\n      <th>std</th>\n      <td>NaN</td>\n      <td>NaN</td>\n      <td>15.966090</td>\n      <td>NaN</td>\n      <td>4.404016</td>\n      <td>NaN</td>\n      <td>26.368343</td>\n      <td>NaN</td>\n      <td>5.229238e+06</td>\n    </tr>\n    <tr>\n      <th>min</th>\n      <td>NaN</td>\n      <td>NaN</td>\n      <td>0.000000</td>\n      <td>NaN</td>\n      <td>19.000000</td>\n      <td>NaN</td>\n      <td>161.000000</td>\n      <td>NaN</td>\n      <td>3.088800e+04</td>\n    </tr>\n    <tr>\n      <th>25%</th>\n      <td>NaN</td>\n      <td>NaN</td>\n      <td>5.000000</td>\n      <td>NaN</td>\n      <td>24.000000</td>\n      <td>NaN</td>\n      <td>200.000000</td>\n      <td>NaN</td>\n      <td>1.044792e+06</td>\n    </tr>\n    <tr>\n      <th>50%</th>\n      <td>NaN</td>\n      <td>NaN</td>\n      <td>13.000000</td>\n      <td>NaN</td>\n      <td>26.000000</td>\n      <td>NaN</td>\n      <td>220.000000</td>\n      <td>NaN</td>\n      <td>2.839073e+06</td>\n    </tr>\n    <tr>\n      <th>75%</th>\n      <td>NaN</td>\n      <td>NaN</td>\n      <td>25.000000</td>\n      <td>NaN</td>\n      <td>30.000000</td>\n      <td>NaN</td>\n      <td>240.000000</td>\n      <td>NaN</td>\n      <td>6.500000e+06</td>\n    </tr>\n    <tr>\n      <th>max</th>\n      <td>NaN</td>\n      <td>NaN</td>\n      <td>99.000000</td>\n      <td>NaN</td>\n      <td>40.000000</td>\n      <td>NaN</td>\n      <td>307.000000</td>\n      <td>NaN</td>\n      <td>2.500000e+07</td>\n    </tr>\n  </tbody>\n</table>\n</div>"
     },
     "execution_count": 14,
     "metadata": {},
     "output_type": "execute_result"
    }
   ],
   "source": [
    "df.describe(include=['object', 'float', 'int'])"
   ],
   "metadata": {
    "collapsed": false,
    "ExecuteTime": {
     "end_time": "2024-06-24T15:15:15.013379Z",
     "start_time": "2024-06-24T15:15:14.987803Z"
    }
   },
   "id": "cb1fc1f68400b85",
   "execution_count": 14
  },
  {
   "cell_type": "markdown",
   "source": [
    "**Describing details of series with different data types**"
   ],
   "metadata": {
    "collapsed": false
   },
   "id": "22fbace3bba79bf5"
  },
  {
   "cell_type": "code",
   "outputs": [
    {
     "data": {
      "text/plain": "count               457\nunique              457\ntop       Avery Bradley\nfreq                  1\nName: Name, dtype: object"
     },
     "execution_count": 15,
     "metadata": {},
     "output_type": "execute_result"
    }
   ],
   "source": [
    "df['Name'].describe()\n",
    "# Column: Name dtype: object"
   ],
   "metadata": {
    "collapsed": false,
    "ExecuteTime": {
     "end_time": "2024-06-24T15:15:15.022858Z",
     "start_time": "2024-06-24T15:15:15.014080Z"
    }
   },
   "id": "2936b0975f5ae0e6",
   "execution_count": 15
  },
  {
   "cell_type": "code",
   "outputs": [
    {
     "data": {
      "text/plain": "count    457.000000\nmean      26.938731\nstd        4.404016\nmin       19.000000\n25%       24.000000\n50%       26.000000\n75%       30.000000\nmax       40.000000\nName: Age, dtype: float64"
     },
     "execution_count": 16,
     "metadata": {},
     "output_type": "execute_result"
    }
   ],
   "source": [
    "df['Age'].describe()"
   ],
   "metadata": {
    "collapsed": false,
    "ExecuteTime": {
     "end_time": "2024-06-24T15:15:15.033025Z",
     "start_time": "2024-06-24T15:15:15.023891Z"
    }
   },
   "id": "65ffb1567b92a596",
   "execution_count": 16
  },
  {
   "cell_type": "code",
   "outputs": [
    {
     "data": {
      "text/plain": "count     457\nunique      5\ntop        SG\nfreq      102\nName: Position, dtype: object"
     },
     "execution_count": 17,
     "metadata": {},
     "output_type": "execute_result"
    }
   ],
   "source": [
    "df['Position'].describe()"
   ],
   "metadata": {
    "collapsed": false,
    "ExecuteTime": {
     "end_time": "2024-06-24T15:15:15.044464Z",
     "start_time": "2024-06-24T15:15:15.035143Z"
    }
   },
   "id": "78d29407dc341f42",
   "execution_count": 17
  },
  {
   "cell_type": "markdown",
   "source": [
    "## Pandas DataFrame to numpy array"
   ],
   "metadata": {
    "collapsed": false
   },
   "id": "72f227beb4d2ee42"
  },
  {
   "cell_type": "code",
   "outputs": [
    {
     "data": {
      "text/plain": "(array([['Avery Bradley', 'Boston Celtics', 0.0, ..., 180.0, 'Texas',\n         7730337.0],\n        ['Jae Crowder', 'Boston Celtics', 99.0, ..., 235.0, 'Marquette',\n         6796117.0],\n        ['John Holland', 'Boston Celtics', 30.0, ..., 205.0,\n         'Boston University', nan],\n        ...,\n        ['Tibor Pleiss', 'Utah Jazz', 21.0, ..., 256.0, nan, 2900000.0],\n        ['Jeff Withey', 'Utah Jazz', 24.0, ..., 231.0, 'Kansas', 947276.0],\n        [nan, nan, nan, ..., nan, nan, nan]], dtype=object),\n numpy.ndarray,\n dtype('O'),\n 2,\n (458, 9))"
     },
     "execution_count": 18,
     "metadata": {},
     "output_type": "execute_result"
    }
   ],
   "source": [
    "arr = df.to_numpy()\n",
    "arr, type(arr), arr.dtype, arr.ndim, arr.shape"
   ],
   "metadata": {
    "collapsed": false,
    "ExecuteTime": {
     "end_time": "2024-06-24T15:15:15.056621Z",
     "start_time": "2024-06-24T15:15:15.049400Z"
    }
   },
   "id": "9db53e7fb5b312d7",
   "execution_count": 18
  },
  {
   "cell_type": "markdown",
   "source": [
    "**Converting particular column**"
   ],
   "metadata": {
    "collapsed": false
   },
   "id": "3c9641d3fac5d783"
  },
  {
   "cell_type": "code",
   "outputs": [
    {
     "data": {
      "text/plain": "(array([25., 25., 27., 22., 29., 29., 21., 25., 22., 22., 24., 27., 27.,\n        20., 26., 27., 24., 28., 21., 32., 22., 26., 23., 28., 21., 26.,\n        25., 26., 28., 27., 30., 33., 23., 32., 34., 25., 24., 23., 28.,\n        26., 20., 26., 28., 32., 25., 23., 37., 25., 25., 22., 22., 22.,\n        32., 24., 24., 22., 20., 27., 22., 25., 20., 23., 20., 29., 26.,\n        29., 24., 30., 23., 27., 23., 25., 36., 29., 24., 24., 33., 24.,\n        31., 25., 28., 26., 26., 32., 30., 20., 23., 30., 28., 26., 33.,\n        27., 29., 36., 23., 29., 27., 28., 27., 29., 31., 38., 39., 31.,\n        23., 25., 31., 24., 23., 37., 24., 29., 33., 25., 23., 21., 20.,\n        27., 29., 36., 31., 26., 19., 28., 33., 21., 25., 24., 22., 27.,\n        25., 32., 30., 31., 22., 23., 25., 27., 30., 36., 27., 22., 28.,\n        25., 25., 24., 29., 27., 23., 24., 30., 25., 31., 26., 35., 23.,\n        35., 30., 27., 24., 25., 27., 31., 21., 27., 24., 25., 33., 24.,\n        31., 35., 35., 35., 31., 27., 25., 29., 25., 30., 25., 33., 33.,\n        29., 36., 25., 25., 23., 23., 22., 23., 23., 26., 20., 28., 26.,\n        31., 27., 24., 30., 26., 30., 28., 25., 28., 29., 29., 22., 30.,\n        20., 25., 23., 21., 27., 24., 25., 21., 25., 21., 28., 24., 26.,\n        32., 23., 21., 27., 29., 19., 22., 31., 28., 31., 33., 33., 29.,\n        28., 29., 37., 32., 27., 24., 31., 31., 30., 27., 27., 30., 22.,\n        22., 27., 26., 22., 30., 24., 23., 25., 30., 38., 21., 34., 37.,\n        36., 39., 28., 23., 29., 31., 25., 23., 22., 24., 24., 34., 25.,\n        28., 28., 28., 28., 29., 26., 27., 29., 23., 23., 30., 25., 26.,\n        25., 29., 27., 25., 25., 27., 31., 28., 30., 22., 36., 34., 40.,\n        38., 28., 24., 27., 33., 40., 27., 34., 26., 35., 26., 24., 35.,\n        30., 31., 35., 31., 24., 24., 22., 27., 32., 31., 24., 27., 27.,\n        24., 27., 30., 21., 28., 31., 23., 22., 24., 30., 27., 26., 29.,\n        23., 32., 31., 30., 30., 36., 34., 24., 29., 22., 33., 34., 23.,\n        26., 20., 30., 26., 23., 20., 21., 29., 26., 23., 24., 26., 24.,\n        22., 30., 25., 32., 33., 22., 30., 24., 34., 32., 27., 33., 26.,\n        20., 23., 30., 30., 29., 25., 28., 28., 25., 29., 26., 27., 21.,\n        21., 24., 36., 20., 34., 21., 23., 23., 28., 26., 40., 20., 21.,\n        23., 25., 30., 36., 25., 29., 25., 20., 21., 22., 35., 27., 32.,\n        24., 26., 24., 24., 38., 30., 21., 24., 28., 24., 27., 20., 25.,\n        23., 24., 27., 23., 28., 34., 24., 25., 24., 23., 26., 30., 20.,\n        28., 23., 24., 20., 24., 23., 26., 23., 28., 26., 20., 26., 24.,\n        26., 26., nan]),\n numpy.ndarray,\n dtype('float64'),\n 1,\n (458,))"
     },
     "execution_count": 19,
     "metadata": {},
     "output_type": "execute_result"
    }
   ],
   "source": [
    "arr = df['Age'].to_numpy()\n",
    "arr, type(arr), arr.dtype, arr.ndim, arr.shape"
   ],
   "metadata": {
    "collapsed": false,
    "ExecuteTime": {
     "end_time": "2024-06-24T15:15:15.066467Z",
     "start_time": "2024-06-24T15:15:15.058109Z"
    }
   },
   "id": "d087254f686f5ee9",
   "execution_count": 19
  },
  {
   "cell_type": "markdown",
   "source": [
    "## Pandas Series to numpy array"
   ],
   "metadata": {
    "collapsed": false
   },
   "id": "c67ede3f1b4d9672"
  },
  {
   "cell_type": "code",
   "outputs": [
    {
     "data": {
      "text/plain": "(pandas.core.series.Series,\n array([ 0, 99, 30, 28,  8, 90, 55, 41, 12, 36,  7,  4, 11, 13, 44, 44, 22,\n        21, 24,  2, 10,  6,  0, 11,  1, 33, 41, 14, 15, 30,  4, 17, 43,  7,\n         3, 11,  2, 13,  8,  9,  6,  1, 42, 18, 23,  5, 42,  0, 33, 21, 39,\n        22,  7,  5, 12,  4,  8,  1, 11, 31, 35,  8, 20,  5, 10,  3,  6,  7,\n        92, 54, 24, 31,  4,  1, 17, 55, 19, 40, 12, 21, 30, 31, 23,  9, 34,\n        36, 20,  4,  5, 11, 18, 45, 19, 11, 22,  8, 32, 33,  6, 12,  3, 34,\n         9,  4, 25, 30,  2, 28,  3, 24,  6, 17,  9,  4,  7, 30,  1, 50, 23,\n        37,  0,  2,  1, 10,  4, 20, 23,  3, 21, 30, 25, 14, 35, 17, 12, 15,\n        13,  5,  3, 31, 18,  0,  7, 15, 30, 26,  8, 41, 23, 25,  9, 41,  0,\n        21, 34,  6, 16, 22,  7,  3, 44, 55, 13,  5,  1, 20,  8,  9,  2, 23,\n        24, 30,  1, 14,  0, 12, 20,  4,  5, 13, 52, 50, 12, 22, 17, 25,  5,\n         8,  0, 34,  6,  1,  3, 20, 13, 43,  5, 25, 11, 13,  3, 27, 44, 10,\n        28,  0, 40,  2, 33, 42,  1, 34, 19,  5,  9, 11, 31, 17,  3, 22, 15,\n         6, 77, 12, 18, 21, 20,  1,  5, 21,  2, 34, 42, 23, 11, 50, 41, 27,\n        25,  7,  3,  8,  1,  8,  2, 33, 15,  7,  0, 13, 35, 12,  6, 32, 20,\n         5, 31,  3,  9,  7, 22, 15, 11,  8,  4, 33,  0, 19, 10,  5, 14, 50,\n         1, 35, 34, 42, 33,  3,  8, 30, 44, 23, 31, 16,  4,  1,  2, 15, 10,\n        25, 11,  0,  5, 20, 12,  1, 15, 33, 21, 20, 14,  2, 40, 23, 24,  8,\n         9, 17, 30, 24, 10, 12, 15, 43, 26,  4, 31, 13, 17, 32, 25, 11, 22,\n         0,  5, 30, 12, 50,  9,  0, 25, 44, 14,  3,  1,  7, 15,  2, 40,  1,\n         9,  7, 14, 40,  2,  8,  4,  0,  5,  3, 12, 21, 20, 11,  3, 10,  0,\n        23,  7, 55, 11, 13, 44,  5,  4, 14,  9, 32,  6,  3,  1,  8, 90, 13,\n        21, 42,  5, 12, 22,  7, 17, 15,  2,  0, 12,  5, 21, 35,  8, 14, 15,\n        77,  3,  0,  1, 23,  9,  6, 88,  5, 21,  1,  8, 15, 33, 14, 12,  9,\n        10,  4, 32, 22, 12,  4, 35,  6, 34,  9, 11, 33, 13,  2, 22, 21,  5,\n         3,  0, 34,  8,  5, 23, 17,  4,  9, 35, 11,  0,  3, 44, 24,  2, 21,\n        33,  3, 10, 11, 15, 27, 20,  5,  2, 23, 41,  8, 25, 21, 24]),\n numpy.ndarray,\n 1,\n (457,))"
     },
     "execution_count": 20,
     "metadata": {},
     "output_type": "execute_result"
    }
   ],
   "source": [
    "series = pd.Series(df['Number'].dropna(inplace=False))\n",
    "# Dropping the NaN values. Otherwise, it gives RuntimeWarning while converting datatype to int64.\n",
    "arr = series.to_numpy(dtype='int64')\n",
    "type(series), arr, type(arr), arr.ndim, arr.shape"
   ],
   "metadata": {
    "collapsed": false,
    "ExecuteTime": {
     "end_time": "2024-06-24T15:15:15.073159Z",
     "start_time": "2024-06-24T15:15:15.067960Z"
    }
   },
   "id": "83391461499374a2",
   "execution_count": 20
  },
  {
   "cell_type": "markdown",
   "source": [
    "## Finding missing values"
   ],
   "metadata": {
    "collapsed": false
   },
   "id": "438cebca7cb7e2b6"
  },
  {
   "cell_type": "code",
   "outputs": [
    {
     "data": {
      "text/plain": "      Name   Team  Number  Position    Age  Height  Weight  College  Salary\n0    False  False   False     False  False   False   False    False   False\n1    False  False   False     False  False   False   False    False   False\n2    False  False   False     False  False   False   False    False    True\n3    False  False   False     False  False   False   False    False   False\n4    False  False   False     False  False   False   False     True   False\n..     ...    ...     ...       ...    ...     ...     ...      ...     ...\n453  False  False   False     False  False   False   False    False   False\n454  False  False   False     False  False   False   False     True   False\n455  False  False   False     False  False   False   False     True   False\n456  False  False   False     False  False   False   False    False   False\n457   True   True    True      True   True    True    True     True    True\n\n[458 rows x 9 columns]",
      "text/html": "<div>\n<style scoped>\n    .dataframe tbody tr th:only-of-type {\n        vertical-align: middle;\n    }\n\n    .dataframe tbody tr th {\n        vertical-align: top;\n    }\n\n    .dataframe thead th {\n        text-align: right;\n    }\n</style>\n<table border=\"1\" class=\"dataframe\">\n  <thead>\n    <tr style=\"text-align: right;\">\n      <th></th>\n      <th>Name</th>\n      <th>Team</th>\n      <th>Number</th>\n      <th>Position</th>\n      <th>Age</th>\n      <th>Height</th>\n      <th>Weight</th>\n      <th>College</th>\n      <th>Salary</th>\n    </tr>\n  </thead>\n  <tbody>\n    <tr>\n      <th>0</th>\n      <td>False</td>\n      <td>False</td>\n      <td>False</td>\n      <td>False</td>\n      <td>False</td>\n      <td>False</td>\n      <td>False</td>\n      <td>False</td>\n      <td>False</td>\n    </tr>\n    <tr>\n      <th>1</th>\n      <td>False</td>\n      <td>False</td>\n      <td>False</td>\n      <td>False</td>\n      <td>False</td>\n      <td>False</td>\n      <td>False</td>\n      <td>False</td>\n      <td>False</td>\n    </tr>\n    <tr>\n      <th>2</th>\n      <td>False</td>\n      <td>False</td>\n      <td>False</td>\n      <td>False</td>\n      <td>False</td>\n      <td>False</td>\n      <td>False</td>\n      <td>False</td>\n      <td>True</td>\n    </tr>\n    <tr>\n      <th>3</th>\n      <td>False</td>\n      <td>False</td>\n      <td>False</td>\n      <td>False</td>\n      <td>False</td>\n      <td>False</td>\n      <td>False</td>\n      <td>False</td>\n      <td>False</td>\n    </tr>\n    <tr>\n      <th>4</th>\n      <td>False</td>\n      <td>False</td>\n      <td>False</td>\n      <td>False</td>\n      <td>False</td>\n      <td>False</td>\n      <td>False</td>\n      <td>True</td>\n      <td>False</td>\n    </tr>\n    <tr>\n      <th>...</th>\n      <td>...</td>\n      <td>...</td>\n      <td>...</td>\n      <td>...</td>\n      <td>...</td>\n      <td>...</td>\n      <td>...</td>\n      <td>...</td>\n      <td>...</td>\n    </tr>\n    <tr>\n      <th>453</th>\n      <td>False</td>\n      <td>False</td>\n      <td>False</td>\n      <td>False</td>\n      <td>False</td>\n      <td>False</td>\n      <td>False</td>\n      <td>False</td>\n      <td>False</td>\n    </tr>\n    <tr>\n      <th>454</th>\n      <td>False</td>\n      <td>False</td>\n      <td>False</td>\n      <td>False</td>\n      <td>False</td>\n      <td>False</td>\n      <td>False</td>\n      <td>True</td>\n      <td>False</td>\n    </tr>\n    <tr>\n      <th>455</th>\n      <td>False</td>\n      <td>False</td>\n      <td>False</td>\n      <td>False</td>\n      <td>False</td>\n      <td>False</td>\n      <td>False</td>\n      <td>True</td>\n      <td>False</td>\n    </tr>\n    <tr>\n      <th>456</th>\n      <td>False</td>\n      <td>False</td>\n      <td>False</td>\n      <td>False</td>\n      <td>False</td>\n      <td>False</td>\n      <td>False</td>\n      <td>False</td>\n      <td>False</td>\n    </tr>\n    <tr>\n      <th>457</th>\n      <td>True</td>\n      <td>True</td>\n      <td>True</td>\n      <td>True</td>\n      <td>True</td>\n      <td>True</td>\n      <td>True</td>\n      <td>True</td>\n      <td>True</td>\n    </tr>\n  </tbody>\n</table>\n<p>458 rows × 9 columns</p>\n</div>"
     },
     "execution_count": 21,
     "metadata": {},
     "output_type": "execute_result"
    }
   ],
   "source": [
    "df.isnull()"
   ],
   "metadata": {
    "collapsed": false,
    "ExecuteTime": {
     "end_time": "2024-06-24T15:15:15.080496Z",
     "start_time": "2024-06-24T15:15:15.074128Z"
    }
   },
   "id": "e9a057d11349f44d",
   "execution_count": 21
  },
  {
   "cell_type": "code",
   "outputs": [
    {
     "data": {
      "text/plain": "Name         1\nTeam         1\nNumber       1\nPosition     1\nAge          1\nHeight       1\nWeight       1\nCollege     85\nSalary      12\ndtype: int64"
     },
     "execution_count": 22,
     "metadata": {},
     "output_type": "execute_result"
    }
   ],
   "source": [
    "df.isnull().sum()"
   ],
   "metadata": {
    "collapsed": false,
    "ExecuteTime": {
     "end_time": "2024-06-24T15:15:15.086817Z",
     "start_time": "2024-06-24T15:15:15.081554Z"
    }
   },
   "id": "51dd18753def8883",
   "execution_count": 22
  },
  {
   "cell_type": "code",
   "outputs": [
    {
     "data": {
      "text/plain": "   Name  Team  Number  Position   Age  Height  Weight  College  Salary\n0  True  True    True      True  True    True    True     True    True\n1  True  True    True      True  True    True    True     True    True\n2  True  True    True      True  True    True    True     True   False\n3  True  True    True      True  True    True    True     True    True\n4  True  True    True      True  True    True    True    False    True",
      "text/html": "<div>\n<style scoped>\n    .dataframe tbody tr th:only-of-type {\n        vertical-align: middle;\n    }\n\n    .dataframe tbody tr th {\n        vertical-align: top;\n    }\n\n    .dataframe thead th {\n        text-align: right;\n    }\n</style>\n<table border=\"1\" class=\"dataframe\">\n  <thead>\n    <tr style=\"text-align: right;\">\n      <th></th>\n      <th>Name</th>\n      <th>Team</th>\n      <th>Number</th>\n      <th>Position</th>\n      <th>Age</th>\n      <th>Height</th>\n      <th>Weight</th>\n      <th>College</th>\n      <th>Salary</th>\n    </tr>\n  </thead>\n  <tbody>\n    <tr>\n      <th>0</th>\n      <td>True</td>\n      <td>True</td>\n      <td>True</td>\n      <td>True</td>\n      <td>True</td>\n      <td>True</td>\n      <td>True</td>\n      <td>True</td>\n      <td>True</td>\n    </tr>\n    <tr>\n      <th>1</th>\n      <td>True</td>\n      <td>True</td>\n      <td>True</td>\n      <td>True</td>\n      <td>True</td>\n      <td>True</td>\n      <td>True</td>\n      <td>True</td>\n      <td>True</td>\n    </tr>\n    <tr>\n      <th>2</th>\n      <td>True</td>\n      <td>True</td>\n      <td>True</td>\n      <td>True</td>\n      <td>True</td>\n      <td>True</td>\n      <td>True</td>\n      <td>True</td>\n      <td>False</td>\n    </tr>\n    <tr>\n      <th>3</th>\n      <td>True</td>\n      <td>True</td>\n      <td>True</td>\n      <td>True</td>\n      <td>True</td>\n      <td>True</td>\n      <td>True</td>\n      <td>True</td>\n      <td>True</td>\n    </tr>\n    <tr>\n      <th>4</th>\n      <td>True</td>\n      <td>True</td>\n      <td>True</td>\n      <td>True</td>\n      <td>True</td>\n      <td>True</td>\n      <td>True</td>\n      <td>False</td>\n      <td>True</td>\n    </tr>\n  </tbody>\n</table>\n</div>"
     },
     "execution_count": 23,
     "metadata": {},
     "output_type": "execute_result"
    }
   ],
   "source": [
    "df.notnull().head()"
   ],
   "metadata": {
    "collapsed": false,
    "ExecuteTime": {
     "end_time": "2024-06-24T15:15:15.092124Z",
     "start_time": "2024-06-24T15:15:15.087396Z"
    }
   },
   "id": "22245cd848ad447c",
   "execution_count": 23
  },
  {
   "cell_type": "code",
   "outputs": [
    {
     "data": {
      "text/plain": "Name        457\nTeam        457\nNumber      457\nPosition    457\nAge         457\nHeight      457\nWeight      457\nCollege     373\nSalary      446\ndtype: int64"
     },
     "execution_count": 24,
     "metadata": {},
     "output_type": "execute_result"
    }
   ],
   "source": [
    "df.notnull().sum()"
   ],
   "metadata": {
    "collapsed": false,
    "ExecuteTime": {
     "end_time": "2024-06-24T15:15:15.096795Z",
     "start_time": "2024-06-24T15:15:15.092964Z"
    }
   },
   "id": "9e5f9dc3ba90b680",
   "execution_count": 24
  }
 ],
 "metadata": {
  "kernelspec": {
   "display_name": "Python 3",
   "language": "python",
   "name": "python3"
  },
  "language_info": {
   "codemirror_mode": {
    "name": "ipython",
    "version": 2
   },
   "file_extension": ".py",
   "mimetype": "text/x-python",
   "name": "python",
   "nbconvert_exporter": "python",
   "pygments_lexer": "ipython2",
   "version": "2.7.6"
  }
 },
 "nbformat": 4,
 "nbformat_minor": 5
}

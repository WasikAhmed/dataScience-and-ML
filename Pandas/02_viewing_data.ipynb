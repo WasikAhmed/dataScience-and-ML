{
 "cells": [
  {
   "cell_type": "markdown",
   "source": [
    "# Viewing Data in Pandas"
   ],
   "metadata": {
    "collapsed": false
   },
   "id": "93c60b0978710838"
  },
  {
   "cell_type": "markdown",
   "source": [
    "**Importing modules**"
   ],
   "metadata": {
    "collapsed": false
   },
   "id": "27a3e29e26917504"
  },
  {
   "cell_type": "code",
   "outputs": [],
   "source": [
    "import pandas as pd\n",
    "import numpy as np"
   ],
   "metadata": {
    "collapsed": false,
    "ExecuteTime": {
     "end_time": "2024-06-23T14:08:35.263250Z",
     "start_time": "2024-06-23T14:08:34.386537Z"
    }
   },
   "id": "983bb4e23c4e8101",
   "execution_count": 1
  },
  {
   "cell_type": "markdown",
   "source": [
    "**Creating DataFrame**"
   ],
   "metadata": {
    "collapsed": false
   },
   "id": "425557a8b03eaf16"
  },
  {
   "cell_type": "code",
   "outputs": [
    {
     "data": {
      "text/plain": "              Name            Team  Number Position   Age Height  Weight  \\\n0    Avery Bradley  Boston Celtics     0.0       PG  25.0    6-2   180.0   \n1      Jae Crowder  Boston Celtics    99.0       SF  25.0    6-6   235.0   \n2     John Holland  Boston Celtics    30.0       SG  27.0    6-5   205.0   \n3      R.J. Hunter  Boston Celtics    28.0       SG  22.0    6-5   185.0   \n4    Jonas Jerebko  Boston Celtics     8.0       PF  29.0   6-10   231.0   \n..             ...             ...     ...      ...   ...    ...     ...   \n453   Shelvin Mack       Utah Jazz     8.0       PG  26.0    6-3   203.0   \n454      Raul Neto       Utah Jazz    25.0       PG  24.0    6-1   179.0   \n455   Tibor Pleiss       Utah Jazz    21.0        C  26.0    7-3   256.0   \n456    Jeff Withey       Utah Jazz    24.0        C  26.0    7-0   231.0   \n457            NaN             NaN     NaN      NaN   NaN    NaN     NaN   \n\n               College     Salary  \n0                Texas  7730337.0  \n1            Marquette  6796117.0  \n2    Boston University        NaN  \n3        Georgia State  1148640.0  \n4                  NaN  5000000.0  \n..                 ...        ...  \n453             Butler  2433333.0  \n454                NaN   900000.0  \n455                NaN  2900000.0  \n456             Kansas   947276.0  \n457                NaN        NaN  \n\n[458 rows x 9 columns]",
      "text/html": "<div>\n<style scoped>\n    .dataframe tbody tr th:only-of-type {\n        vertical-align: middle;\n    }\n\n    .dataframe tbody tr th {\n        vertical-align: top;\n    }\n\n    .dataframe thead th {\n        text-align: right;\n    }\n</style>\n<table border=\"1\" class=\"dataframe\">\n  <thead>\n    <tr style=\"text-align: right;\">\n      <th></th>\n      <th>Name</th>\n      <th>Team</th>\n      <th>Number</th>\n      <th>Position</th>\n      <th>Age</th>\n      <th>Height</th>\n      <th>Weight</th>\n      <th>College</th>\n      <th>Salary</th>\n    </tr>\n  </thead>\n  <tbody>\n    <tr>\n      <th>0</th>\n      <td>Avery Bradley</td>\n      <td>Boston Celtics</td>\n      <td>0.0</td>\n      <td>PG</td>\n      <td>25.0</td>\n      <td>6-2</td>\n      <td>180.0</td>\n      <td>Texas</td>\n      <td>7730337.0</td>\n    </tr>\n    <tr>\n      <th>1</th>\n      <td>Jae Crowder</td>\n      <td>Boston Celtics</td>\n      <td>99.0</td>\n      <td>SF</td>\n      <td>25.0</td>\n      <td>6-6</td>\n      <td>235.0</td>\n      <td>Marquette</td>\n      <td>6796117.0</td>\n    </tr>\n    <tr>\n      <th>2</th>\n      <td>John Holland</td>\n      <td>Boston Celtics</td>\n      <td>30.0</td>\n      <td>SG</td>\n      <td>27.0</td>\n      <td>6-5</td>\n      <td>205.0</td>\n      <td>Boston University</td>\n      <td>NaN</td>\n    </tr>\n    <tr>\n      <th>3</th>\n      <td>R.J. Hunter</td>\n      <td>Boston Celtics</td>\n      <td>28.0</td>\n      <td>SG</td>\n      <td>22.0</td>\n      <td>6-5</td>\n      <td>185.0</td>\n      <td>Georgia State</td>\n      <td>1148640.0</td>\n    </tr>\n    <tr>\n      <th>4</th>\n      <td>Jonas Jerebko</td>\n      <td>Boston Celtics</td>\n      <td>8.0</td>\n      <td>PF</td>\n      <td>29.0</td>\n      <td>6-10</td>\n      <td>231.0</td>\n      <td>NaN</td>\n      <td>5000000.0</td>\n    </tr>\n    <tr>\n      <th>...</th>\n      <td>...</td>\n      <td>...</td>\n      <td>...</td>\n      <td>...</td>\n      <td>...</td>\n      <td>...</td>\n      <td>...</td>\n      <td>...</td>\n      <td>...</td>\n    </tr>\n    <tr>\n      <th>453</th>\n      <td>Shelvin Mack</td>\n      <td>Utah Jazz</td>\n      <td>8.0</td>\n      <td>PG</td>\n      <td>26.0</td>\n      <td>6-3</td>\n      <td>203.0</td>\n      <td>Butler</td>\n      <td>2433333.0</td>\n    </tr>\n    <tr>\n      <th>454</th>\n      <td>Raul Neto</td>\n      <td>Utah Jazz</td>\n      <td>25.0</td>\n      <td>PG</td>\n      <td>24.0</td>\n      <td>6-1</td>\n      <td>179.0</td>\n      <td>NaN</td>\n      <td>900000.0</td>\n    </tr>\n    <tr>\n      <th>455</th>\n      <td>Tibor Pleiss</td>\n      <td>Utah Jazz</td>\n      <td>21.0</td>\n      <td>C</td>\n      <td>26.0</td>\n      <td>7-3</td>\n      <td>256.0</td>\n      <td>NaN</td>\n      <td>2900000.0</td>\n    </tr>\n    <tr>\n      <th>456</th>\n      <td>Jeff Withey</td>\n      <td>Utah Jazz</td>\n      <td>24.0</td>\n      <td>C</td>\n      <td>26.0</td>\n      <td>7-0</td>\n      <td>231.0</td>\n      <td>Kansas</td>\n      <td>947276.0</td>\n    </tr>\n    <tr>\n      <th>457</th>\n      <td>NaN</td>\n      <td>NaN</td>\n      <td>NaN</td>\n      <td>NaN</td>\n      <td>NaN</td>\n      <td>NaN</td>\n      <td>NaN</td>\n      <td>NaN</td>\n      <td>NaN</td>\n    </tr>\n  </tbody>\n</table>\n<p>458 rows × 9 columns</p>\n</div>"
     },
     "execution_count": 2,
     "metadata": {},
     "output_type": "execute_result"
    }
   ],
   "source": [
    "df = pd.read_csv('Data/nba.csv')\n",
    "df"
   ],
   "metadata": {
    "collapsed": false,
    "ExecuteTime": {
     "end_time": "2024-06-23T14:08:35.284045Z",
     "start_time": "2024-06-23T14:08:35.264440Z"
    }
   },
   "id": "fc6aaf01bd96f12d",
   "execution_count": 2
  },
  {
   "cell_type": "markdown",
   "source": [
    "## Column names"
   ],
   "metadata": {
    "collapsed": false
   },
   "id": "84372bc7e2a7031d"
  },
  {
   "cell_type": "code",
   "outputs": [
    {
     "data": {
      "text/plain": "Index(['Name', 'Team', 'Number', 'Position', 'Age', 'Height', 'Weight',\n       'College', 'Salary'],\n      dtype='object')"
     },
     "execution_count": 3,
     "metadata": {},
     "output_type": "execute_result"
    }
   ],
   "source": [
    "df.columns\n",
    "# df.columns.values\n",
    "# df.columns.values.tolist()\n",
    "# df.keys()"
   ],
   "metadata": {
    "collapsed": false,
    "ExecuteTime": {
     "end_time": "2024-06-23T14:08:35.288542Z",
     "start_time": "2024-06-23T14:08:35.285127Z"
    }
   },
   "id": "63b92e2af06ffd05",
   "execution_count": 3
  },
  {
   "cell_type": "markdown",
   "source": [
    "## Top rows of the DataFrame"
   ],
   "metadata": {
    "collapsed": false
   },
   "id": "8faa6d9220b99168"
  },
  {
   "cell_type": "code",
   "outputs": [
    {
     "data": {
      "text/plain": "            Name            Team  Number Position   Age Height  Weight  \\\n0  Avery Bradley  Boston Celtics     0.0       PG  25.0    6-2   180.0   \n1    Jae Crowder  Boston Celtics    99.0       SF  25.0    6-6   235.0   \n2   John Holland  Boston Celtics    30.0       SG  27.0    6-5   205.0   \n3    R.J. Hunter  Boston Celtics    28.0       SG  22.0    6-5   185.0   \n4  Jonas Jerebko  Boston Celtics     8.0       PF  29.0   6-10   231.0   \n\n             College     Salary  \n0              Texas  7730337.0  \n1          Marquette  6796117.0  \n2  Boston University        NaN  \n3      Georgia State  1148640.0  \n4                NaN  5000000.0  ",
      "text/html": "<div>\n<style scoped>\n    .dataframe tbody tr th:only-of-type {\n        vertical-align: middle;\n    }\n\n    .dataframe tbody tr th {\n        vertical-align: top;\n    }\n\n    .dataframe thead th {\n        text-align: right;\n    }\n</style>\n<table border=\"1\" class=\"dataframe\">\n  <thead>\n    <tr style=\"text-align: right;\">\n      <th></th>\n      <th>Name</th>\n      <th>Team</th>\n      <th>Number</th>\n      <th>Position</th>\n      <th>Age</th>\n      <th>Height</th>\n      <th>Weight</th>\n      <th>College</th>\n      <th>Salary</th>\n    </tr>\n  </thead>\n  <tbody>\n    <tr>\n      <th>0</th>\n      <td>Avery Bradley</td>\n      <td>Boston Celtics</td>\n      <td>0.0</td>\n      <td>PG</td>\n      <td>25.0</td>\n      <td>6-2</td>\n      <td>180.0</td>\n      <td>Texas</td>\n      <td>7730337.0</td>\n    </tr>\n    <tr>\n      <th>1</th>\n      <td>Jae Crowder</td>\n      <td>Boston Celtics</td>\n      <td>99.0</td>\n      <td>SF</td>\n      <td>25.0</td>\n      <td>6-6</td>\n      <td>235.0</td>\n      <td>Marquette</td>\n      <td>6796117.0</td>\n    </tr>\n    <tr>\n      <th>2</th>\n      <td>John Holland</td>\n      <td>Boston Celtics</td>\n      <td>30.0</td>\n      <td>SG</td>\n      <td>27.0</td>\n      <td>6-5</td>\n      <td>205.0</td>\n      <td>Boston University</td>\n      <td>NaN</td>\n    </tr>\n    <tr>\n      <th>3</th>\n      <td>R.J. Hunter</td>\n      <td>Boston Celtics</td>\n      <td>28.0</td>\n      <td>SG</td>\n      <td>22.0</td>\n      <td>6-5</td>\n      <td>185.0</td>\n      <td>Georgia State</td>\n      <td>1148640.0</td>\n    </tr>\n    <tr>\n      <th>4</th>\n      <td>Jonas Jerebko</td>\n      <td>Boston Celtics</td>\n      <td>8.0</td>\n      <td>PF</td>\n      <td>29.0</td>\n      <td>6-10</td>\n      <td>231.0</td>\n      <td>NaN</td>\n      <td>5000000.0</td>\n    </tr>\n  </tbody>\n</table>\n</div>"
     },
     "execution_count": 4,
     "metadata": {},
     "output_type": "execute_result"
    }
   ],
   "source": [
    "df.head()"
   ],
   "metadata": {
    "collapsed": false,
    "ExecuteTime": {
     "end_time": "2024-06-23T14:08:35.296821Z",
     "start_time": "2024-06-23T14:08:35.290331Z"
    }
   },
   "id": "82143779c4e32954",
   "execution_count": 4
  },
  {
   "cell_type": "code",
   "outputs": [
    {
     "data": {
      "text/plain": "            Name            Team  Number Position   Age Height  Weight  \\\n0  Avery Bradley  Boston Celtics     0.0       PG  25.0    6-2   180.0   \n1    Jae Crowder  Boston Celtics    99.0       SF  25.0    6-6   235.0   \n2   John Holland  Boston Celtics    30.0       SG  27.0    6-5   205.0   \n3    R.J. Hunter  Boston Celtics    28.0       SG  22.0    6-5   185.0   \n4  Jonas Jerebko  Boston Celtics     8.0       PF  29.0   6-10   231.0   \n5   Amir Johnson  Boston Celtics    90.0       PF  29.0    6-9   240.0   \n6  Jordan Mickey  Boston Celtics    55.0       PF  21.0    6-8   235.0   \n7   Kelly Olynyk  Boston Celtics    41.0        C  25.0    7-0   238.0   \n8   Terry Rozier  Boston Celtics    12.0       PG  22.0    6-2   190.0   \n9   Marcus Smart  Boston Celtics    36.0       PG  22.0    6-4   220.0   \n\n             College      Salary  \n0              Texas   7730337.0  \n1          Marquette   6796117.0  \n2  Boston University         NaN  \n3      Georgia State   1148640.0  \n4                NaN   5000000.0  \n5                NaN  12000000.0  \n6                LSU   1170960.0  \n7            Gonzaga   2165160.0  \n8         Louisville   1824360.0  \n9     Oklahoma State   3431040.0  ",
      "text/html": "<div>\n<style scoped>\n    .dataframe tbody tr th:only-of-type {\n        vertical-align: middle;\n    }\n\n    .dataframe tbody tr th {\n        vertical-align: top;\n    }\n\n    .dataframe thead th {\n        text-align: right;\n    }\n</style>\n<table border=\"1\" class=\"dataframe\">\n  <thead>\n    <tr style=\"text-align: right;\">\n      <th></th>\n      <th>Name</th>\n      <th>Team</th>\n      <th>Number</th>\n      <th>Position</th>\n      <th>Age</th>\n      <th>Height</th>\n      <th>Weight</th>\n      <th>College</th>\n      <th>Salary</th>\n    </tr>\n  </thead>\n  <tbody>\n    <tr>\n      <th>0</th>\n      <td>Avery Bradley</td>\n      <td>Boston Celtics</td>\n      <td>0.0</td>\n      <td>PG</td>\n      <td>25.0</td>\n      <td>6-2</td>\n      <td>180.0</td>\n      <td>Texas</td>\n      <td>7730337.0</td>\n    </tr>\n    <tr>\n      <th>1</th>\n      <td>Jae Crowder</td>\n      <td>Boston Celtics</td>\n      <td>99.0</td>\n      <td>SF</td>\n      <td>25.0</td>\n      <td>6-6</td>\n      <td>235.0</td>\n      <td>Marquette</td>\n      <td>6796117.0</td>\n    </tr>\n    <tr>\n      <th>2</th>\n      <td>John Holland</td>\n      <td>Boston Celtics</td>\n      <td>30.0</td>\n      <td>SG</td>\n      <td>27.0</td>\n      <td>6-5</td>\n      <td>205.0</td>\n      <td>Boston University</td>\n      <td>NaN</td>\n    </tr>\n    <tr>\n      <th>3</th>\n      <td>R.J. Hunter</td>\n      <td>Boston Celtics</td>\n      <td>28.0</td>\n      <td>SG</td>\n      <td>22.0</td>\n      <td>6-5</td>\n      <td>185.0</td>\n      <td>Georgia State</td>\n      <td>1148640.0</td>\n    </tr>\n    <tr>\n      <th>4</th>\n      <td>Jonas Jerebko</td>\n      <td>Boston Celtics</td>\n      <td>8.0</td>\n      <td>PF</td>\n      <td>29.0</td>\n      <td>6-10</td>\n      <td>231.0</td>\n      <td>NaN</td>\n      <td>5000000.0</td>\n    </tr>\n    <tr>\n      <th>5</th>\n      <td>Amir Johnson</td>\n      <td>Boston Celtics</td>\n      <td>90.0</td>\n      <td>PF</td>\n      <td>29.0</td>\n      <td>6-9</td>\n      <td>240.0</td>\n      <td>NaN</td>\n      <td>12000000.0</td>\n    </tr>\n    <tr>\n      <th>6</th>\n      <td>Jordan Mickey</td>\n      <td>Boston Celtics</td>\n      <td>55.0</td>\n      <td>PF</td>\n      <td>21.0</td>\n      <td>6-8</td>\n      <td>235.0</td>\n      <td>LSU</td>\n      <td>1170960.0</td>\n    </tr>\n    <tr>\n      <th>7</th>\n      <td>Kelly Olynyk</td>\n      <td>Boston Celtics</td>\n      <td>41.0</td>\n      <td>C</td>\n      <td>25.0</td>\n      <td>7-0</td>\n      <td>238.0</td>\n      <td>Gonzaga</td>\n      <td>2165160.0</td>\n    </tr>\n    <tr>\n      <th>8</th>\n      <td>Terry Rozier</td>\n      <td>Boston Celtics</td>\n      <td>12.0</td>\n      <td>PG</td>\n      <td>22.0</td>\n      <td>6-2</td>\n      <td>190.0</td>\n      <td>Louisville</td>\n      <td>1824360.0</td>\n    </tr>\n    <tr>\n      <th>9</th>\n      <td>Marcus Smart</td>\n      <td>Boston Celtics</td>\n      <td>36.0</td>\n      <td>PG</td>\n      <td>22.0</td>\n      <td>6-4</td>\n      <td>220.0</td>\n      <td>Oklahoma State</td>\n      <td>3431040.0</td>\n    </tr>\n  </tbody>\n</table>\n</div>"
     },
     "execution_count": 5,
     "metadata": {},
     "output_type": "execute_result"
    }
   ],
   "source": [
    "# view top n data\n",
    "df.head(n=10)\n",
    "# df.head(10)"
   ],
   "metadata": {
    "collapsed": false,
    "ExecuteTime": {
     "end_time": "2024-06-23T14:08:35.306442Z",
     "start_time": "2024-06-23T14:08:35.298747Z"
    }
   },
   "id": "4abc70517e19a424",
   "execution_count": 5
  },
  {
   "cell_type": "markdown",
   "source": [
    "**Selecting series**"
   ],
   "metadata": {
    "collapsed": false
   },
   "id": "467f4efb291c4d6"
  },
  {
   "cell_type": "code",
   "outputs": [
    {
     "data": {
      "text/plain": "0    Avery Bradley\n1      Jae Crowder\n2     John Holland\n3      R.J. Hunter\n4    Jonas Jerebko\nName: Name, dtype: object"
     },
     "execution_count": 6,
     "metadata": {},
     "output_type": "execute_result"
    }
   ],
   "source": [
    "df['Name'].head()"
   ],
   "metadata": {
    "collapsed": false,
    "ExecuteTime": {
     "end_time": "2024-06-23T14:08:35.311649Z",
     "start_time": "2024-06-23T14:08:35.307524Z"
    }
   },
   "id": "1cb4f520058168ff",
   "execution_count": 6
  },
  {
   "cell_type": "code",
   "outputs": [
    {
     "data": {
      "text/plain": "            Name            Team Position\n0  Avery Bradley  Boston Celtics       PG\n1    Jae Crowder  Boston Celtics       SF\n2   John Holland  Boston Celtics       SG\n3    R.J. Hunter  Boston Celtics       SG\n4  Jonas Jerebko  Boston Celtics       PF",
      "text/html": "<div>\n<style scoped>\n    .dataframe tbody tr th:only-of-type {\n        vertical-align: middle;\n    }\n\n    .dataframe tbody tr th {\n        vertical-align: top;\n    }\n\n    .dataframe thead th {\n        text-align: right;\n    }\n</style>\n<table border=\"1\" class=\"dataframe\">\n  <thead>\n    <tr style=\"text-align: right;\">\n      <th></th>\n      <th>Name</th>\n      <th>Team</th>\n      <th>Position</th>\n    </tr>\n  </thead>\n  <tbody>\n    <tr>\n      <th>0</th>\n      <td>Avery Bradley</td>\n      <td>Boston Celtics</td>\n      <td>PG</td>\n    </tr>\n    <tr>\n      <th>1</th>\n      <td>Jae Crowder</td>\n      <td>Boston Celtics</td>\n      <td>SF</td>\n    </tr>\n    <tr>\n      <th>2</th>\n      <td>John Holland</td>\n      <td>Boston Celtics</td>\n      <td>SG</td>\n    </tr>\n    <tr>\n      <th>3</th>\n      <td>R.J. Hunter</td>\n      <td>Boston Celtics</td>\n      <td>SG</td>\n    </tr>\n    <tr>\n      <th>4</th>\n      <td>Jonas Jerebko</td>\n      <td>Boston Celtics</td>\n      <td>PF</td>\n    </tr>\n  </tbody>\n</table>\n</div>"
     },
     "execution_count": 7,
     "metadata": {},
     "output_type": "execute_result"
    }
   ],
   "source": [
    "df[['Name', 'Team', 'Position']].head()"
   ],
   "metadata": {
    "collapsed": false,
    "ExecuteTime": {
     "end_time": "2024-06-23T14:08:35.318214Z",
     "start_time": "2024-06-23T14:08:35.312601Z"
    }
   },
   "id": "61130859ff7ba7fc",
   "execution_count": 7
  },
  {
   "cell_type": "markdown",
   "source": [
    "## Bottom rows of the DataFrame"
   ],
   "metadata": {
    "collapsed": false
   },
   "id": "4ccf2027645c8cfb"
  },
  {
   "cell_type": "code",
   "outputs": [
    {
     "data": {
      "text/plain": "             Name       Team  Number Position   Age Height  Weight College  \\\n453  Shelvin Mack  Utah Jazz     8.0       PG  26.0    6-3   203.0  Butler   \n454     Raul Neto  Utah Jazz    25.0       PG  24.0    6-1   179.0     NaN   \n455  Tibor Pleiss  Utah Jazz    21.0        C  26.0    7-3   256.0     NaN   \n456   Jeff Withey  Utah Jazz    24.0        C  26.0    7-0   231.0  Kansas   \n457           NaN        NaN     NaN      NaN   NaN    NaN     NaN     NaN   \n\n        Salary  \n453  2433333.0  \n454   900000.0  \n455  2900000.0  \n456   947276.0  \n457        NaN  ",
      "text/html": "<div>\n<style scoped>\n    .dataframe tbody tr th:only-of-type {\n        vertical-align: middle;\n    }\n\n    .dataframe tbody tr th {\n        vertical-align: top;\n    }\n\n    .dataframe thead th {\n        text-align: right;\n    }\n</style>\n<table border=\"1\" class=\"dataframe\">\n  <thead>\n    <tr style=\"text-align: right;\">\n      <th></th>\n      <th>Name</th>\n      <th>Team</th>\n      <th>Number</th>\n      <th>Position</th>\n      <th>Age</th>\n      <th>Height</th>\n      <th>Weight</th>\n      <th>College</th>\n      <th>Salary</th>\n    </tr>\n  </thead>\n  <tbody>\n    <tr>\n      <th>453</th>\n      <td>Shelvin Mack</td>\n      <td>Utah Jazz</td>\n      <td>8.0</td>\n      <td>PG</td>\n      <td>26.0</td>\n      <td>6-3</td>\n      <td>203.0</td>\n      <td>Butler</td>\n      <td>2433333.0</td>\n    </tr>\n    <tr>\n      <th>454</th>\n      <td>Raul Neto</td>\n      <td>Utah Jazz</td>\n      <td>25.0</td>\n      <td>PG</td>\n      <td>24.0</td>\n      <td>6-1</td>\n      <td>179.0</td>\n      <td>NaN</td>\n      <td>900000.0</td>\n    </tr>\n    <tr>\n      <th>455</th>\n      <td>Tibor Pleiss</td>\n      <td>Utah Jazz</td>\n      <td>21.0</td>\n      <td>C</td>\n      <td>26.0</td>\n      <td>7-3</td>\n      <td>256.0</td>\n      <td>NaN</td>\n      <td>2900000.0</td>\n    </tr>\n    <tr>\n      <th>456</th>\n      <td>Jeff Withey</td>\n      <td>Utah Jazz</td>\n      <td>24.0</td>\n      <td>C</td>\n      <td>26.0</td>\n      <td>7-0</td>\n      <td>231.0</td>\n      <td>Kansas</td>\n      <td>947276.0</td>\n    </tr>\n    <tr>\n      <th>457</th>\n      <td>NaN</td>\n      <td>NaN</td>\n      <td>NaN</td>\n      <td>NaN</td>\n      <td>NaN</td>\n      <td>NaN</td>\n      <td>NaN</td>\n      <td>NaN</td>\n      <td>NaN</td>\n    </tr>\n  </tbody>\n</table>\n</div>"
     },
     "execution_count": 8,
     "metadata": {},
     "output_type": "execute_result"
    }
   ],
   "source": [
    "df.tail()"
   ],
   "metadata": {
    "collapsed": false,
    "ExecuteTime": {
     "end_time": "2024-06-23T14:08:35.327352Z",
     "start_time": "2024-06-23T14:08:35.319662Z"
    }
   },
   "id": "22ccae74c1500da4",
   "execution_count": 8
  },
  {
   "cell_type": "code",
   "outputs": [
    {
     "data": {
      "text/plain": "               Name       Team  Number Position   Age Height  Weight  \\\n448  Gordon Hayward  Utah Jazz    20.0       SF  26.0    6-8   226.0   \n449     Rodney Hood  Utah Jazz     5.0       SG  23.0    6-8   206.0   \n450      Joe Ingles  Utah Jazz     2.0       SF  28.0    6-8   226.0   \n451   Chris Johnson  Utah Jazz    23.0       SF  26.0    6-6   206.0   \n452      Trey Lyles  Utah Jazz    41.0       PF  20.0   6-10   234.0   \n453    Shelvin Mack  Utah Jazz     8.0       PG  26.0    6-3   203.0   \n454       Raul Neto  Utah Jazz    25.0       PG  24.0    6-1   179.0   \n455    Tibor Pleiss  Utah Jazz    21.0        C  26.0    7-3   256.0   \n456     Jeff Withey  Utah Jazz    24.0        C  26.0    7-0   231.0   \n457             NaN        NaN     NaN      NaN   NaN    NaN     NaN   \n\n      College      Salary  \n448    Butler  15409570.0  \n449      Duke   1348440.0  \n450       NaN   2050000.0  \n451    Dayton    981348.0  \n452  Kentucky   2239800.0  \n453    Butler   2433333.0  \n454       NaN    900000.0  \n455       NaN   2900000.0  \n456    Kansas    947276.0  \n457       NaN         NaN  ",
      "text/html": "<div>\n<style scoped>\n    .dataframe tbody tr th:only-of-type {\n        vertical-align: middle;\n    }\n\n    .dataframe tbody tr th {\n        vertical-align: top;\n    }\n\n    .dataframe thead th {\n        text-align: right;\n    }\n</style>\n<table border=\"1\" class=\"dataframe\">\n  <thead>\n    <tr style=\"text-align: right;\">\n      <th></th>\n      <th>Name</th>\n      <th>Team</th>\n      <th>Number</th>\n      <th>Position</th>\n      <th>Age</th>\n      <th>Height</th>\n      <th>Weight</th>\n      <th>College</th>\n      <th>Salary</th>\n    </tr>\n  </thead>\n  <tbody>\n    <tr>\n      <th>448</th>\n      <td>Gordon Hayward</td>\n      <td>Utah Jazz</td>\n      <td>20.0</td>\n      <td>SF</td>\n      <td>26.0</td>\n      <td>6-8</td>\n      <td>226.0</td>\n      <td>Butler</td>\n      <td>15409570.0</td>\n    </tr>\n    <tr>\n      <th>449</th>\n      <td>Rodney Hood</td>\n      <td>Utah Jazz</td>\n      <td>5.0</td>\n      <td>SG</td>\n      <td>23.0</td>\n      <td>6-8</td>\n      <td>206.0</td>\n      <td>Duke</td>\n      <td>1348440.0</td>\n    </tr>\n    <tr>\n      <th>450</th>\n      <td>Joe Ingles</td>\n      <td>Utah Jazz</td>\n      <td>2.0</td>\n      <td>SF</td>\n      <td>28.0</td>\n      <td>6-8</td>\n      <td>226.0</td>\n      <td>NaN</td>\n      <td>2050000.0</td>\n    </tr>\n    <tr>\n      <th>451</th>\n      <td>Chris Johnson</td>\n      <td>Utah Jazz</td>\n      <td>23.0</td>\n      <td>SF</td>\n      <td>26.0</td>\n      <td>6-6</td>\n      <td>206.0</td>\n      <td>Dayton</td>\n      <td>981348.0</td>\n    </tr>\n    <tr>\n      <th>452</th>\n      <td>Trey Lyles</td>\n      <td>Utah Jazz</td>\n      <td>41.0</td>\n      <td>PF</td>\n      <td>20.0</td>\n      <td>6-10</td>\n      <td>234.0</td>\n      <td>Kentucky</td>\n      <td>2239800.0</td>\n    </tr>\n    <tr>\n      <th>453</th>\n      <td>Shelvin Mack</td>\n      <td>Utah Jazz</td>\n      <td>8.0</td>\n      <td>PG</td>\n      <td>26.0</td>\n      <td>6-3</td>\n      <td>203.0</td>\n      <td>Butler</td>\n      <td>2433333.0</td>\n    </tr>\n    <tr>\n      <th>454</th>\n      <td>Raul Neto</td>\n      <td>Utah Jazz</td>\n      <td>25.0</td>\n      <td>PG</td>\n      <td>24.0</td>\n      <td>6-1</td>\n      <td>179.0</td>\n      <td>NaN</td>\n      <td>900000.0</td>\n    </tr>\n    <tr>\n      <th>455</th>\n      <td>Tibor Pleiss</td>\n      <td>Utah Jazz</td>\n      <td>21.0</td>\n      <td>C</td>\n      <td>26.0</td>\n      <td>7-3</td>\n      <td>256.0</td>\n      <td>NaN</td>\n      <td>2900000.0</td>\n    </tr>\n    <tr>\n      <th>456</th>\n      <td>Jeff Withey</td>\n      <td>Utah Jazz</td>\n      <td>24.0</td>\n      <td>C</td>\n      <td>26.0</td>\n      <td>7-0</td>\n      <td>231.0</td>\n      <td>Kansas</td>\n      <td>947276.0</td>\n    </tr>\n    <tr>\n      <th>457</th>\n      <td>NaN</td>\n      <td>NaN</td>\n      <td>NaN</td>\n      <td>NaN</td>\n      <td>NaN</td>\n      <td>NaN</td>\n      <td>NaN</td>\n      <td>NaN</td>\n      <td>NaN</td>\n    </tr>\n  </tbody>\n</table>\n</div>"
     },
     "execution_count": 9,
     "metadata": {},
     "output_type": "execute_result"
    }
   ],
   "source": [
    "# view bottom n data\n",
    "df.tail(n=10)\n",
    "# df.tail(10)"
   ],
   "metadata": {
    "collapsed": false,
    "ExecuteTime": {
     "end_time": "2024-06-23T14:08:35.335971Z",
     "start_time": "2024-06-23T14:08:35.328299Z"
    }
   },
   "id": "d44aff6c78f1833e",
   "execution_count": 9
  },
  {
   "cell_type": "markdown",
   "source": [
    "**Selecting series**"
   ],
   "metadata": {
    "collapsed": false
   },
   "id": "c7f00d3a3006c146"
  },
  {
   "cell_type": "code",
   "outputs": [
    {
     "data": {
      "text/plain": "453    Shelvin Mack\n454       Raul Neto\n455    Tibor Pleiss\n456     Jeff Withey\n457             NaN\nName: Name, dtype: object"
     },
     "execution_count": 10,
     "metadata": {},
     "output_type": "execute_result"
    }
   ],
   "source": [
    "df['Name'].tail()"
   ],
   "metadata": {
    "collapsed": false,
    "ExecuteTime": {
     "end_time": "2024-06-23T14:08:35.341955Z",
     "start_time": "2024-06-23T14:08:35.338310Z"
    }
   },
   "id": "4ee0f1b7a431e036",
   "execution_count": 10
  },
  {
   "cell_type": "code",
   "outputs": [
    {
     "data": {
      "text/plain": "             Name       Team Position\n453  Shelvin Mack  Utah Jazz       PG\n454     Raul Neto  Utah Jazz       PG\n455  Tibor Pleiss  Utah Jazz        C\n456   Jeff Withey  Utah Jazz        C\n457           NaN        NaN      NaN",
      "text/html": "<div>\n<style scoped>\n    .dataframe tbody tr th:only-of-type {\n        vertical-align: middle;\n    }\n\n    .dataframe tbody tr th {\n        vertical-align: top;\n    }\n\n    .dataframe thead th {\n        text-align: right;\n    }\n</style>\n<table border=\"1\" class=\"dataframe\">\n  <thead>\n    <tr style=\"text-align: right;\">\n      <th></th>\n      <th>Name</th>\n      <th>Team</th>\n      <th>Position</th>\n    </tr>\n  </thead>\n  <tbody>\n    <tr>\n      <th>453</th>\n      <td>Shelvin Mack</td>\n      <td>Utah Jazz</td>\n      <td>PG</td>\n    </tr>\n    <tr>\n      <th>454</th>\n      <td>Raul Neto</td>\n      <td>Utah Jazz</td>\n      <td>PG</td>\n    </tr>\n    <tr>\n      <th>455</th>\n      <td>Tibor Pleiss</td>\n      <td>Utah Jazz</td>\n      <td>C</td>\n    </tr>\n    <tr>\n      <th>456</th>\n      <td>Jeff Withey</td>\n      <td>Utah Jazz</td>\n      <td>C</td>\n    </tr>\n    <tr>\n      <th>457</th>\n      <td>NaN</td>\n      <td>NaN</td>\n      <td>NaN</td>\n    </tr>\n  </tbody>\n</table>\n</div>"
     },
     "execution_count": 11,
     "metadata": {},
     "output_type": "execute_result"
    }
   ],
   "source": [
    "df[['Name', 'Team', 'Position']].tail()"
   ],
   "metadata": {
    "collapsed": false,
    "ExecuteTime": {
     "end_time": "2024-06-23T14:08:35.347981Z",
     "start_time": "2024-06-23T14:08:35.342978Z"
    }
   },
   "id": "b69dfb363496df8b",
   "execution_count": 11
  },
  {
   "cell_type": "markdown",
   "source": [
    "## Basic statistical details"
   ],
   "metadata": {
    "collapsed": false
   },
   "id": "36616863e8c4c7f4"
  },
  {
   "cell_type": "code",
   "outputs": [
    {
     "data": {
      "text/plain": "           Number         Age      Weight        Salary\ncount  457.000000  457.000000  457.000000  4.460000e+02\nmean    17.678337   26.938731  221.522976  4.842684e+06\nstd     15.966090    4.404016   26.368343  5.229238e+06\nmin      0.000000   19.000000  161.000000  3.088800e+04\n25%      5.000000   24.000000  200.000000  1.044792e+06\n50%     13.000000   26.000000  220.000000  2.839073e+06\n75%     25.000000   30.000000  240.000000  6.500000e+06\nmax     99.000000   40.000000  307.000000  2.500000e+07",
      "text/html": "<div>\n<style scoped>\n    .dataframe tbody tr th:only-of-type {\n        vertical-align: middle;\n    }\n\n    .dataframe tbody tr th {\n        vertical-align: top;\n    }\n\n    .dataframe thead th {\n        text-align: right;\n    }\n</style>\n<table border=\"1\" class=\"dataframe\">\n  <thead>\n    <tr style=\"text-align: right;\">\n      <th></th>\n      <th>Number</th>\n      <th>Age</th>\n      <th>Weight</th>\n      <th>Salary</th>\n    </tr>\n  </thead>\n  <tbody>\n    <tr>\n      <th>count</th>\n      <td>457.000000</td>\n      <td>457.000000</td>\n      <td>457.000000</td>\n      <td>4.460000e+02</td>\n    </tr>\n    <tr>\n      <th>mean</th>\n      <td>17.678337</td>\n      <td>26.938731</td>\n      <td>221.522976</td>\n      <td>4.842684e+06</td>\n    </tr>\n    <tr>\n      <th>std</th>\n      <td>15.966090</td>\n      <td>4.404016</td>\n      <td>26.368343</td>\n      <td>5.229238e+06</td>\n    </tr>\n    <tr>\n      <th>min</th>\n      <td>0.000000</td>\n      <td>19.000000</td>\n      <td>161.000000</td>\n      <td>3.088800e+04</td>\n    </tr>\n    <tr>\n      <th>25%</th>\n      <td>5.000000</td>\n      <td>24.000000</td>\n      <td>200.000000</td>\n      <td>1.044792e+06</td>\n    </tr>\n    <tr>\n      <th>50%</th>\n      <td>13.000000</td>\n      <td>26.000000</td>\n      <td>220.000000</td>\n      <td>2.839073e+06</td>\n    </tr>\n    <tr>\n      <th>75%</th>\n      <td>25.000000</td>\n      <td>30.000000</td>\n      <td>240.000000</td>\n      <td>6.500000e+06</td>\n    </tr>\n    <tr>\n      <th>max</th>\n      <td>99.000000</td>\n      <td>40.000000</td>\n      <td>307.000000</td>\n      <td>2.500000e+07</td>\n    </tr>\n  </tbody>\n</table>\n</div>"
     },
     "execution_count": 12,
     "metadata": {},
     "output_type": "execute_result"
    }
   ],
   "source": [
    "df.describe()"
   ],
   "metadata": {
    "collapsed": false,
    "ExecuteTime": {
     "end_time": "2024-06-23T14:08:35.358329Z",
     "start_time": "2024-06-23T14:08:35.349309Z"
    }
   },
   "id": "aff417c33e7329bc",
   "execution_count": 12
  },
  {
   "cell_type": "code",
   "outputs": [
    {
     "data": {
      "text/plain": "           Number         Age      Weight        Salary\ncount  457.000000  457.000000  457.000000  4.460000e+02\nmean    17.678337   26.938731  221.522976  4.842684e+06\nstd     15.966090    4.404016   26.368343  5.229238e+06\nmin      0.000000   19.000000  161.000000  3.088800e+04\n20%      4.000000   23.000000  195.600000  9.472760e+05\n40%     10.000000   25.000000  213.400000  1.938840e+06\n50%     13.000000   26.000000  220.000000  2.839073e+06\n60%     18.600000   27.000000  230.000000  3.815000e+06\n80%     30.000000   30.000000  245.000000  8.042895e+06\nmax     99.000000   40.000000  307.000000  2.500000e+07",
      "text/html": "<div>\n<style scoped>\n    .dataframe tbody tr th:only-of-type {\n        vertical-align: middle;\n    }\n\n    .dataframe tbody tr th {\n        vertical-align: top;\n    }\n\n    .dataframe thead th {\n        text-align: right;\n    }\n</style>\n<table border=\"1\" class=\"dataframe\">\n  <thead>\n    <tr style=\"text-align: right;\">\n      <th></th>\n      <th>Number</th>\n      <th>Age</th>\n      <th>Weight</th>\n      <th>Salary</th>\n    </tr>\n  </thead>\n  <tbody>\n    <tr>\n      <th>count</th>\n      <td>457.000000</td>\n      <td>457.000000</td>\n      <td>457.000000</td>\n      <td>4.460000e+02</td>\n    </tr>\n    <tr>\n      <th>mean</th>\n      <td>17.678337</td>\n      <td>26.938731</td>\n      <td>221.522976</td>\n      <td>4.842684e+06</td>\n    </tr>\n    <tr>\n      <th>std</th>\n      <td>15.966090</td>\n      <td>4.404016</td>\n      <td>26.368343</td>\n      <td>5.229238e+06</td>\n    </tr>\n    <tr>\n      <th>min</th>\n      <td>0.000000</td>\n      <td>19.000000</td>\n      <td>161.000000</td>\n      <td>3.088800e+04</td>\n    </tr>\n    <tr>\n      <th>20%</th>\n      <td>4.000000</td>\n      <td>23.000000</td>\n      <td>195.600000</td>\n      <td>9.472760e+05</td>\n    </tr>\n    <tr>\n      <th>40%</th>\n      <td>10.000000</td>\n      <td>25.000000</td>\n      <td>213.400000</td>\n      <td>1.938840e+06</td>\n    </tr>\n    <tr>\n      <th>50%</th>\n      <td>13.000000</td>\n      <td>26.000000</td>\n      <td>220.000000</td>\n      <td>2.839073e+06</td>\n    </tr>\n    <tr>\n      <th>60%</th>\n      <td>18.600000</td>\n      <td>27.000000</td>\n      <td>230.000000</td>\n      <td>3.815000e+06</td>\n    </tr>\n    <tr>\n      <th>80%</th>\n      <td>30.000000</td>\n      <td>30.000000</td>\n      <td>245.000000</td>\n      <td>8.042895e+06</td>\n    </tr>\n    <tr>\n      <th>max</th>\n      <td>99.000000</td>\n      <td>40.000000</td>\n      <td>307.000000</td>\n      <td>2.500000e+07</td>\n    </tr>\n  </tbody>\n</table>\n</div>"
     },
     "execution_count": 13,
     "metadata": {},
     "output_type": "execute_result"
    }
   ],
   "source": [
    "df.describe(percentiles=[.20, .40, .60, .80])"
   ],
   "metadata": {
    "collapsed": false,
    "ExecuteTime": {
     "end_time": "2024-06-23T14:08:35.368590Z",
     "start_time": "2024-06-23T14:08:35.359637Z"
    }
   },
   "id": "6fb49663d8f700c2",
   "execution_count": 13
  },
  {
   "cell_type": "code",
   "outputs": [
    {
     "data": {
      "text/plain": "                 Name                  Team      Number Position         Age  \\\ncount             457                   457  457.000000      457  457.000000   \nunique            457                    30         NaN        5         NaN   \ntop     Avery Bradley  New Orleans Pelicans         NaN       SG         NaN   \nfreq                1                    19         NaN      102         NaN   \nmean              NaN                   NaN   17.678337      NaN   26.938731   \nstd               NaN                   NaN   15.966090      NaN    4.404016   \nmin               NaN                   NaN    0.000000      NaN   19.000000   \n25%               NaN                   NaN    5.000000      NaN   24.000000   \n50%               NaN                   NaN   13.000000      NaN   26.000000   \n75%               NaN                   NaN   25.000000      NaN   30.000000   \nmax               NaN                   NaN   99.000000      NaN   40.000000   \n\n       Height      Weight   College        Salary  \ncount     457  457.000000       373  4.460000e+02  \nunique     18         NaN       118           NaN  \ntop       6-9         NaN  Kentucky           NaN  \nfreq       59         NaN        22           NaN  \nmean      NaN  221.522976       NaN  4.842684e+06  \nstd       NaN   26.368343       NaN  5.229238e+06  \nmin       NaN  161.000000       NaN  3.088800e+04  \n25%       NaN  200.000000       NaN  1.044792e+06  \n50%       NaN  220.000000       NaN  2.839073e+06  \n75%       NaN  240.000000       NaN  6.500000e+06  \nmax       NaN  307.000000       NaN  2.500000e+07  ",
      "text/html": "<div>\n<style scoped>\n    .dataframe tbody tr th:only-of-type {\n        vertical-align: middle;\n    }\n\n    .dataframe tbody tr th {\n        vertical-align: top;\n    }\n\n    .dataframe thead th {\n        text-align: right;\n    }\n</style>\n<table border=\"1\" class=\"dataframe\">\n  <thead>\n    <tr style=\"text-align: right;\">\n      <th></th>\n      <th>Name</th>\n      <th>Team</th>\n      <th>Number</th>\n      <th>Position</th>\n      <th>Age</th>\n      <th>Height</th>\n      <th>Weight</th>\n      <th>College</th>\n      <th>Salary</th>\n    </tr>\n  </thead>\n  <tbody>\n    <tr>\n      <th>count</th>\n      <td>457</td>\n      <td>457</td>\n      <td>457.000000</td>\n      <td>457</td>\n      <td>457.000000</td>\n      <td>457</td>\n      <td>457.000000</td>\n      <td>373</td>\n      <td>4.460000e+02</td>\n    </tr>\n    <tr>\n      <th>unique</th>\n      <td>457</td>\n      <td>30</td>\n      <td>NaN</td>\n      <td>5</td>\n      <td>NaN</td>\n      <td>18</td>\n      <td>NaN</td>\n      <td>118</td>\n      <td>NaN</td>\n    </tr>\n    <tr>\n      <th>top</th>\n      <td>Avery Bradley</td>\n      <td>New Orleans Pelicans</td>\n      <td>NaN</td>\n      <td>SG</td>\n      <td>NaN</td>\n      <td>6-9</td>\n      <td>NaN</td>\n      <td>Kentucky</td>\n      <td>NaN</td>\n    </tr>\n    <tr>\n      <th>freq</th>\n      <td>1</td>\n      <td>19</td>\n      <td>NaN</td>\n      <td>102</td>\n      <td>NaN</td>\n      <td>59</td>\n      <td>NaN</td>\n      <td>22</td>\n      <td>NaN</td>\n    </tr>\n    <tr>\n      <th>mean</th>\n      <td>NaN</td>\n      <td>NaN</td>\n      <td>17.678337</td>\n      <td>NaN</td>\n      <td>26.938731</td>\n      <td>NaN</td>\n      <td>221.522976</td>\n      <td>NaN</td>\n      <td>4.842684e+06</td>\n    </tr>\n    <tr>\n      <th>std</th>\n      <td>NaN</td>\n      <td>NaN</td>\n      <td>15.966090</td>\n      <td>NaN</td>\n      <td>4.404016</td>\n      <td>NaN</td>\n      <td>26.368343</td>\n      <td>NaN</td>\n      <td>5.229238e+06</td>\n    </tr>\n    <tr>\n      <th>min</th>\n      <td>NaN</td>\n      <td>NaN</td>\n      <td>0.000000</td>\n      <td>NaN</td>\n      <td>19.000000</td>\n      <td>NaN</td>\n      <td>161.000000</td>\n      <td>NaN</td>\n      <td>3.088800e+04</td>\n    </tr>\n    <tr>\n      <th>25%</th>\n      <td>NaN</td>\n      <td>NaN</td>\n      <td>5.000000</td>\n      <td>NaN</td>\n      <td>24.000000</td>\n      <td>NaN</td>\n      <td>200.000000</td>\n      <td>NaN</td>\n      <td>1.044792e+06</td>\n    </tr>\n    <tr>\n      <th>50%</th>\n      <td>NaN</td>\n      <td>NaN</td>\n      <td>13.000000</td>\n      <td>NaN</td>\n      <td>26.000000</td>\n      <td>NaN</td>\n      <td>220.000000</td>\n      <td>NaN</td>\n      <td>2.839073e+06</td>\n    </tr>\n    <tr>\n      <th>75%</th>\n      <td>NaN</td>\n      <td>NaN</td>\n      <td>25.000000</td>\n      <td>NaN</td>\n      <td>30.000000</td>\n      <td>NaN</td>\n      <td>240.000000</td>\n      <td>NaN</td>\n      <td>6.500000e+06</td>\n    </tr>\n    <tr>\n      <th>max</th>\n      <td>NaN</td>\n      <td>NaN</td>\n      <td>99.000000</td>\n      <td>NaN</td>\n      <td>40.000000</td>\n      <td>NaN</td>\n      <td>307.000000</td>\n      <td>NaN</td>\n      <td>2.500000e+07</td>\n    </tr>\n  </tbody>\n</table>\n</div>"
     },
     "execution_count": 14,
     "metadata": {},
     "output_type": "execute_result"
    }
   ],
   "source": [
    "df.describe(include=['object', 'float', 'int'])"
   ],
   "metadata": {
    "collapsed": false,
    "ExecuteTime": {
     "end_time": "2024-06-23T14:08:35.382435Z",
     "start_time": "2024-06-23T14:08:35.369389Z"
    }
   },
   "id": "cb1fc1f68400b85",
   "execution_count": 14
  },
  {
   "cell_type": "markdown",
   "source": [
    "**Describing details of series with different data types**"
   ],
   "metadata": {
    "collapsed": false
   },
   "id": "22fbace3bba79bf5"
  },
  {
   "cell_type": "code",
   "outputs": [
    {
     "data": {
      "text/plain": "count               457\nunique              457\ntop       Avery Bradley\nfreq                  1\nName: Name, dtype: object"
     },
     "execution_count": 15,
     "metadata": {},
     "output_type": "execute_result"
    }
   ],
   "source": [
    "df['Name'].describe()\n",
    "# Column: Name dtype: object"
   ],
   "metadata": {
    "collapsed": false,
    "ExecuteTime": {
     "end_time": "2024-06-23T14:08:35.387832Z",
     "start_time": "2024-06-23T14:08:35.383612Z"
    }
   },
   "id": "2936b0975f5ae0e6",
   "execution_count": 15
  },
  {
   "cell_type": "code",
   "outputs": [
    {
     "data": {
      "text/plain": "count    457.000000\nmean      26.938731\nstd        4.404016\nmin       19.000000\n25%       24.000000\n50%       26.000000\n75%       30.000000\nmax       40.000000\nName: Age, dtype: float64"
     },
     "execution_count": 16,
     "metadata": {},
     "output_type": "execute_result"
    }
   ],
   "source": [
    "df['Age'].describe()"
   ],
   "metadata": {
    "collapsed": false,
    "ExecuteTime": {
     "end_time": "2024-06-23T14:08:35.393716Z",
     "start_time": "2024-06-23T14:08:35.389193Z"
    }
   },
   "id": "65ffb1567b92a596",
   "execution_count": 16
  },
  {
   "cell_type": "code",
   "outputs": [
    {
     "data": {
      "text/plain": "count     457\nunique      5\ntop        SG\nfreq      102\nName: Position, dtype: object"
     },
     "execution_count": 17,
     "metadata": {},
     "output_type": "execute_result"
    }
   ],
   "source": [
    "df['Position'].describe()"
   ],
   "metadata": {
    "collapsed": false,
    "ExecuteTime": {
     "end_time": "2024-06-23T14:08:35.398838Z",
     "start_time": "2024-06-23T14:08:35.394535Z"
    }
   },
   "id": "78d29407dc341f42",
   "execution_count": 17
  }
 ],
 "metadata": {
  "kernelspec": {
   "display_name": "Python 3",
   "language": "python",
   "name": "python3"
  },
  "language_info": {
   "codemirror_mode": {
    "name": "ipython",
    "version": 2
   },
   "file_extension": ".py",
   "mimetype": "text/x-python",
   "name": "python",
   "nbconvert_exporter": "python",
   "pygments_lexer": "ipython2",
   "version": "2.7.6"
  }
 },
 "nbformat": 4,
 "nbformat_minor": 5
}

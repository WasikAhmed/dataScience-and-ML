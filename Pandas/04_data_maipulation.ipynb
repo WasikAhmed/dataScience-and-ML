{
 "cells": [
  {
   "cell_type": "markdown",
   "source": [
    "## Data Manipulation in Pandas"
   ],
   "metadata": {
    "collapsed": false
   },
   "id": "2ba00bab28138355"
  },
  {
   "cell_type": "markdown",
   "source": [
    "## Importing modules"
   ],
   "metadata": {
    "collapsed": false
   },
   "id": "2efc823190a13715"
  },
  {
   "cell_type": "code",
   "outputs": [],
   "source": [
    "import pandas as pd\n",
    "import numpy as np"
   ],
   "metadata": {
    "collapsed": false,
    "ExecuteTime": {
     "end_time": "2024-06-27T06:06:37.485723Z",
     "start_time": "2024-06-27T06:06:36.969497Z"
    }
   },
   "id": "fa51dd203741015a",
   "execution_count": 1
  },
  {
   "cell_type": "markdown",
   "source": [
    "## Adding new column"
   ],
   "metadata": {
    "collapsed": false
   },
   "id": "b1c5e27dc7899911"
  },
  {
   "cell_type": "markdown",
   "source": [
    "**`DataFrame.insert()`**\n",
    "\n",
    "Syntax:\n",
    "```\n",
    "DataFrame.insert(loc, column, value, allow_duplicates=False)\n",
    "```"
   ],
   "metadata": {
    "collapsed": false
   },
   "id": "40bf844e5b92428c"
  },
  {
   "cell_type": "code",
   "outputs": [
    {
     "data": {
      "text/plain": "   A  B\n0  1  4\n1  2  5\n2  3  6",
      "text/html": "<div>\n<style scoped>\n    .dataframe tbody tr th:only-of-type {\n        vertical-align: middle;\n    }\n\n    .dataframe tbody tr th {\n        vertical-align: top;\n    }\n\n    .dataframe thead th {\n        text-align: right;\n    }\n</style>\n<table border=\"1\" class=\"dataframe\">\n  <thead>\n    <tr style=\"text-align: right;\">\n      <th></th>\n      <th>A</th>\n      <th>B</th>\n    </tr>\n  </thead>\n  <tbody>\n    <tr>\n      <th>0</th>\n      <td>1</td>\n      <td>4</td>\n    </tr>\n    <tr>\n      <th>1</th>\n      <td>2</td>\n      <td>5</td>\n    </tr>\n    <tr>\n      <th>2</th>\n      <td>3</td>\n      <td>6</td>\n    </tr>\n  </tbody>\n</table>\n</div>"
     },
     "execution_count": 2,
     "metadata": {},
     "output_type": "execute_result"
    }
   ],
   "source": [
    "data = {'A': [1, 2, 3], 'B': [4, 5, 6]}\n",
    "df = pd.DataFrame(data)\n",
    "df"
   ],
   "metadata": {
    "collapsed": false,
    "ExecuteTime": {
     "end_time": "2024-06-27T06:06:37.491598Z",
     "start_time": "2024-06-27T06:06:37.486506Z"
    }
   },
   "id": "b3c19e25a5b54501",
   "execution_count": 2
  },
  {
   "cell_type": "code",
   "outputs": [
    {
     "data": {
      "text/plain": "   A  C  B\n0  1  7  4\n1  2  8  5\n2  3  8  6",
      "text/html": "<div>\n<style scoped>\n    .dataframe tbody tr th:only-of-type {\n        vertical-align: middle;\n    }\n\n    .dataframe tbody tr th {\n        vertical-align: top;\n    }\n\n    .dataframe thead th {\n        text-align: right;\n    }\n</style>\n<table border=\"1\" class=\"dataframe\">\n  <thead>\n    <tr style=\"text-align: right;\">\n      <th></th>\n      <th>A</th>\n      <th>C</th>\n      <th>B</th>\n    </tr>\n  </thead>\n  <tbody>\n    <tr>\n      <th>0</th>\n      <td>1</td>\n      <td>7</td>\n      <td>4</td>\n    </tr>\n    <tr>\n      <th>1</th>\n      <td>2</td>\n      <td>8</td>\n      <td>5</td>\n    </tr>\n    <tr>\n      <th>2</th>\n      <td>3</td>\n      <td>8</td>\n      <td>6</td>\n    </tr>\n  </tbody>\n</table>\n</div>"
     },
     "execution_count": 3,
     "metadata": {},
     "output_type": "execute_result"
    }
   ],
   "source": [
    "df.insert(1, 'C', [7, 8, 8], True)\n",
    "df"
   ],
   "metadata": {
    "collapsed": false,
    "ExecuteTime": {
     "end_time": "2024-06-27T06:06:37.495366Z",
     "start_time": "2024-06-27T06:06:37.492220Z"
    }
   },
   "id": "993da4efcd5b02b4",
   "execution_count": 3
  },
  {
   "cell_type": "markdown",
   "source": [
    "**`DataFrame.assign`**\n",
    "Creates a new dataframe with a new column added to the old dataframe."
   ],
   "metadata": {
    "collapsed": false
   },
   "id": "dad519db872efd2"
  },
  {
   "cell_type": "code",
   "outputs": [
    {
     "data": {
      "text/plain": "   A  C  B   d\n0  1  7  4  10\n1  2  8  5  11\n2  3  8  6  12",
      "text/html": "<div>\n<style scoped>\n    .dataframe tbody tr th:only-of-type {\n        vertical-align: middle;\n    }\n\n    .dataframe tbody tr th {\n        vertical-align: top;\n    }\n\n    .dataframe thead th {\n        text-align: right;\n    }\n</style>\n<table border=\"1\" class=\"dataframe\">\n  <thead>\n    <tr style=\"text-align: right;\">\n      <th></th>\n      <th>A</th>\n      <th>C</th>\n      <th>B</th>\n      <th>d</th>\n    </tr>\n  </thead>\n  <tbody>\n    <tr>\n      <th>0</th>\n      <td>1</td>\n      <td>7</td>\n      <td>4</td>\n      <td>10</td>\n    </tr>\n    <tr>\n      <th>1</th>\n      <td>2</td>\n      <td>8</td>\n      <td>5</td>\n      <td>11</td>\n    </tr>\n    <tr>\n      <th>2</th>\n      <td>3</td>\n      <td>8</td>\n      <td>6</td>\n      <td>12</td>\n    </tr>\n  </tbody>\n</table>\n</div>"
     },
     "execution_count": 4,
     "metadata": {},
     "output_type": "execute_result"
    }
   ],
   "source": [
    "new_df = df.assign(d=[10, 11, 12])\n",
    "new_df"
   ],
   "metadata": {
    "collapsed": false,
    "ExecuteTime": {
     "end_time": "2024-06-27T06:06:37.499677Z",
     "start_time": "2024-06-27T06:06:37.496609Z"
    }
   },
   "id": "2d11de51bc2db4ab",
   "execution_count": 4
  },
  {
   "cell_type": "code",
   "outputs": [
    {
     "data": {
      "text/plain": "   A  C  B  d\n0  1  7  4  5\n1  2  8  5  7\n2  3  8  6  9",
      "text/html": "<div>\n<style scoped>\n    .dataframe tbody tr th:only-of-type {\n        vertical-align: middle;\n    }\n\n    .dataframe tbody tr th {\n        vertical-align: top;\n    }\n\n    .dataframe thead th {\n        text-align: right;\n    }\n</style>\n<table border=\"1\" class=\"dataframe\">\n  <thead>\n    <tr style=\"text-align: right;\">\n      <th></th>\n      <th>A</th>\n      <th>C</th>\n      <th>B</th>\n      <th>d</th>\n    </tr>\n  </thead>\n  <tbody>\n    <tr>\n      <th>0</th>\n      <td>1</td>\n      <td>7</td>\n      <td>4</td>\n      <td>5</td>\n    </tr>\n    <tr>\n      <th>1</th>\n      <td>2</td>\n      <td>8</td>\n      <td>5</td>\n      <td>7</td>\n    </tr>\n    <tr>\n      <th>2</th>\n      <td>3</td>\n      <td>8</td>\n      <td>6</td>\n      <td>9</td>\n    </tr>\n  </tbody>\n</table>\n</div>"
     },
     "execution_count": 5,
     "metadata": {},
     "output_type": "execute_result"
    }
   ],
   "source": [
    "new_df = df.assign(d = df['A'] + df['B'])\n",
    "new_df"
   ],
   "metadata": {
    "collapsed": false,
    "ExecuteTime": {
     "end_time": "2024-06-27T06:06:37.503197Z",
     "start_time": "2024-06-27T06:06:37.500215Z"
    }
   },
   "id": "126082bb1aa9d11b",
   "execution_count": 5
  },
  {
   "cell_type": "markdown",
   "source": [
    "**using a Dictionary**"
   ],
   "metadata": {
    "collapsed": false
   },
   "id": "730c7c9fdac2ca1a"
  },
  {
   "cell_type": "code",
   "outputs": [
    {
     "data": {
      "text/plain": "   C  B\nA      \n1  7  4\n2  8  5\n3  8  6",
      "text/html": "<div>\n<style scoped>\n    .dataframe tbody tr th:only-of-type {\n        vertical-align: middle;\n    }\n\n    .dataframe tbody tr th {\n        vertical-align: top;\n    }\n\n    .dataframe thead th {\n        text-align: right;\n    }\n</style>\n<table border=\"1\" class=\"dataframe\">\n  <thead>\n    <tr style=\"text-align: right;\">\n      <th></th>\n      <th>C</th>\n      <th>B</th>\n    </tr>\n    <tr>\n      <th>A</th>\n      <th></th>\n      <th></th>\n    </tr>\n  </thead>\n  <tbody>\n    <tr>\n      <th>1</th>\n      <td>7</td>\n      <td>4</td>\n    </tr>\n    <tr>\n      <th>2</th>\n      <td>8</td>\n      <td>5</td>\n    </tr>\n    <tr>\n      <th>3</th>\n      <td>8</td>\n      <td>6</td>\n    </tr>\n  </tbody>\n</table>\n</div>"
     },
     "execution_count": 6,
     "metadata": {},
     "output_type": "execute_result"
    }
   ],
   "source": [
    "new_df = df.set_index('A', inplace=False)\n",
    "new_df"
   ],
   "metadata": {
    "collapsed": false,
    "ExecuteTime": {
     "end_time": "2024-06-27T06:06:37.506704Z",
     "start_time": "2024-06-27T06:06:37.503800Z"
    }
   },
   "id": "75a42183db6397ab",
   "execution_count": 6
  },
  {
   "cell_type": "code",
   "outputs": [
    {
     "data": {
      "text/plain": "   C  B   D\nA          \n1  7  4  10\n2  8  5  20\n3  8  6  30",
      "text/html": "<div>\n<style scoped>\n    .dataframe tbody tr th:only-of-type {\n        vertical-align: middle;\n    }\n\n    .dataframe tbody tr th {\n        vertical-align: top;\n    }\n\n    .dataframe thead th {\n        text-align: right;\n    }\n</style>\n<table border=\"1\" class=\"dataframe\">\n  <thead>\n    <tr style=\"text-align: right;\">\n      <th></th>\n      <th>C</th>\n      <th>B</th>\n      <th>D</th>\n    </tr>\n    <tr>\n      <th>A</th>\n      <th></th>\n      <th></th>\n      <th></th>\n    </tr>\n  </thead>\n  <tbody>\n    <tr>\n      <th>1</th>\n      <td>7</td>\n      <td>4</td>\n      <td>10</td>\n    </tr>\n    <tr>\n      <th>2</th>\n      <td>8</td>\n      <td>5</td>\n      <td>20</td>\n    </tr>\n    <tr>\n      <th>3</th>\n      <td>8</td>\n      <td>6</td>\n      <td>30</td>\n    </tr>\n  </tbody>\n</table>\n</div>"
     },
     "execution_count": 7,
     "metadata": {},
     "output_type": "execute_result"
    }
   ],
   "source": [
    "col = {1: 10, 2: 20, 3: 30}\n",
    "\n",
    "new_df['D'] = col\n",
    "new_df"
   ],
   "metadata": {
    "collapsed": false,
    "ExecuteTime": {
     "end_time": "2024-06-27T06:06:37.510306Z",
     "start_time": "2024-06-27T06:06:37.507325Z"
    }
   },
   "id": "c6b5961fa6a3540e",
   "execution_count": 7
  },
  {
   "cell_type": "markdown",
   "source": [
    "**using a List**"
   ],
   "metadata": {
    "collapsed": false
   },
   "id": "d751cc98c85efaf1"
  },
  {
   "cell_type": "code",
   "outputs": [
    {
     "data": {
      "text/plain": "   A  C  B\n0  1  7  4\n1  2  8  5\n2  3  8  6",
      "text/html": "<div>\n<style scoped>\n    .dataframe tbody tr th:only-of-type {\n        vertical-align: middle;\n    }\n\n    .dataframe tbody tr th {\n        vertical-align: top;\n    }\n\n    .dataframe thead th {\n        text-align: right;\n    }\n</style>\n<table border=\"1\" class=\"dataframe\">\n  <thead>\n    <tr style=\"text-align: right;\">\n      <th></th>\n      <th>A</th>\n      <th>C</th>\n      <th>B</th>\n    </tr>\n  </thead>\n  <tbody>\n    <tr>\n      <th>0</th>\n      <td>1</td>\n      <td>7</td>\n      <td>4</td>\n    </tr>\n    <tr>\n      <th>1</th>\n      <td>2</td>\n      <td>8</td>\n      <td>5</td>\n    </tr>\n    <tr>\n      <th>2</th>\n      <td>3</td>\n      <td>8</td>\n      <td>6</td>\n    </tr>\n  </tbody>\n</table>\n</div>"
     },
     "execution_count": 8,
     "metadata": {},
     "output_type": "execute_result"
    }
   ],
   "source": [
    "df"
   ],
   "metadata": {
    "collapsed": false,
    "ExecuteTime": {
     "end_time": "2024-06-27T06:06:37.513802Z",
     "start_time": "2024-06-27T06:06:37.510935Z"
    }
   },
   "id": "81b29ee4699e929a",
   "execution_count": 8
  },
  {
   "cell_type": "code",
   "outputs": [
    {
     "data": {
      "text/plain": "   A  C  B   D\n0  1  7  4  40\n1  2  8  5  50\n2  3  8  6  60",
      "text/html": "<div>\n<style scoped>\n    .dataframe tbody tr th:only-of-type {\n        vertical-align: middle;\n    }\n\n    .dataframe tbody tr th {\n        vertical-align: top;\n    }\n\n    .dataframe thead th {\n        text-align: right;\n    }\n</style>\n<table border=\"1\" class=\"dataframe\">\n  <thead>\n    <tr style=\"text-align: right;\">\n      <th></th>\n      <th>A</th>\n      <th>C</th>\n      <th>B</th>\n      <th>D</th>\n    </tr>\n  </thead>\n  <tbody>\n    <tr>\n      <th>0</th>\n      <td>1</td>\n      <td>7</td>\n      <td>4</td>\n      <td>40</td>\n    </tr>\n    <tr>\n      <th>1</th>\n      <td>2</td>\n      <td>8</td>\n      <td>5</td>\n      <td>50</td>\n    </tr>\n    <tr>\n      <th>2</th>\n      <td>3</td>\n      <td>8</td>\n      <td>6</td>\n      <td>60</td>\n    </tr>\n  </tbody>\n</table>\n</div>"
     },
     "execution_count": 9,
     "metadata": {},
     "output_type": "execute_result"
    }
   ],
   "source": [
    "values = [40, 50, 60]\n",
    "\n",
    "df['D'] = values\n",
    "df"
   ],
   "metadata": {
    "collapsed": false,
    "ExecuteTime": {
     "end_time": "2024-06-27T06:06:37.517206Z",
     "start_time": "2024-06-27T06:06:37.514381Z"
    }
   },
   "id": "a63068e977d439b1",
   "execution_count": 9
  },
  {
   "cell_type": "markdown",
   "source": [
    "**using `DateFrame.loc()`**"
   ],
   "metadata": {
    "collapsed": false
   },
   "id": "867f4a00261efabf"
  },
  {
   "cell_type": "code",
   "outputs": [
    {
     "data": {
      "text/plain": "   A  C  B   D    E\n0  1  7  4  40  100\n1  2  8  5  50  200\n2  3  8  6  60  300",
      "text/html": "<div>\n<style scoped>\n    .dataframe tbody tr th:only-of-type {\n        vertical-align: middle;\n    }\n\n    .dataframe tbody tr th {\n        vertical-align: top;\n    }\n\n    .dataframe thead th {\n        text-align: right;\n    }\n</style>\n<table border=\"1\" class=\"dataframe\">\n  <thead>\n    <tr style=\"text-align: right;\">\n      <th></th>\n      <th>A</th>\n      <th>C</th>\n      <th>B</th>\n      <th>D</th>\n      <th>E</th>\n    </tr>\n  </thead>\n  <tbody>\n    <tr>\n      <th>0</th>\n      <td>1</td>\n      <td>7</td>\n      <td>4</td>\n      <td>40</td>\n      <td>100</td>\n    </tr>\n    <tr>\n      <th>1</th>\n      <td>2</td>\n      <td>8</td>\n      <td>5</td>\n      <td>50</td>\n      <td>200</td>\n    </tr>\n    <tr>\n      <th>2</th>\n      <td>3</td>\n      <td>8</td>\n      <td>6</td>\n      <td>60</td>\n      <td>300</td>\n    </tr>\n  </tbody>\n</table>\n</div>"
     },
     "execution_count": 10,
     "metadata": {},
     "output_type": "execute_result"
    }
   ],
   "source": [
    "values = [100, 200, 300]\n",
    "\n",
    "df.loc[:, 'E'] = values\n",
    "df"
   ],
   "metadata": {
    "collapsed": false,
    "ExecuteTime": {
     "end_time": "2024-06-27T06:06:37.521851Z",
     "start_time": "2024-06-27T06:06:37.518735Z"
    }
   },
   "id": "e27564c5f34ec40e",
   "execution_count": 10
  },
  {
   "cell_type": "markdown",
   "source": [
    "**Adding more than one columns**"
   ],
   "metadata": {
    "collapsed": false
   },
   "id": "ec76854da28c972b"
  },
  {
   "cell_type": "code",
   "outputs": [
    {
     "data": {
      "text/plain": "array(['A', 'C', 'B', 'D', 'E'], dtype=object)"
     },
     "execution_count": 11,
     "metadata": {},
     "output_type": "execute_result"
    }
   ],
   "source": [
    "df.columns.values"
   ],
   "metadata": {
    "collapsed": false,
    "ExecuteTime": {
     "end_time": "2024-06-27T06:06:37.524288Z",
     "start_time": "2024-06-27T06:06:37.522459Z"
    }
   },
   "id": "11277c2c4997f958",
   "execution_count": 11
  },
  {
   "cell_type": "code",
   "outputs": [
    {
     "data": {
      "text/plain": "   A  C  B   D    E    F     G\n0  1  7  4  40  100  500   800\n1  2  8  5  50  200  600   900\n2  3  8  6  60  300  700  1000",
      "text/html": "<div>\n<style scoped>\n    .dataframe tbody tr th:only-of-type {\n        vertical-align: middle;\n    }\n\n    .dataframe tbody tr th {\n        vertical-align: top;\n    }\n\n    .dataframe thead th {\n        text-align: right;\n    }\n</style>\n<table border=\"1\" class=\"dataframe\">\n  <thead>\n    <tr style=\"text-align: right;\">\n      <th></th>\n      <th>A</th>\n      <th>C</th>\n      <th>B</th>\n      <th>D</th>\n      <th>E</th>\n      <th>F</th>\n      <th>G</th>\n    </tr>\n  </thead>\n  <tbody>\n    <tr>\n      <th>0</th>\n      <td>1</td>\n      <td>7</td>\n      <td>4</td>\n      <td>40</td>\n      <td>100</td>\n      <td>500</td>\n      <td>800</td>\n    </tr>\n    <tr>\n      <th>1</th>\n      <td>2</td>\n      <td>8</td>\n      <td>5</td>\n      <td>50</td>\n      <td>200</td>\n      <td>600</td>\n      <td>900</td>\n    </tr>\n    <tr>\n      <th>2</th>\n      <td>3</td>\n      <td>8</td>\n      <td>6</td>\n      <td>60</td>\n      <td>300</td>\n      <td>700</td>\n      <td>1000</td>\n    </tr>\n  </tbody>\n</table>\n</div>"
     },
     "execution_count": 12,
     "metadata": {},
     "output_type": "execute_result"
    }
   ],
   "source": [
    "new_data = {'F': [500, 600, 700], 'G': [800, 900, 1000]}\n",
    "\n",
    "new_df = df.assign(**new_data)\n",
    "new_df"
   ],
   "metadata": {
    "collapsed": false,
    "ExecuteTime": {
     "end_time": "2024-06-27T06:06:37.531162Z",
     "start_time": "2024-06-27T06:06:37.524877Z"
    }
   },
   "id": "208905df90cf08de",
   "execution_count": 12
  },
  {
   "cell_type": "markdown",
   "source": [
    "## Delete rows/columns"
   ],
   "metadata": {
    "collapsed": false
   },
   "id": "6a075c913d68e208"
  }
 ],
 "metadata": {
  "kernelspec": {
   "display_name": "Python 3",
   "language": "python",
   "name": "python3"
  },
  "language_info": {
   "codemirror_mode": {
    "name": "ipython",
    "version": 2
   },
   "file_extension": ".py",
   "mimetype": "text/x-python",
   "name": "python",
   "nbconvert_exporter": "python",
   "pygments_lexer": "ipython2",
   "version": "2.7.6"
  }
 },
 "nbformat": 4,
 "nbformat_minor": 5
}

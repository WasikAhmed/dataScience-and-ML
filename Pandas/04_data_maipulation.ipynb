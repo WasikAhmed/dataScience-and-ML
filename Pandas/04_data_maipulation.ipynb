{
 "cells": [
  {
   "cell_type": "markdown",
   "source": [
    "## Data Manipulation in Pandas"
   ],
   "metadata": {
    "collapsed": false
   },
   "id": "2ba00bab28138355"
  },
  {
   "cell_type": "markdown",
   "source": [
    "## Importing modules"
   ],
   "metadata": {
    "collapsed": false
   },
   "id": "2efc823190a13715"
  },
  {
   "cell_type": "code",
   "outputs": [],
   "source": [
    "import pandas as pd\n",
    "import numpy as np"
   ],
   "metadata": {
    "collapsed": false,
    "ExecuteTime": {
     "end_time": "2024-06-27T08:14:54.682926Z",
     "start_time": "2024-06-27T08:14:54.007224Z"
    }
   },
   "id": "fa51dd203741015a",
   "execution_count": 1
  },
  {
   "cell_type": "markdown",
   "source": [
    "## Adding new column"
   ],
   "metadata": {
    "collapsed": false
   },
   "id": "b1c5e27dc7899911"
  },
  {
   "cell_type": "markdown",
   "source": [
    "**`DataFrame.insert()`**\n",
    "\n",
    "Syntax:\n",
    "```\n",
    "DataFrame.insert(loc, column, value, allow_duplicates=False)\n",
    "```"
   ],
   "metadata": {
    "collapsed": false
   },
   "id": "40bf844e5b92428c"
  },
  {
   "cell_type": "code",
   "outputs": [
    {
     "data": {
      "text/plain": "   A  B\n0  1  4\n1  2  5\n2  3  6",
      "text/html": "<div>\n<style scoped>\n    .dataframe tbody tr th:only-of-type {\n        vertical-align: middle;\n    }\n\n    .dataframe tbody tr th {\n        vertical-align: top;\n    }\n\n    .dataframe thead th {\n        text-align: right;\n    }\n</style>\n<table border=\"1\" class=\"dataframe\">\n  <thead>\n    <tr style=\"text-align: right;\">\n      <th></th>\n      <th>A</th>\n      <th>B</th>\n    </tr>\n  </thead>\n  <tbody>\n    <tr>\n      <th>0</th>\n      <td>1</td>\n      <td>4</td>\n    </tr>\n    <tr>\n      <th>1</th>\n      <td>2</td>\n      <td>5</td>\n    </tr>\n    <tr>\n      <th>2</th>\n      <td>3</td>\n      <td>6</td>\n    </tr>\n  </tbody>\n</table>\n</div>"
     },
     "execution_count": 2,
     "metadata": {},
     "output_type": "execute_result"
    }
   ],
   "source": [
    "data = {'A': [1, 2, 3], 'B': [4, 5, 6]}\n",
    "df = pd.DataFrame(data)\n",
    "df"
   ],
   "metadata": {
    "collapsed": false,
    "ExecuteTime": {
     "end_time": "2024-06-27T08:14:54.689660Z",
     "start_time": "2024-06-27T08:14:54.683861Z"
    }
   },
   "id": "b3c19e25a5b54501",
   "execution_count": 2
  },
  {
   "cell_type": "code",
   "outputs": [
    {
     "data": {
      "text/plain": "   A  C  B\n0  1  7  4\n1  2  8  5\n2  3  8  6",
      "text/html": "<div>\n<style scoped>\n    .dataframe tbody tr th:only-of-type {\n        vertical-align: middle;\n    }\n\n    .dataframe tbody tr th {\n        vertical-align: top;\n    }\n\n    .dataframe thead th {\n        text-align: right;\n    }\n</style>\n<table border=\"1\" class=\"dataframe\">\n  <thead>\n    <tr style=\"text-align: right;\">\n      <th></th>\n      <th>A</th>\n      <th>C</th>\n      <th>B</th>\n    </tr>\n  </thead>\n  <tbody>\n    <tr>\n      <th>0</th>\n      <td>1</td>\n      <td>7</td>\n      <td>4</td>\n    </tr>\n    <tr>\n      <th>1</th>\n      <td>2</td>\n      <td>8</td>\n      <td>5</td>\n    </tr>\n    <tr>\n      <th>2</th>\n      <td>3</td>\n      <td>8</td>\n      <td>6</td>\n    </tr>\n  </tbody>\n</table>\n</div>"
     },
     "execution_count": 3,
     "metadata": {},
     "output_type": "execute_result"
    }
   ],
   "source": [
    "df.insert(1, 'C', [7, 8, 8], True)\n",
    "df"
   ],
   "metadata": {
    "collapsed": false,
    "ExecuteTime": {
     "end_time": "2024-06-27T08:14:54.693725Z",
     "start_time": "2024-06-27T08:14:54.690281Z"
    }
   },
   "id": "993da4efcd5b02b4",
   "execution_count": 3
  },
  {
   "cell_type": "markdown",
   "source": [
    "**`DataFrame.assign`**\n",
    "Creates a new dataframe with a new column added to the old dataframe."
   ],
   "metadata": {
    "collapsed": false
   },
   "id": "dad519db872efd2"
  },
  {
   "cell_type": "code",
   "outputs": [
    {
     "data": {
      "text/plain": "   A  C  B   d\n0  1  7  4  10\n1  2  8  5  11\n2  3  8  6  12",
      "text/html": "<div>\n<style scoped>\n    .dataframe tbody tr th:only-of-type {\n        vertical-align: middle;\n    }\n\n    .dataframe tbody tr th {\n        vertical-align: top;\n    }\n\n    .dataframe thead th {\n        text-align: right;\n    }\n</style>\n<table border=\"1\" class=\"dataframe\">\n  <thead>\n    <tr style=\"text-align: right;\">\n      <th></th>\n      <th>A</th>\n      <th>C</th>\n      <th>B</th>\n      <th>d</th>\n    </tr>\n  </thead>\n  <tbody>\n    <tr>\n      <th>0</th>\n      <td>1</td>\n      <td>7</td>\n      <td>4</td>\n      <td>10</td>\n    </tr>\n    <tr>\n      <th>1</th>\n      <td>2</td>\n      <td>8</td>\n      <td>5</td>\n      <td>11</td>\n    </tr>\n    <tr>\n      <th>2</th>\n      <td>3</td>\n      <td>8</td>\n      <td>6</td>\n      <td>12</td>\n    </tr>\n  </tbody>\n</table>\n</div>"
     },
     "execution_count": 4,
     "metadata": {},
     "output_type": "execute_result"
    }
   ],
   "source": [
    "new_df = df.assign(d=[10, 11, 12])\n",
    "new_df"
   ],
   "metadata": {
    "collapsed": false,
    "ExecuteTime": {
     "end_time": "2024-06-27T08:14:54.698464Z",
     "start_time": "2024-06-27T08:14:54.695051Z"
    }
   },
   "id": "2d11de51bc2db4ab",
   "execution_count": 4
  },
  {
   "cell_type": "code",
   "outputs": [
    {
     "data": {
      "text/plain": "   A  C  B  d\n0  1  7  4  5\n1  2  8  5  7\n2  3  8  6  9",
      "text/html": "<div>\n<style scoped>\n    .dataframe tbody tr th:only-of-type {\n        vertical-align: middle;\n    }\n\n    .dataframe tbody tr th {\n        vertical-align: top;\n    }\n\n    .dataframe thead th {\n        text-align: right;\n    }\n</style>\n<table border=\"1\" class=\"dataframe\">\n  <thead>\n    <tr style=\"text-align: right;\">\n      <th></th>\n      <th>A</th>\n      <th>C</th>\n      <th>B</th>\n      <th>d</th>\n    </tr>\n  </thead>\n  <tbody>\n    <tr>\n      <th>0</th>\n      <td>1</td>\n      <td>7</td>\n      <td>4</td>\n      <td>5</td>\n    </tr>\n    <tr>\n      <th>1</th>\n      <td>2</td>\n      <td>8</td>\n      <td>5</td>\n      <td>7</td>\n    </tr>\n    <tr>\n      <th>2</th>\n      <td>3</td>\n      <td>8</td>\n      <td>6</td>\n      <td>9</td>\n    </tr>\n  </tbody>\n</table>\n</div>"
     },
     "execution_count": 5,
     "metadata": {},
     "output_type": "execute_result"
    }
   ],
   "source": [
    "new_df = df.assign(d = df['A'] + df['B'])\n",
    "new_df"
   ],
   "metadata": {
    "collapsed": false,
    "ExecuteTime": {
     "end_time": "2024-06-27T08:14:54.703593Z",
     "start_time": "2024-06-27T08:14:54.699095Z"
    }
   },
   "id": "126082bb1aa9d11b",
   "execution_count": 5
  },
  {
   "cell_type": "markdown",
   "source": [
    "**using a Dictionary**"
   ],
   "metadata": {
    "collapsed": false
   },
   "id": "730c7c9fdac2ca1a"
  },
  {
   "cell_type": "code",
   "outputs": [
    {
     "data": {
      "text/plain": "   C  B\nA      \n1  7  4\n2  8  5\n3  8  6",
      "text/html": "<div>\n<style scoped>\n    .dataframe tbody tr th:only-of-type {\n        vertical-align: middle;\n    }\n\n    .dataframe tbody tr th {\n        vertical-align: top;\n    }\n\n    .dataframe thead th {\n        text-align: right;\n    }\n</style>\n<table border=\"1\" class=\"dataframe\">\n  <thead>\n    <tr style=\"text-align: right;\">\n      <th></th>\n      <th>C</th>\n      <th>B</th>\n    </tr>\n    <tr>\n      <th>A</th>\n      <th></th>\n      <th></th>\n    </tr>\n  </thead>\n  <tbody>\n    <tr>\n      <th>1</th>\n      <td>7</td>\n      <td>4</td>\n    </tr>\n    <tr>\n      <th>2</th>\n      <td>8</td>\n      <td>5</td>\n    </tr>\n    <tr>\n      <th>3</th>\n      <td>8</td>\n      <td>6</td>\n    </tr>\n  </tbody>\n</table>\n</div>"
     },
     "execution_count": 6,
     "metadata": {},
     "output_type": "execute_result"
    }
   ],
   "source": [
    "new_df = df.set_index('A', inplace=False)\n",
    "new_df"
   ],
   "metadata": {
    "collapsed": false,
    "ExecuteTime": {
     "end_time": "2024-06-27T08:14:54.707974Z",
     "start_time": "2024-06-27T08:14:54.704339Z"
    }
   },
   "id": "75a42183db6397ab",
   "execution_count": 6
  },
  {
   "cell_type": "code",
   "outputs": [
    {
     "data": {
      "text/plain": "   C  B   D\nA          \n1  7  4  10\n2  8  5  20\n3  8  6  30",
      "text/html": "<div>\n<style scoped>\n    .dataframe tbody tr th:only-of-type {\n        vertical-align: middle;\n    }\n\n    .dataframe tbody tr th {\n        vertical-align: top;\n    }\n\n    .dataframe thead th {\n        text-align: right;\n    }\n</style>\n<table border=\"1\" class=\"dataframe\">\n  <thead>\n    <tr style=\"text-align: right;\">\n      <th></th>\n      <th>C</th>\n      <th>B</th>\n      <th>D</th>\n    </tr>\n    <tr>\n      <th>A</th>\n      <th></th>\n      <th></th>\n      <th></th>\n    </tr>\n  </thead>\n  <tbody>\n    <tr>\n      <th>1</th>\n      <td>7</td>\n      <td>4</td>\n      <td>10</td>\n    </tr>\n    <tr>\n      <th>2</th>\n      <td>8</td>\n      <td>5</td>\n      <td>20</td>\n    </tr>\n    <tr>\n      <th>3</th>\n      <td>8</td>\n      <td>6</td>\n      <td>30</td>\n    </tr>\n  </tbody>\n</table>\n</div>"
     },
     "execution_count": 7,
     "metadata": {},
     "output_type": "execute_result"
    }
   ],
   "source": [
    "col = {1: 10, 2: 20, 3: 30}\n",
    "\n",
    "new_df['D'] = col\n",
    "new_df"
   ],
   "metadata": {
    "collapsed": false,
    "ExecuteTime": {
     "end_time": "2024-06-27T08:14:54.712567Z",
     "start_time": "2024-06-27T08:14:54.708537Z"
    }
   },
   "id": "c6b5961fa6a3540e",
   "execution_count": 7
  },
  {
   "cell_type": "markdown",
   "source": [
    "**using a List**"
   ],
   "metadata": {
    "collapsed": false
   },
   "id": "d751cc98c85efaf1"
  },
  {
   "cell_type": "code",
   "outputs": [
    {
     "data": {
      "text/plain": "   A  C  B\n0  1  7  4\n1  2  8  5\n2  3  8  6",
      "text/html": "<div>\n<style scoped>\n    .dataframe tbody tr th:only-of-type {\n        vertical-align: middle;\n    }\n\n    .dataframe tbody tr th {\n        vertical-align: top;\n    }\n\n    .dataframe thead th {\n        text-align: right;\n    }\n</style>\n<table border=\"1\" class=\"dataframe\">\n  <thead>\n    <tr style=\"text-align: right;\">\n      <th></th>\n      <th>A</th>\n      <th>C</th>\n      <th>B</th>\n    </tr>\n  </thead>\n  <tbody>\n    <tr>\n      <th>0</th>\n      <td>1</td>\n      <td>7</td>\n      <td>4</td>\n    </tr>\n    <tr>\n      <th>1</th>\n      <td>2</td>\n      <td>8</td>\n      <td>5</td>\n    </tr>\n    <tr>\n      <th>2</th>\n      <td>3</td>\n      <td>8</td>\n      <td>6</td>\n    </tr>\n  </tbody>\n</table>\n</div>"
     },
     "execution_count": 8,
     "metadata": {},
     "output_type": "execute_result"
    }
   ],
   "source": [
    "df"
   ],
   "metadata": {
    "collapsed": false,
    "ExecuteTime": {
     "end_time": "2024-06-27T08:14:54.716756Z",
     "start_time": "2024-06-27T08:14:54.713130Z"
    }
   },
   "id": "81b29ee4699e929a",
   "execution_count": 8
  },
  {
   "cell_type": "code",
   "outputs": [
    {
     "data": {
      "text/plain": "   A  C  B   D\n0  1  7  4  40\n1  2  8  5  50\n2  3  8  6  60",
      "text/html": "<div>\n<style scoped>\n    .dataframe tbody tr th:only-of-type {\n        vertical-align: middle;\n    }\n\n    .dataframe tbody tr th {\n        vertical-align: top;\n    }\n\n    .dataframe thead th {\n        text-align: right;\n    }\n</style>\n<table border=\"1\" class=\"dataframe\">\n  <thead>\n    <tr style=\"text-align: right;\">\n      <th></th>\n      <th>A</th>\n      <th>C</th>\n      <th>B</th>\n      <th>D</th>\n    </tr>\n  </thead>\n  <tbody>\n    <tr>\n      <th>0</th>\n      <td>1</td>\n      <td>7</td>\n      <td>4</td>\n      <td>40</td>\n    </tr>\n    <tr>\n      <th>1</th>\n      <td>2</td>\n      <td>8</td>\n      <td>5</td>\n      <td>50</td>\n    </tr>\n    <tr>\n      <th>2</th>\n      <td>3</td>\n      <td>8</td>\n      <td>6</td>\n      <td>60</td>\n    </tr>\n  </tbody>\n</table>\n</div>"
     },
     "execution_count": 9,
     "metadata": {},
     "output_type": "execute_result"
    }
   ],
   "source": [
    "values = [40, 50, 60]\n",
    "\n",
    "df['D'] = values\n",
    "df"
   ],
   "metadata": {
    "collapsed": false,
    "ExecuteTime": {
     "end_time": "2024-06-27T08:14:54.720917Z",
     "start_time": "2024-06-27T08:14:54.717474Z"
    }
   },
   "id": "a63068e977d439b1",
   "execution_count": 9
  },
  {
   "cell_type": "markdown",
   "source": [
    "**using `DateFrame.loc()`**"
   ],
   "metadata": {
    "collapsed": false
   },
   "id": "867f4a00261efabf"
  },
  {
   "cell_type": "code",
   "outputs": [
    {
     "data": {
      "text/plain": "   A  C  B   D    E\n0  1  7  4  40  100\n1  2  8  5  50  200\n2  3  8  6  60  300",
      "text/html": "<div>\n<style scoped>\n    .dataframe tbody tr th:only-of-type {\n        vertical-align: middle;\n    }\n\n    .dataframe tbody tr th {\n        vertical-align: top;\n    }\n\n    .dataframe thead th {\n        text-align: right;\n    }\n</style>\n<table border=\"1\" class=\"dataframe\">\n  <thead>\n    <tr style=\"text-align: right;\">\n      <th></th>\n      <th>A</th>\n      <th>C</th>\n      <th>B</th>\n      <th>D</th>\n      <th>E</th>\n    </tr>\n  </thead>\n  <tbody>\n    <tr>\n      <th>0</th>\n      <td>1</td>\n      <td>7</td>\n      <td>4</td>\n      <td>40</td>\n      <td>100</td>\n    </tr>\n    <tr>\n      <th>1</th>\n      <td>2</td>\n      <td>8</td>\n      <td>5</td>\n      <td>50</td>\n      <td>200</td>\n    </tr>\n    <tr>\n      <th>2</th>\n      <td>3</td>\n      <td>8</td>\n      <td>6</td>\n      <td>60</td>\n      <td>300</td>\n    </tr>\n  </tbody>\n</table>\n</div>"
     },
     "execution_count": 10,
     "metadata": {},
     "output_type": "execute_result"
    }
   ],
   "source": [
    "values = [100, 200, 300]\n",
    "\n",
    "df.loc[:, 'E'] = values\n",
    "df"
   ],
   "metadata": {
    "collapsed": false,
    "ExecuteTime": {
     "end_time": "2024-06-27T08:14:54.725702Z",
     "start_time": "2024-06-27T08:14:54.722650Z"
    }
   },
   "id": "e27564c5f34ec40e",
   "execution_count": 10
  },
  {
   "cell_type": "markdown",
   "source": [
    "**Adding more than one columns**"
   ],
   "metadata": {
    "collapsed": false
   },
   "id": "ec76854da28c972b"
  },
  {
   "cell_type": "code",
   "outputs": [
    {
     "data": {
      "text/plain": "array(['A', 'C', 'B', 'D', 'E'], dtype=object)"
     },
     "execution_count": 11,
     "metadata": {},
     "output_type": "execute_result"
    }
   ],
   "source": [
    "df.columns.values"
   ],
   "metadata": {
    "collapsed": false,
    "ExecuteTime": {
     "end_time": "2024-06-27T08:14:54.728403Z",
     "start_time": "2024-06-27T08:14:54.726224Z"
    }
   },
   "id": "11277c2c4997f958",
   "execution_count": 11
  },
  {
   "cell_type": "code",
   "outputs": [
    {
     "data": {
      "text/plain": "   A  C  B   D    E    F     G\n0  1  7  4  40  100  500   800\n1  2  8  5  50  200  600   900\n2  3  8  6  60  300  700  1000",
      "text/html": "<div>\n<style scoped>\n    .dataframe tbody tr th:only-of-type {\n        vertical-align: middle;\n    }\n\n    .dataframe tbody tr th {\n        vertical-align: top;\n    }\n\n    .dataframe thead th {\n        text-align: right;\n    }\n</style>\n<table border=\"1\" class=\"dataframe\">\n  <thead>\n    <tr style=\"text-align: right;\">\n      <th></th>\n      <th>A</th>\n      <th>C</th>\n      <th>B</th>\n      <th>D</th>\n      <th>E</th>\n      <th>F</th>\n      <th>G</th>\n    </tr>\n  </thead>\n  <tbody>\n    <tr>\n      <th>0</th>\n      <td>1</td>\n      <td>7</td>\n      <td>4</td>\n      <td>40</td>\n      <td>100</td>\n      <td>500</td>\n      <td>800</td>\n    </tr>\n    <tr>\n      <th>1</th>\n      <td>2</td>\n      <td>8</td>\n      <td>5</td>\n      <td>50</td>\n      <td>200</td>\n      <td>600</td>\n      <td>900</td>\n    </tr>\n    <tr>\n      <th>2</th>\n      <td>3</td>\n      <td>8</td>\n      <td>6</td>\n      <td>60</td>\n      <td>300</td>\n      <td>700</td>\n      <td>1000</td>\n    </tr>\n  </tbody>\n</table>\n</div>"
     },
     "execution_count": 12,
     "metadata": {},
     "output_type": "execute_result"
    }
   ],
   "source": [
    "new_data = {'F': [500, 600, 700], 'G': [800, 900, 1000]}\n",
    "\n",
    "new_df = df.assign(**new_data)\n",
    "new_df"
   ],
   "metadata": {
    "collapsed": false,
    "ExecuteTime": {
     "end_time": "2024-06-27T08:14:54.732886Z",
     "start_time": "2024-06-27T08:14:54.728980Z"
    }
   },
   "id": "208905df90cf08de",
   "execution_count": 12
  },
  {
   "cell_type": "markdown",
   "source": [
    "## Adding rows"
   ],
   "metadata": {
    "collapsed": false
   },
   "id": "7f0c26ac93487601"
  },
  {
   "cell_type": "code",
   "outputs": [
    {
     "data": {
      "text/plain": "   A  C  B   D    E\n0  1  7  4  40  100\n1  2  8  5  50  200\n2  3  8  6  60  300",
      "text/html": "<div>\n<style scoped>\n    .dataframe tbody tr th:only-of-type {\n        vertical-align: middle;\n    }\n\n    .dataframe tbody tr th {\n        vertical-align: top;\n    }\n\n    .dataframe thead th {\n        text-align: right;\n    }\n</style>\n<table border=\"1\" class=\"dataframe\">\n  <thead>\n    <tr style=\"text-align: right;\">\n      <th></th>\n      <th>A</th>\n      <th>C</th>\n      <th>B</th>\n      <th>D</th>\n      <th>E</th>\n    </tr>\n  </thead>\n  <tbody>\n    <tr>\n      <th>0</th>\n      <td>1</td>\n      <td>7</td>\n      <td>4</td>\n      <td>40</td>\n      <td>100</td>\n    </tr>\n    <tr>\n      <th>1</th>\n      <td>2</td>\n      <td>8</td>\n      <td>5</td>\n      <td>50</td>\n      <td>200</td>\n    </tr>\n    <tr>\n      <th>2</th>\n      <td>3</td>\n      <td>8</td>\n      <td>6</td>\n      <td>60</td>\n      <td>300</td>\n    </tr>\n  </tbody>\n</table>\n</div>"
     },
     "execution_count": 13,
     "metadata": {},
     "output_type": "execute_result"
    }
   ],
   "source": [
    "df"
   ],
   "metadata": {
    "collapsed": false,
    "ExecuteTime": {
     "end_time": "2024-06-27T08:14:54.736158Z",
     "start_time": "2024-06-27T08:14:54.733376Z"
    }
   },
   "id": "d5353473816c149e",
   "execution_count": 13
  },
  {
   "cell_type": "markdown",
   "source": [
    "**using `DataFrame._append()` function**\n",
    "\n",
    "syntax:\n",
    "```\n",
    "DataFrame._append(other, ignore_index=False, verify_integrity=False, sort=False)\n",
    "```"
   ],
   "metadata": {
    "collapsed": false
   },
   "id": "61089c885472eeb1"
  },
  {
   "cell_type": "code",
   "outputs": [
    {
     "data": {
      "text/plain": "    A   C   B   D    E\n0   1   7   4  40  100\n1   2   8   5  50  200\n2   3   8   6  60  300\n3  11  33  22  44   55",
      "text/html": "<div>\n<style scoped>\n    .dataframe tbody tr th:only-of-type {\n        vertical-align: middle;\n    }\n\n    .dataframe tbody tr th {\n        vertical-align: top;\n    }\n\n    .dataframe thead th {\n        text-align: right;\n    }\n</style>\n<table border=\"1\" class=\"dataframe\">\n  <thead>\n    <tr style=\"text-align: right;\">\n      <th></th>\n      <th>A</th>\n      <th>C</th>\n      <th>B</th>\n      <th>D</th>\n      <th>E</th>\n    </tr>\n  </thead>\n  <tbody>\n    <tr>\n      <th>0</th>\n      <td>1</td>\n      <td>7</td>\n      <td>4</td>\n      <td>40</td>\n      <td>100</td>\n    </tr>\n    <tr>\n      <th>1</th>\n      <td>2</td>\n      <td>8</td>\n      <td>5</td>\n      <td>50</td>\n      <td>200</td>\n    </tr>\n    <tr>\n      <th>2</th>\n      <td>3</td>\n      <td>8</td>\n      <td>6</td>\n      <td>60</td>\n      <td>300</td>\n    </tr>\n    <tr>\n      <th>3</th>\n      <td>11</td>\n      <td>33</td>\n      <td>22</td>\n      <td>44</td>\n      <td>55</td>\n    </tr>\n  </tbody>\n</table>\n</div>"
     },
     "execution_count": 14,
     "metadata": {},
     "output_type": "execute_result"
    }
   ],
   "source": [
    "new_df = df._append({'A': 11, 'B': 22, 'C': 33, 'D': 44, 'E': 55}, ignore_index=True)\n",
    "new_df"
   ],
   "metadata": {
    "collapsed": false,
    "ExecuteTime": {
     "end_time": "2024-06-27T08:14:54.741791Z",
     "start_time": "2024-06-27T08:14:54.736694Z"
    }
   },
   "id": "c010be805f834623",
   "execution_count": 14
  },
  {
   "cell_type": "markdown",
   "source": [
    "**using `DataFrame.loc`**"
   ],
   "metadata": {
    "collapsed": false
   },
   "id": "1b023e436e01364"
  },
  {
   "cell_type": "code",
   "outputs": [
    {
     "data": {
      "text/plain": "     A    C    B    D    E\n0    1    7    4   40  100\n1    2    8    5   50  200\n2    3    8    6   60  300\n3   11   33   22   44   55\n4  111  222  333  444  555",
      "text/html": "<div>\n<style scoped>\n    .dataframe tbody tr th:only-of-type {\n        vertical-align: middle;\n    }\n\n    .dataframe tbody tr th {\n        vertical-align: top;\n    }\n\n    .dataframe thead th {\n        text-align: right;\n    }\n</style>\n<table border=\"1\" class=\"dataframe\">\n  <thead>\n    <tr style=\"text-align: right;\">\n      <th></th>\n      <th>A</th>\n      <th>C</th>\n      <th>B</th>\n      <th>D</th>\n      <th>E</th>\n    </tr>\n  </thead>\n  <tbody>\n    <tr>\n      <th>0</th>\n      <td>1</td>\n      <td>7</td>\n      <td>4</td>\n      <td>40</td>\n      <td>100</td>\n    </tr>\n    <tr>\n      <th>1</th>\n      <td>2</td>\n      <td>8</td>\n      <td>5</td>\n      <td>50</td>\n      <td>200</td>\n    </tr>\n    <tr>\n      <th>2</th>\n      <td>3</td>\n      <td>8</td>\n      <td>6</td>\n      <td>60</td>\n      <td>300</td>\n    </tr>\n    <tr>\n      <th>3</th>\n      <td>11</td>\n      <td>33</td>\n      <td>22</td>\n      <td>44</td>\n      <td>55</td>\n    </tr>\n    <tr>\n      <th>4</th>\n      <td>111</td>\n      <td>222</td>\n      <td>333</td>\n      <td>444</td>\n      <td>555</td>\n    </tr>\n  </tbody>\n</table>\n</div>"
     },
     "execution_count": 15,
     "metadata": {},
     "output_type": "execute_result"
    }
   ],
   "source": [
    "new_df.loc[len(new_df)] = [111, 222, 333, 444, 555]\n",
    "new_df"
   ],
   "metadata": {
    "collapsed": false,
    "ExecuteTime": {
     "end_time": "2024-06-27T08:14:54.747126Z",
     "start_time": "2024-06-27T08:14:54.742364Z"
    }
   },
   "id": "fd5ecd38c67d0a7e",
   "execution_count": 15
  },
  {
   "cell_type": "markdown",
   "source": [
    "**using `pandas.concat()`**"
   ],
   "metadata": {
    "collapsed": false
   },
   "id": "a3259fdec263d4cf"
  },
  {
   "cell_type": "code",
   "outputs": [
    {
     "data": {
      "text/plain": "     A    C    B    D    E\n0    1    7    4   40  100\n1    2    8    5   50  200\n2    3    8    6   60  300\n3   11   33   22   44   55\n4  111  222  333  444  555\n5   44   64   47   67   67\n6    9   21   83   36   87",
      "text/html": "<div>\n<style scoped>\n    .dataframe tbody tr th:only-of-type {\n        vertical-align: middle;\n    }\n\n    .dataframe tbody tr th {\n        vertical-align: top;\n    }\n\n    .dataframe thead th {\n        text-align: right;\n    }\n</style>\n<table border=\"1\" class=\"dataframe\">\n  <thead>\n    <tr style=\"text-align: right;\">\n      <th></th>\n      <th>A</th>\n      <th>C</th>\n      <th>B</th>\n      <th>D</th>\n      <th>E</th>\n    </tr>\n  </thead>\n  <tbody>\n    <tr>\n      <th>0</th>\n      <td>1</td>\n      <td>7</td>\n      <td>4</td>\n      <td>40</td>\n      <td>100</td>\n    </tr>\n    <tr>\n      <th>1</th>\n      <td>2</td>\n      <td>8</td>\n      <td>5</td>\n      <td>50</td>\n      <td>200</td>\n    </tr>\n    <tr>\n      <th>2</th>\n      <td>3</td>\n      <td>8</td>\n      <td>6</td>\n      <td>60</td>\n      <td>300</td>\n    </tr>\n    <tr>\n      <th>3</th>\n      <td>11</td>\n      <td>33</td>\n      <td>22</td>\n      <td>44</td>\n      <td>55</td>\n    </tr>\n    <tr>\n      <th>4</th>\n      <td>111</td>\n      <td>222</td>\n      <td>333</td>\n      <td>444</td>\n      <td>555</td>\n    </tr>\n    <tr>\n      <th>5</th>\n      <td>44</td>\n      <td>64</td>\n      <td>47</td>\n      <td>67</td>\n      <td>67</td>\n    </tr>\n    <tr>\n      <th>6</th>\n      <td>9</td>\n      <td>21</td>\n      <td>83</td>\n      <td>36</td>\n      <td>87</td>\n    </tr>\n  </tbody>\n</table>\n</div>"
     },
     "execution_count": 16,
     "metadata": {},
     "output_type": "execute_result"
    }
   ],
   "source": [
    "np.random.seed(0)\n",
    "new_df2 = pd.DataFrame(data=np.random.randint(0, 100, (2, 5)), columns=['A', 'B', 'C', 'D', 'E'])\n",
    "\n",
    "df = pd.concat([new_df, new_df2], ignore_index=True)\n",
    "df"
   ],
   "metadata": {
    "collapsed": false,
    "ExecuteTime": {
     "end_time": "2024-06-27T08:14:54.752127Z",
     "start_time": "2024-06-27T08:14:54.747897Z"
    }
   },
   "id": "1fd1fe76ff52343e",
   "execution_count": 16
  },
  {
   "cell_type": "markdown",
   "source": [
    "## Delete rows/columns\n",
    "\n",
    "**using `drop()` method**\n",
    "\n",
    "Syntax:\n",
    "```\n",
    "DataFrame.drop(labels=None, axis=0, index=None, columns=None, level=None, inplace=False, errors=’raise’)\n",
    "```"
   ],
   "metadata": {
    "collapsed": false
   },
   "id": "6a075c913d68e208"
  },
  {
   "cell_type": "code",
   "outputs": [
    {
     "data": {
      "text/plain": "       C    B    D    E\nA                      \n1      7    4   40  100\n2      8    5   50  200\n3      8    6   60  300\n11    33   22   44   55\n111  222  333  444  555\n44    64   47   67   67\n9     21   83   36   87",
      "text/html": "<div>\n<style scoped>\n    .dataframe tbody tr th:only-of-type {\n        vertical-align: middle;\n    }\n\n    .dataframe tbody tr th {\n        vertical-align: top;\n    }\n\n    .dataframe thead th {\n        text-align: right;\n    }\n</style>\n<table border=\"1\" class=\"dataframe\">\n  <thead>\n    <tr style=\"text-align: right;\">\n      <th></th>\n      <th>C</th>\n      <th>B</th>\n      <th>D</th>\n      <th>E</th>\n    </tr>\n    <tr>\n      <th>A</th>\n      <th></th>\n      <th></th>\n      <th></th>\n      <th></th>\n    </tr>\n  </thead>\n  <tbody>\n    <tr>\n      <th>1</th>\n      <td>7</td>\n      <td>4</td>\n      <td>40</td>\n      <td>100</td>\n    </tr>\n    <tr>\n      <th>2</th>\n      <td>8</td>\n      <td>5</td>\n      <td>50</td>\n      <td>200</td>\n    </tr>\n    <tr>\n      <th>3</th>\n      <td>8</td>\n      <td>6</td>\n      <td>60</td>\n      <td>300</td>\n    </tr>\n    <tr>\n      <th>11</th>\n      <td>33</td>\n      <td>22</td>\n      <td>44</td>\n      <td>55</td>\n    </tr>\n    <tr>\n      <th>111</th>\n      <td>222</td>\n      <td>333</td>\n      <td>444</td>\n      <td>555</td>\n    </tr>\n    <tr>\n      <th>44</th>\n      <td>64</td>\n      <td>47</td>\n      <td>67</td>\n      <td>67</td>\n    </tr>\n    <tr>\n      <th>9</th>\n      <td>21</td>\n      <td>83</td>\n      <td>36</td>\n      <td>87</td>\n    </tr>\n  </tbody>\n</table>\n</div>"
     },
     "execution_count": 17,
     "metadata": {},
     "output_type": "execute_result"
    }
   ],
   "source": [
    "df.set_index('A', inplace=True)\n",
    "df"
   ],
   "metadata": {
    "collapsed": false,
    "ExecuteTime": {
     "end_time": "2024-06-27T08:14:54.756127Z",
     "start_time": "2024-06-27T08:14:54.752788Z"
    }
   },
   "id": "8535e189ab689690",
   "execution_count": 17
  },
  {
   "cell_type": "code",
   "outputs": [
    {
     "data": {
      "text/plain": "       C    B    D    E\nA                      \n2      8    5   50  200\n111  222  333  444  555\n44    64   47   67   67\n9     21   83   36   87",
      "text/html": "<div>\n<style scoped>\n    .dataframe tbody tr th:only-of-type {\n        vertical-align: middle;\n    }\n\n    .dataframe tbody tr th {\n        vertical-align: top;\n    }\n\n    .dataframe thead th {\n        text-align: right;\n    }\n</style>\n<table border=\"1\" class=\"dataframe\">\n  <thead>\n    <tr style=\"text-align: right;\">\n      <th></th>\n      <th>C</th>\n      <th>B</th>\n      <th>D</th>\n      <th>E</th>\n    </tr>\n    <tr>\n      <th>A</th>\n      <th></th>\n      <th></th>\n      <th></th>\n      <th></th>\n    </tr>\n  </thead>\n  <tbody>\n    <tr>\n      <th>2</th>\n      <td>8</td>\n      <td>5</td>\n      <td>50</td>\n      <td>200</td>\n    </tr>\n    <tr>\n      <th>111</th>\n      <td>222</td>\n      <td>333</td>\n      <td>444</td>\n      <td>555</td>\n    </tr>\n    <tr>\n      <th>44</th>\n      <td>64</td>\n      <td>47</td>\n      <td>67</td>\n      <td>67</td>\n    </tr>\n    <tr>\n      <th>9</th>\n      <td>21</td>\n      <td>83</td>\n      <td>36</td>\n      <td>87</td>\n    </tr>\n  </tbody>\n</table>\n</div>"
     },
     "execution_count": 18,
     "metadata": {},
     "output_type": "execute_result"
    }
   ],
   "source": [
    "new_df = df.drop([1, 3, 11], inplace=False)\n",
    "new_df"
   ],
   "metadata": {
    "collapsed": false,
    "ExecuteTime": {
     "end_time": "2024-06-27T08:14:54.763923Z",
     "start_time": "2024-06-27T08:14:54.757086Z"
    }
   },
   "id": "f876ecfdcf89f366",
   "execution_count": 18
  },
  {
   "cell_type": "code",
   "outputs": [
    {
     "data": {
      "text/plain": "     A    C    B\n0    2    8    5\n1  111  222  333\n2   44   64   47\n3    9   21   83",
      "text/html": "<div>\n<style scoped>\n    .dataframe tbody tr th:only-of-type {\n        vertical-align: middle;\n    }\n\n    .dataframe tbody tr th {\n        vertical-align: top;\n    }\n\n    .dataframe thead th {\n        text-align: right;\n    }\n</style>\n<table border=\"1\" class=\"dataframe\">\n  <thead>\n    <tr style=\"text-align: right;\">\n      <th></th>\n      <th>A</th>\n      <th>C</th>\n      <th>B</th>\n    </tr>\n  </thead>\n  <tbody>\n    <tr>\n      <th>0</th>\n      <td>2</td>\n      <td>8</td>\n      <td>5</td>\n    </tr>\n    <tr>\n      <th>1</th>\n      <td>111</td>\n      <td>222</td>\n      <td>333</td>\n    </tr>\n    <tr>\n      <th>2</th>\n      <td>44</td>\n      <td>64</td>\n      <td>47</td>\n    </tr>\n    <tr>\n      <th>3</th>\n      <td>9</td>\n      <td>21</td>\n      <td>83</td>\n    </tr>\n  </tbody>\n</table>\n</div>"
     },
     "execution_count": 19,
     "metadata": {},
     "output_type": "execute_result"
    }
   ],
   "source": [
    "new_df.reset_index(inplace=True)\n",
    "new_df.drop(['E', 'D'], axis=1, inplace=True)\n",
    "new_df"
   ],
   "metadata": {
    "collapsed": false,
    "ExecuteTime": {
     "end_time": "2024-06-27T08:14:54.770316Z",
     "start_time": "2024-06-27T08:14:54.765323Z"
    }
   },
   "id": "40535cd663035f66",
   "execution_count": 19
  }
 ],
 "metadata": {
  "kernelspec": {
   "display_name": "Python 3",
   "language": "python",
   "name": "python3"
  },
  "language_info": {
   "codemirror_mode": {
    "name": "ipython",
    "version": 2
   },
   "file_extension": ".py",
   "mimetype": "text/x-python",
   "name": "python",
   "nbconvert_exporter": "python",
   "pygments_lexer": "ipython2",
   "version": "2.7.6"
  }
 },
 "nbformat": 4,
 "nbformat_minor": 5
}

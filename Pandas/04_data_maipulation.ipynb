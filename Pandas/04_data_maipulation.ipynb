{
 "cells": [
  {
   "cell_type": "markdown",
   "source": [
    "## Data Manipulation in Pandas"
   ],
   "metadata": {
    "collapsed": false
   },
   "id": "2ba00bab28138355"
  },
  {
   "cell_type": "markdown",
   "source": [
    "## Importing modules"
   ],
   "metadata": {
    "collapsed": false
   },
   "id": "2efc823190a13715"
  },
  {
   "cell_type": "code",
   "outputs": [],
   "source": [
    "import pandas as pd\n",
    "import numpy as np"
   ],
   "metadata": {
    "collapsed": false,
    "ExecuteTime": {
     "end_time": "2024-06-27T14:14:29.200444Z",
     "start_time": "2024-06-27T14:14:28.560548Z"
    }
   },
   "id": "fa51dd203741015a",
   "execution_count": 1
  },
  {
   "cell_type": "markdown",
   "source": [
    "## Adding new column"
   ],
   "metadata": {
    "collapsed": false
   },
   "id": "b1c5e27dc7899911"
  },
  {
   "cell_type": "markdown",
   "source": [
    "**`DataFrame.insert()`**\n",
    "\n",
    "Syntax:\n",
    "```\n",
    "DataFrame.insert(loc, column, value, allow_duplicates=False)\n",
    "```"
   ],
   "metadata": {
    "collapsed": false
   },
   "id": "40bf844e5b92428c"
  },
  {
   "cell_type": "code",
   "outputs": [
    {
     "data": {
      "text/plain": "   A  B\n0  1  4\n1  2  5\n2  3  6",
      "text/html": "<div>\n<style scoped>\n    .dataframe tbody tr th:only-of-type {\n        vertical-align: middle;\n    }\n\n    .dataframe tbody tr th {\n        vertical-align: top;\n    }\n\n    .dataframe thead th {\n        text-align: right;\n    }\n</style>\n<table border=\"1\" class=\"dataframe\">\n  <thead>\n    <tr style=\"text-align: right;\">\n      <th></th>\n      <th>A</th>\n      <th>B</th>\n    </tr>\n  </thead>\n  <tbody>\n    <tr>\n      <th>0</th>\n      <td>1</td>\n      <td>4</td>\n    </tr>\n    <tr>\n      <th>1</th>\n      <td>2</td>\n      <td>5</td>\n    </tr>\n    <tr>\n      <th>2</th>\n      <td>3</td>\n      <td>6</td>\n    </tr>\n  </tbody>\n</table>\n</div>"
     },
     "execution_count": 2,
     "metadata": {},
     "output_type": "execute_result"
    }
   ],
   "source": [
    "data = {'A': [1, 2, 3], 'B': [4, 5, 6]}\n",
    "df = pd.DataFrame(data)\n",
    "df"
   ],
   "metadata": {
    "collapsed": false,
    "ExecuteTime": {
     "end_time": "2024-06-27T14:14:29.207289Z",
     "start_time": "2024-06-27T14:14:29.201248Z"
    }
   },
   "id": "b3c19e25a5b54501",
   "execution_count": 2
  },
  {
   "cell_type": "code",
   "outputs": [
    {
     "data": {
      "text/plain": "   A  C  B\n0  1  7  4\n1  2  8  5\n2  3  8  6",
      "text/html": "<div>\n<style scoped>\n    .dataframe tbody tr th:only-of-type {\n        vertical-align: middle;\n    }\n\n    .dataframe tbody tr th {\n        vertical-align: top;\n    }\n\n    .dataframe thead th {\n        text-align: right;\n    }\n</style>\n<table border=\"1\" class=\"dataframe\">\n  <thead>\n    <tr style=\"text-align: right;\">\n      <th></th>\n      <th>A</th>\n      <th>C</th>\n      <th>B</th>\n    </tr>\n  </thead>\n  <tbody>\n    <tr>\n      <th>0</th>\n      <td>1</td>\n      <td>7</td>\n      <td>4</td>\n    </tr>\n    <tr>\n      <th>1</th>\n      <td>2</td>\n      <td>8</td>\n      <td>5</td>\n    </tr>\n    <tr>\n      <th>2</th>\n      <td>3</td>\n      <td>8</td>\n      <td>6</td>\n    </tr>\n  </tbody>\n</table>\n</div>"
     },
     "execution_count": 3,
     "metadata": {},
     "output_type": "execute_result"
    }
   ],
   "source": [
    "df.insert(1, 'C', [7, 8, 8], True)\n",
    "df"
   ],
   "metadata": {
    "collapsed": false,
    "ExecuteTime": {
     "end_time": "2024-06-27T14:14:29.211149Z",
     "start_time": "2024-06-27T14:14:29.208Z"
    }
   },
   "id": "993da4efcd5b02b4",
   "execution_count": 3
  },
  {
   "cell_type": "markdown",
   "source": [
    "**`DataFrame.assign`**\n",
    "Creates a new dataframe with a new column added to the old dataframe."
   ],
   "metadata": {
    "collapsed": false
   },
   "id": "dad519db872efd2"
  },
  {
   "cell_type": "code",
   "outputs": [
    {
     "data": {
      "text/plain": "   A  C  B   d\n0  1  7  4  10\n1  2  8  5  11\n2  3  8  6  12",
      "text/html": "<div>\n<style scoped>\n    .dataframe tbody tr th:only-of-type {\n        vertical-align: middle;\n    }\n\n    .dataframe tbody tr th {\n        vertical-align: top;\n    }\n\n    .dataframe thead th {\n        text-align: right;\n    }\n</style>\n<table border=\"1\" class=\"dataframe\">\n  <thead>\n    <tr style=\"text-align: right;\">\n      <th></th>\n      <th>A</th>\n      <th>C</th>\n      <th>B</th>\n      <th>d</th>\n    </tr>\n  </thead>\n  <tbody>\n    <tr>\n      <th>0</th>\n      <td>1</td>\n      <td>7</td>\n      <td>4</td>\n      <td>10</td>\n    </tr>\n    <tr>\n      <th>1</th>\n      <td>2</td>\n      <td>8</td>\n      <td>5</td>\n      <td>11</td>\n    </tr>\n    <tr>\n      <th>2</th>\n      <td>3</td>\n      <td>8</td>\n      <td>6</td>\n      <td>12</td>\n    </tr>\n  </tbody>\n</table>\n</div>"
     },
     "execution_count": 4,
     "metadata": {},
     "output_type": "execute_result"
    }
   ],
   "source": [
    "new_df = df.assign(d=[10, 11, 12])\n",
    "new_df"
   ],
   "metadata": {
    "collapsed": false,
    "ExecuteTime": {
     "end_time": "2024-06-27T14:14:29.215839Z",
     "start_time": "2024-06-27T14:14:29.212291Z"
    }
   },
   "id": "2d11de51bc2db4ab",
   "execution_count": 4
  },
  {
   "cell_type": "code",
   "outputs": [
    {
     "data": {
      "text/plain": "   A  C  B  d\n0  1  7  4  5\n1  2  8  5  7\n2  3  8  6  9",
      "text/html": "<div>\n<style scoped>\n    .dataframe tbody tr th:only-of-type {\n        vertical-align: middle;\n    }\n\n    .dataframe tbody tr th {\n        vertical-align: top;\n    }\n\n    .dataframe thead th {\n        text-align: right;\n    }\n</style>\n<table border=\"1\" class=\"dataframe\">\n  <thead>\n    <tr style=\"text-align: right;\">\n      <th></th>\n      <th>A</th>\n      <th>C</th>\n      <th>B</th>\n      <th>d</th>\n    </tr>\n  </thead>\n  <tbody>\n    <tr>\n      <th>0</th>\n      <td>1</td>\n      <td>7</td>\n      <td>4</td>\n      <td>5</td>\n    </tr>\n    <tr>\n      <th>1</th>\n      <td>2</td>\n      <td>8</td>\n      <td>5</td>\n      <td>7</td>\n    </tr>\n    <tr>\n      <th>2</th>\n      <td>3</td>\n      <td>8</td>\n      <td>6</td>\n      <td>9</td>\n    </tr>\n  </tbody>\n</table>\n</div>"
     },
     "execution_count": 5,
     "metadata": {},
     "output_type": "execute_result"
    }
   ],
   "source": [
    "new_df = df.assign(d = df['A'] + df['B'])\n",
    "new_df"
   ],
   "metadata": {
    "collapsed": false,
    "ExecuteTime": {
     "end_time": "2024-06-27T14:14:29.219751Z",
     "start_time": "2024-06-27T14:14:29.216453Z"
    }
   },
   "id": "126082bb1aa9d11b",
   "execution_count": 5
  },
  {
   "cell_type": "markdown",
   "source": [
    "**using a Dictionary**"
   ],
   "metadata": {
    "collapsed": false
   },
   "id": "730c7c9fdac2ca1a"
  },
  {
   "cell_type": "code",
   "outputs": [
    {
     "data": {
      "text/plain": "   C  B\nA      \n1  7  4\n2  8  5\n3  8  6",
      "text/html": "<div>\n<style scoped>\n    .dataframe tbody tr th:only-of-type {\n        vertical-align: middle;\n    }\n\n    .dataframe tbody tr th {\n        vertical-align: top;\n    }\n\n    .dataframe thead th {\n        text-align: right;\n    }\n</style>\n<table border=\"1\" class=\"dataframe\">\n  <thead>\n    <tr style=\"text-align: right;\">\n      <th></th>\n      <th>C</th>\n      <th>B</th>\n    </tr>\n    <tr>\n      <th>A</th>\n      <th></th>\n      <th></th>\n    </tr>\n  </thead>\n  <tbody>\n    <tr>\n      <th>1</th>\n      <td>7</td>\n      <td>4</td>\n    </tr>\n    <tr>\n      <th>2</th>\n      <td>8</td>\n      <td>5</td>\n    </tr>\n    <tr>\n      <th>3</th>\n      <td>8</td>\n      <td>6</td>\n    </tr>\n  </tbody>\n</table>\n</div>"
     },
     "execution_count": 6,
     "metadata": {},
     "output_type": "execute_result"
    }
   ],
   "source": [
    "new_df = df.set_index('A', inplace=False)\n",
    "new_df"
   ],
   "metadata": {
    "collapsed": false,
    "ExecuteTime": {
     "end_time": "2024-06-27T14:14:29.223386Z",
     "start_time": "2024-06-27T14:14:29.220304Z"
    }
   },
   "id": "75a42183db6397ab",
   "execution_count": 6
  },
  {
   "cell_type": "code",
   "outputs": [
    {
     "data": {
      "text/plain": "   C  B   D\nA          \n1  7  4  10\n2  8  5  20\n3  8  6  30",
      "text/html": "<div>\n<style scoped>\n    .dataframe tbody tr th:only-of-type {\n        vertical-align: middle;\n    }\n\n    .dataframe tbody tr th {\n        vertical-align: top;\n    }\n\n    .dataframe thead th {\n        text-align: right;\n    }\n</style>\n<table border=\"1\" class=\"dataframe\">\n  <thead>\n    <tr style=\"text-align: right;\">\n      <th></th>\n      <th>C</th>\n      <th>B</th>\n      <th>D</th>\n    </tr>\n    <tr>\n      <th>A</th>\n      <th></th>\n      <th></th>\n      <th></th>\n    </tr>\n  </thead>\n  <tbody>\n    <tr>\n      <th>1</th>\n      <td>7</td>\n      <td>4</td>\n      <td>10</td>\n    </tr>\n    <tr>\n      <th>2</th>\n      <td>8</td>\n      <td>5</td>\n      <td>20</td>\n    </tr>\n    <tr>\n      <th>3</th>\n      <td>8</td>\n      <td>6</td>\n      <td>30</td>\n    </tr>\n  </tbody>\n</table>\n</div>"
     },
     "execution_count": 7,
     "metadata": {},
     "output_type": "execute_result"
    }
   ],
   "source": [
    "col = {1: 10, 2: 20, 3: 30}\n",
    "\n",
    "new_df['D'] = col\n",
    "new_df"
   ],
   "metadata": {
    "collapsed": false,
    "ExecuteTime": {
     "end_time": "2024-06-27T14:14:29.226671Z",
     "start_time": "2024-06-27T14:14:29.223861Z"
    }
   },
   "id": "c6b5961fa6a3540e",
   "execution_count": 7
  },
  {
   "cell_type": "markdown",
   "source": [
    "**using a List**"
   ],
   "metadata": {
    "collapsed": false
   },
   "id": "d751cc98c85efaf1"
  },
  {
   "cell_type": "code",
   "outputs": [
    {
     "data": {
      "text/plain": "   A  C  B\n0  1  7  4\n1  2  8  5\n2  3  8  6",
      "text/html": "<div>\n<style scoped>\n    .dataframe tbody tr th:only-of-type {\n        vertical-align: middle;\n    }\n\n    .dataframe tbody tr th {\n        vertical-align: top;\n    }\n\n    .dataframe thead th {\n        text-align: right;\n    }\n</style>\n<table border=\"1\" class=\"dataframe\">\n  <thead>\n    <tr style=\"text-align: right;\">\n      <th></th>\n      <th>A</th>\n      <th>C</th>\n      <th>B</th>\n    </tr>\n  </thead>\n  <tbody>\n    <tr>\n      <th>0</th>\n      <td>1</td>\n      <td>7</td>\n      <td>4</td>\n    </tr>\n    <tr>\n      <th>1</th>\n      <td>2</td>\n      <td>8</td>\n      <td>5</td>\n    </tr>\n    <tr>\n      <th>2</th>\n      <td>3</td>\n      <td>8</td>\n      <td>6</td>\n    </tr>\n  </tbody>\n</table>\n</div>"
     },
     "execution_count": 8,
     "metadata": {},
     "output_type": "execute_result"
    }
   ],
   "source": [
    "df"
   ],
   "metadata": {
    "collapsed": false,
    "ExecuteTime": {
     "end_time": "2024-06-27T14:14:29.229928Z",
     "start_time": "2024-06-27T14:14:29.227223Z"
    }
   },
   "id": "81b29ee4699e929a",
   "execution_count": 8
  },
  {
   "cell_type": "code",
   "outputs": [
    {
     "data": {
      "text/plain": "   A  C  B   D\n0  1  7  4  40\n1  2  8  5  50\n2  3  8  6  60",
      "text/html": "<div>\n<style scoped>\n    .dataframe tbody tr th:only-of-type {\n        vertical-align: middle;\n    }\n\n    .dataframe tbody tr th {\n        vertical-align: top;\n    }\n\n    .dataframe thead th {\n        text-align: right;\n    }\n</style>\n<table border=\"1\" class=\"dataframe\">\n  <thead>\n    <tr style=\"text-align: right;\">\n      <th></th>\n      <th>A</th>\n      <th>C</th>\n      <th>B</th>\n      <th>D</th>\n    </tr>\n  </thead>\n  <tbody>\n    <tr>\n      <th>0</th>\n      <td>1</td>\n      <td>7</td>\n      <td>4</td>\n      <td>40</td>\n    </tr>\n    <tr>\n      <th>1</th>\n      <td>2</td>\n      <td>8</td>\n      <td>5</td>\n      <td>50</td>\n    </tr>\n    <tr>\n      <th>2</th>\n      <td>3</td>\n      <td>8</td>\n      <td>6</td>\n      <td>60</td>\n    </tr>\n  </tbody>\n</table>\n</div>"
     },
     "execution_count": 9,
     "metadata": {},
     "output_type": "execute_result"
    }
   ],
   "source": [
    "values = [40, 50, 60]\n",
    "\n",
    "df['D'] = values\n",
    "df"
   ],
   "metadata": {
    "collapsed": false,
    "ExecuteTime": {
     "end_time": "2024-06-27T14:14:29.233325Z",
     "start_time": "2024-06-27T14:14:29.230371Z"
    }
   },
   "id": "a63068e977d439b1",
   "execution_count": 9
  },
  {
   "cell_type": "markdown",
   "source": [
    "**using `DateFrame.loc()`**"
   ],
   "metadata": {
    "collapsed": false
   },
   "id": "867f4a00261efabf"
  },
  {
   "cell_type": "code",
   "outputs": [
    {
     "data": {
      "text/plain": "   A  C  B   D    E\n0  1  7  4  40  100\n1  2  8  5  50  200\n2  3  8  6  60  300",
      "text/html": "<div>\n<style scoped>\n    .dataframe tbody tr th:only-of-type {\n        vertical-align: middle;\n    }\n\n    .dataframe tbody tr th {\n        vertical-align: top;\n    }\n\n    .dataframe thead th {\n        text-align: right;\n    }\n</style>\n<table border=\"1\" class=\"dataframe\">\n  <thead>\n    <tr style=\"text-align: right;\">\n      <th></th>\n      <th>A</th>\n      <th>C</th>\n      <th>B</th>\n      <th>D</th>\n      <th>E</th>\n    </tr>\n  </thead>\n  <tbody>\n    <tr>\n      <th>0</th>\n      <td>1</td>\n      <td>7</td>\n      <td>4</td>\n      <td>40</td>\n      <td>100</td>\n    </tr>\n    <tr>\n      <th>1</th>\n      <td>2</td>\n      <td>8</td>\n      <td>5</td>\n      <td>50</td>\n      <td>200</td>\n    </tr>\n    <tr>\n      <th>2</th>\n      <td>3</td>\n      <td>8</td>\n      <td>6</td>\n      <td>60</td>\n      <td>300</td>\n    </tr>\n  </tbody>\n</table>\n</div>"
     },
     "execution_count": 10,
     "metadata": {},
     "output_type": "execute_result"
    }
   ],
   "source": [
    "values = [100, 200, 300]\n",
    "\n",
    "df.loc[:, 'E'] = values\n",
    "df"
   ],
   "metadata": {
    "collapsed": false,
    "ExecuteTime": {
     "end_time": "2024-06-27T14:14:29.238347Z",
     "start_time": "2024-06-27T14:14:29.235098Z"
    }
   },
   "id": "e27564c5f34ec40e",
   "execution_count": 10
  },
  {
   "cell_type": "markdown",
   "source": [
    "**Adding more than one columns**"
   ],
   "metadata": {
    "collapsed": false
   },
   "id": "ec76854da28c972b"
  },
  {
   "cell_type": "code",
   "outputs": [
    {
     "data": {
      "text/plain": "array(['A', 'C', 'B', 'D', 'E'], dtype=object)"
     },
     "execution_count": 11,
     "metadata": {},
     "output_type": "execute_result"
    }
   ],
   "source": [
    "df.columns.values"
   ],
   "metadata": {
    "collapsed": false,
    "ExecuteTime": {
     "end_time": "2024-06-27T14:14:29.240626Z",
     "start_time": "2024-06-27T14:14:29.238894Z"
    }
   },
   "id": "11277c2c4997f958",
   "execution_count": 11
  },
  {
   "cell_type": "code",
   "outputs": [
    {
     "data": {
      "text/plain": "   A  C  B   D    E    F     G\n0  1  7  4  40  100  500   800\n1  2  8  5  50  200  600   900\n2  3  8  6  60  300  700  1000",
      "text/html": "<div>\n<style scoped>\n    .dataframe tbody tr th:only-of-type {\n        vertical-align: middle;\n    }\n\n    .dataframe tbody tr th {\n        vertical-align: top;\n    }\n\n    .dataframe thead th {\n        text-align: right;\n    }\n</style>\n<table border=\"1\" class=\"dataframe\">\n  <thead>\n    <tr style=\"text-align: right;\">\n      <th></th>\n      <th>A</th>\n      <th>C</th>\n      <th>B</th>\n      <th>D</th>\n      <th>E</th>\n      <th>F</th>\n      <th>G</th>\n    </tr>\n  </thead>\n  <tbody>\n    <tr>\n      <th>0</th>\n      <td>1</td>\n      <td>7</td>\n      <td>4</td>\n      <td>40</td>\n      <td>100</td>\n      <td>500</td>\n      <td>800</td>\n    </tr>\n    <tr>\n      <th>1</th>\n      <td>2</td>\n      <td>8</td>\n      <td>5</td>\n      <td>50</td>\n      <td>200</td>\n      <td>600</td>\n      <td>900</td>\n    </tr>\n    <tr>\n      <th>2</th>\n      <td>3</td>\n      <td>8</td>\n      <td>6</td>\n      <td>60</td>\n      <td>300</td>\n      <td>700</td>\n      <td>1000</td>\n    </tr>\n  </tbody>\n</table>\n</div>"
     },
     "execution_count": 12,
     "metadata": {},
     "output_type": "execute_result"
    }
   ],
   "source": [
    "new_data = {'F': [500, 600, 700], 'G': [800, 900, 1000]}\n",
    "\n",
    "new_df = df.assign(**new_data)\n",
    "new_df"
   ],
   "metadata": {
    "collapsed": false,
    "ExecuteTime": {
     "end_time": "2024-06-27T14:14:29.245514Z",
     "start_time": "2024-06-27T14:14:29.241181Z"
    }
   },
   "id": "208905df90cf08de",
   "execution_count": 12
  },
  {
   "cell_type": "markdown",
   "source": [
    "## Adding rows"
   ],
   "metadata": {
    "collapsed": false
   },
   "id": "7f0c26ac93487601"
  },
  {
   "cell_type": "code",
   "outputs": [
    {
     "data": {
      "text/plain": "   A  C  B   D    E\n0  1  7  4  40  100\n1  2  8  5  50  200\n2  3  8  6  60  300",
      "text/html": "<div>\n<style scoped>\n    .dataframe tbody tr th:only-of-type {\n        vertical-align: middle;\n    }\n\n    .dataframe tbody tr th {\n        vertical-align: top;\n    }\n\n    .dataframe thead th {\n        text-align: right;\n    }\n</style>\n<table border=\"1\" class=\"dataframe\">\n  <thead>\n    <tr style=\"text-align: right;\">\n      <th></th>\n      <th>A</th>\n      <th>C</th>\n      <th>B</th>\n      <th>D</th>\n      <th>E</th>\n    </tr>\n  </thead>\n  <tbody>\n    <tr>\n      <th>0</th>\n      <td>1</td>\n      <td>7</td>\n      <td>4</td>\n      <td>40</td>\n      <td>100</td>\n    </tr>\n    <tr>\n      <th>1</th>\n      <td>2</td>\n      <td>8</td>\n      <td>5</td>\n      <td>50</td>\n      <td>200</td>\n    </tr>\n    <tr>\n      <th>2</th>\n      <td>3</td>\n      <td>8</td>\n      <td>6</td>\n      <td>60</td>\n      <td>300</td>\n    </tr>\n  </tbody>\n</table>\n</div>"
     },
     "execution_count": 13,
     "metadata": {},
     "output_type": "execute_result"
    }
   ],
   "source": [
    "df"
   ],
   "metadata": {
    "collapsed": false,
    "ExecuteTime": {
     "end_time": "2024-06-27T14:14:29.248613Z",
     "start_time": "2024-06-27T14:14:29.246058Z"
    }
   },
   "id": "d5353473816c149e",
   "execution_count": 13
  },
  {
   "cell_type": "markdown",
   "source": [
    "**using `DataFrame._append()` function**\n",
    "\n",
    "syntax:\n",
    "```\n",
    "DataFrame._append(other, ignore_index=False, verify_integrity=False, sort=False)\n",
    "```"
   ],
   "metadata": {
    "collapsed": false
   },
   "id": "61089c885472eeb1"
  },
  {
   "cell_type": "code",
   "outputs": [
    {
     "data": {
      "text/plain": "    A   C   B   D    E\n0   1   7   4  40  100\n1   2   8   5  50  200\n2   3   8   6  60  300\n3  11  33  22  44   55",
      "text/html": "<div>\n<style scoped>\n    .dataframe tbody tr th:only-of-type {\n        vertical-align: middle;\n    }\n\n    .dataframe tbody tr th {\n        vertical-align: top;\n    }\n\n    .dataframe thead th {\n        text-align: right;\n    }\n</style>\n<table border=\"1\" class=\"dataframe\">\n  <thead>\n    <tr style=\"text-align: right;\">\n      <th></th>\n      <th>A</th>\n      <th>C</th>\n      <th>B</th>\n      <th>D</th>\n      <th>E</th>\n    </tr>\n  </thead>\n  <tbody>\n    <tr>\n      <th>0</th>\n      <td>1</td>\n      <td>7</td>\n      <td>4</td>\n      <td>40</td>\n      <td>100</td>\n    </tr>\n    <tr>\n      <th>1</th>\n      <td>2</td>\n      <td>8</td>\n      <td>5</td>\n      <td>50</td>\n      <td>200</td>\n    </tr>\n    <tr>\n      <th>2</th>\n      <td>3</td>\n      <td>8</td>\n      <td>6</td>\n      <td>60</td>\n      <td>300</td>\n    </tr>\n    <tr>\n      <th>3</th>\n      <td>11</td>\n      <td>33</td>\n      <td>22</td>\n      <td>44</td>\n      <td>55</td>\n    </tr>\n  </tbody>\n</table>\n</div>"
     },
     "execution_count": 14,
     "metadata": {},
     "output_type": "execute_result"
    }
   ],
   "source": [
    "new_df = df._append({'A': 11, 'B': 22, 'C': 33, 'D': 44, 'E': 55}, ignore_index=True)\n",
    "new_df"
   ],
   "metadata": {
    "collapsed": false,
    "ExecuteTime": {
     "end_time": "2024-06-27T14:14:29.254586Z",
     "start_time": "2024-06-27T14:14:29.249234Z"
    }
   },
   "id": "c010be805f834623",
   "execution_count": 14
  },
  {
   "cell_type": "markdown",
   "source": [
    "**using `DataFrame.loc`**"
   ],
   "metadata": {
    "collapsed": false
   },
   "id": "1b023e436e01364"
  },
  {
   "cell_type": "code",
   "outputs": [
    {
     "data": {
      "text/plain": "     A    C    B    D    E\n0    1    7    4   40  100\n1    2    8    5   50  200\n2    3    8    6   60  300\n3   11   33   22   44   55\n4  111  222  333  444  555",
      "text/html": "<div>\n<style scoped>\n    .dataframe tbody tr th:only-of-type {\n        vertical-align: middle;\n    }\n\n    .dataframe tbody tr th {\n        vertical-align: top;\n    }\n\n    .dataframe thead th {\n        text-align: right;\n    }\n</style>\n<table border=\"1\" class=\"dataframe\">\n  <thead>\n    <tr style=\"text-align: right;\">\n      <th></th>\n      <th>A</th>\n      <th>C</th>\n      <th>B</th>\n      <th>D</th>\n      <th>E</th>\n    </tr>\n  </thead>\n  <tbody>\n    <tr>\n      <th>0</th>\n      <td>1</td>\n      <td>7</td>\n      <td>4</td>\n      <td>40</td>\n      <td>100</td>\n    </tr>\n    <tr>\n      <th>1</th>\n      <td>2</td>\n      <td>8</td>\n      <td>5</td>\n      <td>50</td>\n      <td>200</td>\n    </tr>\n    <tr>\n      <th>2</th>\n      <td>3</td>\n      <td>8</td>\n      <td>6</td>\n      <td>60</td>\n      <td>300</td>\n    </tr>\n    <tr>\n      <th>3</th>\n      <td>11</td>\n      <td>33</td>\n      <td>22</td>\n      <td>44</td>\n      <td>55</td>\n    </tr>\n    <tr>\n      <th>4</th>\n      <td>111</td>\n      <td>222</td>\n      <td>333</td>\n      <td>444</td>\n      <td>555</td>\n    </tr>\n  </tbody>\n</table>\n</div>"
     },
     "execution_count": 15,
     "metadata": {},
     "output_type": "execute_result"
    }
   ],
   "source": [
    "new_df.loc[len(new_df)] = [111, 222, 333, 444, 555]\n",
    "new_df"
   ],
   "metadata": {
    "collapsed": false,
    "ExecuteTime": {
     "end_time": "2024-06-27T14:14:29.258839Z",
     "start_time": "2024-06-27T14:14:29.255165Z"
    }
   },
   "id": "fd5ecd38c67d0a7e",
   "execution_count": 15
  },
  {
   "cell_type": "markdown",
   "source": [
    "**using `pandas.concat()`**"
   ],
   "metadata": {
    "collapsed": false
   },
   "id": "a3259fdec263d4cf"
  },
  {
   "cell_type": "code",
   "outputs": [
    {
     "data": {
      "text/plain": "     A    C    B    D    E\n0    1    7    4   40  100\n1    2    8    5   50  200\n2    3    8    6   60  300\n3   11   33   22   44   55\n4  111  222  333  444  555\n5   44   64   47   67   67\n6    9   21   83   36   87",
      "text/html": "<div>\n<style scoped>\n    .dataframe tbody tr th:only-of-type {\n        vertical-align: middle;\n    }\n\n    .dataframe tbody tr th {\n        vertical-align: top;\n    }\n\n    .dataframe thead th {\n        text-align: right;\n    }\n</style>\n<table border=\"1\" class=\"dataframe\">\n  <thead>\n    <tr style=\"text-align: right;\">\n      <th></th>\n      <th>A</th>\n      <th>C</th>\n      <th>B</th>\n      <th>D</th>\n      <th>E</th>\n    </tr>\n  </thead>\n  <tbody>\n    <tr>\n      <th>0</th>\n      <td>1</td>\n      <td>7</td>\n      <td>4</td>\n      <td>40</td>\n      <td>100</td>\n    </tr>\n    <tr>\n      <th>1</th>\n      <td>2</td>\n      <td>8</td>\n      <td>5</td>\n      <td>50</td>\n      <td>200</td>\n    </tr>\n    <tr>\n      <th>2</th>\n      <td>3</td>\n      <td>8</td>\n      <td>6</td>\n      <td>60</td>\n      <td>300</td>\n    </tr>\n    <tr>\n      <th>3</th>\n      <td>11</td>\n      <td>33</td>\n      <td>22</td>\n      <td>44</td>\n      <td>55</td>\n    </tr>\n    <tr>\n      <th>4</th>\n      <td>111</td>\n      <td>222</td>\n      <td>333</td>\n      <td>444</td>\n      <td>555</td>\n    </tr>\n    <tr>\n      <th>5</th>\n      <td>44</td>\n      <td>64</td>\n      <td>47</td>\n      <td>67</td>\n      <td>67</td>\n    </tr>\n    <tr>\n      <th>6</th>\n      <td>9</td>\n      <td>21</td>\n      <td>83</td>\n      <td>36</td>\n      <td>87</td>\n    </tr>\n  </tbody>\n</table>\n</div>"
     },
     "execution_count": 16,
     "metadata": {},
     "output_type": "execute_result"
    }
   ],
   "source": [
    "np.random.seed(0)\n",
    "new_df2 = pd.DataFrame(data=np.random.randint(0, 100, (2, 5)), columns=['A', 'B', 'C', 'D', 'E'])\n",
    "\n",
    "df = pd.concat([new_df, new_df2], ignore_index=True)\n",
    "df"
   ],
   "metadata": {
    "collapsed": false,
    "ExecuteTime": {
     "end_time": "2024-06-27T14:14:29.264646Z",
     "start_time": "2024-06-27T14:14:29.259444Z"
    }
   },
   "id": "1fd1fe76ff52343e",
   "execution_count": 16
  },
  {
   "cell_type": "markdown",
   "source": [
    "## Deleting rows/columns\n",
    "\n",
    "**using `drop()` method**\n",
    "\n",
    "Syntax:\n",
    "```\n",
    "DataFrame.drop(labels=None, axis=0, index=None, columns=None, level=None, inplace=False, errors=’raise’)\n",
    "```"
   ],
   "metadata": {
    "collapsed": false
   },
   "id": "6a075c913d68e208"
  },
  {
   "cell_type": "code",
   "outputs": [
    {
     "data": {
      "text/plain": "       C    B    D    E\nA                      \n1      7    4   40  100\n2      8    5   50  200\n3      8    6   60  300\n11    33   22   44   55\n111  222  333  444  555\n44    64   47   67   67\n9     21   83   36   87",
      "text/html": "<div>\n<style scoped>\n    .dataframe tbody tr th:only-of-type {\n        vertical-align: middle;\n    }\n\n    .dataframe tbody tr th {\n        vertical-align: top;\n    }\n\n    .dataframe thead th {\n        text-align: right;\n    }\n</style>\n<table border=\"1\" class=\"dataframe\">\n  <thead>\n    <tr style=\"text-align: right;\">\n      <th></th>\n      <th>C</th>\n      <th>B</th>\n      <th>D</th>\n      <th>E</th>\n    </tr>\n    <tr>\n      <th>A</th>\n      <th></th>\n      <th></th>\n      <th></th>\n      <th></th>\n    </tr>\n  </thead>\n  <tbody>\n    <tr>\n      <th>1</th>\n      <td>7</td>\n      <td>4</td>\n      <td>40</td>\n      <td>100</td>\n    </tr>\n    <tr>\n      <th>2</th>\n      <td>8</td>\n      <td>5</td>\n      <td>50</td>\n      <td>200</td>\n    </tr>\n    <tr>\n      <th>3</th>\n      <td>8</td>\n      <td>6</td>\n      <td>60</td>\n      <td>300</td>\n    </tr>\n    <tr>\n      <th>11</th>\n      <td>33</td>\n      <td>22</td>\n      <td>44</td>\n      <td>55</td>\n    </tr>\n    <tr>\n      <th>111</th>\n      <td>222</td>\n      <td>333</td>\n      <td>444</td>\n      <td>555</td>\n    </tr>\n    <tr>\n      <th>44</th>\n      <td>64</td>\n      <td>47</td>\n      <td>67</td>\n      <td>67</td>\n    </tr>\n    <tr>\n      <th>9</th>\n      <td>21</td>\n      <td>83</td>\n      <td>36</td>\n      <td>87</td>\n    </tr>\n  </tbody>\n</table>\n</div>"
     },
     "execution_count": 17,
     "metadata": {},
     "output_type": "execute_result"
    }
   ],
   "source": [
    "df.set_index('A', inplace=True)\n",
    "df"
   ],
   "metadata": {
    "collapsed": false,
    "ExecuteTime": {
     "end_time": "2024-06-27T14:14:29.268613Z",
     "start_time": "2024-06-27T14:14:29.265366Z"
    }
   },
   "id": "8535e189ab689690",
   "execution_count": 17
  },
  {
   "cell_type": "code",
   "outputs": [
    {
     "data": {
      "text/plain": "       C    B    D    E\nA                      \n2      8    5   50  200\n111  222  333  444  555\n44    64   47   67   67\n9     21   83   36   87",
      "text/html": "<div>\n<style scoped>\n    .dataframe tbody tr th:only-of-type {\n        vertical-align: middle;\n    }\n\n    .dataframe tbody tr th {\n        vertical-align: top;\n    }\n\n    .dataframe thead th {\n        text-align: right;\n    }\n</style>\n<table border=\"1\" class=\"dataframe\">\n  <thead>\n    <tr style=\"text-align: right;\">\n      <th></th>\n      <th>C</th>\n      <th>B</th>\n      <th>D</th>\n      <th>E</th>\n    </tr>\n    <tr>\n      <th>A</th>\n      <th></th>\n      <th></th>\n      <th></th>\n      <th></th>\n    </tr>\n  </thead>\n  <tbody>\n    <tr>\n      <th>2</th>\n      <td>8</td>\n      <td>5</td>\n      <td>50</td>\n      <td>200</td>\n    </tr>\n    <tr>\n      <th>111</th>\n      <td>222</td>\n      <td>333</td>\n      <td>444</td>\n      <td>555</td>\n    </tr>\n    <tr>\n      <th>44</th>\n      <td>64</td>\n      <td>47</td>\n      <td>67</td>\n      <td>67</td>\n    </tr>\n    <tr>\n      <th>9</th>\n      <td>21</td>\n      <td>83</td>\n      <td>36</td>\n      <td>87</td>\n    </tr>\n  </tbody>\n</table>\n</div>"
     },
     "execution_count": 18,
     "metadata": {},
     "output_type": "execute_result"
    }
   ],
   "source": [
    "new_df = df.drop([1, 3, 11], inplace=False)\n",
    "new_df"
   ],
   "metadata": {
    "collapsed": false,
    "ExecuteTime": {
     "end_time": "2024-06-27T14:14:29.272784Z",
     "start_time": "2024-06-27T14:14:29.269245Z"
    }
   },
   "id": "f876ecfdcf89f366",
   "execution_count": 18
  },
  {
   "cell_type": "code",
   "outputs": [
    {
     "data": {
      "text/plain": "     A    C    B\n0    2    8    5\n1  111  222  333\n2   44   64   47\n3    9   21   83",
      "text/html": "<div>\n<style scoped>\n    .dataframe tbody tr th:only-of-type {\n        vertical-align: middle;\n    }\n\n    .dataframe tbody tr th {\n        vertical-align: top;\n    }\n\n    .dataframe thead th {\n        text-align: right;\n    }\n</style>\n<table border=\"1\" class=\"dataframe\">\n  <thead>\n    <tr style=\"text-align: right;\">\n      <th></th>\n      <th>A</th>\n      <th>C</th>\n      <th>B</th>\n    </tr>\n  </thead>\n  <tbody>\n    <tr>\n      <th>0</th>\n      <td>2</td>\n      <td>8</td>\n      <td>5</td>\n    </tr>\n    <tr>\n      <th>1</th>\n      <td>111</td>\n      <td>222</td>\n      <td>333</td>\n    </tr>\n    <tr>\n      <th>2</th>\n      <td>44</td>\n      <td>64</td>\n      <td>47</td>\n    </tr>\n    <tr>\n      <th>3</th>\n      <td>9</td>\n      <td>21</td>\n      <td>83</td>\n    </tr>\n  </tbody>\n</table>\n</div>"
     },
     "execution_count": 19,
     "metadata": {},
     "output_type": "execute_result"
    }
   ],
   "source": [
    "new_df.reset_index(inplace=True)\n",
    "new_df.drop(['E', 'D'], axis=1, inplace=True)\n",
    "new_df"
   ],
   "metadata": {
    "collapsed": false,
    "ExecuteTime": {
     "end_time": "2024-06-27T14:14:29.276679Z",
     "start_time": "2024-06-27T14:14:29.273380Z"
    }
   },
   "id": "40535cd663035f66",
   "execution_count": 19
  },
  {
   "cell_type": "markdown",
   "source": [
    "## Truncate a DataFrame\n",
    "syntax:\n",
    "```\n",
    "DataFrame.truncate(before=None, after=None, axis=None, copy=True)\n",
    "```"
   ],
   "metadata": {
    "collapsed": false
   },
   "id": "32030f2421a0944c"
  },
  {
   "cell_type": "code",
   "outputs": [
    {
     "data": {
      "text/plain": "             A   B   C   D\n2024-01-01  44  47  64  67\n2024-01-02  67   9  83  21\n2024-01-03  36  87  70  88\n2024-01-04  88  12  58  65\n2024-01-05  39  87  46  88\n2024-01-06  81  37  25  77\n2024-01-07  72   9  20  80\n2024-01-08  69  79  47  64\n2024-01-09  82  99  88  49\n2024-01-10  29  19  19  14",
      "text/html": "<div>\n<style scoped>\n    .dataframe tbody tr th:only-of-type {\n        vertical-align: middle;\n    }\n\n    .dataframe tbody tr th {\n        vertical-align: top;\n    }\n\n    .dataframe thead th {\n        text-align: right;\n    }\n</style>\n<table border=\"1\" class=\"dataframe\">\n  <thead>\n    <tr style=\"text-align: right;\">\n      <th></th>\n      <th>A</th>\n      <th>B</th>\n      <th>C</th>\n      <th>D</th>\n    </tr>\n  </thead>\n  <tbody>\n    <tr>\n      <th>2024-01-01</th>\n      <td>44</td>\n      <td>47</td>\n      <td>64</td>\n      <td>67</td>\n    </tr>\n    <tr>\n      <th>2024-01-02</th>\n      <td>67</td>\n      <td>9</td>\n      <td>83</td>\n      <td>21</td>\n    </tr>\n    <tr>\n      <th>2024-01-03</th>\n      <td>36</td>\n      <td>87</td>\n      <td>70</td>\n      <td>88</td>\n    </tr>\n    <tr>\n      <th>2024-01-04</th>\n      <td>88</td>\n      <td>12</td>\n      <td>58</td>\n      <td>65</td>\n    </tr>\n    <tr>\n      <th>2024-01-05</th>\n      <td>39</td>\n      <td>87</td>\n      <td>46</td>\n      <td>88</td>\n    </tr>\n    <tr>\n      <th>2024-01-06</th>\n      <td>81</td>\n      <td>37</td>\n      <td>25</td>\n      <td>77</td>\n    </tr>\n    <tr>\n      <th>2024-01-07</th>\n      <td>72</td>\n      <td>9</td>\n      <td>20</td>\n      <td>80</td>\n    </tr>\n    <tr>\n      <th>2024-01-08</th>\n      <td>69</td>\n      <td>79</td>\n      <td>47</td>\n      <td>64</td>\n    </tr>\n    <tr>\n      <th>2024-01-09</th>\n      <td>82</td>\n      <td>99</td>\n      <td>88</td>\n      <td>49</td>\n    </tr>\n    <tr>\n      <th>2024-01-10</th>\n      <td>29</td>\n      <td>19</td>\n      <td>19</td>\n      <td>14</td>\n    </tr>\n  </tbody>\n</table>\n</div>"
     },
     "execution_count": 20,
     "metadata": {},
     "output_type": "execute_result"
    }
   ],
   "source": [
    "dates = pd.date_range('2024-01-01', periods=10)\n",
    "np.random.seed(0)\n",
    "data = np.random.randint(0, 100, (10, 4))\n",
    "columns = ['A', 'B', 'C', 'D']\n",
    "\n",
    "df = pd.DataFrame(data, index=dates, columns=columns)\n",
    "df"
   ],
   "metadata": {
    "collapsed": false,
    "ExecuteTime": {
     "end_time": "2024-06-27T14:14:29.283694Z",
     "start_time": "2024-06-27T14:14:29.277394Z"
    }
   },
   "id": "50c475719f3bb867",
   "execution_count": 20
  },
  {
   "cell_type": "markdown",
   "source": [
    "**Truncate rows**"
   ],
   "metadata": {
    "collapsed": false
   },
   "id": "32cab5d7ab81f1c4"
  },
  {
   "cell_type": "code",
   "outputs": [
    {
     "data": {
      "text/plain": "             A   B   C   D\n2024-01-03  36  87  70  88\n2024-01-04  88  12  58  65\n2024-01-05  39  87  46  88\n2024-01-06  81  37  25  77\n2024-01-07  72   9  20  80",
      "text/html": "<div>\n<style scoped>\n    .dataframe tbody tr th:only-of-type {\n        vertical-align: middle;\n    }\n\n    .dataframe tbody tr th {\n        vertical-align: top;\n    }\n\n    .dataframe thead th {\n        text-align: right;\n    }\n</style>\n<table border=\"1\" class=\"dataframe\">\n  <thead>\n    <tr style=\"text-align: right;\">\n      <th></th>\n      <th>A</th>\n      <th>B</th>\n      <th>C</th>\n      <th>D</th>\n    </tr>\n  </thead>\n  <tbody>\n    <tr>\n      <th>2024-01-03</th>\n      <td>36</td>\n      <td>87</td>\n      <td>70</td>\n      <td>88</td>\n    </tr>\n    <tr>\n      <th>2024-01-04</th>\n      <td>88</td>\n      <td>12</td>\n      <td>58</td>\n      <td>65</td>\n    </tr>\n    <tr>\n      <th>2024-01-05</th>\n      <td>39</td>\n      <td>87</td>\n      <td>46</td>\n      <td>88</td>\n    </tr>\n    <tr>\n      <th>2024-01-06</th>\n      <td>81</td>\n      <td>37</td>\n      <td>25</td>\n      <td>77</td>\n    </tr>\n    <tr>\n      <th>2024-01-07</th>\n      <td>72</td>\n      <td>9</td>\n      <td>20</td>\n      <td>80</td>\n    </tr>\n  </tbody>\n</table>\n</div>"
     },
     "execution_count": 21,
     "metadata": {},
     "output_type": "execute_result"
    }
   ],
   "source": [
    "truncated_df = df.truncate(before='2024-01-03', after='2024-01-07', copy=True)\n",
    "truncated_df"
   ],
   "metadata": {
    "collapsed": false,
    "ExecuteTime": {
     "end_time": "2024-06-27T14:14:29.289960Z",
     "start_time": "2024-06-27T14:14:29.284190Z"
    }
   },
   "id": "d9eebba5c594c52e",
   "execution_count": 21
  },
  {
   "cell_type": "markdown",
   "source": [
    "**Truncate columns**"
   ],
   "metadata": {
    "collapsed": false
   },
   "id": "53006c63c8c3a27"
  },
  {
   "cell_type": "code",
   "outputs": [
    {
     "data": {
      "text/plain": "             B   C\n2024-01-01  47  64\n2024-01-02   9  83\n2024-01-03  87  70\n2024-01-04  12  58\n2024-01-05  87  46\n2024-01-06  37  25\n2024-01-07   9  20\n2024-01-08  79  47\n2024-01-09  99  88\n2024-01-10  19  19",
      "text/html": "<div>\n<style scoped>\n    .dataframe tbody tr th:only-of-type {\n        vertical-align: middle;\n    }\n\n    .dataframe tbody tr th {\n        vertical-align: top;\n    }\n\n    .dataframe thead th {\n        text-align: right;\n    }\n</style>\n<table border=\"1\" class=\"dataframe\">\n  <thead>\n    <tr style=\"text-align: right;\">\n      <th></th>\n      <th>B</th>\n      <th>C</th>\n    </tr>\n  </thead>\n  <tbody>\n    <tr>\n      <th>2024-01-01</th>\n      <td>47</td>\n      <td>64</td>\n    </tr>\n    <tr>\n      <th>2024-01-02</th>\n      <td>9</td>\n      <td>83</td>\n    </tr>\n    <tr>\n      <th>2024-01-03</th>\n      <td>87</td>\n      <td>70</td>\n    </tr>\n    <tr>\n      <th>2024-01-04</th>\n      <td>12</td>\n      <td>58</td>\n    </tr>\n    <tr>\n      <th>2024-01-05</th>\n      <td>87</td>\n      <td>46</td>\n    </tr>\n    <tr>\n      <th>2024-01-06</th>\n      <td>37</td>\n      <td>25</td>\n    </tr>\n    <tr>\n      <th>2024-01-07</th>\n      <td>9</td>\n      <td>20</td>\n    </tr>\n    <tr>\n      <th>2024-01-08</th>\n      <td>79</td>\n      <td>47</td>\n    </tr>\n    <tr>\n      <th>2024-01-09</th>\n      <td>99</td>\n      <td>88</td>\n    </tr>\n    <tr>\n      <th>2024-01-10</th>\n      <td>19</td>\n      <td>19</td>\n    </tr>\n  </tbody>\n</table>\n</div>"
     },
     "execution_count": 22,
     "metadata": {},
     "output_type": "execute_result"
    }
   ],
   "source": [
    "truncated_columns_df = df.truncate(before='B', after='C', axis=1, copy=True)\n",
    "truncated_columns_df"
   ],
   "metadata": {
    "collapsed": false,
    "ExecuteTime": {
     "end_time": "2024-06-27T14:14:29.294066Z",
     "start_time": "2024-06-27T14:14:29.290566Z"
    }
   },
   "id": "6015b1323075cfde",
   "execution_count": 22
  },
  {
   "cell_type": "markdown",
   "source": [
    "**Truncate with numerical index**"
   ],
   "metadata": {
    "collapsed": false
   },
   "id": "307f6af82022b4ce"
  },
  {
   "cell_type": "code",
   "outputs": [
    {
     "data": {
      "text/plain": "    A   B   C   D\n0  44  47  64  67\n1  67   9  83  21\n2  36  87  70  88\n3  88  12  58  65\n4  39  87  46  88\n5  81  37  25  77\n6  72   9  20  80\n7  69  79  47  64\n8  82  99  88  49\n9  29  19  19  14",
      "text/html": "<div>\n<style scoped>\n    .dataframe tbody tr th:only-of-type {\n        vertical-align: middle;\n    }\n\n    .dataframe tbody tr th {\n        vertical-align: top;\n    }\n\n    .dataframe thead th {\n        text-align: right;\n    }\n</style>\n<table border=\"1\" class=\"dataframe\">\n  <thead>\n    <tr style=\"text-align: right;\">\n      <th></th>\n      <th>A</th>\n      <th>B</th>\n      <th>C</th>\n      <th>D</th>\n    </tr>\n  </thead>\n  <tbody>\n    <tr>\n      <th>0</th>\n      <td>44</td>\n      <td>47</td>\n      <td>64</td>\n      <td>67</td>\n    </tr>\n    <tr>\n      <th>1</th>\n      <td>67</td>\n      <td>9</td>\n      <td>83</td>\n      <td>21</td>\n    </tr>\n    <tr>\n      <th>2</th>\n      <td>36</td>\n      <td>87</td>\n      <td>70</td>\n      <td>88</td>\n    </tr>\n    <tr>\n      <th>3</th>\n      <td>88</td>\n      <td>12</td>\n      <td>58</td>\n      <td>65</td>\n    </tr>\n    <tr>\n      <th>4</th>\n      <td>39</td>\n      <td>87</td>\n      <td>46</td>\n      <td>88</td>\n    </tr>\n    <tr>\n      <th>5</th>\n      <td>81</td>\n      <td>37</td>\n      <td>25</td>\n      <td>77</td>\n    </tr>\n    <tr>\n      <th>6</th>\n      <td>72</td>\n      <td>9</td>\n      <td>20</td>\n      <td>80</td>\n    </tr>\n    <tr>\n      <th>7</th>\n      <td>69</td>\n      <td>79</td>\n      <td>47</td>\n      <td>64</td>\n    </tr>\n    <tr>\n      <th>8</th>\n      <td>82</td>\n      <td>99</td>\n      <td>88</td>\n      <td>49</td>\n    </tr>\n    <tr>\n      <th>9</th>\n      <td>29</td>\n      <td>19</td>\n      <td>19</td>\n      <td>14</td>\n    </tr>\n  </tbody>\n</table>\n</div>"
     },
     "execution_count": 23,
     "metadata": {},
     "output_type": "execute_result"
    }
   ],
   "source": [
    "np.random.seed(0)\n",
    "data = np.random.randint(0, 100, (10, 4))\n",
    "columns = ['A', 'B', 'C', 'D']\n",
    "\n",
    "df = pd.DataFrame(data, columns=columns)\n",
    "df"
   ],
   "metadata": {
    "collapsed": false,
    "ExecuteTime": {
     "end_time": "2024-06-27T14:14:29.298090Z",
     "start_time": "2024-06-27T14:14:29.294637Z"
    }
   },
   "id": "e0fc15ff5c2c5eac",
   "execution_count": 23
  },
  {
   "cell_type": "code",
   "outputs": [
    {
     "data": {
      "text/plain": "    A   B   C   D\n3  88  12  58  65\n4  39  87  46  88\n5  81  37  25  77\n6  72   9  20  80\n7  69  79  47  64",
      "text/html": "<div>\n<style scoped>\n    .dataframe tbody tr th:only-of-type {\n        vertical-align: middle;\n    }\n\n    .dataframe tbody tr th {\n        vertical-align: top;\n    }\n\n    .dataframe thead th {\n        text-align: right;\n    }\n</style>\n<table border=\"1\" class=\"dataframe\">\n  <thead>\n    <tr style=\"text-align: right;\">\n      <th></th>\n      <th>A</th>\n      <th>B</th>\n      <th>C</th>\n      <th>D</th>\n    </tr>\n  </thead>\n  <tbody>\n    <tr>\n      <th>3</th>\n      <td>88</td>\n      <td>12</td>\n      <td>58</td>\n      <td>65</td>\n    </tr>\n    <tr>\n      <th>4</th>\n      <td>39</td>\n      <td>87</td>\n      <td>46</td>\n      <td>88</td>\n    </tr>\n    <tr>\n      <th>5</th>\n      <td>81</td>\n      <td>37</td>\n      <td>25</td>\n      <td>77</td>\n    </tr>\n    <tr>\n      <th>6</th>\n      <td>72</td>\n      <td>9</td>\n      <td>20</td>\n      <td>80</td>\n    </tr>\n    <tr>\n      <th>7</th>\n      <td>69</td>\n      <td>79</td>\n      <td>47</td>\n      <td>64</td>\n    </tr>\n  </tbody>\n</table>\n</div>"
     },
     "execution_count": 24,
     "metadata": {},
     "output_type": "execute_result"
    }
   ],
   "source": [
    "truncated_df = df.truncate(before=3, after=7)\n",
    "truncated_df"
   ],
   "metadata": {
    "collapsed": false,
    "ExecuteTime": {
     "end_time": "2024-06-27T14:14:29.301561Z",
     "start_time": "2024-06-27T14:14:29.298639Z"
    }
   },
   "id": "ed1ae72e64fbf62",
   "execution_count": 24
  },
  {
   "cell_type": "markdown",
   "source": [
    "## Truncate a Series"
   ],
   "metadata": {
    "collapsed": false
   },
   "id": "29fdc0404ed2c2d2"
  },
  {
   "cell_type": "code",
   "outputs": [
    {
     "data": {
      "text/plain": "0    44\n1    47\n2    64\n3    67\n4    67\n5     9\n6    83\n7    21\n8    36\n9    87\nName: Random Values, dtype: int64"
     },
     "execution_count": 25,
     "metadata": {},
     "output_type": "execute_result"
    }
   ],
   "source": [
    "np.random.seed(0)\n",
    "data = np.random.randint(0, 100, 10)\n",
    "\n",
    "s = pd.Series(data, name='Random Values')\n",
    "s"
   ],
   "metadata": {
    "collapsed": false,
    "ExecuteTime": {
     "end_time": "2024-06-27T14:14:29.305108Z",
     "start_time": "2024-06-27T14:14:29.302071Z"
    }
   },
   "id": "6eb255d0a005c146",
   "execution_count": 25
  },
  {
   "cell_type": "code",
   "outputs": [
    {
     "data": {
      "text/plain": "3    67\n4    67\n5     9\n6    83\n7    21\nName: Truncated Values, dtype: int64"
     },
     "execution_count": 26,
     "metadata": {},
     "output_type": "execute_result"
    }
   ],
   "source": [
    "truncated_values = s.truncate(before=3, after=7)\n",
    "truncated_values.rename('Truncated Values', inplace=True)\n",
    "truncated_values"
   ],
   "metadata": {
    "collapsed": false,
    "ExecuteTime": {
     "end_time": "2024-06-27T14:14:29.308711Z",
     "start_time": "2024-06-27T14:14:29.305939Z"
    }
   },
   "id": "9fdc974961b96053",
   "execution_count": 26
  },
  {
   "cell_type": "markdown",
   "source": [
    "## Iteration"
   ],
   "metadata": {
    "collapsed": false
   },
   "id": "6651df493ad284a0"
  },
  {
   "cell_type": "code",
   "outputs": [
    {
     "data": {
      "text/plain": "      Name  Age         City  Score\n0    Alice   24     New York     85\n1      Bob   27  Los Angeles     88\n2  Charlie   22      Chicago     90\n3    David   32      Houston     78\n4      Eva   29      Phoenix     92",
      "text/html": "<div>\n<style scoped>\n    .dataframe tbody tr th:only-of-type {\n        vertical-align: middle;\n    }\n\n    .dataframe tbody tr th {\n        vertical-align: top;\n    }\n\n    .dataframe thead th {\n        text-align: right;\n    }\n</style>\n<table border=\"1\" class=\"dataframe\">\n  <thead>\n    <tr style=\"text-align: right;\">\n      <th></th>\n      <th>Name</th>\n      <th>Age</th>\n      <th>City</th>\n      <th>Score</th>\n    </tr>\n  </thead>\n  <tbody>\n    <tr>\n      <th>0</th>\n      <td>Alice</td>\n      <td>24</td>\n      <td>New York</td>\n      <td>85</td>\n    </tr>\n    <tr>\n      <th>1</th>\n      <td>Bob</td>\n      <td>27</td>\n      <td>Los Angeles</td>\n      <td>88</td>\n    </tr>\n    <tr>\n      <th>2</th>\n      <td>Charlie</td>\n      <td>22</td>\n      <td>Chicago</td>\n      <td>90</td>\n    </tr>\n    <tr>\n      <th>3</th>\n      <td>David</td>\n      <td>32</td>\n      <td>Houston</td>\n      <td>78</td>\n    </tr>\n    <tr>\n      <th>4</th>\n      <td>Eva</td>\n      <td>29</td>\n      <td>Phoenix</td>\n      <td>92</td>\n    </tr>\n  </tbody>\n</table>\n</div>"
     },
     "execution_count": 27,
     "metadata": {},
     "output_type": "execute_result"
    }
   ],
   "source": [
    "data = {\n",
    "    'Name': ['Alice', 'Bob', 'Charlie', 'David', 'Eva'],\n",
    "    'Age': [24, 27, 22, 32, 29],\n",
    "    'City': ['New York', 'Los Angeles', 'Chicago', 'Houston', 'Phoenix'],\n",
    "    'Score': [85, 88, 90, 78, 92]\n",
    "}\n",
    "\n",
    "df = pd.DataFrame(data)\n",
    "df"
   ],
   "metadata": {
    "collapsed": false,
    "ExecuteTime": {
     "end_time": "2024-06-27T14:14:29.312975Z",
     "start_time": "2024-06-27T14:14:29.309375Z"
    }
   },
   "id": "f1bb0ed4a78ebafe",
   "execution_count": 27
  },
  {
   "cell_type": "markdown",
   "source": [
    "### Iterating over rows"
   ],
   "metadata": {
    "collapsed": false
   },
   "id": "52593b7c21216c67"
  },
  {
   "cell_type": "markdown",
   "source": [
    "**using `iterrows()`**"
   ],
   "metadata": {
    "collapsed": false
   },
   "id": "4c728274afe3c33d"
  },
  {
   "cell_type": "code",
   "outputs": [
    {
     "name": "stdout",
     "output_type": "stream",
     "text": [
      "Index: 0\n",
      "Name        Alice\n",
      "Age            24\n",
      "City     New York\n",
      "Score          85\n",
      "Name: 0, dtype: object\n",
      "Index: 1\n",
      "Name             Bob\n",
      "Age               27\n",
      "City     Los Angeles\n",
      "Score             88\n",
      "Name: 1, dtype: object\n",
      "Index: 2\n",
      "Name     Charlie\n",
      "Age           22\n",
      "City     Chicago\n",
      "Score         90\n",
      "Name: 2, dtype: object\n",
      "Index: 3\n",
      "Name       David\n",
      "Age           32\n",
      "City     Houston\n",
      "Score         78\n",
      "Name: 3, dtype: object\n",
      "Index: 4\n",
      "Name         Eva\n",
      "Age           29\n",
      "City     Phoenix\n",
      "Score         92\n",
      "Name: 4, dtype: object\n"
     ]
    }
   ],
   "source": [
    "for index, rows in df.iterrows():\n",
    "    # print(f'Index: {index}')\n",
    "    # print(f'Rows: {rows}')\n",
    "    print(f'Index: {index}\\n{rows}')"
   ],
   "metadata": {
    "collapsed": false,
    "ExecuteTime": {
     "end_time": "2024-06-27T14:14:29.318113Z",
     "start_time": "2024-06-27T14:14:29.315783Z"
    }
   },
   "id": "ef0917518cde33ff",
   "execution_count": 28
  },
  {
   "cell_type": "markdown",
   "source": [
    "**using `itertuples()`**"
   ],
   "metadata": {
    "collapsed": false
   },
   "id": "5ebe99473d45f3ce"
  },
  {
   "cell_type": "code",
   "outputs": [
    {
     "name": "stdout",
     "output_type": "stream",
     "text": [
      "Pandas(Index=0, Name='Alice', Age=24, City='New York', Score=85)\n",
      "Pandas(Index=1, Name='Bob', Age=27, City='Los Angeles', Score=88)\n",
      "Pandas(Index=2, Name='Charlie', Age=22, City='Chicago', Score=90)\n",
      "Pandas(Index=3, Name='David', Age=32, City='Houston', Score=78)\n",
      "Pandas(Index=4, Name='Eva', Age=29, City='Phoenix', Score=92)\n"
     ]
    }
   ],
   "source": [
    "for row in df.itertuples():\n",
    "    print(row)"
   ],
   "metadata": {
    "collapsed": false,
    "ExecuteTime": {
     "end_time": "2024-06-27T14:14:29.320987Z",
     "start_time": "2024-06-27T14:14:29.318776Z"
    }
   },
   "id": "36b2dda88331196f",
   "execution_count": 29
  },
  {
   "cell_type": "markdown",
   "source": [
    "### Iterating over Columns"
   ],
   "metadata": {
    "collapsed": false
   },
   "id": "f56494d5173683ad"
  },
  {
   "cell_type": "code",
   "outputs": [
    {
     "name": "stdout",
     "output_type": "stream",
     "text": [
      "columns: ['Name', 'Age', 'City', 'Score']\n",
      "0      Alice\n",
      "1        Bob\n",
      "2    Charlie\n",
      "3      David\n",
      "4        Eva\n",
      "Name: Name, dtype: object\n",
      "0    24\n",
      "1    27\n",
      "2    22\n",
      "3    32\n",
      "4    29\n",
      "Name: Age, dtype: int64\n",
      "0       New York\n",
      "1    Los Angeles\n",
      "2        Chicago\n",
      "3        Houston\n",
      "4        Phoenix\n",
      "Name: City, dtype: object\n",
      "0    85\n",
      "1    88\n",
      "2    90\n",
      "3    78\n",
      "4    92\n",
      "Name: Score, dtype: int64\n"
     ]
    }
   ],
   "source": [
    "columns = list(df)\n",
    "print('columns:', columns)\n",
    "\n",
    "for i in columns:\n",
    "    print(df[i])"
   ],
   "metadata": {
    "collapsed": false,
    "ExecuteTime": {
     "end_time": "2024-06-27T14:14:29.324184Z",
     "start_time": "2024-06-27T14:14:29.321774Z"
    }
   },
   "id": "ea56d479fcc53564",
   "execution_count": 30
  },
  {
   "cell_type": "code",
   "outputs": [
    {
     "name": "stdout",
     "output_type": "stream",
     "text": [
      "Alice\n",
      "24\n",
      "New York\n",
      "85\n"
     ]
    }
   ],
   "source": [
    "columns = list(df)\n",
    "\n",
    "for i in columns:\n",
    "    print(df[i][0])"
   ],
   "metadata": {
    "collapsed": false,
    "ExecuteTime": {
     "end_time": "2024-06-27T14:14:29.327399Z",
     "start_time": "2024-06-27T14:14:29.325082Z"
    }
   },
   "id": "d70d08bf57b4b00a",
   "execution_count": 31
  }
 ],
 "metadata": {
  "kernelspec": {
   "display_name": "Python 3",
   "language": "python",
   "name": "python3"
  },
  "language_info": {
   "codemirror_mode": {
    "name": "ipython",
    "version": 2
   },
   "file_extension": ".py",
   "mimetype": "text/x-python",
   "name": "python",
   "nbconvert_exporter": "python",
   "pygments_lexer": "ipython2",
   "version": "2.7.6"
  }
 },
 "nbformat": 4,
 "nbformat_minor": 5
}
